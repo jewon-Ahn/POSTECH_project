{
 "cells": [
  {
   "cell_type": "markdown",
   "metadata": {},
   "source": [
    "### 1. Module import 및 환경 변수 설정"
   ]
  },
  {
   "cell_type": "code",
   "execution_count": 1,
   "metadata": {
    "jupyter": {
     "source_hidden": true
    },
    "tags": []
   },
   "outputs": [],
   "source": [
    "## Import modules\n",
    "import pandas as pd\n",
    "import numpy as np\n",
    "\n",
    "import os\n",
    "import re\n",
    "from datetime import datetime, timedelta"
   ]
  },
  {
   "cell_type": "markdown",
   "metadata": {},
   "source": [
    "### Raw data columns"
   ]
  },
  {
   "cell_type": "markdown",
   "metadata": {},
   "source": [
    "| 분류 | Node 명 | 의미 | Property 명 | Property 값 | Property의 관계 key 역할 |\n",
    "|:---|:---|:---|:---|:---|:---|\n",
    "| 고객 경험 nodes | `CX` | 고객 경험 | CX_ID | 고객 경험 고유 번호 (ex. MA170930FM) | (CX)-[:CX_ID_PREV]-(이전 CX) |\n",
    "| | | | CX_TYPE | CS유형: 0 = 상담, 1 = 수리, 2 = 교환, 3 = 클레임 | (CX)-[:CX_TYPE]-(CX_TYPE) |\n",
    "| | | | ETL_LOAD_DATE | ETL적재일시 (datetime format. ex. 2022-10-19 03:45:45) | |\n",
    "| | | | RCPT_DTHM | CS센터 접수일시 (datetime format. ex. 2022-10-19 03:45:45) | |\n",
    "| | | | CX_ID_PREV | 동일 고객의 이전 고객 경험 고유 번호 (ex. MA170930FM) | (CX)-[:CX_ID_PREV]-(이전 CX) |\n",
    "| | | | LABEL_CLAIM_NEXT | 1 = 다음 경험이 CLAIM, 0 = Not | |\n",
    "| | | | LABEL_CLAIM_FUTURE | 1 = 미래 경험에 CLAIM 발생, 0 = Not | |\n",
    "| | | | 주간 claim 여부 label들 | 1 = 특정 1주 내 CLAIM 발생, 0 = Not | |\n",
    "| | | | 이 외, 고객 정보, 제품 정보, 고객 경험 정보들 (아래 참고) | | |\n",
    "| 고객 정보 nodes | `CUST_NO` | 고객번호 | CUST_NO | 고객 고유 번호 (ex. C000000297, KIOSK00000, Nan) | (CX)-[:CUST_NO]-(CUST_NO) |\n",
    "| | | | 주간 claim 여부 label들 | 1 = 특정 1주 내 CLAIM 발생, 0 = Not | |\n",
    "| | `CUST_TYPE` | 고객유형 | CUST_TYPE | 0\\~9, A\\~Z 중 1 digit | (CX)-[:CUST_TYPE]-(CUST_TYPE) |\n",
    "| | `VIP_CUST_TYPE` | VIP고객유형 | VIP_CUST_TYPE | A\\~Z 중 1 digit | (CX)-[:VIP_CUST_TYPE]-(VIP_CUST_TYPE) |\n",
    "| | `VIP_GRADE` | VIP등급 | VIP_GRADE | A\\~Z 중 1 digit | (CX)-[:VIP_GRADE]-(VIP_GRADE) |\n",
    "| 제품 정보 nodes | `SERIAL_NO` | 제품 시리얼 번호 | SERIAL_NO | 0\\~9, A\\~Z의 1\\~16 자리 조합 | (CX)-[:SERIAL_NO]-(SERIAL_NO) |\n",
    "| | `MODEL_CODE` | 제품 모델 코드 | MODEL_CODE | 0\\~9, A\\~Z 및 '-', ':', '.', ' ', '/' 등 특수 문자의 임의 자리 조합 | (CX)-[:MODEL_CODE]-(MODEL_CODE) |\n",
    "| | `PRODUCT_CODE` | 제품군 코드 | PRODUCT_CODE | A\\~Z의 3\\~4 자리 조합 | (CX)-[:PRODUCT_CODE]-(PRODUCT_CODE) |\n",
    "| 고객 경험 nodes (상담) | `CO_RCPT_CHANNEL` | 접수 채널 | CO_RCPT_CHANNEL | U 등 1개의 영문자 | (CX)-[:CO_RCPT_CHANNEL]-(CO_RCPT_CHANNEL) |\n",
    "| | `CO_RCPT_USER_ID` | 상담사 ID | CO_RCPT_USER_ID | 0\\~9, A\\~Z의 6\\~7 자리 조합 | (CX)-[:CO_RCPT_USER_ID]-(CO_RCPT_USER_ID) |\n",
    "| | `CO_RCPT_DEPT_CODE` | 상담사 부서 코드 | CO_RCPT_DEPT_CODE | 12047, PH8002 등 0\\~9, A\\~Z의 2\\~6 자리 조합 | (CX)-[:CO_RCPT_DEPT_CODE]-(CO_RCPT_DEPT_CODE) |\n",
    "| | `CO_RCPT_WTY_TYPE` | 유무상 구분 | CO_RCPT_WTY_TYPE | M, N, Y 중 하나 | (CX)-[:CO_RCPT_WTY_TYPE]-(CO_RCPT_WTY_TYPE) |\n",
    "| | `CO_COUNS_LARGE_CLASS` | 상담처리유형대분류 | CO_COUNS_LARGE_CLASS | CL01\\~CL36 | (CX)-[:CO_COUNS_LARGE_CLASS]-(CO_COUNS_LARGE_CLASS) |\n",
    "| | `CO_COUNS_MID_CLASS` | 상담처리유형중분류 | CO_COUNS_MID_CLASS | CM00\\~CM4T | (CX)-[:CO_COUNS_MID_CLASS]-(CO_COUNS_MID_CLASS) |\n",
    "| | `CO_COUNS_SMALL_CLASS` | 상담처리유형소분류 | CO_COUNS_SMALL_CLASS | CS01\\~CS22 | (CX)-[:CO_COUNS_SMALL_CLASS]-(CO_COUNS_SMALL_CLASS) |\n",
    "| | `CO_COUNS_STAT` | 처리 상태 | CO_COUNS_STAT | Z 등 1개의 영문자 | (CX)-[:CO_COUNS_STAT]-(CO_COUNS_STAT) |\n",
    "| 고객 경험 nodes (수리) | `RP_RCPT_DEPT_TYPE` | 접수처 구분 | RP_RCPT_DEPT_TYPE | A\\~Z 1digit 문자 | (CX)-[:RP_RCPT_DEPT_TYPE]-(RP_RCPT_DEPT_TYPE) |\n",
    "| | `RP_RCPT_USER_ID` | 접수자 ID | RP_RCPT_USER_ID | 0\\~9, A\\~Z의 4\\~7 자리 조합 | (CX)-[:RP_RCPT_USER_ID]-(RP_RCPT_USER_ID) |\n",
    "| | `RP_REPAIR_SE_ID` | 처리기사 ID | RP_REPAIR_SE_ID | 0\\~9, A\\~Z의 4\\~7 자리 조합 | (CX)-[:RP_REPAIR_SE_ID]-(RP_REPAIR_SE_ID) |\n",
    "| | `RP_RCPT_TYPE` | 접수 유형 | RP_RCPT_TYPE | 0\\~9, A\\~Z의 한 문자 | (CX)-[:RP_RCPT_TYPE]-(RP_RCPT_TYPE) |\n",
    "| | `RP_RCPT_WTY_TYPE` | 접수 유무상 여부 | RP_RCPT_WTY_TYPE | M, N, Y 중 하나 | (CX)-[:RP_RCPT_WTY_TYPE]-(RP_RCPT_WTY_TYPE) |\n",
    "| | `RP_RCPT_SYMP_CODE` | 접수 증상 코드1 | RP_RCPT_SYMP_CODE | 0\\~9, A\\~Z의 11\\~14 자리 조합 | (CX)-[:RP_RCPT_SYMP_CODE]-(RP_RCPT_SYMP_CODE) |\n",
    "| | `RP_RCPT_SUB_SYMP_CODE` | 접수 증상 코드2 | RP_RCPT_SUB_SYMP_CODE | 0\\~9, A\\~Z의 7\\~8 자리 조합 | (CX)-[:RP_RCPT_SUB_SYMP_CODE]-(RP_RCPT_SUB_SYMP_CODE) |\n",
    "| | `RP_FAIL_CODE_GROUP` | 고장 그룹 코드 | RP_FAIL_CODE_GROUP | ACL 등 A\\~Z의 3 자리 조합 | (CX)-[:RP_FAIL_CODE_GROUP]-(RP_FAIL_CODE_GROUP) |\n",
    "| | `RP_FAIL_LARGE_CLASS` | 고장 대분류 | RP_FAIL_LARGE_CLASS | 1B, ZZ 등 0\\~9, A\\~Z의 2 자리 조합 | (CX)-[:RP_FAIL_LARGE_CLASS]-(RP_FAIL_LARGE_CLASS) |\n",
    "| | `RP_FAIL_MID_CLASS` | 고장 중분류 | RP_FAIL_MID_CLASS | 0\\~9, A\\~Z의 3 자리 조합 | (CX)-[:RP_FAIL_MID_CLASS]-(RP_FAIL_MID_CLASS) |\n",
    "| | `RP_FAIL_REASON_CODE` | 고장 원인 코드 | RP_FAIL_REASON_CODE | A\\~Z의 3 자리 조합 | (CX)-[:RP_FAIL_REASON_CODE]-(RP_FAIL_REASON_CODE) |\n",
    "| | `RP_FAIL_TYPE` | 고장 유형 | RP_FAIL_TYPE | 1.0\\~9.0 중 한 정수 | (CX)-[:RP_FAIL_TYPE]-(RP_FAIL_TYPE) |\n",
    "| | `RP_REPAIR_WTY_TYPE` | 유무상 수리 유형 | RP_REPAIR_WTY_TYPE | M, Y, Z 중 하나 | (CX)-[:RP_REPAIR_WTY_TYPE]-(RP_REPAIR_WTY_TYPE) |\n",
    "| | `RP_TOTAL_FEE_AMT` | 수수료 합 | RP_TOTAL_FEE_AMT | 0: 0원 이하, 1: 5만원 미만, 2: 10만원 미만, 3: 50만원 미만, 4: 100만원 미만, 5: 100만원 이상 | (CX)-[:RP_TOTAL_FEE_AMT]-(RP_TOTAL_FEE_AMT) |\n",
    "| | `RP_TOTAL_AMT` | 합계 금액 | RP_TOTAL_AMT | 0: 0원 이하, 1: 5만원 미만, 2: 10만원 미만, 3: 50만원 미만, 4: 100만원 미만, 5: 100만원 이상 | (CX)-[:RP_TOTAL_AMT]-(RP_TOTAL_AMT) |\n",
    "| | `RP_STATUS` | 서비스 상태 | RP_STATUS | 0, 1, 2, 3 중 하나 | (CX)-[:RP_STATUS]-(RP_STATUS) |\n",
    "| | `RP_UNSATIS_ETD_TYPE1` | 불만 잠재 유형1 | RP_UNSATIS_ETD_TYPE1 | 1.0\\~5.0 중 한 정수 | (CX)-[:RP_UNSATIS_ETD_TYPE1]-(RP_UNSATIS_ETD_TYPE1) |\n",
    "| | `RP_UNSATIS_ETD_TYPE2` | 불만 잠재 유형2 | RP_UNSATIS_ETD_TYPE2 | 1\\~5, A, E 중 하나 | (CX)-[:RP_UNSATIS_ETD_TYPE2]-(RP_UNSATIS_ETD_TYPE2) |\n",
    "| | `RP_RE_REPAIR_TYPE` | 다빈도 고장 유형 | RP_RE_REPAIR_TYPE | A, B, C, N, Y 중 하나 | (CX)-[:RP_RE_REPAIR_TYPE]-(RP_RE_REPAIR_TYPE) |\n",
    "| 고객 경험 nodes (교환 환불) | `EX_AGENT_CODE` | 대리점코드 - 교환/환불 실행 대리점 | EX_AGENT_CODE | 0\\~9, A\\~Z 및 '-'의 8\\~19 자리 조합 | (CX)-[:EX_AGENT_CODE]-(EX_AGENT_CODE) |\n",
    "| | `EX_CAUSE_CODE` | 교환환불사유코드 | EX_CAUSE_CODE | 0\\~9, A\\~Z의 3 자리 조합 | (CX)-[:EX_CAUSE_CODE]-(EX_CAUSE_CODE) |\n",
    "| | `EX_BUY_FACTOR_CODE` | 대체품 구매 의향 | EX_BUY_FACTOR_CODE | A, B, A1\\~A6 중 하나 | (CX)-[:EX_BUY_FACTOR_CODE]-(EX_BUY_FACTOR_CODE) |\n",
    "| | `EX_EXCHANGE_ORDER_TYPE` | 교환환불 유형 | EX_EXCHANGE_ORDER_TYPE | A\\~Z의 3 자리 조합 | (CX)-[:EX_EXCHANGE_ORDER_TYPE]-(EX_EXCHANGE_ORDER_TYPE) |\n",
    "| | `EX_COMPLETE_YN` | 교환환불완료여부 | EX_COMPLETE_YN | N, Y 중 하나 | (CX)-[:EX_COMPLETE_YN]-(EX_COMPLETE_YN) |\n",
    "| 고객 경험 nodes (클레임) | `CL_CLAIM_RCPT_CHANNEL` | 클레임 접수 채널 | CL_CLAIM_RCPT_CHANNEL | A\\~Z 중 한 문자 | (CX)-[:CL_CLAIM_RCPT_CHANNEL]-(CL_CLAIM_RCPT_CHANNEL) |\n",
    "| | `CL_CLAIM_RCPT_TYPE` | 클레임 접수 유형 | CL_CLAIM_RCPT_TYPE | 1, 2, 3, 4 중 하나 | (CX)-[:CL_CLAIM_RCPT_TYPE]-(CL_CLAIM_RCPT_TYPE) |\n",
    "| | `CL_RCPT_DEPT_CODE` | 접수 부서 코드 | CL_RCPT_DEPT_CODE | 0\\~9의 2\\~5 자리 조합 | (CX)-[:CL_RCPT_DEPT_CODE]-(CL_RCPT_DEPT_CODE) |\n",
    "| | `CL_RCPT_USER_ID` | 접수원 ID | CL_RCPT_USER_ID | 0\\~9, A\\~Z의 6\\~7 자리 조합 | (CX)-[:CL_RCPT_USER_ID]-(CL_RCPT_USER_ID) |\n",
    "| | `CL_CLAIM_TYPE` | 클레임 유형 | CL_CLAIM_TYPE | A, B, C, D, Z 중 하나 | (CX)-[:CL_CLAIM_TYPE]-(CL_CLAIM_TYPE) |\n",
    "| | `CL_CLAIM_LARGE_CLASS` | 클레임 대분류 | CL_CLAIM_LARGE_CLASS | VG01\\~VG65 | (CX)-[:CL_CLAIM_LARGE_CLASS]-(CL_CLAIM_LARGE_CLASS) |\n",
    "| | `CL_CLAIM_MID_CLASS` | 클레임 중분류 | CL_CLAIM_MID_CLASS | VM01\\~VM26 | (CX)-[:CL_CLAIM_MID_CLASS]-(CL_CLAIM_MID_CLASS) |\n",
    "| | `CL_CLAIM_SMALL_CLASS` | 클레임 소분류 | CL_CLAIM_SMALL_CLASS | VS01\\~VS35 | (CX)-[:CL_CLAIM_SMALL_CLASS]-(CL_CLAIM_SMALL_CLASS) |\n",
    "| | `CL_SYMP_CODE` | 증상 코드 | CL_SYMP_CODE | `전부 Nan` | (CX)-[:CL_SYMP_CODE]-(CL_SYMP_CODE) |\n",
    "| | `CL_DETAIL_SYMP_CODE` | 세부 증상 코드 | CL_DETAIL_SYMP_CODE | `전부 Nan` | (CX)-[:CL_DETAIL_SYMP_CODE]-(CL_DETAIL_SYMP_CODE) |\n",
    "| | `CL_TGET_SECTION` | 귀책 부문 | CL_TGET_SECTION | A, B, C 중 하나 | (CX)-[:CL_TGET_SECTION]-(CL_TGET_SECTION) |\n",
    "| | `CL_TGET_DEPT_CODE` | 귀책 부서 | CL_TGET_DEPT_CODE | 0\\~9, A\\~Z의 3\\~8 자리 조합 | (CX)-[:CL_TGET_DEPT_CODE]-(CL_TGET_DEPT_CODE) |\n",
    "| | `CL_CUST_REQ_TYPE` | 고객 요구 유형 | CL_CUST_REQ_TYPE | 1\\~15 중 한 정수 | (CX)-[:CL_CUST_REQ_TYPE]-(CL_CUST_REQ_TYPE) |\n",
    "| | `CL_PRCS_TYPE` | 처리 유형 | CL_PRCS_TYPE | A\\~Z 중 한 문자 | (CX)-[:CL_PRCS_TYPE]-(CL_PRCS_TYPE) |\n",
    "| | `CL_CLAIM_WTY_TYPE` | 유무상 구분 | CL_CLAIM_WTY_TYPE | M, N, Y 중 하나 | (CX)-[:CL_CLAIM_WTY_TYPE]-(CL_CLAIM_WTY_TYPE) |\n",
    "| | `CL_CLAIM_STATUS` | 클레임 상태 | CL_CLAIM_STATUS | 3, 4 중 하나 | (CX)-[:CL_CLAIM_STATUS]-(CL_CLAIM_STATUS) |\n",
    "| | `CL_SATIS_TYPE` | 만족 불만족 | CL_SATIS_TYPE | `전부 Nan` | (CX)-[:CL_SATIS_TYPE]-(CL_SATIS_TYPE) |"
   ]
  },
  {
   "cell_type": "markdown",
   "metadata": {},
   "source": [
    "### 2. Raw data EDA (Exploratory Data Analysis)"
   ]
  },
  {
   "cell_type": "markdown",
   "metadata": {},
   "source": [
    "#### Raw data load"
   ]
  },
  {
   "cell_type": "code",
   "execution_count": 2,
   "metadata": {},
   "outputs": [
    {
     "name": "stderr",
     "output_type": "stream",
     "text": [
      "/home/sookyoung.kim/ssd/anaconda3/lib/python3.7/site-packages/IPython/core/interactiveshell.py:3437: DtypeWarning: Columns (2,3,14,15,16,17,18,19,20,21,22,23,24,25,26,27,28,29,30,31,32,34,39,40,43,44,45,46,47,48,51,52,53,54,55,58,59,61,62) have mixed types.Specify dtype option on import or set low_memory=False.\n",
      "  exec(code_obj, self.user_global_ns, self.user_ns)\n"
     ]
    }
   ],
   "source": [
    "df = pd.read_csv('raw_data.csv')"
   ]
  },
  {
   "cell_type": "markdown",
   "metadata": {},
   "source": [
    "#### Raw data의 column 구조와 값들 살펴보기"
   ]
  },
  {
   "cell_type": "code",
   "execution_count": 3,
   "metadata": {},
   "outputs": [
    {
     "data": {
      "text/html": [
       "<div>\n",
       "<style scoped>\n",
       "    .dataframe tbody tr th:only-of-type {\n",
       "        vertical-align: middle;\n",
       "    }\n",
       "\n",
       "    .dataframe tbody tr th {\n",
       "        vertical-align: top;\n",
       "    }\n",
       "\n",
       "    .dataframe thead th {\n",
       "        text-align: right;\n",
       "    }\n",
       "</style>\n",
       "<table border=\"1\" class=\"dataframe\">\n",
       "  <thead>\n",
       "    <tr style=\"text-align: right;\">\n",
       "      <th></th>\n",
       "      <th>CUST_NO</th>\n",
       "      <th>CUST_TYPE</th>\n",
       "      <th>VIP_CUST_TYPE</th>\n",
       "      <th>VIP_GRADE</th>\n",
       "      <th>SERIAL_NO</th>\n",
       "      <th>MODEL_CODE</th>\n",
       "      <th>PRODUCT_CODE</th>\n",
       "      <th>CX_ID</th>\n",
       "      <th>CX_TYPE</th>\n",
       "      <th>ETL_LOAD_DATE</th>\n",
       "      <th>...</th>\n",
       "      <th>CL_TGET_SECTION</th>\n",
       "      <th>CL_TGET_DEPT_CODE</th>\n",
       "      <th>CL_CUST_REQ_TYPE</th>\n",
       "      <th>CL_PRCS_TYPE</th>\n",
       "      <th>CL_CLAIM_WTY_TYPE</th>\n",
       "      <th>CL_CLAIM_STATUS</th>\n",
       "      <th>CL_SATIS_TYPE</th>\n",
       "      <th>LABEL_CLAIM_INF</th>\n",
       "      <th>FLAG_TRAIN_INFER</th>\n",
       "      <th>CX_CNT</th>\n",
       "    </tr>\n",
       "  </thead>\n",
       "  <tbody>\n",
       "    <tr>\n",
       "      <th>0</th>\n",
       "      <td>C000002735</td>\n",
       "      <td>E</td>\n",
       "      <td>NaN</td>\n",
       "      <td>NaN</td>\n",
       "      <td>NaN</td>\n",
       "      <td>65UM7900BNA.AKRYLH</td>\n",
       "      <td>LCL</td>\n",
       "      <td>J052975145</td>\n",
       "      <td>0</td>\n",
       "      <td>20230128035021</td>\n",
       "      <td>...</td>\n",
       "      <td>NaN</td>\n",
       "      <td>NaN</td>\n",
       "      <td>NaN</td>\n",
       "      <td>NaN</td>\n",
       "      <td>NaN</td>\n",
       "      <td>NaN</td>\n",
       "      <td>NaN</td>\n",
       "      <td>0</td>\n",
       "      <td>2</td>\n",
       "      <td>3</td>\n",
       "    </tr>\n",
       "    <tr>\n",
       "      <th>1</th>\n",
       "      <td>C000002735</td>\n",
       "      <td>E</td>\n",
       "      <td>NaN</td>\n",
       "      <td>NaN</td>\n",
       "      <td>NaN</td>\n",
       "      <td>65UM7900BNA.AKRYLH</td>\n",
       "      <td>LCL</td>\n",
       "      <td>J052976408</td>\n",
       "      <td>0</td>\n",
       "      <td>20230128035035</td>\n",
       "      <td>...</td>\n",
       "      <td>NaN</td>\n",
       "      <td>NaN</td>\n",
       "      <td>NaN</td>\n",
       "      <td>NaN</td>\n",
       "      <td>NaN</td>\n",
       "      <td>NaN</td>\n",
       "      <td>NaN</td>\n",
       "      <td>0</td>\n",
       "      <td>2</td>\n",
       "      <td>3</td>\n",
       "    </tr>\n",
       "    <tr>\n",
       "      <th>2</th>\n",
       "      <td>C000002735</td>\n",
       "      <td>E</td>\n",
       "      <td>NaN</td>\n",
       "      <td>NaN</td>\n",
       "      <td>NaN</td>\n",
       "      <td>65UM7900BNA.AKRYLH</td>\n",
       "      <td>LCL</td>\n",
       "      <td>J052977067</td>\n",
       "      <td>0</td>\n",
       "      <td>20230128035021</td>\n",
       "      <td>...</td>\n",
       "      <td>NaN</td>\n",
       "      <td>NaN</td>\n",
       "      <td>NaN</td>\n",
       "      <td>NaN</td>\n",
       "      <td>NaN</td>\n",
       "      <td>NaN</td>\n",
       "      <td>NaN</td>\n",
       "      <td>0</td>\n",
       "      <td>2</td>\n",
       "      <td>3</td>\n",
       "    </tr>\n",
       "    <tr>\n",
       "      <th>3</th>\n",
       "      <td>C000002881</td>\n",
       "      <td>A</td>\n",
       "      <td>NaN</td>\n",
       "      <td>NaN</td>\n",
       "      <td>NaN</td>\n",
       "      <td>R-T863VJCWU.AKOR</td>\n",
       "      <td>SBS</td>\n",
       "      <td>J053322769</td>\n",
       "      <td>0</td>\n",
       "      <td>20230310200947</td>\n",
       "      <td>...</td>\n",
       "      <td>NaN</td>\n",
       "      <td>NaN</td>\n",
       "      <td>NaN</td>\n",
       "      <td>NaN</td>\n",
       "      <td>NaN</td>\n",
       "      <td>NaN</td>\n",
       "      <td>NaN</td>\n",
       "      <td>0</td>\n",
       "      <td>2</td>\n",
       "      <td>2</td>\n",
       "    </tr>\n",
       "    <tr>\n",
       "      <th>4</th>\n",
       "      <td>C000002881</td>\n",
       "      <td>A</td>\n",
       "      <td>NaN</td>\n",
       "      <td>NaN</td>\n",
       "      <td>310KRLR2S904</td>\n",
       "      <td>R-T863VJCWU.AKOR</td>\n",
       "      <td>SBS</td>\n",
       "      <td>N2231314YM</td>\n",
       "      <td>1</td>\n",
       "      <td>20230331185418</td>\n",
       "      <td>...</td>\n",
       "      <td>NaN</td>\n",
       "      <td>NaN</td>\n",
       "      <td>NaN</td>\n",
       "      <td>NaN</td>\n",
       "      <td>NaN</td>\n",
       "      <td>NaN</td>\n",
       "      <td>NaN</td>\n",
       "      <td>0</td>\n",
       "      <td>2</td>\n",
       "      <td>2</td>\n",
       "    </tr>\n",
       "  </tbody>\n",
       "</table>\n",
       "<p>5 rows × 68 columns</p>\n",
       "</div>"
      ],
      "text/plain": [
       "      CUST_NO CUST_TYPE VIP_CUST_TYPE VIP_GRADE     SERIAL_NO  \\\n",
       "0  C000002735         E           NaN       NaN           NaN   \n",
       "1  C000002735         E           NaN       NaN           NaN   \n",
       "2  C000002735         E           NaN       NaN           NaN   \n",
       "3  C000002881         A           NaN       NaN           NaN   \n",
       "4  C000002881         A           NaN       NaN  310KRLR2S904   \n",
       "\n",
       "           MODEL_CODE PRODUCT_CODE       CX_ID  CX_TYPE   ETL_LOAD_DATE  ...  \\\n",
       "0  65UM7900BNA.AKRYLH          LCL  J052975145        0  20230128035021  ...   \n",
       "1  65UM7900BNA.AKRYLH          LCL  J052976408        0  20230128035035  ...   \n",
       "2  65UM7900BNA.AKRYLH          LCL  J052977067        0  20230128035021  ...   \n",
       "3    R-T863VJCWU.AKOR          SBS  J053322769        0  20230310200947  ...   \n",
       "4    R-T863VJCWU.AKOR          SBS  N2231314YM        1  20230331185418  ...   \n",
       "\n",
       "   CL_TGET_SECTION CL_TGET_DEPT_CODE  CL_CUST_REQ_TYPE  CL_PRCS_TYPE  \\\n",
       "0              NaN               NaN               NaN           NaN   \n",
       "1              NaN               NaN               NaN           NaN   \n",
       "2              NaN               NaN               NaN           NaN   \n",
       "3              NaN               NaN               NaN           NaN   \n",
       "4              NaN               NaN               NaN           NaN   \n",
       "\n",
       "  CL_CLAIM_WTY_TYPE CL_CLAIM_STATUS CL_SATIS_TYPE LABEL_CLAIM_INF  \\\n",
       "0               NaN             NaN           NaN               0   \n",
       "1               NaN             NaN           NaN               0   \n",
       "2               NaN             NaN           NaN               0   \n",
       "3               NaN             NaN           NaN               0   \n",
       "4               NaN             NaN           NaN               0   \n",
       "\n",
       "  FLAG_TRAIN_INFER CX_CNT  \n",
       "0                2      3  \n",
       "1                2      3  \n",
       "2                2      3  \n",
       "3                2      2  \n",
       "4                2      2  \n",
       "\n",
       "[5 rows x 68 columns]"
      ]
     },
     "execution_count": 3,
     "metadata": {},
     "output_type": "execute_result"
    }
   ],
   "source": [
    "df.head()"
   ]
  },
  {
   "cell_type": "code",
   "execution_count": 4,
   "metadata": {},
   "outputs": [
    {
     "data": {
      "text/html": [
       "<div>\n",
       "<style scoped>\n",
       "    .dataframe tbody tr th:only-of-type {\n",
       "        vertical-align: middle;\n",
       "    }\n",
       "\n",
       "    .dataframe tbody tr th {\n",
       "        vertical-align: top;\n",
       "    }\n",
       "\n",
       "    .dataframe thead th {\n",
       "        text-align: right;\n",
       "    }\n",
       "</style>\n",
       "<table border=\"1\" class=\"dataframe\">\n",
       "  <thead>\n",
       "    <tr style=\"text-align: right;\">\n",
       "      <th></th>\n",
       "      <th>CUST_NO</th>\n",
       "      <th>CUST_TYPE</th>\n",
       "      <th>VIP_CUST_TYPE</th>\n",
       "      <th>VIP_GRADE</th>\n",
       "      <th>SERIAL_NO</th>\n",
       "      <th>MODEL_CODE</th>\n",
       "      <th>PRODUCT_CODE</th>\n",
       "      <th>CX_ID</th>\n",
       "      <th>CX_TYPE</th>\n",
       "      <th>ETL_LOAD_DATE</th>\n",
       "      <th>...</th>\n",
       "      <th>CL_TGET_SECTION</th>\n",
       "      <th>CL_TGET_DEPT_CODE</th>\n",
       "      <th>CL_CUST_REQ_TYPE</th>\n",
       "      <th>CL_PRCS_TYPE</th>\n",
       "      <th>CL_CLAIM_WTY_TYPE</th>\n",
       "      <th>CL_CLAIM_STATUS</th>\n",
       "      <th>CL_SATIS_TYPE</th>\n",
       "      <th>LABEL_CLAIM_INF</th>\n",
       "      <th>FLAG_TRAIN_INFER</th>\n",
       "      <th>CX_CNT</th>\n",
       "    </tr>\n",
       "  </thead>\n",
       "  <tbody>\n",
       "    <tr>\n",
       "      <th>1224974</th>\n",
       "      <td>C04181588</td>\n",
       "      <td>A</td>\n",
       "      <td>NaN</td>\n",
       "      <td>NaN</td>\n",
       "      <td>303KWKS1W493</td>\n",
       "      <td>FX25GSG.AKOR</td>\n",
       "      <td>DRW</td>\n",
       "      <td>D001182316</td>\n",
       "      <td>2</td>\n",
       "      <td>20230402055344</td>\n",
       "      <td>...</td>\n",
       "      <td>NaN</td>\n",
       "      <td>NaN</td>\n",
       "      <td>NaN</td>\n",
       "      <td>NaN</td>\n",
       "      <td>NaN</td>\n",
       "      <td>NaN</td>\n",
       "      <td>NaN</td>\n",
       "      <td>0</td>\n",
       "      <td>1</td>\n",
       "      <td>4</td>\n",
       "    </tr>\n",
       "    <tr>\n",
       "      <th>1224975</th>\n",
       "      <td>C089550550</td>\n",
       "      <td>A</td>\n",
       "      <td>NaN</td>\n",
       "      <td>NaN</td>\n",
       "      <td>301INGQ53191</td>\n",
       "      <td>OLED77C2SNC.AKRQLJD</td>\n",
       "      <td>LCL</td>\n",
       "      <td>D001184316</td>\n",
       "      <td>2</td>\n",
       "      <td>20230402055345</td>\n",
       "      <td>...</td>\n",
       "      <td>NaN</td>\n",
       "      <td>NaN</td>\n",
       "      <td>NaN</td>\n",
       "      <td>NaN</td>\n",
       "      <td>NaN</td>\n",
       "      <td>NaN</td>\n",
       "      <td>NaN</td>\n",
       "      <td>0</td>\n",
       "      <td>1</td>\n",
       "      <td>3</td>\n",
       "    </tr>\n",
       "    <tr>\n",
       "      <th>1224976</th>\n",
       "      <td>C109288664</td>\n",
       "      <td>A</td>\n",
       "      <td>NaN</td>\n",
       "      <td>NaN</td>\n",
       "      <td>910RBEZ3D308</td>\n",
       "      <td>K224LW11E.AKOR</td>\n",
       "      <td>KRE</td>\n",
       "      <td>D001180116</td>\n",
       "      <td>2</td>\n",
       "      <td>20230402055343</td>\n",
       "      <td>...</td>\n",
       "      <td>NaN</td>\n",
       "      <td>NaN</td>\n",
       "      <td>NaN</td>\n",
       "      <td>NaN</td>\n",
       "      <td>NaN</td>\n",
       "      <td>NaN</td>\n",
       "      <td>NaN</td>\n",
       "      <td>0</td>\n",
       "      <td>1</td>\n",
       "      <td>3</td>\n",
       "    </tr>\n",
       "    <tr>\n",
       "      <th>1224977</th>\n",
       "      <td>C109323697</td>\n",
       "      <td>A</td>\n",
       "      <td>NaN</td>\n",
       "      <td>NaN</td>\n",
       "      <td>301NTTQFK977</td>\n",
       "      <td>32QN650-BB.BKRDMSN</td>\n",
       "      <td>MNT</td>\n",
       "      <td>D001183316</td>\n",
       "      <td>2</td>\n",
       "      <td>20230402055345</td>\n",
       "      <td>...</td>\n",
       "      <td>NaN</td>\n",
       "      <td>NaN</td>\n",
       "      <td>NaN</td>\n",
       "      <td>NaN</td>\n",
       "      <td>NaN</td>\n",
       "      <td>NaN</td>\n",
       "      <td>NaN</td>\n",
       "      <td>0</td>\n",
       "      <td>1</td>\n",
       "      <td>2</td>\n",
       "    </tr>\n",
       "    <tr>\n",
       "      <th>1224978</th>\n",
       "      <td>C109397741</td>\n",
       "      <td>A</td>\n",
       "      <td>NaN</td>\n",
       "      <td>NaN</td>\n",
       "      <td>510KCYQ5H626</td>\n",
       "      <td>55EG9370-NB.AKRZLH</td>\n",
       "      <td>LCL</td>\n",
       "      <td>D001190616</td>\n",
       "      <td>2</td>\n",
       "      <td>20230402055344</td>\n",
       "      <td>...</td>\n",
       "      <td>NaN</td>\n",
       "      <td>NaN</td>\n",
       "      <td>NaN</td>\n",
       "      <td>NaN</td>\n",
       "      <td>NaN</td>\n",
       "      <td>NaN</td>\n",
       "      <td>NaN</td>\n",
       "      <td>0</td>\n",
       "      <td>1</td>\n",
       "      <td>4</td>\n",
       "    </tr>\n",
       "  </tbody>\n",
       "</table>\n",
       "<p>5 rows × 68 columns</p>\n",
       "</div>"
      ],
      "text/plain": [
       "            CUST_NO CUST_TYPE VIP_CUST_TYPE VIP_GRADE     SERIAL_NO  \\\n",
       "1224974   C04181588         A           NaN       NaN  303KWKS1W493   \n",
       "1224975  C089550550         A           NaN       NaN  301INGQ53191   \n",
       "1224976  C109288664         A           NaN       NaN  910RBEZ3D308   \n",
       "1224977  C109323697         A           NaN       NaN  301NTTQFK977   \n",
       "1224978  C109397741         A           NaN       NaN  510KCYQ5H626   \n",
       "\n",
       "                  MODEL_CODE PRODUCT_CODE       CX_ID  CX_TYPE  \\\n",
       "1224974         FX25GSG.AKOR          DRW  D001182316        2   \n",
       "1224975  OLED77C2SNC.AKRQLJD          LCL  D001184316        2   \n",
       "1224976       K224LW11E.AKOR          KRE  D001180116        2   \n",
       "1224977   32QN650-BB.BKRDMSN          MNT  D001183316        2   \n",
       "1224978   55EG9370-NB.AKRZLH          LCL  D001190616        2   \n",
       "\n",
       "          ETL_LOAD_DATE  ...  CL_TGET_SECTION CL_TGET_DEPT_CODE  \\\n",
       "1224974  20230402055344  ...              NaN               NaN   \n",
       "1224975  20230402055345  ...              NaN               NaN   \n",
       "1224976  20230402055343  ...              NaN               NaN   \n",
       "1224977  20230402055345  ...              NaN               NaN   \n",
       "1224978  20230402055344  ...              NaN               NaN   \n",
       "\n",
       "         CL_CUST_REQ_TYPE  CL_PRCS_TYPE CL_CLAIM_WTY_TYPE CL_CLAIM_STATUS  \\\n",
       "1224974               NaN           NaN               NaN             NaN   \n",
       "1224975               NaN           NaN               NaN             NaN   \n",
       "1224976               NaN           NaN               NaN             NaN   \n",
       "1224977               NaN           NaN               NaN             NaN   \n",
       "1224978               NaN           NaN               NaN             NaN   \n",
       "\n",
       "        CL_SATIS_TYPE LABEL_CLAIM_INF FLAG_TRAIN_INFER CX_CNT  \n",
       "1224974           NaN               0                1      4  \n",
       "1224975           NaN               0                1      3  \n",
       "1224976           NaN               0                1      3  \n",
       "1224977           NaN               0                1      2  \n",
       "1224978           NaN               0                1      4  \n",
       "\n",
       "[5 rows x 68 columns]"
      ]
     },
     "execution_count": 4,
     "metadata": {},
     "output_type": "execute_result"
    }
   ],
   "source": [
    "df.tail()"
   ]
  },
  {
   "cell_type": "code",
   "execution_count": 5,
   "metadata": {},
   "outputs": [
    {
     "data": {
      "text/plain": [
       "1224979"
      ]
     },
     "execution_count": 5,
     "metadata": {},
     "output_type": "execute_result"
    }
   ],
   "source": [
    "len(df)"
   ]
  },
  {
   "cell_type": "markdown",
   "metadata": {},
   "source": [
    "#### 결측치를 포함한 samples (행) 제거해 보기"
   ]
  },
  {
   "cell_type": "code",
   "execution_count": 6,
   "metadata": {},
   "outputs": [],
   "source": [
    "df1 = df.copy()"
   ]
  },
  {
   "cell_type": "code",
   "execution_count": 7,
   "metadata": {},
   "outputs": [],
   "source": [
    "df1.dropna(inplace=True)"
   ]
  },
  {
   "cell_type": "code",
   "execution_count": 8,
   "metadata": {},
   "outputs": [
    {
     "data": {
      "text/plain": [
       "0"
      ]
     },
     "execution_count": 8,
     "metadata": {},
     "output_type": "execute_result"
    }
   ],
   "source": [
    "len(df1)"
   ]
  },
  {
   "cell_type": "markdown",
   "metadata": {},
   "source": [
    "### 3. Data Preprocessing"
   ]
  },
  {
   "cell_type": "markdown",
   "metadata": {},
   "source": [
    "#### 결측치가 없는 column들 찾기"
   ]
  },
  {
   "cell_type": "code",
   "execution_count": 9,
   "metadata": {},
   "outputs": [
    {
     "name": "stdout",
     "output_type": "stream",
     "text": [
      "['CUST_NO', 'CUST_TYPE', 'VIP_CUST_TYPE', 'VIP_GRADE', 'SERIAL_NO', 'MODEL_CODE', 'PRODUCT_CODE', 'CX_ID', 'CX_TYPE', 'ETL_LOAD_DATE', 'RCPT_DTHM', 'CX_ID_PREV', 'LABEL_CLAIM', 'CO_BUY_DT', 'CO_RCPT_CHANNEL', 'CO_RCPT_USER_ID', 'CO_RCPT_DEPT_CODE', 'CO_RCPT_WTY_TYPE', 'CO_COUNS_LARGE_CLASS', 'CO_COUNS_MID_CLASS', 'CO_COUNS_SMALL_CLASS', 'CO_COUNS_STAT', 'RP_RCPT_DEPT_TYPE', 'RP_RCPT_USER_ID', 'RP_REPAIR_SE_ID', 'RP_RCPT_TYPE', 'RP_RCPT_WTY_TYPE', 'RP_RCPT_SYMP_CODE', 'RP_RCPT_SUB_SYMP_CODE', 'RP_FAIL_CODE_GROUP', 'RP_FAIL_LARGE_CLASS', 'RP_FAIL_MID_CLASS', 'RP_FAIL_REASON_CODE', 'RP_FAIL_TYPE', 'RP_REPAIR_WTY_TYPE', 'RP_TOTAL_FEE_AMT', 'RP_TOTAL_AMT', 'RP_STATUS', 'RP_UNSATIS_ETD_TYPE1', 'RP_UNSATIS_ETD_TYPE2', 'RP_RE_REPAIR_TYPE', 'EX_REPAIR_DT', 'EX_COMPLETE_DT', 'EX_AGENT_CODE', 'EX_CAUSE_CODE', 'EX_BUY_FACTOR_CODE', 'EX_EXCHANGE_ORDER_TYPE', 'EX_COMPLETE_YN', 'CL_CLAIM_RCPT_CHANNEL', 'CL_CLAIM_RCPT_TYPE', 'CL_RCPT_DEPT_CODE', 'CL_RCPT_USER_ID', 'CL_CLAIM_TYPE', 'CL_CLAIM_LARGE_CLASS', 'CL_CLAIM_MID_CLASS', 'CL_CLAIM_SMALL_CLASS', 'CL_SYMP_CODE', 'CL_DETAIL_SYMP_CODE', 'CL_TGET_SECTION', 'CL_TGET_DEPT_CODE', 'CL_CUST_REQ_TYPE', 'CL_PRCS_TYPE', 'CL_CLAIM_WTY_TYPE', 'CL_CLAIM_STATUS', 'CL_SATIS_TYPE', 'LABEL_CLAIM_INF', 'FLAG_TRAIN_INFER', 'CX_CNT']\n"
     ]
    }
   ],
   "source": [
    "column_list = df.columns.to_list()\n",
    "print(column_list)"
   ]
  },
  {
   "cell_type": "code",
   "execution_count": 10,
   "metadata": {},
   "outputs": [
    {
     "name": "stdout",
     "output_type": "stream",
     "text": [
      "Column CUST_NO includes 0 missings\n",
      "Column CUST_TYPE includes 208 missings\n",
      "Column VIP_CUST_TYPE includes 1224043 missings\n",
      "Column VIP_GRADE includes 1224043 missings\n",
      "Column SERIAL_NO includes 649138 missings\n",
      "Column MODEL_CODE includes 366098 missings\n",
      "Column PRODUCT_CODE includes 265 missings\n",
      "Column CX_ID includes 0 missings\n",
      "Column CX_TYPE includes 0 missings\n",
      "Column ETL_LOAD_DATE includes 0 missings\n",
      "Column RCPT_DTHM includes 0 missings\n",
      "Column CX_ID_PREV includes 336655 missings\n",
      "Column LABEL_CLAIM includes 0 missings\n",
      "Column CO_BUY_DT includes 1224979 missings\n",
      "Column CO_RCPT_CHANNEL includes 662003 missings\n",
      "Column CO_RCPT_USER_ID includes 655874 missings\n",
      "Column CO_RCPT_DEPT_CODE includes 655874 missings\n",
      "Column CO_RCPT_WTY_TYPE includes 686408 missings\n",
      "Column CO_COUNS_LARGE_CLASS includes 706034 missings\n",
      "Column CO_COUNS_MID_CLASS includes 706509 missings\n",
      "Column CO_COUNS_SMALL_CLASS includes 706761 missings\n",
      "Column CO_COUNS_STAT includes 655874 missings\n",
      "Column RP_RCPT_DEPT_TYPE includes 579430 missings\n",
      "Column RP_RCPT_USER_ID includes 581251 missings\n",
      "Column RP_REPAIR_SE_ID includes 579440 missings\n",
      "Column RP_RCPT_TYPE includes 579430 missings\n",
      "Column RP_RCPT_WTY_TYPE includes 825674 missings\n",
      "Column RP_RCPT_SYMP_CODE includes 580945 missings\n",
      "Column RP_RCPT_SUB_SYMP_CODE includes 581027 missings\n",
      "Column RP_FAIL_CODE_GROUP includes 629211 missings\n",
      "Column RP_FAIL_LARGE_CLASS includes 727828 missings\n",
      "Column RP_FAIL_MID_CLASS includes 726997 missings\n",
      "Column RP_FAIL_REASON_CODE includes 727017 missings\n",
      "Column RP_FAIL_TYPE includes 721211 missings\n",
      "Column RP_REPAIR_WTY_TYPE includes 579430 missings\n",
      "Column RP_TOTAL_FEE_AMT includes 579430 missings\n",
      "Column RP_TOTAL_AMT includes 579430 missings\n",
      "Column RP_STATUS includes 579430 missings\n",
      "Column RP_UNSATIS_ETD_TYPE1 includes 1203233 missings\n",
      "Column RP_UNSATIS_ETD_TYPE2 includes 1222876 missings\n",
      "Column RP_RE_REPAIR_TYPE includes 1183826 missings\n",
      "Column EX_REPAIR_DT includes 1218243 missings\n",
      "Column EX_COMPLETE_DT includes 1218243 missings\n",
      "Column EX_AGENT_CODE includes 1224281 missings\n",
      "Column EX_CAUSE_CODE includes 1218306 missings\n",
      "Column EX_BUY_FACTOR_CODE includes 1223504 missings\n",
      "Column EX_EXCHANGE_ORDER_TYPE includes 1218295 missings\n",
      "Column EX_COMPLETE_YN includes 1218243 missings\n",
      "Column CL_CLAIM_RCPT_CHANNEL includes 1221390 missings\n",
      "Column CL_CLAIM_RCPT_TYPE includes 1221390 missings\n",
      "Column CL_RCPT_DEPT_CODE includes 1221390 missings\n",
      "Column CL_RCPT_USER_ID includes 1221390 missings\n",
      "Column CL_CLAIM_TYPE includes 1221390 missings\n",
      "Column CL_CLAIM_LARGE_CLASS includes 1221390 missings\n",
      "Column CL_CLAIM_MID_CLASS includes 1221390 missings\n",
      "Column CL_CLAIM_SMALL_CLASS includes 1221390 missings\n",
      "Column CL_SYMP_CODE includes 1224979 missings\n",
      "Column CL_DETAIL_SYMP_CODE includes 1224979 missings\n",
      "Column CL_TGET_SECTION includes 1221407 missings\n",
      "Column CL_TGET_DEPT_CODE includes 1221610 missings\n",
      "Column CL_CUST_REQ_TYPE includes 1221390 missings\n",
      "Column CL_PRCS_TYPE includes 1221391 missings\n",
      "Column CL_CLAIM_WTY_TYPE includes 1222031 missings\n",
      "Column CL_CLAIM_STATUS includes 1221390 missings\n",
      "Column CL_SATIS_TYPE includes 1224979 missings\n",
      "Column LABEL_CLAIM_INF includes 0 missings\n",
      "Column FLAG_TRAIN_INFER includes 0 missings\n",
      "Column CX_CNT includes 0 missings\n",
      "No missing columns = ['CUST_NO', 'CX_ID', 'CX_TYPE', 'ETL_LOAD_DATE', 'RCPT_DTHM', 'LABEL_CLAIM', 'LABEL_CLAIM_INF', 'FLAG_TRAIN_INFER', 'CX_CNT']\n"
     ]
    }
   ],
   "source": [
    "no_missing_column_list = []\n",
    "\n",
    "for i in column_list:\n",
    "    missing_no = df[i].isnull().sum()\n",
    "    print(\"Column {} includes {} missings\".format(i, missing_no))\n",
    "    if missing_no == 0:\n",
    "        no_missing_column_list.append(i)\n",
    "\n",
    "print(\"No missing columns = {}\".format(no_missing_column_list))"
   ]
  },
  {
   "cell_type": "markdown",
   "metadata": {},
   "source": [
    "#### 결측치 없는 column들만으로 새로운 data file 생성"
   ]
  },
  {
   "cell_type": "code",
   "execution_count": 11,
   "metadata": {},
   "outputs": [],
   "source": [
    "df1 = pd.DataFrame()\n",
    "\n",
    "for i in no_missing_column_list:\n",
    "    df1[i] = df[i]"
   ]
  },
  {
   "cell_type": "code",
   "execution_count": 42,
   "metadata": {},
   "outputs": [],
   "source": [
    "df1.drop_duplicates(['CUST_NO'], keep='last', inplace=True)"
   ]
  },
  {
   "cell_type": "code",
   "execution_count": 43,
   "metadata": {},
   "outputs": [
    {
     "data": {
      "text/html": [
       "<div>\n",
       "<style scoped>\n",
       "    .dataframe tbody tr th:only-of-type {\n",
       "        vertical-align: middle;\n",
       "    }\n",
       "\n",
       "    .dataframe tbody tr th {\n",
       "        vertical-align: top;\n",
       "    }\n",
       "\n",
       "    .dataframe thead th {\n",
       "        text-align: right;\n",
       "    }\n",
       "</style>\n",
       "<table border=\"1\" class=\"dataframe\">\n",
       "  <thead>\n",
       "    <tr style=\"text-align: right;\">\n",
       "      <th></th>\n",
       "      <th>CUST_NO</th>\n",
       "      <th>CX_ID</th>\n",
       "      <th>CX_TYPE</th>\n",
       "      <th>ETL_LOAD_DATE</th>\n",
       "      <th>RCPT_DTHM</th>\n",
       "      <th>LABEL_CLAIM</th>\n",
       "      <th>LABEL_CLAIM_INF</th>\n",
       "      <th>FLAG_TRAIN_INFER</th>\n",
       "      <th>CX_CNT</th>\n",
       "    </tr>\n",
       "  </thead>\n",
       "  <tbody>\n",
       "    <tr>\n",
       "      <th>2</th>\n",
       "      <td>C000002735</td>\n",
       "      <td>J052977067</td>\n",
       "      <td>0</td>\n",
       "      <td>20230128035021</td>\n",
       "      <td>20230127115000</td>\n",
       "      <td>0</td>\n",
       "      <td>0</td>\n",
       "      <td>2</td>\n",
       "      <td>3</td>\n",
       "    </tr>\n",
       "    <tr>\n",
       "      <th>4</th>\n",
       "      <td>C000002881</td>\n",
       "      <td>N2231314YM</td>\n",
       "      <td>1</td>\n",
       "      <td>20230331185418</td>\n",
       "      <td>20230223131400</td>\n",
       "      <td>0</td>\n",
       "      <td>0</td>\n",
       "      <td>2</td>\n",
       "      <td>2</td>\n",
       "    </tr>\n",
       "    <tr>\n",
       "      <th>7</th>\n",
       "      <td>C000003470</td>\n",
       "      <td>J053109659</td>\n",
       "      <td>0</td>\n",
       "      <td>20230208035659</td>\n",
       "      <td>20230207095200</td>\n",
       "      <td>0</td>\n",
       "      <td>0</td>\n",
       "      <td>2</td>\n",
       "      <td>3</td>\n",
       "    </tr>\n",
       "    <tr>\n",
       "      <th>10</th>\n",
       "      <td>C00000856</td>\n",
       "      <td>N1311100XU</td>\n",
       "      <td>1</td>\n",
       "      <td>20230201053554</td>\n",
       "      <td>20230131110000</td>\n",
       "      <td>0</td>\n",
       "      <td>0</td>\n",
       "      <td>2</td>\n",
       "      <td>3</td>\n",
       "    </tr>\n",
       "    <tr>\n",
       "      <th>12</th>\n",
       "      <td>C000008746</td>\n",
       "      <td>N1131438DY</td>\n",
       "      <td>1</td>\n",
       "      <td>20230117053714</td>\n",
       "      <td>20230113143800</td>\n",
       "      <td>0</td>\n",
       "      <td>0</td>\n",
       "      <td>2</td>\n",
       "      <td>2</td>\n",
       "    </tr>\n",
       "  </tbody>\n",
       "</table>\n",
       "</div>"
      ],
      "text/plain": [
       "       CUST_NO       CX_ID  CX_TYPE   ETL_LOAD_DATE       RCPT_DTHM  \\\n",
       "2   C000002735  J052977067        0  20230128035021  20230127115000   \n",
       "4   C000002881  N2231314YM        1  20230331185418  20230223131400   \n",
       "7   C000003470  J053109659        0  20230208035659  20230207095200   \n",
       "10   C00000856  N1311100XU        1  20230201053554  20230131110000   \n",
       "12  C000008746  N1131438DY        1  20230117053714  20230113143800   \n",
       "\n",
       "    LABEL_CLAIM  LABEL_CLAIM_INF  FLAG_TRAIN_INFER  CX_CNT  \n",
       "2             0                0                 2       3  \n",
       "4             0                0                 2       2  \n",
       "7             0                0                 2       3  \n",
       "10            0                0                 2       3  \n",
       "12            0                0                 2       2  "
      ]
     },
     "execution_count": 43,
     "metadata": {},
     "output_type": "execute_result"
    }
   ],
   "source": [
    "df1.head()"
   ]
  },
  {
   "cell_type": "markdown",
   "metadata": {},
   "source": [
    "#### 결측치 없는 column들만 남긴 raw data를 train set과 inference set으로 나누기"
   ]
  },
  {
   "cell_type": "code",
   "execution_count": 44,
   "metadata": {},
   "outputs": [],
   "source": [
    "cond = df1.loc[:, 'FLAG_TRAIN_INFER'] != 1\n",
    "\n",
    "df1_train = df1.loc[cond, :]"
   ]
  },
  {
   "cell_type": "code",
   "execution_count": 45,
   "metadata": {},
   "outputs": [
    {
     "data": {
      "text/plain": [
       "412629"
      ]
     },
     "execution_count": 45,
     "metadata": {},
     "output_type": "execute_result"
    }
   ],
   "source": [
    "len(df1_train)"
   ]
  },
  {
   "cell_type": "code",
   "execution_count": 46,
   "metadata": {},
   "outputs": [
    {
     "data": {
      "text/html": [
       "<div>\n",
       "<style scoped>\n",
       "    .dataframe tbody tr th:only-of-type {\n",
       "        vertical-align: middle;\n",
       "    }\n",
       "\n",
       "    .dataframe tbody tr th {\n",
       "        vertical-align: top;\n",
       "    }\n",
       "\n",
       "    .dataframe thead th {\n",
       "        text-align: right;\n",
       "    }\n",
       "</style>\n",
       "<table border=\"1\" class=\"dataframe\">\n",
       "  <thead>\n",
       "    <tr style=\"text-align: right;\">\n",
       "      <th></th>\n",
       "      <th>CUST_NO</th>\n",
       "      <th>CX_ID</th>\n",
       "      <th>CX_TYPE</th>\n",
       "      <th>ETL_LOAD_DATE</th>\n",
       "      <th>RCPT_DTHM</th>\n",
       "      <th>LABEL_CLAIM</th>\n",
       "      <th>LABEL_CLAIM_INF</th>\n",
       "      <th>FLAG_TRAIN_INFER</th>\n",
       "      <th>CX_CNT</th>\n",
       "    </tr>\n",
       "  </thead>\n",
       "  <tbody>\n",
       "    <tr>\n",
       "      <th>1224415</th>\n",
       "      <td>C109126292</td>\n",
       "      <td>D001182337</td>\n",
       "      <td>2</td>\n",
       "      <td>20230326055656</td>\n",
       "      <td>20230325100000</td>\n",
       "      <td>0</td>\n",
       "      <td>0</td>\n",
       "      <td>2</td>\n",
       "      <td>2</td>\n",
       "    </tr>\n",
       "    <tr>\n",
       "      <th>1224416</th>\n",
       "      <td>C096647008</td>\n",
       "      <td>D001182717</td>\n",
       "      <td>2</td>\n",
       "      <td>20230326055658</td>\n",
       "      <td>20230325100000</td>\n",
       "      <td>0</td>\n",
       "      <td>0</td>\n",
       "      <td>2</td>\n",
       "      <td>3</td>\n",
       "    </tr>\n",
       "    <tr>\n",
       "      <th>1224417</th>\n",
       "      <td>C095239695</td>\n",
       "      <td>D001183977</td>\n",
       "      <td>2</td>\n",
       "      <td>20230326055658</td>\n",
       "      <td>20230325100000</td>\n",
       "      <td>0</td>\n",
       "      <td>0</td>\n",
       "      <td>2</td>\n",
       "      <td>3</td>\n",
       "    </tr>\n",
       "    <tr>\n",
       "      <th>1224418</th>\n",
       "      <td>C107658041</td>\n",
       "      <td>D001179597</td>\n",
       "      <td>2</td>\n",
       "      <td>20230326055656</td>\n",
       "      <td>20230325100000</td>\n",
       "      <td>0</td>\n",
       "      <td>0</td>\n",
       "      <td>2</td>\n",
       "      <td>2</td>\n",
       "    </tr>\n",
       "    <tr>\n",
       "      <th>1224419</th>\n",
       "      <td>C104172992</td>\n",
       "      <td>D001182218</td>\n",
       "      <td>2</td>\n",
       "      <td>20230327055844</td>\n",
       "      <td>20230326100000</td>\n",
       "      <td>0</td>\n",
       "      <td>0</td>\n",
       "      <td>2</td>\n",
       "      <td>4</td>\n",
       "    </tr>\n",
       "  </tbody>\n",
       "</table>\n",
       "</div>"
      ],
      "text/plain": [
       "            CUST_NO       CX_ID  CX_TYPE   ETL_LOAD_DATE       RCPT_DTHM  \\\n",
       "1224415  C109126292  D001182337        2  20230326055656  20230325100000   \n",
       "1224416  C096647008  D001182717        2  20230326055658  20230325100000   \n",
       "1224417  C095239695  D001183977        2  20230326055658  20230325100000   \n",
       "1224418  C107658041  D001179597        2  20230326055656  20230325100000   \n",
       "1224419  C104172992  D001182218        2  20230327055844  20230326100000   \n",
       "\n",
       "         LABEL_CLAIM  LABEL_CLAIM_INF  FLAG_TRAIN_INFER  CX_CNT  \n",
       "1224415            0                0                 2       2  \n",
       "1224416            0                0                 2       3  \n",
       "1224417            0                0                 2       3  \n",
       "1224418            0                0                 2       2  \n",
       "1224419            0                0                 2       4  "
      ]
     },
     "execution_count": 46,
     "metadata": {},
     "output_type": "execute_result"
    }
   ],
   "source": [
    "df1_train.tail()"
   ]
  },
  {
   "cell_type": "code",
   "execution_count": 47,
   "metadata": {},
   "outputs": [],
   "source": [
    "cond = df1.loc[:, 'FLAG_TRAIN_INFER'] != 0\n",
    "\n",
    "df1_infer = df1.loc[cond, :]"
   ]
  },
  {
   "cell_type": "code",
   "execution_count": 48,
   "metadata": {},
   "outputs": [
    {
     "data": {
      "text/plain": [
       "451670"
      ]
     },
     "execution_count": 48,
     "metadata": {},
     "output_type": "execute_result"
    }
   ],
   "source": [
    "len(df1_infer)"
   ]
  },
  {
   "cell_type": "code",
   "execution_count": 49,
   "metadata": {},
   "outputs": [
    {
     "data": {
      "text/html": [
       "<div>\n",
       "<style scoped>\n",
       "    .dataframe tbody tr th:only-of-type {\n",
       "        vertical-align: middle;\n",
       "    }\n",
       "\n",
       "    .dataframe tbody tr th {\n",
       "        vertical-align: top;\n",
       "    }\n",
       "\n",
       "    .dataframe thead th {\n",
       "        text-align: right;\n",
       "    }\n",
       "</style>\n",
       "<table border=\"1\" class=\"dataframe\">\n",
       "  <thead>\n",
       "    <tr style=\"text-align: right;\">\n",
       "      <th></th>\n",
       "      <th>CUST_NO</th>\n",
       "      <th>CX_ID</th>\n",
       "      <th>CX_TYPE</th>\n",
       "      <th>ETL_LOAD_DATE</th>\n",
       "      <th>RCPT_DTHM</th>\n",
       "      <th>LABEL_CLAIM</th>\n",
       "      <th>LABEL_CLAIM_INF</th>\n",
       "      <th>FLAG_TRAIN_INFER</th>\n",
       "      <th>CX_CNT</th>\n",
       "    </tr>\n",
       "  </thead>\n",
       "  <tbody>\n",
       "    <tr>\n",
       "      <th>1224974</th>\n",
       "      <td>C04181588</td>\n",
       "      <td>D001182316</td>\n",
       "      <td>2</td>\n",
       "      <td>20230402055344</td>\n",
       "      <td>20230401100000</td>\n",
       "      <td>1</td>\n",
       "      <td>0</td>\n",
       "      <td>1</td>\n",
       "      <td>4</td>\n",
       "    </tr>\n",
       "    <tr>\n",
       "      <th>1224975</th>\n",
       "      <td>C089550550</td>\n",
       "      <td>D001184316</td>\n",
       "      <td>2</td>\n",
       "      <td>20230402055345</td>\n",
       "      <td>20230401100000</td>\n",
       "      <td>0</td>\n",
       "      <td>0</td>\n",
       "      <td>1</td>\n",
       "      <td>3</td>\n",
       "    </tr>\n",
       "    <tr>\n",
       "      <th>1224976</th>\n",
       "      <td>C109288664</td>\n",
       "      <td>D001180116</td>\n",
       "      <td>2</td>\n",
       "      <td>20230402055343</td>\n",
       "      <td>20230401100000</td>\n",
       "      <td>0</td>\n",
       "      <td>0</td>\n",
       "      <td>1</td>\n",
       "      <td>3</td>\n",
       "    </tr>\n",
       "    <tr>\n",
       "      <th>1224977</th>\n",
       "      <td>C109323697</td>\n",
       "      <td>D001183316</td>\n",
       "      <td>2</td>\n",
       "      <td>20230402055345</td>\n",
       "      <td>20230401100000</td>\n",
       "      <td>0</td>\n",
       "      <td>0</td>\n",
       "      <td>1</td>\n",
       "      <td>2</td>\n",
       "    </tr>\n",
       "    <tr>\n",
       "      <th>1224978</th>\n",
       "      <td>C109397741</td>\n",
       "      <td>D001190616</td>\n",
       "      <td>2</td>\n",
       "      <td>20230402055344</td>\n",
       "      <td>20230401100000</td>\n",
       "      <td>0</td>\n",
       "      <td>0</td>\n",
       "      <td>1</td>\n",
       "      <td>4</td>\n",
       "    </tr>\n",
       "  </tbody>\n",
       "</table>\n",
       "</div>"
      ],
      "text/plain": [
       "            CUST_NO       CX_ID  CX_TYPE   ETL_LOAD_DATE       RCPT_DTHM  \\\n",
       "1224974   C04181588  D001182316        2  20230402055344  20230401100000   \n",
       "1224975  C089550550  D001184316        2  20230402055345  20230401100000   \n",
       "1224976  C109288664  D001180116        2  20230402055343  20230401100000   \n",
       "1224977  C109323697  D001183316        2  20230402055345  20230401100000   \n",
       "1224978  C109397741  D001190616        2  20230402055344  20230401100000   \n",
       "\n",
       "         LABEL_CLAIM  LABEL_CLAIM_INF  FLAG_TRAIN_INFER  CX_CNT  \n",
       "1224974            1                0                 1       4  \n",
       "1224975            0                0                 1       3  \n",
       "1224976            0                0                 1       3  \n",
       "1224977            0                0                 1       2  \n",
       "1224978            0                0                 1       4  "
      ]
     },
     "execution_count": 49,
     "metadata": {},
     "output_type": "execute_result"
    }
   ],
   "source": [
    "df1_infer.tail()"
   ]
  },
  {
   "cell_type": "markdown",
   "metadata": {},
   "source": [
    "### 4. Down sampling (Negative sampling)"
   ]
  },
  {
   "cell_type": "markdown",
   "metadata": {},
   "source": [
    "#### Train set과 inference set 간 claim/noclaim 샘플들 간 유사도 확인"
   ]
  },
  {
   "cell_type": "code",
   "execution_count": 64,
   "metadata": {},
   "outputs": [
    {
     "name": "stdout",
     "output_type": "stream",
     "text": [
      "WARNING: pip is being invoked by an old script wrapper. This will fail in a future version of pip.\n",
      "Please see https://github.com/pypa/pip/issues/5599 for advice on fixing the underlying issue.\n",
      "To avoid this problem you can invoke Python with '-m pip' instead of running pip directly.\n",
      "ERROR: unknown command \"unistall\" - maybe you meant \"uninstall\"\n",
      "WARNING: pip is being invoked by an old script wrapper. This will fail in a future version of pip.\n",
      "Please see https://github.com/pypa/pip/issues/5599 for advice on fixing the underlying issue.\n",
      "To avoid this problem you can invoke Python with '-m pip' instead of running pip directly.\n",
      "Collecting umap-learn\n",
      "  Downloading umap-learn-0.5.4.tar.gz (90 kB)\n",
      "\u001b[2K     \u001b[90m━━━━━━━━━━━━━━━━━━━━━━━━━━━━━━━━━━━━━━━━\u001b[0m \u001b[32m90.8/90.8 kB\u001b[0m \u001b[31m2.8 MB/s\u001b[0m eta \u001b[36m0:00:00\u001b[0m\n",
      "\u001b[?25h  Preparing metadata (setup.py) ... \u001b[?25ldone\n",
      "\u001b[?25hRequirement already satisfied: numpy>=1.17 in /home/sookyoung.kim/.local/lib/python3.7/site-packages (from umap-learn) (1.21.6)\n",
      "Requirement already satisfied: scipy>=1.3.1 in /home/sookyoung.kim/.local/lib/python3.7/site-packages (from umap-learn) (1.7.3)\n",
      "Requirement already satisfied: scikit-learn>=0.22 in /home/sookyoung.kim/.local/lib/python3.7/site-packages (from umap-learn) (1.0.2)\n",
      "Requirement already satisfied: numba>=0.51.2 in /home/sookyoung.kim/.local/lib/python3.7/site-packages (from umap-learn) (0.56.4)\n",
      "Collecting pynndescent>=0.5 (from umap-learn)\n",
      "  Using cached pynndescent-0.5.10.tar.gz (1.1 MB)\n",
      "  Preparing metadata (setup.py) ... \u001b[?25ldone\n",
      "\u001b[?25hRequirement already satisfied: tqdm in /home/sookyoung.kim/.local/lib/python3.7/site-packages (from umap-learn) (4.66.1)\n",
      "Collecting tbb>=2019.0 (from umap-learn)\n",
      "  Obtaining dependency information for tbb>=2019.0 from https://files.pythonhosted.org/packages/79/a8/01ac205ff1f68f543aa73d69d6947218cd0973992a4b60cf0a4bfe507561/tbb-2021.10.0-py2.py3-none-manylinux1_x86_64.whl.metadata\n",
      "  Downloading tbb-2021.10.0-py2.py3-none-manylinux1_x86_64.whl.metadata (1.0 kB)\n",
      "Requirement already satisfied: llvmlite<0.40,>=0.39.0dev0 in /home/sookyoung.kim/.local/lib/python3.7/site-packages (from numba>=0.51.2->umap-learn) (0.39.1)\n",
      "Requirement already satisfied: setuptools in /ssd_data/sookyoung_ssd/anaconda3/lib/python3.7/site-packages (from numba>=0.51.2->umap-learn) (41.4.0)\n",
      "Requirement already satisfied: importlib-metadata in /ssd_data/sookyoung_ssd/anaconda3/lib/python3.7/site-packages (from numba>=0.51.2->umap-learn) (6.7.0)\n",
      "Requirement already satisfied: joblib>=0.11 in /home/sookyoung.kim/.local/lib/python3.7/site-packages (from pynndescent>=0.5->umap-learn) (1.3.2)\n",
      "Requirement already satisfied: threadpoolctl>=2.0.0 in /home/sookyoung.kim/.local/lib/python3.7/site-packages (from scikit-learn>=0.22->umap-learn) (2.1.0)\n",
      "Requirement already satisfied: zipp>=0.5 in /home/sookyoung.kim/.local/lib/python3.7/site-packages (from importlib-metadata->numba>=0.51.2->umap-learn) (3.1.0)\n",
      "Requirement already satisfied: typing-extensions>=3.6.4 in /home/sookyoung.kim/.local/lib/python3.7/site-packages (from importlib-metadata->numba>=0.51.2->umap-learn) (4.7.1)\n",
      "Downloading tbb-2021.10.0-py2.py3-none-manylinux1_x86_64.whl (4.4 MB)\n",
      "\u001b[2K   \u001b[90m━━━━━━━━━━━━━━━━━━━━━━━━━━━━━━━━━━━━━━━━\u001b[0m \u001b[32m4.4/4.4 MB\u001b[0m \u001b[31m20.5 MB/s\u001b[0m eta \u001b[36m0:00:00\u001b[0m00:01\u001b[0m00:01\u001b[0m\n",
      "\u001b[?25hBuilding wheels for collected packages: umap-learn, pynndescent\n",
      "  Building wheel for umap-learn (setup.py) ... \u001b[?25ldone\n",
      "\u001b[?25h  Created wheel for umap-learn: filename=umap_learn-0.5.4-py3-none-any.whl size=86780 sha256=7546016fb0b34e5ead355b1d04857e4e4444ed99104fbdb0dd39000557097f7c\n",
      "  Stored in directory: /home/sookyoung.kim/.cache/pip/wheels/6f/40/5b/53326040d43108786ba65048baae2a4e8e5f4e69f9d9842c32\n",
      "  Building wheel for pynndescent (setup.py) ... \u001b[?25ldone\n",
      "\u001b[?25h  Created wheel for pynndescent: filename=pynndescent-0.5.10-py3-none-any.whl size=55620 sha256=58b43cb39ac05193ff622717d7071b974458713f6dcac9174b8f2727d11f7775\n",
      "  Stored in directory: /home/sookyoung.kim/.cache/pip/wheels/e1/38/f7/4d18bfa0426d0a999e6fb3ed8622298ea40b3ba807f903cd02\n",
      "Successfully built umap-learn pynndescent\n",
      "Installing collected packages: tbb, pynndescent, umap-learn\n",
      "Successfully installed pynndescent-0.5.10 tbb-2021.10.0 umap-learn-0.5.4\n",
      "\n",
      "\u001b[1m[\u001b[0m\u001b[34;49mnotice\u001b[0m\u001b[1;39;49m]\u001b[0m\u001b[39;49m A new release of pip is available: \u001b[0m\u001b[31;49m23.2.1\u001b[0m\u001b[39;49m -> \u001b[0m\u001b[32;49m23.3.1\u001b[0m\n",
      "\u001b[1m[\u001b[0m\u001b[34;49mnotice\u001b[0m\u001b[1;39;49m]\u001b[0m\u001b[39;49m To update, run: \u001b[0m\u001b[32;49mpip install --upgrade pip\u001b[0m\n"
     ]
    }
   ],
   "source": [
    "!pip unistall umap\n",
    "!pip install umap-learn"
   ]
  },
  {
   "cell_type": "markdown",
   "metadata": {},
   "source": [
    "Train set과 inference set의 label 1과 0인 sample들을 추출"
   ]
  },
  {
   "cell_type": "code",
   "execution_count": 50,
   "metadata": {},
   "outputs": [],
   "source": [
    "df1_train_infer = df1.copy()\n",
    "\n",
    "# Train set의 label 0인 samples\n",
    "cond_tmp = (df1_train_infer.loc[:, 'FLAG_TRAIN_INFER'] != 1) & (df1_train_infer.loc[:, 'LABEL_CLAIM'] == 0)\n",
    "df_train_noclaim = df1_train_infer.loc[cond_tmp, :]\n",
    "\n",
    "# Train set의 label 1인 samples\n",
    "cond_tmp = (df1_train_infer.loc[:, 'FLAG_TRAIN_INFER'] != 1) & (df1_train_infer.loc[:, 'LABEL_CLAIM'] == 1)\n",
    "df_train_claim = df1_train_infer.loc[cond_tmp, :]\n",
    "\n",
    "# Inference set의 label 0인 samples\n",
    "cond_tmp = (df1_train_infer.loc[:, 'FLAG_TRAIN_INFER'] != 0) & (df1_train_infer.loc[:, 'LABEL_CLAIM'] == 0)\n",
    "df_train_noclaim = df1_train_infer.loc[cond_tmp, :]\n",
    "\n",
    "# Inference set의 label 1인 samples\n",
    "cond_tmp = (df1_train_infer.loc[:, 'FLAG_TRAIN_INFER'] != 0) & (df1_train_infer.loc[:, 'LABEL_CLAIM'] == 1)\n",
    "df_train_claim = df1_train_infer.loc[cond_tmp, :]\n",
    "\n",
    "# Train과 inference set의 label 0인 samples\n",
    "cond_tmp = (df1_train_infer.loc[:, 'LABEL_CLAIM'] == 0)\n",
    "df_train_infer_noclaim = df1_train_infer.loc[cond_tmp, :]\n",
    "\n",
    "# Train과 inference set의 label 1인 samples\n",
    "cond_tmp = (df1_train_infer.loc[:, 'LABEL_CLAIM'] == 1)\n",
    "df_train_infer_claim = df1_train_infer.loc[cond_tmp, :]"
   ]
  },
  {
   "cell_type": "code",
   "execution_count": 51,
   "metadata": {},
   "outputs": [],
   "source": [
    "import umap.umap_ as umap\n",
    "\n",
    "# UMAP dimension reduction from 4 to 2\n",
    "def umap_dimension_reduction_d4_to_d2(df_h, n_neighbors, min_dist, metric, output_df_col_list):\n",
    "        \n",
    "    reducer = umap.UMAP(n_neighbors=n_neighbors, min_dist=min_dist, n_components=2, metric=metric, verbose=True)\n",
    "       \n",
    "    list_header = ['CX_TYPE', 'ETL_LOAD_DATE', 'RCPT_DTHM', 'CX_CNT']\n",
    "    \n",
    "    hd_vector_data = df_h[list_header].values\n",
    "    ld_vector_data = reducer.fit_transform(hd_vector_data)\n",
    "    \n",
    "    df_l = pd.DataFrame(data = ld_vector_data.tolist(), columns = output_df_col_list, index=df_h.index)\n",
    "    \n",
    "    return df_l"
   ]
  },
  {
   "cell_type": "markdown",
   "metadata": {},
   "source": [
    "Train set과 inference set의 label 1 samples 비교\n",
    "\n",
    "- 서로 겹치는 분포를 가져야 train set학습한 모델로 inference set을 잘 예측할 수 있을 것"
   ]
  },
  {
   "cell_type": "code",
   "execution_count": 52,
   "metadata": {},
   "outputs": [
    {
     "name": "stdout",
     "output_type": "stream",
     "text": [
      "UMAP(n_neighbors=50, verbose=True)\n",
      "Tue Nov 14 04:41:00 2023 Construct fuzzy simplicial set\n",
      "Tue Nov 14 04:41:00 2023 Finding Nearest Neighbors\n",
      "Tue Nov 14 04:41:00 2023 Finished Nearest Neighbor Search\n",
      "Tue Nov 14 04:41:00 2023 Construct embedding\n"
     ]
    },
    {
     "name": "stderr",
     "output_type": "stream",
     "text": [
      "/home/sookyoung.kim/.local/lib/python3.7/site-packages/sklearn/manifold/_spectral_embedding.py:261: UserWarning: Graph is not fully connected, spectral embedding may not work as expected.\n",
      "  \"Graph is not fully connected, spectral embedding may not work as expected.\"\n"
     ]
    },
    {
     "data": {
      "application/vnd.jupyter.widget-view+json": {
       "model_id": "3a5789db8d94470888d2cdfbc8b766af",
       "version_major": 2,
       "version_minor": 0
      },
      "text/plain": [
       "Epochs completed:   0%|            0/500 [00:00]"
      ]
     },
     "metadata": {},
     "output_type": "display_data"
    },
    {
     "name": "stdout",
     "output_type": "stream",
     "text": [
      "\tcompleted  0  /  500 epochs\n",
      "\tcompleted  50  /  500 epochs\n",
      "\tcompleted  100  /  500 epochs\n",
      "\tcompleted  150  /  500 epochs\n",
      "\tcompleted  200  /  500 epochs\n",
      "\tcompleted  250  /  500 epochs\n",
      "\tcompleted  300  /  500 epochs\n",
      "\tcompleted  350  /  500 epochs\n",
      "\tcompleted  400  /  500 epochs\n",
      "\tcompleted  450  /  500 epochs\n",
      "Tue Nov 14 04:41:03 2023 Finished embedding\n"
     ]
    }
   ],
   "source": [
    "df2 = df_train_infer_claim.copy()\n",
    "\n",
    "# Plotting 전에 X 변수들만 남김\n",
    "df2.drop(['CUST_NO'], axis=1, inplace=True)\n",
    "df2.drop(['FLAG_TRAIN_INFER'], axis=1, inplace=True)\n",
    "df2.drop(['LABEL_CLAIM'], axis=1, inplace=True)\n",
    "df2.drop(['LABEL_CLAIM_INF'], axis=1, inplace=True)\n",
    "\n",
    "# UMAP을 이용한 차원 축소 (4차원 -> 2차원)\n",
    "df2_ld = umap_dimension_reduction_d4_to_d2(df2, 50, 0.1, 'euclidean', ['D1','D2'])\n",
    "\n",
    "# Train / inference sample 구분을 위해 flag를 다시 붙여 줌\n",
    "df2_ld['FLAG_TRAIN_INFER'] = df_train_infer_claim['FLAG_TRAIN_INFER']"
   ]
  },
  {
   "cell_type": "code",
   "execution_count": 53,
   "metadata": {},
   "outputs": [
    {
     "data": {
      "image/png": "[encoded data removed]",
      "text/plain": [
       "<Figure size 432x288 with 1 Axes>"
      ]
     },
     "metadata": {
      "needs_background": "light"
     },
     "output_type": "display_data"
    }
   ],
   "source": [
    "import matplotlib.pyplot as plt\n",
    "import seaborn as sns\n",
    "\n",
    "sns.scatterplot(data=df2_ld, \n",
    "                x='D1', y='D2', \n",
    "                hue='FLAG_TRAIN_INFER', palette='muted').set_title('Train Vs. Inference clusters');\n",
    "#plt.ylim(-10, 20)\n",
    "#plt.xlim(-4, 14)"
   ]
  },
  {
   "cell_type": "markdown",
   "metadata": {},
   "source": [
    "=> 분포가 서로 겹치지 않으므로, train set으로 학습한 모델의 inference set에 대한 예측 성능이 좋지 못할 것이 예상됨"
   ]
  },
  {
   "cell_type": "markdown",
   "metadata": {},
   "source": [
    "Train set의 label 0과 1 samples 비교\n",
    "\n",
    "- 서로 겹치지 않는 분포를 가져야 classification 모델 학습이 용이할 것"
   ]
  },
  {
   "cell_type": "code",
   "execution_count": 54,
   "metadata": {},
   "outputs": [
    {
     "name": "stdout",
     "output_type": "stream",
     "text": [
      "UMAP(n_neighbors=50, verbose=True)\n",
      "Tue Nov 14 04:41:19 2023 Construct fuzzy simplicial set\n",
      "Tue Nov 14 04:41:19 2023 Finding Nearest Neighbors\n",
      "Tue Nov 14 04:41:19 2023 Building RP forest with 37 trees\n",
      "Tue Nov 14 04:41:20 2023 NN descent for 19 iterations\n",
      "\t 1  /  19\n",
      "\t 2  /  19\n",
      "\tStopping threshold met -- exiting after 2 iterations\n",
      "Tue Nov 14 04:42:34 2023 Finished Nearest Neighbor Search\n",
      "Tue Nov 14 04:42:46 2023 Construct embedding\n"
     ]
    },
    {
     "name": "stderr",
     "output_type": "stream",
     "text": [
      "/home/sookyoung.kim/.local/lib/python3.7/site-packages/sklearn/manifold/_spectral_embedding.py:261: UserWarning: Graph is not fully connected, spectral embedding may not work as expected.\n",
      "  \"Graph is not fully connected, spectral embedding may not work as expected.\"\n"
     ]
    },
    {
     "data": {
      "application/vnd.jupyter.widget-view+json": {
       "model_id": "cb9b2674050544bc8cf0b0a4e6f5adaf",
       "version_major": 2,
       "version_minor": 0
      },
      "text/plain": [
       "Epochs completed:   0%|            0/200 [00:00]"
      ]
     },
     "metadata": {},
     "output_type": "display_data"
    },
    {
     "name": "stdout",
     "output_type": "stream",
     "text": [
      "\tcompleted  0  /  200 epochs\n",
      "\tcompleted  20  /  200 epochs\n",
      "\tcompleted  40  /  200 epochs\n",
      "\tcompleted  60  /  200 epochs\n",
      "\tcompleted  80  /  200 epochs\n",
      "\tcompleted  100  /  200 epochs\n",
      "\tcompleted  120  /  200 epochs\n",
      "\tcompleted  140  /  200 epochs\n",
      "\tcompleted  160  /  200 epochs\n",
      "\tcompleted  180  /  200 epochs\n",
      "Tue Nov 14 05:12:10 2023 Finished embedding\n"
     ]
    }
   ],
   "source": [
    "df2 = df1_train.copy()\n",
    "\n",
    "# Plotting 전에 X 변수들만 남김\n",
    "df2.drop(['CUST_NO'], axis=1, inplace=True)\n",
    "df2.drop(['FLAG_TRAIN_INFER'], axis=1, inplace=True)\n",
    "df2.drop(['LABEL_CLAIM'], axis=1, inplace=True)\n",
    "df2.drop(['LABEL_CLAIM_INF'], axis=1, inplace=True)\n",
    "\n",
    "# UMAP을 이용한 차원 축소 (4차원 -> 2차원)\n",
    "df2_ld = umap_dimension_reduction_d4_to_d2(df2, 50, 0.1, 'euclidean', ['D1','D2'])\n",
    "\n",
    "# Label 0 1 구분을 위해 label을 다시 붙여 줌\n",
    "df2_ld['LABEL_CLAIM'] = df1_train['LABEL_CLAIM']"
   ]
  },
  {
   "cell_type": "code",
   "execution_count": 55,
   "metadata": {},
   "outputs": [
    {
     "name": "stderr",
     "output_type": "stream",
     "text": [
      "/home/sookyoung.kim/ssd/anaconda3/lib/python3.7/site-packages/IPython/core/events.py:89: UserWarning: Creating legend with loc=\"best\" can be slow with large amounts of data.\n",
      "  func(*args, **kwargs)\n",
      "/home/sookyoung.kim/ssd/anaconda3/lib/python3.7/site-packages/IPython/core/pylabtools.py:132: UserWarning: Creating legend with loc=\"best\" can be slow with large amounts of data.\n",
      "  fig.canvas.print_figure(bytes_io, **kw)\n"
     ]
    },
    {
     "data": {
      "image/png": "[encoded data removed]",
      "text/plain": [
       "<Figure size 432x288 with 1 Axes>"
      ]
     },
     "metadata": {
      "needs_background": "light"
     },
     "output_type": "display_data"
    }
   ],
   "source": [
    "import matplotlib.pyplot as plt\n",
    "import seaborn as sns\n",
    "\n",
    "sns.scatterplot(data=df2_ld, \n",
    "                x='D1', y='D2', \n",
    "                hue='LABEL_CLAIM', palette='muted').set_title('Train label 0 Vs. 1 clusters');\n",
    "#plt.ylim(-10, 20)\n",
    "#plt.xlim(-4, 14)"
   ]
  },
  {
   "cell_type": "markdown",
   "metadata": {},
   "source": [
    "=> 분포가 서로 겹치므로, classification 모델 학습이 용이하지 않을 것이 예상됨"
   ]
  },
  {
   "cell_type": "markdown",
   "metadata": {},
   "source": [
    "=> 문제 완화를 위한 한 가지 방법은 negative sampling"
   ]
  },
  {
   "cell_type": "markdown",
   "metadata": {},
   "source": [
    "#### Negative Sampling"
   ]
  },
  {
   "cell_type": "markdown",
   "metadata": {},
   "source": [
    "Train set 내의 claim samples의 자신들의 centroid로부터의 거리"
   ]
  },
  {
   "cell_type": "code",
   "execution_count": 56,
   "metadata": {},
   "outputs": [
    {
     "name": "stdout",
     "output_type": "stream",
     "text": [
      "196143346.32268798 31601672.720048115\n",
      "1171316    3.160167e+07\n",
      "1224830    3.167132e+07\n",
      "1224827    3.167132e+07\n",
      "490273     3.169137e+07\n",
      "576017     3.169266e+07\n",
      "               ...     \n",
      "646889     8.079998e+07\n",
      "338902     8.499837e+07\n",
      "1221477    1.849032e+08\n",
      "1221290    1.877137e+08\n",
      "1220830    1.961433e+08\n",
      "Name: DIST, Length: 236, dtype: float64\n",
      "236\n"
     ]
    },
    {
     "name": "stderr",
     "output_type": "stream",
     "text": [
      "/home/sookyoung.kim/.local/lib/python3.7/site-packages/ipykernel_launcher.py:13: SettingWithCopyWarning: \n",
      "A value is trying to be set on a copy of a slice from a DataFrame.\n",
      "Try using .loc[row_indexer,col_indexer] = value instead\n",
      "\n",
      "See the caveats in the documentation: https://pandas.pydata.org/pandas-docs/stable/user_guide/indexing.html#returning-a-view-versus-a-copy\n",
      "  del sys.path[0]\n",
      "/home/sookyoung.kim/.local/lib/python3.7/site-packages/ipykernel_launcher.py:19: SettingWithCopyWarning: \n",
      "A value is trying to be set on a copy of a slice from a DataFrame.\n",
      "Try using .loc[row_indexer,col_indexer] = value instead\n",
      "\n",
      "See the caveats in the documentation: https://pandas.pydata.org/pandas-docs/stable/user_guide/indexing.html#returning-a-view-versus-a-copy\n",
      "/home/sookyoung.kim/.local/lib/python3.7/site-packages/ipykernel_launcher.py:20: SettingWithCopyWarning: \n",
      "A value is trying to be set on a copy of a slice from a DataFrame.\n",
      "Try using .loc[row_indexer,col_indexer] = value instead\n",
      "\n",
      "See the caveats in the documentation: https://pandas.pydata.org/pandas-docs/stable/user_guide/indexing.html#returning-a-view-versus-a-copy\n",
      "/home/sookyoung.kim/.local/lib/python3.7/site-packages/ipykernel_launcher.py:21: SettingWithCopyWarning: \n",
      "A value is trying to be set on a copy of a slice from a DataFrame.\n",
      "Try using .loc[row_indexer,col_indexer] = value instead\n",
      "\n",
      "See the caveats in the documentation: https://pandas.pydata.org/pandas-docs/stable/user_guide/indexing.html#returning-a-view-versus-a-copy\n",
      "/home/sookyoung.kim/.local/lib/python3.7/site-packages/ipykernel_launcher.py:22: SettingWithCopyWarning: \n",
      "A value is trying to be set on a copy of a slice from a DataFrame.\n",
      "Try using .loc[row_indexer,col_indexer] = value instead\n",
      "\n",
      "See the caveats in the documentation: https://pandas.pydata.org/pandas-docs/stable/user_guide/indexing.html#returning-a-view-versus-a-copy\n"
     ]
    }
   ],
   "source": [
    "#from sklearn.neighbors.nearest_centroid import NearestCentroid\n",
    "import math\n",
    "\n",
    "list_dimensions = ['CX_TYPE', 'ETL_LOAD_DATE', 'RCPT_DTHM', 'CX_CNT']\n",
    "# Claim samples의 centroid 찾기\n",
    "list_train_claim_centroid = df_train_claim[list_dimensions].mean().to_list()\n",
    "train_claim_centroid = np.array(list_train_claim_centroid)\n",
    "#print(list_train_claim_centroid)\n",
    "#print(sum(list_train_claim_centroid) / len(list_train_claim_centroid))\n",
    "\n",
    "# Noclaim samples와의 거리 계산\n",
    "df_train_claim_dist = df_train_claim[list_dimensions]\n",
    "df_train_claim_dist['DIST'] = df_train_claim_dist.sub(train_claim_centroid, axis=1).pow(2).sum(axis=1).pow(.5)\n",
    "\n",
    "train_claim_dist_max = df_train_claim_dist['DIST'].max()\n",
    "train_claim_dist_min = df_train_claim_dist['DIST'].min()\n",
    "print(train_claim_dist_max, train_claim_dist_min)\n",
    "\n",
    "df_train_claim_dist['CUST_NO'] = df_train_claim['CUST_NO']\n",
    "df_train_claim_dist['CX_TYPE'] = df_train_claim['CX_TYPE']\n",
    "df_train_claim_dist['FLAG_TRAIN_INFER'] = df_train_claim['FLAG_TRAIN_INFER']\n",
    "df_train_claim_dist['LABEL_CLAIM'] = df_train_claim['LABEL_CLAIM']\n",
    "df_train_claim_dist['LABEL_CLAIM_INF'] = df_train_claim['LABEL_CLAIM_INF']\n",
    "df_train_claim_dist['RCPT_DTHM'] = df_train_claim['RCPT_DTHM']\n",
    "\n",
    "#df_train_claim_dist = df_train_claim_dist.sort_values(by=['DIST'], ascending=False)\n",
    "df_train_claim_dist = df_train_claim_dist.sort_values(by=['DIST'], ascending=True)\n",
    "print(df_train_claim_dist['DIST'])\n",
    "df_train_claim_dist.reset_index(drop=True, inplace=True)\n",
    "#df_train_claim_dist.drop(['DIST'], axis=1, inplace=True)\n",
    "\n",
    "# Down sampling noclaim\n",
    "len_train_claim = len(df_train_claim)\n",
    "print(len_train_claim)"
   ]
  },
  {
   "cell_type": "markdown",
   "metadata": {},
   "source": [
    "Train set 내의 noclaim samples의 claim samples centroid로부터의 거리"
   ]
  },
  {
   "cell_type": "code",
   "execution_count": 57,
   "metadata": {},
   "outputs": [
    {
     "name": "stderr",
     "output_type": "stream",
     "text": [
      "/home/sookyoung.kim/.local/lib/python3.7/site-packages/ipykernel_launcher.py:11: SettingWithCopyWarning: \n",
      "A value is trying to be set on a copy of a slice from a DataFrame.\n",
      "Try using .loc[row_indexer,col_indexer] = value instead\n",
      "\n",
      "See the caveats in the documentation: https://pandas.pydata.org/pandas-docs/stable/user_guide/indexing.html#returning-a-view-versus-a-copy\n",
      "  # This is added back by InteractiveShellApp.init_path()\n",
      "/home/sookyoung.kim/.local/lib/python3.7/site-packages/ipykernel_launcher.py:13: SettingWithCopyWarning: \n",
      "A value is trying to be set on a copy of a slice from a DataFrame.\n",
      "Try using .loc[row_indexer,col_indexer] = value instead\n",
      "\n",
      "See the caveats in the documentation: https://pandas.pydata.org/pandas-docs/stable/user_guide/indexing.html#returning-a-view-versus-a-copy\n",
      "  del sys.path[0]\n",
      "/home/sookyoung.kim/.local/lib/python3.7/site-packages/ipykernel_launcher.py:14: SettingWithCopyWarning: \n",
      "A value is trying to be set on a copy of a slice from a DataFrame.\n",
      "Try using .loc[row_indexer,col_indexer] = value instead\n",
      "\n",
      "See the caveats in the documentation: https://pandas.pydata.org/pandas-docs/stable/user_guide/indexing.html#returning-a-view-versus-a-copy\n",
      "  \n",
      "/home/sookyoung.kim/.local/lib/python3.7/site-packages/ipykernel_launcher.py:15: SettingWithCopyWarning: \n",
      "A value is trying to be set on a copy of a slice from a DataFrame.\n",
      "Try using .loc[row_indexer,col_indexer] = value instead\n",
      "\n",
      "See the caveats in the documentation: https://pandas.pydata.org/pandas-docs/stable/user_guide/indexing.html#returning-a-view-versus-a-copy\n",
      "  from ipykernel import kernelapp as app\n",
      "/home/sookyoung.kim/.local/lib/python3.7/site-packages/ipykernel_launcher.py:16: SettingWithCopyWarning: \n",
      "A value is trying to be set on a copy of a slice from a DataFrame.\n",
      "Try using .loc[row_indexer,col_indexer] = value instead\n",
      "\n",
      "See the caveats in the documentation: https://pandas.pydata.org/pandas-docs/stable/user_guide/indexing.html#returning-a-view-versus-a-copy\n",
      "  app.launch_new_instance()\n"
     ]
    },
    {
     "name": "stdout",
     "output_type": "stream",
     "text": [
      "598522     3.371785e+08\n",
      "618794     3.371770e+08\n",
      "293437     3.371769e+08\n",
      "449355     3.371746e+08\n",
      "789426     3.371732e+08\n",
      "               ...     \n",
      "177194     3.151037e+07\n",
      "1151103    3.151036e+07\n",
      "1152368    3.151036e+07\n",
      "1174318    3.151036e+07\n",
      "572565     3.151036e+07\n",
      "Name: DIST, Length: 451434, dtype: float64\n",
      "572565     3.151036e+07\n",
      "1174318    3.151036e+07\n",
      "1152368    3.151036e+07\n",
      "1151103    3.151036e+07\n",
      "177194     3.151037e+07\n",
      "               ...     \n",
      "789426     3.371732e+08\n",
      "449355     3.371746e+08\n",
      "293437     3.371769e+08\n",
      "618794     3.371770e+08\n",
      "598522     3.371785e+08\n",
      "Name: DIST, Length: 451434, dtype: float64\n",
      "236\n"
     ]
    }
   ],
   "source": [
    "import math\n",
    "\n",
    "### Euclidean distance\n",
    "\n",
    "# Claim samples의 centroid 찾기\n",
    "list_train_claim_centroid = df_train_claim[list_dimensions].mean().to_list()\n",
    "train_claim_centroid = np.array(list_train_claim_centroid)\n",
    "\n",
    "# Noclaim samples와의 거리 계산\n",
    "df_train_noclaim_dist = df_train_noclaim[list_dimensions]\n",
    "df_train_noclaim_dist['DIST'] = df_train_noclaim_dist.sub(train_claim_centroid, axis=1).pow(2).sum(axis=1).pow(.5)\n",
    "\n",
    "df_train_noclaim_dist['CUST_NO'] = df_train_noclaim['CUST_NO']\n",
    "df_train_noclaim_dist['CX_TYPE'] = df_train_noclaim['CX_TYPE']\n",
    "df_train_noclaim_dist['FLAG_TRAIN_INFER'] = df_train_noclaim['FLAG_TRAIN_INFER']\n",
    "df_train_noclaim_dist['LABEL_CLAIM'] = df_train_noclaim['LABEL_CLAIM']\n",
    "df_train_noclaim_dist['LABEL_CLAIM_INF'] = df_train_noclaim['LABEL_CLAIM_INF']\n",
    "df_train_noclaim_dist['RCPT_DTHM'] = df_train_noclaim['RCPT_DTHM']\n",
    "\n",
    "df_train_noclaim_dist_gt = df_train_noclaim_dist.sort_values(by=['DIST'], ascending=False)\n",
    "df_train_noclaim_dist_lt = df_train_noclaim_dist.sort_values(by=['DIST'], ascending=True)\n",
    "print(df_train_noclaim_dist_gt['DIST'])\n",
    "df_train_noclaim_dist_gt.reset_index(drop=True, inplace=True)\n",
    "print(df_train_noclaim_dist_lt['DIST'])\n",
    "df_train_noclaim_dist_lt.reset_index(drop=True, inplace=True)\n",
    "\n",
    "# Down sampling noclaim\n",
    "len_train_claim = len(df_train_claim)\n",
    "print(len_train_claim)\n",
    "\n",
    "if 1:\n",
    "    df_train_noclaim_undersamples_lt = df_train_noclaim_dist_lt.iloc[0:round(len_train_claim*2.5),:]\n",
    "    df_train_noclaim_undersamples_gt = df_train_noclaim_dist_gt.iloc[0:round(len_train_claim*2.5),:]\n",
    "else:\n",
    "    cond_tmp = df_train_noclaim_dist.loc[:, 'DIST'] < train_claim_dist_min\n",
    "    df_train_noclaim_undersamples_lt = \\\n",
    "        df_train_noclaim_dist.loc[cond_tmp, :].sort_values(by=['DIST'], ascending=False).iloc[0:round(len_train_claim*1.5),:]\n",
    "    cond_tmp = df_train_noclaim_dist.loc[:, 'DIST'] > train_claim_dist_max\n",
    "    df_train_noclaim_undersamples_gt = \\\n",
    "        df_train_noclaim_dist.loc[cond_tmp, :].sort_values(by=['DIST'], ascending=True).iloc[0:round(len_train_claim*1.5),:]\n",
    "\n",
    "df_train_noclaim_undersamples = pd.concat([df_train_noclaim_undersamples_lt, df_train_noclaim_undersamples_gt], ignore_index=True)\n",
    "\n",
    "df_train_noclaim_undersamples.drop(['DIST'], axis=1, inplace=True)\n",
    "\n",
    "# Make up the train set\n",
    "df_train_undersamples = pd.concat([df_train_claim, df_train_noclaim_undersamples], ignore_index=True)\n",
    "#print(df_train_noclaim_undersamples)\n",
    "#print(df_train_undersamples)\n",
    "#df_train_undersamples.to_csv('vectors_CUST_NO_under.csv')"
   ]
  },
  {
   "cell_type": "markdown",
   "metadata": {},
   "source": [
    "### 5. Light GBM model learning"
   ]
  },
  {
   "cell_type": "code",
   "execution_count": 58,
   "metadata": {},
   "outputs": [
    {
     "data": {
      "text/html": [
       "<div>\n",
       "<style scoped>\n",
       "    .dataframe tbody tr th:only-of-type {\n",
       "        vertical-align: middle;\n",
       "    }\n",
       "\n",
       "    .dataframe tbody tr th {\n",
       "        vertical-align: top;\n",
       "    }\n",
       "\n",
       "    .dataframe thead th {\n",
       "        text-align: right;\n",
       "    }\n",
       "</style>\n",
       "<table border=\"1\" class=\"dataframe\">\n",
       "  <thead>\n",
       "    <tr style=\"text-align: right;\">\n",
       "      <th></th>\n",
       "      <th>CUST_NO</th>\n",
       "      <th>CX_ID</th>\n",
       "      <th>CX_TYPE</th>\n",
       "      <th>ETL_LOAD_DATE</th>\n",
       "      <th>RCPT_DTHM</th>\n",
       "      <th>LABEL_CLAIM</th>\n",
       "      <th>LABEL_CLAIM_INF</th>\n",
       "      <th>FLAG_TRAIN_INFER</th>\n",
       "      <th>CX_CNT</th>\n",
       "    </tr>\n",
       "  </thead>\n",
       "  <tbody>\n",
       "    <tr>\n",
       "      <th>0</th>\n",
       "      <td>C001486251</td>\n",
       "      <td>B001014711</td>\n",
       "      <td>3</td>\n",
       "      <td>20230404014334</td>\n",
       "      <td>20230331154100</td>\n",
       "      <td>1</td>\n",
       "      <td>0</td>\n",
       "      <td>1</td>\n",
       "      <td>9</td>\n",
       "    </tr>\n",
       "    <tr>\n",
       "      <th>1</th>\n",
       "      <td>C001769715</td>\n",
       "      <td>B001013751</td>\n",
       "      <td>3</td>\n",
       "      <td>20230331013912</td>\n",
       "      <td>20230329165900</td>\n",
       "      <td>1</td>\n",
       "      <td>0</td>\n",
       "      <td>1</td>\n",
       "      <td>4</td>\n",
       "    </tr>\n",
       "    <tr>\n",
       "      <th>2</th>\n",
       "      <td>C002411644</td>\n",
       "      <td>B001012975</td>\n",
       "      <td>3</td>\n",
       "      <td>20230330035401</td>\n",
       "      <td>20230328100700</td>\n",
       "      <td>1</td>\n",
       "      <td>0</td>\n",
       "      <td>1</td>\n",
       "      <td>2</td>\n",
       "    </tr>\n",
       "    <tr>\n",
       "      <th>3</th>\n",
       "      <td>C005151581</td>\n",
       "      <td>B001014132</td>\n",
       "      <td>3</td>\n",
       "      <td>20230401014008</td>\n",
       "      <td>20230330123300</td>\n",
       "      <td>1</td>\n",
       "      <td>0</td>\n",
       "      <td>1</td>\n",
       "      <td>5</td>\n",
       "    </tr>\n",
       "    <tr>\n",
       "      <th>4</th>\n",
       "      <td>C007322387</td>\n",
       "      <td>N3301041FV</td>\n",
       "      <td>1</td>\n",
       "      <td>20230405053654</td>\n",
       "      <td>20230330104100</td>\n",
       "      <td>1</td>\n",
       "      <td>0</td>\n",
       "      <td>1</td>\n",
       "      <td>8</td>\n",
       "    </tr>\n",
       "  </tbody>\n",
       "</table>\n",
       "</div>"
      ],
      "text/plain": [
       "      CUST_NO       CX_ID  CX_TYPE   ETL_LOAD_DATE       RCPT_DTHM  \\\n",
       "0  C001486251  B001014711        3  20230404014334  20230331154100   \n",
       "1  C001769715  B001013751        3  20230331013912  20230329165900   \n",
       "2  C002411644  B001012975        3  20230330035401  20230328100700   \n",
       "3  C005151581  B001014132        3  20230401014008  20230330123300   \n",
       "4  C007322387  N3301041FV        1  20230405053654  20230330104100   \n",
       "\n",
       "   LABEL_CLAIM  LABEL_CLAIM_INF  FLAG_TRAIN_INFER  CX_CNT  \n",
       "0            1                0                 1       9  \n",
       "1            1                0                 1       4  \n",
       "2            1                0                 1       2  \n",
       "3            1                0                 1       5  \n",
       "4            1                0                 1       8  "
      ]
     },
     "execution_count": 58,
     "metadata": {},
     "output_type": "execute_result"
    }
   ],
   "source": [
    "df_train_undersamples.head()"
   ]
  },
  {
   "cell_type": "code",
   "execution_count": 63,
   "metadata": {},
   "outputs": [],
   "source": [
    "import lightgbm as lgbm\n",
    "from sklearn.model_selection import train_test_split\n",
    "from sklearn import metrics\n",
    "\n",
    "#x = df_train[list_dimensions]\n",
    "#y = df_train[['LABEL_CLAIM']]\n",
    "x = df_train_undersamples[list_dimensions]\n",
    "y = df_train_undersamples[['LABEL_CLAIM']]\n",
    "\n",
    "x_train, x_test, y_train, y_test = train_test_split(x, y, train_size=0.99, test_size=0.01)\n",
    "\n",
    "# Ensemble - Boosting - Random forest classification\n",
    "lgbm_train_ds = lgbm.Dataset(x_train, label=y_train)\n",
    "lgbm_test_ds = lgbm.Dataset(x_test, label=y_test)\n",
    "#'''\n",
    "lgbm_params = {\n",
    "    'verbose': -1,\n",
    "    'learning_rate': 0.01,\n",
    "    'max_depth': 12,\n",
    "    'num_leaves': 12,\n",
    "    'objective': 'binary',\n",
    "    'metric': 'mae',\n",
    "    'boosting': 'gbdt',\n",
    "}\n",
    "#'''\n",
    "'''\n",
    "lgbm_params = {\n",
    "    'verbose': -1,\n",
    "    'learning_rate': 0.01,\n",
    "    'max_depth': 31,\n",
    "    'num_leaves': 31,\n",
    "    'objective': 'regression',\n",
    "    'metric': 'mae',\n",
    "    'boosting': 'gbdt',\n",
    "}\n",
    "'''\n",
    "\n",
    "lgbm_model = lgbm.train(params=lgbm_params,\n",
    "                        train_set=lgbm_train_ds,\n",
    "                        #num_boost_round=10000,\n",
    "                        num_boost_round=5000,\n",
    "                        valid_sets=lgbm_test_ds,\n",
    "                        #verbose_eval=False,  # True, False, or a number\n",
    "                        #early_stopping_rounds=1000,\n",
    "                        )\n",
    "\n",
    "df_fit = df1_infer.loc[:, list_dimensions]\n",
    "\n",
    "df_fit.loc[:, 'LABEL_CLAIM_PRED'] = lgbm_model.predict(df_fit)"
   ]
  },
  {
   "cell_type": "code",
   "execution_count": 64,
   "metadata": {},
   "outputs": [
    {
     "name": "stderr",
     "output_type": "stream",
     "text": [
      "IOPub data rate exceeded.\n",
      "The notebook server will temporarily stop sending output\n",
      "to the client in order to avoid crashing it.\n",
      "To change this limit, set the config variable\n",
      "`--NotebookApp.iopub_data_rate_limit`.\n",
      "\n",
      "Current values:\n",
      "NotebookApp.iopub_data_rate_limit=1000000.0 (bytes/sec)\n",
      "NotebookApp.rate_limit_window=3.0 (secs)\n",
      "\n"
     ]
    },
    {
     "name": "stdout",
     "output_type": "stream",
     "text": [
      "              precision    recall  f1-score   support\n",
      "\n",
      "           0       1.00      0.20      0.33    451564\n",
      "           1       0.00      0.98      0.00       106\n",
      "\n",
      "    accuracy                           0.20    451670\n",
      "   macro avg       0.50      0.59      0.17    451670\n",
      "weighted avg       1.00      0.20      0.33    451670\n",
      "\n",
      "[[ 90333 361231]\n",
      " [     2    104]]\n"
     ]
    }
   ],
   "source": [
    "from sklearn.metrics import classification_report\n",
    "\n",
    "df_fit['LABEL_CLAIM'] = df1_infer.loc[:, 'LABEL_CLAIM_INF']\n",
    "\n",
    "y_true = df_fit['LABEL_CLAIM'].to_list()\n",
    "#print(y_true)\n",
    "y_pred = df_fit['LABEL_CLAIM_PRED'].to_list()\n",
    "print(y_pred)\n",
    "\n",
    "df_fit.loc[:, 'LABEL_CLAIM_PRED_ROUND'] = 0\n",
    "cond_tmp = df_fit.loc[:, 'LABEL_CLAIM_PRED'] >= 0.5\n",
    "df_fit.loc[cond_tmp, 'LABEL_CLAIM_PRED_ROUND'] = 1\n",
    "y_pred = df_fit['LABEL_CLAIM_PRED_ROUND'].to_list()\n",
    "\n",
    "#print(classification_report(y_true, y_pred, target_names=[0, 1]))\n",
    "print(classification_report(y_true, y_pred))\n",
    "\n",
    "confusion_matrix = metrics.confusion_matrix(y_true, y_pred)\n",
    "print(confusion_matrix)\n",
    "\n",
    "#print(metrics.f1_score(y_true, y_pred, average='macro'))\n",
    "#print(metrics.f1_score(y_true, y_pred, average='micro'))\n",
    "#print(metrics.f1_score(y_true, y_pred, average='weighted'))"
   ]
  },
  {
   "cell_type": "code",
   "execution_count": 65,
   "metadata": {},
   "outputs": [
    {
     "name": "stderr",
     "output_type": "stream",
     "text": [
      "IOPub data rate exceeded.\n",
      "The notebook server will temporarily stop sending output\n",
      "to the client in order to avoid crashing it.\n",
      "To change this limit, set the config variable\n",
      "`--NotebookApp.iopub_data_rate_limit`.\n",
      "\n",
      "Current values:\n",
      "NotebookApp.iopub_data_rate_limit=1000000.0 (bytes/sec)\n",
      "NotebookApp.rate_limit_window=3.0 (secs)\n",
      "\n"
     ]
    },
    {
     "name": "stdout",
     "output_type": "stream",
     "text": [
      "              precision    recall  f1-score   support\n",
      "\n",
      "           0       1.00      0.20      0.34    451564\n",
      "           1       0.00      0.98      0.00       106\n",
      "\n",
      "    accuracy                           0.20    451670\n",
      "   macro avg       0.50      0.59      0.17    451670\n",
      "weighted avg       1.00      0.20      0.34    451670\n",
      "\n",
      "[[ 91021 360543]\n",
      " [     2    104]]\n"
     ]
    }
   ],
   "source": [
    "from sklearn.metrics import classification_report\n",
    "\n",
    "df_fit['LABEL_CLAIM'] = df1_infer.loc[:, 'LABEL_CLAIM_INF']\n",
    "\n",
    "y_true = df_fit['LABEL_CLAIM'].to_list()\n",
    "#print(y_true)\n",
    "y_pred = df_fit['LABEL_CLAIM_PRED'].to_list()\n",
    "print(y_pred)\n",
    "\n",
    "df_fit.loc[:, 'LABEL_CLAIM_PRED_ROUND'] = 0\n",
    "cond_tmp = df_fit.loc[:, 'LABEL_CLAIM_PRED'] >= 0.99\n",
    "df_fit.loc[cond_tmp, 'LABEL_CLAIM_PRED_ROUND'] = 1\n",
    "y_pred = df_fit['LABEL_CLAIM_PRED_ROUND'].to_list()\n",
    "\n",
    "#print(classification_report(y_true, y_pred, target_names=[0, 1]))\n",
    "print(classification_report(y_true, y_pred))\n",
    "\n",
    "confusion_matrix = metrics.confusion_matrix(y_true, y_pred)\n",
    "print(confusion_matrix)\n",
    "\n",
    "#print(metrics.f1_score(y_true, y_pred, average='macro'))\n",
    "#print(metrics.f1_score(y_true, y_pred, average='micro'))\n",
    "#print(metrics.f1_score(y_true, y_pred, average='weighted'))"
   ]
  },
  {
   "cell_type": "markdown",
   "metadata": {},
   "source": [
    "### 6. Neo4j Graph Embedding을 위한 Graph 설계 및 각 node table 생성\n",
    "- Neo4j는 node마다 하나씩의 csv file이 필요함"
   ]
  },
  {
   "cell_type": "code",
   "execution_count": null,
   "metadata": {},
   "outputs": [],
   "source": [
    "# CX node\n",
    "df_cx = df.copy()\n",
    "df_cx.to_csv('node_CX.csv', index=False)"
   ]
  },
  {
   "cell_type": "code",
   "execution_count": null,
   "metadata": {},
   "outputs": [],
   "source": [
    "# CUST_NO node\n",
    "df_cust_no = pd.DataFrame(columns=['CUST_NO'])\n",
    "df_cust_no['CUST_NO'] = df_cx['CUST_NO']\n",
    "df_cust_no['LABEL_CLAIM_NEXT'] = df_cx['LABEL_CLAIM_NEXT']\n",
    "df_cust_no['LABEL_CLAIM_FUTURE'] = df_cx['LABEL_CLAIM_FUTURE']\n",
    "df_cust_no['LABEL_CLAIM'] = df_cx['LABEL_CLAIM']\n",
    "df_cust_no['LABEL_CLAIM_INF'] = df_cx['LABEL_CLAIM_INF']\n",
    "df_cust_no['FLAG_TRAIN_INFER'] = df_cx['FLAG_TRAIN_INFER']\n",
    "df_cust_no.dropna(how='any', axis=0, inplace=True)\n",
    "df_cust_no.drop_duplicates(['CUST_NO'], keep='last', inplace=True)\n",
    "df_cust_no['CUST_NO'] = df_cust_no['CUST_NO'].map(str)  # 아래 sort_value() 시, int와 str 간 비교 불가하므로.\n",
    "df_cust_no.sort_values(by=['CUST_NO'], axis='index', ascending=True, inplace=True)\n",
    "df_cust_no.reset_index(inplace=True)\n",
    "df_cust_no.drop(['index'], axis=1, inplace=True)  # index column 제거\n",
    "df_cust_no.to_csv('node_'+'CUST_NO'+'.csv', index=False)\n",
    "del [[df_cust_no]]"
   ]
  },
  {
   "cell_type": "code",
   "execution_count": null,
   "metadata": {},
   "outputs": [],
   "source": [
    "## CX_TYPE node, 고객 정보 nodes, 제품 정보 nodes, 고객 경험 정보 nodes\n",
    "list_name = [\n",
    "    'CX_TYPE',\n",
    "    #'CUST_NO',\n",
    "    'CUST_TYPE',\n",
    "    'VIP_CUST_TYPE',\n",
    "    'VIP_GRADE',\n",
    "    'SERIAL_NO',\n",
    "    'MODEL_CODE',\n",
    "    'PRODUCT_CODE',\n",
    "    'CO_RCPT_CHANNEL',\n",
    "    'CO_RCPT_USER_ID',\n",
    "    'CO_RCPT_DEPT_CODE',\n",
    "    'CO_RCPT_WTY_TYPE',\n",
    "    'CO_COUNS_LARGE_CLASS',\n",
    "    'CO_COUNS_MID_CLASS',\n",
    "    'CO_COUNS_SMALL_CLASS',\n",
    "    'CO_COUNS_STAT',\n",
    "    'RP_RCPT_DEPT_TYPE',\n",
    "    'RP_RCPT_USER_ID',\n",
    "    'RP_REPAIR_SE_ID',\n",
    "    'RP_RCPT_TYPE',\n",
    "    'RP_RCPT_WTY_TYPE',\n",
    "    'RP_RCPT_SYMP_CODE',\n",
    "    'RP_RCPT_SUB_SYMP_CODE',\n",
    "    'RP_FAIL_CODE_GROUP',\n",
    "    'RP_FAIL_LARGE_CLASS',\n",
    "    'RP_FAIL_MID_CLASS',\n",
    "    'RP_FAIL_REASON_CODE',\n",
    "    'RP_FAIL_TYPE',\n",
    "    'RP_REPAIR_WTY_TYPE',\n",
    "    'RP_TOTAL_FEE_AMT',\n",
    "    'RP_TOTAL_AMT',\n",
    "    'RP_STATUS',\n",
    "    'RP_UNSATIS_ETD_TYPE1',\n",
    "    'RP_UNSATIS_ETD_TYPE2',\n",
    "    'RP_RE_REPAIR_TYPE',\n",
    "    'EX_AGENT_CODE',\n",
    "    'EX_CAUSE_CODE',\n",
    "    'EX_BUY_FACTOR_CODE',\n",
    "    'EX_EXCHANGE_ORDER_TYPE',\n",
    "    'EX_COMPLETE_YN',\n",
    "    'CL_CLAIM_RCPT_CHANNEL',\n",
    "    'CL_CLAIM_RCPT_TYPE',\n",
    "    'CL_RCPT_DEPT_CODE',\n",
    "    'CL_RCPT_USER_ID',\n",
    "    'CL_CLAIM_TYPE',\n",
    "    'CL_CLAIM_LARGE_CLASS',\n",
    "    'CL_CLAIM_MID_CLASS',\n",
    "    'CL_CLAIM_SMALL_CLASS',\n",
    "    #'CL_SYMP_CODE',  # 전부 Null\n",
    "    #'CL_DETAIL_SYMP_CODE',  # 전부 Null\n",
    "    'CL_TGET_SECTION',\n",
    "    'CL_TGET_DEPT_CODE',\n",
    "    'CL_CUST_REQ_TYPE',\n",
    "    'CL_PRCS_TYPE',\n",
    "    'CL_CLAIM_WTY_TYPE',\n",
    "    'CL_CLAIM_STATUS',\n",
    "    #'CL_SATIS_TYPE',  # 전부 Null\n",
    "]\n",
    "\n",
    "for nm in list_name:\n",
    "    print(nm)\n",
    "    df_nm = pd.DataFrame(columns=[nm])\n",
    "    df_nm[nm] = df_cx[nm]\n",
    "    df_nm['LABEL_CLAIM_NEXT'] = df_cx['LABEL_CLAIM_NEXT']\n",
    "    df_nm['LABEL_CLAIM_FUTURE'] = df_cx['LABEL_CLAIM_FUTURE']\n",
    "    df_nm['LABEL_CLAIM'] = df_cx['LABEL_CLAIM']\n",
    "    df_nm['LABEL_CLAIM_INF'] = df_cx['LABEL_CLAIM_INF']\n",
    "    df_nm['FLAG_TRAIN_INFER'] = df_cx['FLAG_TRAIN_INFER']\n",
    "    df_nm.dropna(how='any', axis=0, inplace=True)\n",
    "    df_nm.drop_duplicates([nm], keep='last', inplace=True)\n",
    "    df_nm[nm] = df_nm[nm].map(str)  # 아래 sort_value() 시, int와 str 간 비교 불가하므로.\n",
    "    df_nm.sort_values(by=[nm], axis='index', ascending=True, inplace=True)\n",
    "    df_nm.reset_index(inplace=True)\n",
    "    df_nm.drop(['index'], axis=1, inplace=True)  # index column 제거\n",
    "    df_nm.to_csv('node_'+nm+'.csv', index=False)\n",
    "    del [[df_nm]]"
   ]
  },
  {
   "cell_type": "markdown",
   "metadata": {},
   "source": [
    "생성된 node_*.csv들을 neo4j-community-4.4.4/import/ 에 복사한다"
   ]
  },
  {
   "cell_type": "markdown",
   "metadata": {},
   "source": [
    "그리고 experiment_2.ipynb를 수행해 node CUST_NO에 대해 embedding하고 vector를 생성한다"
   ]
  },
  {
   "cell_type": "code",
   "execution_count": null,
   "metadata": {},
   "outputs": [],
   "source": []
  }
 ],
 "metadata": {
  "kernelspec": {
   "display_name": "Python 3",
   "language": "python",
   "name": "python3"
  },
  "language_info": {
   "codemirror_mode": {
    "name": "ipython",
    "version": 3
   },
   "file_extension": ".py",
   "mimetype": "text/x-python",
   "name": "python",
   "nbconvert_exporter": "python",
   "pygments_lexer": "ipython3",
   "version": "3.7.4"
  }
 },
 "nbformat": 4,
 "nbformat_minor": 5
}
