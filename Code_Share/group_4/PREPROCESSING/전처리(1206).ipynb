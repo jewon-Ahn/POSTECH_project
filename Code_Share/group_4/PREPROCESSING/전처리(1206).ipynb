{
 "cells": [
  {
   "cell_type": "code",
   "execution_count": 32,
   "metadata": {},
   "outputs": [],
   "source": [
    "import pandas as pd\n",
    "import numpy as np\n",
    "import pyarrow as pa\n",
    "import pyarrow.parquet as pq\n",
    "import matplotlib.pyplot as plt\n",
    "import ast\n",
    "from scipy.stats import ttest_ind\n",
    "import seaborn as sns"
   ]
  },
  {
   "cell_type": "code",
   "execution_count": 33,
   "metadata": {},
   "outputs": [
    {
     "name": "stdout",
     "output_type": "stream",
     "text": [
      "(13881284, 71)\n"
     ]
    }
   ],
   "source": [
    "parquet_file = 'C:/Users/jjccyy9741/OneDrive - postech.ac.kr/바탕 화면/LG/데이터/postech_company_project.parquet'\n",
    "# Parquet 파일 열기\n",
    "table = pq.read_table(parquet_file)\n",
    "\n",
    "# Table에서 데이터를 DataFrame으로 변환\n",
    "data = table.to_pandas()\n",
    "print(data.shape)"
   ]
  },
  {
   "cell_type": "code",
   "execution_count": 34,
   "metadata": {},
   "outputs": [
    {
     "name": "stdout",
     "output_type": "stream",
     "text": [
      "(13881284, 27)\n"
     ]
    }
   ],
   "source": [
    "data = data[['MONTH_YYYYMM', 'RECLAIM_PERIOD',\n",
    "       'SUBSIDIARY_NAME', 'CAPTIVE_CHANNEL_FLAG', 'COMPANY_CODE',\n",
    "       'DIVISION_NAME', 'MODEL_CODE', 'PARTS_NO1', 'PARTS_NO2', 'PARTS_NO3',\n",
    "       'PARTS_NO4', 'PARTS_NO5', 'RECEIPT_SYMPTOM','CENTER_CODE', \n",
    "       'PREV_CENTER_CODE', 'PRODUCT_NAME','RECLAIM', 'WARRANTY_TYPE', 'PREV_WARRANTY_TYPE',\n",
    "       'SVC_TYPE', 'PREV_SVC_TYPE', 'ENGINEER_CODE', 'PREV_ENGINEER_CODE','ENGINEER_REPAIR', 'PREV_ENGINEER_SYMPTOM','MULTICLAIM','PREV_RECEIPT_SYMPTOM']]\n",
    "\n",
    "print(data.shape)"
   ]
  },
  {
   "cell_type": "markdown",
   "metadata": {},
   "source": [
    "# MONTH_YYYYMM 컬럼 전처리\n",
    "- yyyymm -> mm  꼴로 변경"
   ]
  },
  {
   "cell_type": "code",
   "execution_count": 35,
   "metadata": {},
   "outputs": [
    {
     "data": {
      "text/html": [
       "<div>\n",
       "<style scoped>\n",
       "    .dataframe tbody tr th:only-of-type {\n",
       "        vertical-align: middle;\n",
       "    }\n",
       "\n",
       "    .dataframe tbody tr th {\n",
       "        vertical-align: top;\n",
       "    }\n",
       "\n",
       "    .dataframe thead th {\n",
       "        text-align: right;\n",
       "    }\n",
       "</style>\n",
       "<table border=\"1\" class=\"dataframe\">\n",
       "  <thead>\n",
       "    <tr style=\"text-align: right;\">\n",
       "      <th></th>\n",
       "      <th>MONTH_YYYYMM</th>\n",
       "      <th>RECLAIM_PERIOD</th>\n",
       "      <th>SUBSIDIARY_NAME</th>\n",
       "      <th>CAPTIVE_CHANNEL_FLAG</th>\n",
       "      <th>COMPANY_CODE</th>\n",
       "      <th>DIVISION_NAME</th>\n",
       "      <th>MODEL_CODE</th>\n",
       "      <th>PARTS_NO1</th>\n",
       "      <th>PARTS_NO2</th>\n",
       "      <th>PARTS_NO3</th>\n",
       "      <th>...</th>\n",
       "      <th>WARRANTY_TYPE</th>\n",
       "      <th>PREV_WARRANTY_TYPE</th>\n",
       "      <th>SVC_TYPE</th>\n",
       "      <th>PREV_SVC_TYPE</th>\n",
       "      <th>ENGINEER_CODE</th>\n",
       "      <th>PREV_ENGINEER_CODE</th>\n",
       "      <th>ENGINEER_REPAIR</th>\n",
       "      <th>PREV_ENGINEER_SYMPTOM</th>\n",
       "      <th>MULTICLAIM</th>\n",
       "      <th>PREV_RECEIPT_SYMPTOM</th>\n",
       "    </tr>\n",
       "  </thead>\n",
       "  <tbody>\n",
       "    <tr>\n",
       "      <th>0</th>\n",
       "      <td>01</td>\n",
       "      <td>47.0</td>\n",
       "      <td>LGEAI</td>\n",
       "      <td>Non Captive</td>\n",
       "      <td>HE</td>\n",
       "      <td>LTV</td>\n",
       "      <td>OLED65C7P</td>\n",
       "      <td>LGE_PARTS_993</td>\n",
       "      <td>LGE_PARTS_18111</td>\n",
       "      <td>LGE_PARTS_20442</td>\n",
       "      <td>...</td>\n",
       "      <td>IW</td>\n",
       "      <td>IW</td>\n",
       "      <td>IH</td>\n",
       "      <td>IH</td>\n",
       "      <td>LGE_ENG_0</td>\n",
       "      <td>LGE_ENG_0</td>\n",
       "      <td>Part replaced-electrical (ref#)</td>\n",
       "      <td>Image Retention</td>\n",
       "      <td>2</td>\n",
       "      <td>Power</td>\n",
       "    </tr>\n",
       "    <tr>\n",
       "      <th>1</th>\n",
       "      <td>01</td>\n",
       "      <td>10.0</td>\n",
       "      <td>LGEAI</td>\n",
       "      <td>Non Captive</td>\n",
       "      <td>HE</td>\n",
       "      <td>LTV</td>\n",
       "      <td>65UN6955ZUF</td>\n",
       "      <td>LGE_PARTS_4492</td>\n",
       "      <td>None</td>\n",
       "      <td>None</td>\n",
       "      <td>...</td>\n",
       "      <td>IW</td>\n",
       "      <td>IW</td>\n",
       "      <td>IH</td>\n",
       "      <td>IH</td>\n",
       "      <td>LGE_ENG_1</td>\n",
       "      <td>LGE_ENG_1</td>\n",
       "      <td>Exchange-PC Board</td>\n",
       "      <td>No indication of power and totally inoperative...</td>\n",
       "      <td>2</td>\n",
       "      <td>Audio</td>\n",
       "    </tr>\n",
       "    <tr>\n",
       "      <th>2</th>\n",
       "      <td>01</td>\n",
       "      <td>30.0</td>\n",
       "      <td>LGEAI</td>\n",
       "      <td>Non Captive</td>\n",
       "      <td>HE</td>\n",
       "      <td>LTV</td>\n",
       "      <td>50UN7300AUD</td>\n",
       "      <td>LGE_PARTS_15608</td>\n",
       "      <td>None</td>\n",
       "      <td>None</td>\n",
       "      <td>...</td>\n",
       "      <td>IW</td>\n",
       "      <td>IW</td>\n",
       "      <td>IH</td>\n",
       "      <td>IH</td>\n",
       "      <td>LGE_ENG_2</td>\n",
       "      <td>LGE_ENG_2</td>\n",
       "      <td>Part replaced-electrical (ref#)</td>\n",
       "      <td>No indication of power and totally inoperative...</td>\n",
       "      <td>2</td>\n",
       "      <td>Power</td>\n",
       "    </tr>\n",
       "    <tr>\n",
       "      <th>3</th>\n",
       "      <td>01</td>\n",
       "      <td>39.0</td>\n",
       "      <td>LGEAI</td>\n",
       "      <td>Non Captive</td>\n",
       "      <td>HE</td>\n",
       "      <td>LTV</td>\n",
       "      <td>70UP7070PUE</td>\n",
       "      <td>LGE_PARTS_9199</td>\n",
       "      <td>None</td>\n",
       "      <td>None</td>\n",
       "      <td>...</td>\n",
       "      <td>IW</td>\n",
       "      <td>IW</td>\n",
       "      <td>IH</td>\n",
       "      <td>IH</td>\n",
       "      <td>LGE_ENG_3</td>\n",
       "      <td>LGE_ENG_3</td>\n",
       "      <td>Part replaced-electrical (ref#)</td>\n",
       "      <td>No indication of power and totally inoperative...</td>\n",
       "      <td>2</td>\n",
       "      <td>Power</td>\n",
       "    </tr>\n",
       "    <tr>\n",
       "      <th>4</th>\n",
       "      <td>01</td>\n",
       "      <td>5.0</td>\n",
       "      <td>LGEAI</td>\n",
       "      <td>Non Captive</td>\n",
       "      <td>HE</td>\n",
       "      <td>LTV</td>\n",
       "      <td>OLED77CXAUA</td>\n",
       "      <td>LGE_PARTS_15413</td>\n",
       "      <td>None</td>\n",
       "      <td>None</td>\n",
       "      <td>...</td>\n",
       "      <td>IW</td>\n",
       "      <td>IW</td>\n",
       "      <td>IH</td>\n",
       "      <td>IH</td>\n",
       "      <td>LGE_ENG_4</td>\n",
       "      <td>LGE_ENG_4</td>\n",
       "      <td>Part replaced-electrical (ref#)</td>\n",
       "      <td>No indication of power and totally inoperative...</td>\n",
       "      <td>2</td>\n",
       "      <td>Power</td>\n",
       "    </tr>\n",
       "  </tbody>\n",
       "</table>\n",
       "<p>5 rows × 27 columns</p>\n",
       "</div>"
      ],
      "text/plain": [
       "  MONTH_YYYYMM  RECLAIM_PERIOD SUBSIDIARY_NAME CAPTIVE_CHANNEL_FLAG  \\\n",
       "0           01            47.0           LGEAI          Non Captive   \n",
       "1           01            10.0           LGEAI          Non Captive   \n",
       "2           01            30.0           LGEAI          Non Captive   \n",
       "3           01            39.0           LGEAI          Non Captive   \n",
       "4           01             5.0           LGEAI          Non Captive   \n",
       "\n",
       "  COMPANY_CODE DIVISION_NAME   MODEL_CODE        PARTS_NO1        PARTS_NO2  \\\n",
       "0           HE           LTV    OLED65C7P    LGE_PARTS_993  LGE_PARTS_18111   \n",
       "1           HE           LTV  65UN6955ZUF   LGE_PARTS_4492             None   \n",
       "2           HE           LTV  50UN7300AUD  LGE_PARTS_15608             None   \n",
       "3           HE           LTV  70UP7070PUE   LGE_PARTS_9199             None   \n",
       "4           HE           LTV  OLED77CXAUA  LGE_PARTS_15413             None   \n",
       "\n",
       "         PARTS_NO3  ... WARRANTY_TYPE PREV_WARRANTY_TYPE SVC_TYPE  \\\n",
       "0  LGE_PARTS_20442  ...            IW                 IW       IH   \n",
       "1             None  ...            IW                 IW       IH   \n",
       "2             None  ...            IW                 IW       IH   \n",
       "3             None  ...            IW                 IW       IH   \n",
       "4             None  ...            IW                 IW       IH   \n",
       "\n",
       "  PREV_SVC_TYPE ENGINEER_CODE PREV_ENGINEER_CODE  \\\n",
       "0            IH     LGE_ENG_0          LGE_ENG_0   \n",
       "1            IH     LGE_ENG_1          LGE_ENG_1   \n",
       "2            IH     LGE_ENG_2          LGE_ENG_2   \n",
       "3            IH     LGE_ENG_3          LGE_ENG_3   \n",
       "4            IH     LGE_ENG_4          LGE_ENG_4   \n",
       "\n",
       "                   ENGINEER_REPAIR  \\\n",
       "0  Part replaced-electrical (ref#)   \n",
       "1                Exchange-PC Board   \n",
       "2  Part replaced-electrical (ref#)   \n",
       "3  Part replaced-electrical (ref#)   \n",
       "4  Part replaced-electrical (ref#)   \n",
       "\n",
       "                               PREV_ENGINEER_SYMPTOM MULTICLAIM  \\\n",
       "0                                    Image Retention          2   \n",
       "1  No indication of power and totally inoperative...          2   \n",
       "2  No indication of power and totally inoperative...          2   \n",
       "3  No indication of power and totally inoperative...          2   \n",
       "4  No indication of power and totally inoperative...          2   \n",
       "\n",
       "  PREV_RECEIPT_SYMPTOM  \n",
       "0                Power  \n",
       "1                Audio  \n",
       "2                Power  \n",
       "3                Power  \n",
       "4                Power  \n",
       "\n",
       "[5 rows x 27 columns]"
      ]
     },
     "execution_count": 35,
     "metadata": {},
     "output_type": "execute_result"
    }
   ],
   "source": [
    "# 'MONTH_YYYYMM' 컬럼의 값을 변경\n",
    "data['MONTH_YYYYMM'] = data['MONTH_YYYYMM'].astype(str).str[4:]\n",
    "\n",
    "data.head()"
   ]
  },
  {
   "cell_type": "code",
   "execution_count": 36,
   "metadata": {},
   "outputs": [],
   "source": [
    "df = data.copy()"
   ]
  },
  {
   "cell_type": "markdown",
   "metadata": {},
   "source": [
    "# ENGINEER_REPAIR 빈도 상위 10000개의 값을 갖는 관측치만 선별"
   ]
  },
  {
   "cell_type": "code",
   "execution_count": 41,
   "metadata": {},
   "outputs": [
    {
     "name": "stdout",
     "output_type": "stream",
     "text": [
      "(9631657, 27)\n"
     ]
    }
   ],
   "source": [
    "# 'ENGINNER_REPAIR' 컬럼의 빈도 확인\n",
    "repair_counts = df['ENGINEER_REPAIR'].value_counts()\n",
    "\n",
    "# 빈도가 10,000 이상인 값을 갖는 관측치만 추출\n",
    "selected_values = repair_counts[repair_counts >=799063].index.tolist()\n",
    "filter_df = df[df['ENGINEER_REPAIR'].isin(selected_values)]\n",
    "\n",
    "print(filter_df.shape)"
   ]
  },
  {
   "cell_type": "code",
   "execution_count": 42,
   "metadata": {},
   "outputs": [
    {
     "data": {
      "text/plain": [
       "RECLAIM\n",
       "0    13449434\n",
       "1      431850\n",
       "Name: count, dtype: int64"
      ]
     },
     "execution_count": 42,
     "metadata": {},
     "output_type": "execute_result"
    }
   ],
   "source": [
    "df['RECLAIM'].value_counts()"
   ]
  }
 ],
 "metadata": {
  "kernelspec": {
   "display_name": "Python 3",
   "language": "python",
   "name": "python3"
  },
  "language_info": {
   "codemirror_mode": {
    "name": "ipython",
    "version": 3
   },
   "file_extension": ".py",
   "mimetype": "text/x-python",
   "name": "python",
   "nbconvert_exporter": "python",
   "pygments_lexer": "ipython3",
   "version": "3.12.0"
  }
 },
 "nbformat": 4,
 "nbformat_minor": 2
}
