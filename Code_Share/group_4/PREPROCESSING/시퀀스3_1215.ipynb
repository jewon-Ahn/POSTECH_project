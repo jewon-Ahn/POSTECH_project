{
 "cells": [
  {
   "cell_type": "code",
   "execution_count": 1,
   "metadata": {},
   "outputs": [],
   "source": [
    "import pandas as pd\n",
    "import numpy as np\n",
    "import pyarrow as pa\n",
    "import pyarrow.parquet as pq\n",
    "import matplotlib.pyplot as plt\n",
    "import ast\n",
    "from scipy.stats import ttest_ind\n",
    "import seaborn as sns\n",
    "import time\n",
    "import networkx as nx\n",
    "import warnings\n",
    "\n",
    "\n",
    "# SettingWithCopyWarning 무시\n",
    "warnings.simplefilter(action='ignore', category=pd.errors.PerformanceWarning)\n",
    "\n",
    "# 모든 출력을 보여주도록 설정\n",
    "pd.set_option('display.max_rows', None)\n",
    "pd.set_option('display.max_columns', None)\n",
    "pd.set_option('display.width', None)\n"
   ]
  },
  {
   "cell_type": "code",
   "execution_count": 2,
   "metadata": {},
   "outputs": [
    {
     "name": "stdout",
     "output_type": "stream",
     "text": [
      "(13881284, 71)\n"
     ]
    }
   ],
   "source": [
    "parquet_file = 'C:/Users/jjccyy9741/OneDrive - postech.ac.kr/바탕 화면/LG/데이터/postech_company_project.parquet'\n",
    "# Parquet 파일 열기\n",
    "table = pq.read_table(parquet_file)\n",
    "\n",
    "# Table에서 데이터를 DataFrame으로 변환\n",
    "data = table.to_pandas()\n",
    "print(data.shape)"
   ]
  },
  {
   "cell_type": "code",
   "execution_count": 3,
   "metadata": {},
   "outputs": [
    {
     "name": "stdout",
     "output_type": "stream",
     "text": [
      "(13522573, 71)\n",
      "코드 실행 시간: 7.923422 초\n"
     ]
    }
   ],
   "source": [
    "# 코드 실행 시작 시간 기록\n",
    "start_time = time.time()\n",
    "\n",
    "\n",
    "df = data.copy()\n",
    "\n",
    "prev_list = df['PREV_RECEIPT_NUMBER'].unique()\n",
    "result = df[~df['RECEIPT_NUMBER'].isin(prev_list)]\n",
    "print(result.shape)\n",
    "\n",
    "# 코드 실행 종료 시간 기록\n",
    "end_time = time.time()\n",
    "# 결과 출력\n",
    "print(\"코드 실행 시간: {:.6f} 초\".format(end_time - start_time))"
   ]
  },
  {
   "cell_type": "code",
   "execution_count": 6,
   "metadata": {},
   "outputs": [],
   "source": [
    "result.to_parquet('C:/Users/jjccyy9741/OneDrive - postech.ac.kr/바탕 화면/final_seq_data.parquet', engine='pyarrow')"
   ]
  },
  {
   "cell_type": "code",
   "execution_count": null,
   "metadata": {},
   "outputs": [],
   "source": []
  },
  {
   "cell_type": "code",
   "execution_count": 7,
   "metadata": {},
   "outputs": [
    {
     "name": "stdout",
     "output_type": "stream",
     "text": [
      "(13522573, 71)\n"
     ]
    }
   ],
   "source": [
    "parquet_file = 'C:/Users/jjccyy9741/OneDrive - postech.ac.kr/바탕 화면/final_seq_data.parquet'\n",
    "# Parquet 파일 열기\n",
    "table = pq.read_table(parquet_file)\n",
    "\n",
    "# Table에서 데이터를 DataFrame으로 변환\n",
    "data = table.to_pandas()\n",
    "print(data.shape)"
   ]
  }
 ],
 "metadata": {
  "kernelspec": {
   "display_name": "Python 3",
   "language": "python",
   "name": "python3"
  },
  "language_info": {
   "codemirror_mode": {
    "name": "ipython",
    "version": 3
   },
   "file_extension": ".py",
   "mimetype": "text/x-python",
   "name": "python",
   "nbconvert_exporter": "python",
   "pygments_lexer": "ipython3",
   "version": "3.12.0"
  }
 },
 "nbformat": 4,
 "nbformat_minor": 2
}
