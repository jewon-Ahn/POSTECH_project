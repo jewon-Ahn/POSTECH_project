{
 "cells": [
  {
   "cell_type": "code",
   "execution_count": 1,
   "metadata": {},
   "outputs": [],
   "source": [
    "import pandas as pd\n",
    "import numpy as np\n",
    "import pyarrow as pa\n",
    "import pyarrow.parquet as pq\n",
    "import matplotlib.pyplot as plt\n",
    "import ast\n",
    "from scipy.stats import ttest_ind\n",
    "import seaborn as sns"
   ]
  },
  {
   "cell_type": "code",
   "execution_count": 2,
   "metadata": {},
   "outputs": [
    {
     "name": "stdout",
     "output_type": "stream",
     "text": [
      "(13881284, 71)\n"
     ]
    }
   ],
   "source": [
    "parquet_file = 'C:/Users/jjccyy9741/OneDrive - postech.ac.kr/바탕 화면/LG/데이터/postech_company_project.parquet'\n",
    "# Parquet 파일 열기\n",
    "table = pq.read_table(parquet_file)\n",
    "\n",
    "# Table에서 데이터를 DataFrame으로 변환\n",
    "data = table.to_pandas()\n",
    "print(data.shape)"
   ]
  },
  {
   "cell_type": "code",
   "execution_count": null,
   "metadata": {},
   "outputs": [],
   "source": []
  },
  {
   "cell_type": "code",
   "execution_count": 3,
   "metadata": {},
   "outputs": [
    {
     "data": {
      "text/plain": [
       "\"data = data[['MONTH_YYYYMM', 'RECLAIM_PERIOD',\\n       'SUBSIDIARY_NAME', 'CAPTIVE_CHANNEL_FLAG', 'COMPANY_CODE',\\n       'DIVISION_NAME', 'MODEL_CODE', 'PARTS_NO1', 'PARTS_NO2', 'PARTS_NO3',\\n       'PARTS_NO4', 'PARTS_NO5', 'RECEIPT_SYMPTOM','CENTER_CODE', \\n       'PREV_CENTER_CODE', 'PRODUCT_NAME','RECLAIM', 'WARRANTY_TYPE', 'PREV_WARRANTY_TYPE',\\n       'SVC_TYPE', 'PREV_SVC_TYPE', 'ENGINEER_CODE', 'PREV_ENGINEER_CODE','ENGINEER_REPAIR', 'PREV_ENGINEER_SYMPTOM','MULTICLAIM','PREV_RECEIPT_SYMPTOM']]\\n\\nprint(data.shape)\""
      ]
     },
     "execution_count": 3,
     "metadata": {},
     "output_type": "execute_result"
    }
   ],
   "source": [
    "\"\"\"data = data[['MONTH_YYYYMM', 'RECLAIM_PERIOD',\n",
    "       'SUBSIDIARY_NAME', 'CAPTIVE_CHANNEL_FLAG', 'COMPANY_CODE',\n",
    "       'DIVISION_NAME', 'MODEL_CODE', 'PARTS_NO1', 'PARTS_NO2', 'PARTS_NO3',\n",
    "       'PARTS_NO4', 'PARTS_NO5', 'RECEIPT_SYMPTOM','CENTER_CODE', \n",
    "       'PREV_CENTER_CODE', 'PRODUCT_NAME','RECLAIM', 'WARRANTY_TYPE', 'PREV_WARRANTY_TYPE',\n",
    "       'SVC_TYPE', 'PREV_SVC_TYPE', 'ENGINEER_CODE', 'PREV_ENGINEER_CODE','ENGINEER_REPAIR', 'PREV_ENGINEER_SYMPTOM','MULTICLAIM','PREV_RECEIPT_SYMPTOM']]\n",
    "\n",
    "print(data.shape)\"\"\""
   ]
  },
  {
   "cell_type": "markdown",
   "metadata": {},
   "source": []
  },
  {
   "cell_type": "markdown",
   "metadata": {},
   "source": [
    "# REPAIR_PERIOD 컬럼 생성"
   ]
  },
  {
   "cell_type": "code",
   "execution_count": 4,
   "metadata": {},
   "outputs": [
    {
     "data": {
      "text/html": [
       "<div>\n",
       "<style scoped>\n",
       "    .dataframe tbody tr th:only-of-type {\n",
       "        vertical-align: middle;\n",
       "    }\n",
       "\n",
       "    .dataframe tbody tr th {\n",
       "        vertical-align: top;\n",
       "    }\n",
       "\n",
       "    .dataframe thead th {\n",
       "        text-align: right;\n",
       "    }\n",
       "</style>\n",
       "<table border=\"1\" class=\"dataframe\">\n",
       "  <thead>\n",
       "    <tr style=\"text-align: right;\">\n",
       "      <th></th>\n",
       "      <th>REPAIR_START_DATE</th>\n",
       "      <th>REPAIR_END_DATE</th>\n",
       "    </tr>\n",
       "  </thead>\n",
       "  <tbody>\n",
       "    <tr>\n",
       "      <th>0</th>\n",
       "      <td>20211214</td>\n",
       "      <td>20220120</td>\n",
       "    </tr>\n",
       "    <tr>\n",
       "      <th>1</th>\n",
       "      <td>20220104</td>\n",
       "      <td>20220104</td>\n",
       "    </tr>\n",
       "    <tr>\n",
       "      <th>2</th>\n",
       "      <td>20220114</td>\n",
       "      <td>20220124</td>\n",
       "    </tr>\n",
       "    <tr>\n",
       "      <th>3</th>\n",
       "      <td>20220111</td>\n",
       "      <td>20220112</td>\n",
       "    </tr>\n",
       "    <tr>\n",
       "      <th>4</th>\n",
       "      <td>20220118</td>\n",
       "      <td>20220118</td>\n",
       "    </tr>\n",
       "    <tr>\n",
       "      <th>...</th>\n",
       "      <td>...</td>\n",
       "      <td>...</td>\n",
       "    </tr>\n",
       "    <tr>\n",
       "      <th>14196328</th>\n",
       "      <td>20230620</td>\n",
       "      <td>20230620</td>\n",
       "    </tr>\n",
       "    <tr>\n",
       "      <th>14196329</th>\n",
       "      <td>20230526</td>\n",
       "      <td>20230526</td>\n",
       "    </tr>\n",
       "    <tr>\n",
       "      <th>14196330</th>\n",
       "      <td>20230524</td>\n",
       "      <td>20230524</td>\n",
       "    </tr>\n",
       "    <tr>\n",
       "      <th>14196331</th>\n",
       "      <td>20230608</td>\n",
       "      <td>20230608</td>\n",
       "    </tr>\n",
       "    <tr>\n",
       "      <th>14196332</th>\n",
       "      <td>20230612</td>\n",
       "      <td>20230612</td>\n",
       "    </tr>\n",
       "  </tbody>\n",
       "</table>\n",
       "<p>13881284 rows × 2 columns</p>\n",
       "</div>"
      ],
      "text/plain": [
       "          REPAIR_START_DATE  REPAIR_END_DATE\n",
       "0                  20211214         20220120\n",
       "1                  20220104         20220104\n",
       "2                  20220114         20220124\n",
       "3                  20220111         20220112\n",
       "4                  20220118         20220118\n",
       "...                     ...              ...\n",
       "14196328           20230620         20230620\n",
       "14196329           20230526         20230526\n",
       "14196330           20230524         20230524\n",
       "14196331           20230608         20230608\n",
       "14196332           20230612         20230612\n",
       "\n",
       "[13881284 rows x 2 columns]"
      ]
     },
     "execution_count": 4,
     "metadata": {},
     "output_type": "execute_result"
    }
   ],
   "source": [
    "data[['REPAIR_START_DATE','REPAIR_END_DATE']]"
   ]
  },
  {
   "cell_type": "code",
   "execution_count": 5,
   "metadata": {},
   "outputs": [],
   "source": [
    "# 'REPAIR_START_DATE' 및 'REPAIR_END_DATE'를 datetime 형식으로 변환\n",
    "data['REPAIR_START_DATE'] = pd.to_datetime(data['REPAIR_START_DATE'], format='%Y%m%d')\n",
    "data['REPAIR_END_DATE'] = pd.to_datetime(data['REPAIR_END_DATE'], format='%Y%m%d')\n",
    "\n",
    "# 'REPAIR_PERIOD' 컬럼 추가\n",
    "data['REPAIR_PERIOD'] = (data['REPAIR_END_DATE'] - data['REPAIR_START_DATE']).dt.days"
   ]
  },
  {
   "cell_type": "code",
   "execution_count": 6,
   "metadata": {},
   "outputs": [
    {
     "data": {
      "text/plain": [
       "count    497539.000000\n",
       "mean         29.334271\n",
       "std          30.467094\n",
       "min         -89.000000\n",
       "25%           5.000000\n",
       "50%          25.000000\n",
       "75%          54.000000\n",
       "max          89.000000\n",
       "Name: RECLAIM_PERIOD, dtype: float64"
      ]
     },
     "execution_count": 6,
     "metadata": {},
     "output_type": "execute_result"
    }
   ],
   "source": [
    "data['RECLAIM_PERIOD'].describe()"
   ]
  },
  {
   "cell_type": "code",
   "execution_count": 7,
   "metadata": {},
   "outputs": [],
   "source": [
    "df = data.copy()"
   ]
  },
  {
   "cell_type": "code",
   "execution_count": 8,
   "metadata": {},
   "outputs": [
    {
     "data": {
      "text/plain": [
       "(13881284, 72)"
      ]
     },
     "execution_count": 8,
     "metadata": {},
     "output_type": "execute_result"
    }
   ],
   "source": [
    "df.shape"
   ]
  },
  {
   "cell_type": "code",
   "execution_count": 9,
   "metadata": {},
   "outputs": [
    {
     "data": {
      "text/plain": [
       "(13881276, 72)"
      ]
     },
     "execution_count": 9,
     "metadata": {},
     "output_type": "execute_result"
    }
   ],
   "source": [
    "df = df[df['REPAIR_PERIOD'] >= 0]\n",
    "df.shape\n"
   ]
  },
  {
   "cell_type": "code",
   "execution_count": 10,
   "metadata": {},
   "outputs": [
    {
     "data": {
      "text/html": [
       "<div>\n",
       "<style scoped>\n",
       "    .dataframe tbody tr th:only-of-type {\n",
       "        vertical-align: middle;\n",
       "    }\n",
       "\n",
       "    .dataframe tbody tr th {\n",
       "        vertical-align: top;\n",
       "    }\n",
       "\n",
       "    .dataframe thead th {\n",
       "        text-align: right;\n",
       "    }\n",
       "</style>\n",
       "<table border=\"1\" class=\"dataframe\">\n",
       "  <thead>\n",
       "    <tr style=\"text-align: right;\">\n",
       "      <th></th>\n",
       "      <th>REPAIR_START_DATE</th>\n",
       "      <th>REPAIR_END_DATE</th>\n",
       "      <th>REPAIR_PERIOD</th>\n",
       "    </tr>\n",
       "  </thead>\n",
       "  <tbody>\n",
       "    <tr>\n",
       "      <th>0</th>\n",
       "      <td>2021-12-14</td>\n",
       "      <td>2022-01-20</td>\n",
       "      <td>37</td>\n",
       "    </tr>\n",
       "    <tr>\n",
       "      <th>1</th>\n",
       "      <td>2022-01-04</td>\n",
       "      <td>2022-01-04</td>\n",
       "      <td>0</td>\n",
       "    </tr>\n",
       "    <tr>\n",
       "      <th>2</th>\n",
       "      <td>2022-01-14</td>\n",
       "      <td>2022-01-24</td>\n",
       "      <td>10</td>\n",
       "    </tr>\n",
       "    <tr>\n",
       "      <th>3</th>\n",
       "      <td>2022-01-11</td>\n",
       "      <td>2022-01-12</td>\n",
       "      <td>1</td>\n",
       "    </tr>\n",
       "    <tr>\n",
       "      <th>4</th>\n",
       "      <td>2022-01-18</td>\n",
       "      <td>2022-01-18</td>\n",
       "      <td>0</td>\n",
       "    </tr>\n",
       "    <tr>\n",
       "      <th>...</th>\n",
       "      <td>...</td>\n",
       "      <td>...</td>\n",
       "      <td>...</td>\n",
       "    </tr>\n",
       "    <tr>\n",
       "      <th>14196328</th>\n",
       "      <td>2023-06-20</td>\n",
       "      <td>2023-06-20</td>\n",
       "      <td>0</td>\n",
       "    </tr>\n",
       "    <tr>\n",
       "      <th>14196329</th>\n",
       "      <td>2023-05-26</td>\n",
       "      <td>2023-05-26</td>\n",
       "      <td>0</td>\n",
       "    </tr>\n",
       "    <tr>\n",
       "      <th>14196330</th>\n",
       "      <td>2023-05-24</td>\n",
       "      <td>2023-05-24</td>\n",
       "      <td>0</td>\n",
       "    </tr>\n",
       "    <tr>\n",
       "      <th>14196331</th>\n",
       "      <td>2023-06-08</td>\n",
       "      <td>2023-06-08</td>\n",
       "      <td>0</td>\n",
       "    </tr>\n",
       "    <tr>\n",
       "      <th>14196332</th>\n",
       "      <td>2023-06-12</td>\n",
       "      <td>2023-06-12</td>\n",
       "      <td>0</td>\n",
       "    </tr>\n",
       "  </tbody>\n",
       "</table>\n",
       "<p>13881276 rows × 3 columns</p>\n",
       "</div>"
      ],
      "text/plain": [
       "         REPAIR_START_DATE REPAIR_END_DATE  REPAIR_PERIOD\n",
       "0               2021-12-14      2022-01-20             37\n",
       "1               2022-01-04      2022-01-04              0\n",
       "2               2022-01-14      2022-01-24             10\n",
       "3               2022-01-11      2022-01-12              1\n",
       "4               2022-01-18      2022-01-18              0\n",
       "...                    ...             ...            ...\n",
       "14196328        2023-06-20      2023-06-20              0\n",
       "14196329        2023-05-26      2023-05-26              0\n",
       "14196330        2023-05-24      2023-05-24              0\n",
       "14196331        2023-06-08      2023-06-08              0\n",
       "14196332        2023-06-12      2023-06-12              0\n",
       "\n",
       "[13881276 rows x 3 columns]"
      ]
     },
     "execution_count": 10,
     "metadata": {},
     "output_type": "execute_result"
    }
   ],
   "source": [
    "df[['REPAIR_START_DATE','REPAIR_END_DATE','REPAIR_PERIOD']]"
   ]
  },
  {
   "cell_type": "code",
   "execution_count": 11,
   "metadata": {},
   "outputs": [
    {
     "data": {
      "text/plain": [
       "count    1.388128e+07\n",
       "mean     2.743618e-01\n",
       "std      2.944712e+00\n",
       "min      0.000000e+00\n",
       "25%      0.000000e+00\n",
       "50%      0.000000e+00\n",
       "75%      0.000000e+00\n",
       "max      6.720000e+02\n",
       "Name: REPAIR_PERIOD, dtype: float64"
      ]
     },
     "execution_count": 11,
     "metadata": {},
     "output_type": "execute_result"
    }
   ],
   "source": [
    "df['REPAIR_PERIOD'].describe()"
   ]
  },
  {
   "cell_type": "code",
   "execution_count": 12,
   "metadata": {},
   "outputs": [
    {
     "data": {
      "text/plain": [
       "REPAIR_PERIOD\n",
       "0      13411149\n",
       "1        142158\n",
       "2         55141\n",
       "3         36496\n",
       "4         27682\n",
       "         ...   \n",
       "265           1\n",
       "330           1\n",
       "391           1\n",
       "310           1\n",
       "339           1\n",
       "Name: count, Length: 327, dtype: int64"
      ]
     },
     "execution_count": 12,
     "metadata": {},
     "output_type": "execute_result"
    }
   ],
   "source": [
    "df['REPAIR_PERIOD'].value_counts()"
   ]
  },
  {
   "cell_type": "markdown",
   "metadata": {},
   "source": [
    "# 컬럼별 결측률 확인"
   ]
  },
  {
   "cell_type": "code",
   "execution_count": 13,
   "metadata": {},
   "outputs": [
    {
     "data": {
      "text/html": [
       "<div>\n",
       "<style scoped>\n",
       "    .dataframe tbody tr th:only-of-type {\n",
       "        vertical-align: middle;\n",
       "    }\n",
       "\n",
       "    .dataframe tbody tr th {\n",
       "        vertical-align: top;\n",
       "    }\n",
       "\n",
       "    .dataframe thead th {\n",
       "        text-align: right;\n",
       "    }\n",
       "</style>\n",
       "<table border=\"1\" class=\"dataframe\">\n",
       "  <thead>\n",
       "    <tr style=\"text-align: right;\">\n",
       "      <th></th>\n",
       "      <th>0</th>\n",
       "    </tr>\n",
       "  </thead>\n",
       "  <tbody>\n",
       "    <tr>\n",
       "      <th>YEAR_YYYY</th>\n",
       "      <td>0.000000</td>\n",
       "    </tr>\n",
       "    <tr>\n",
       "      <th>MONTH_YYYYMM</th>\n",
       "      <td>0.000000</td>\n",
       "    </tr>\n",
       "    <tr>\n",
       "      <th>WEEK_YYYYWWW</th>\n",
       "      <td>0.000000</td>\n",
       "    </tr>\n",
       "    <tr>\n",
       "      <th>RECLAIM_PERIOD</th>\n",
       "      <td>96.415769</td>\n",
       "    </tr>\n",
       "    <tr>\n",
       "      <th>SUBSIDIARY_NAME</th>\n",
       "      <td>0.000000</td>\n",
       "    </tr>\n",
       "    <tr>\n",
       "      <th>CAPTIVE_CHANNEL_FLAG</th>\n",
       "      <td>0.000000</td>\n",
       "    </tr>\n",
       "    <tr>\n",
       "      <th>COMPANY_CODE</th>\n",
       "      <td>0.000000</td>\n",
       "    </tr>\n",
       "    <tr>\n",
       "      <th>DIVISION_NAME</th>\n",
       "      <td>0.000000</td>\n",
       "    </tr>\n",
       "    <tr>\n",
       "      <th>MODEL_CODE</th>\n",
       "      <td>0.000000</td>\n",
       "    </tr>\n",
       "    <tr>\n",
       "      <th>PARTS_NO1</th>\n",
       "      <td>63.568479</td>\n",
       "    </tr>\n",
       "    <tr>\n",
       "      <th>PARTS_NO2</th>\n",
       "      <td>91.837184</td>\n",
       "    </tr>\n",
       "    <tr>\n",
       "      <th>PARTS_NO3</th>\n",
       "      <td>96.948631</td>\n",
       "    </tr>\n",
       "    <tr>\n",
       "      <th>PARTS_NO4</th>\n",
       "      <td>98.555255</td>\n",
       "    </tr>\n",
       "    <tr>\n",
       "      <th>PARTS_NO5</th>\n",
       "      <td>99.298667</td>\n",
       "    </tr>\n",
       "    <tr>\n",
       "      <th>PREV_PARTS_NO1</th>\n",
       "      <td>98.676663</td>\n",
       "    </tr>\n",
       "    <tr>\n",
       "      <th>PREV_PARTS_NO2</th>\n",
       "      <td>99.496624</td>\n",
       "    </tr>\n",
       "    <tr>\n",
       "      <th>PREV_PARTS_NO3</th>\n",
       "      <td>99.788643</td>\n",
       "    </tr>\n",
       "    <tr>\n",
       "      <th>PREV_PARTS_NO4</th>\n",
       "      <td>99.899764</td>\n",
       "    </tr>\n",
       "    <tr>\n",
       "      <th>PREV_PARTS_NO5</th>\n",
       "      <td>99.951474</td>\n",
       "    </tr>\n",
       "    <tr>\n",
       "      <th>PARTS_DESC1</th>\n",
       "      <td>63.568479</td>\n",
       "    </tr>\n",
       "    <tr>\n",
       "      <th>PARTS_DESC2</th>\n",
       "      <td>91.837184</td>\n",
       "    </tr>\n",
       "    <tr>\n",
       "      <th>PARTS_DESC3</th>\n",
       "      <td>96.948631</td>\n",
       "    </tr>\n",
       "    <tr>\n",
       "      <th>PARTS_DESC4</th>\n",
       "      <td>98.555255</td>\n",
       "    </tr>\n",
       "    <tr>\n",
       "      <th>PARTS_DESC5</th>\n",
       "      <td>99.298667</td>\n",
       "    </tr>\n",
       "    <tr>\n",
       "      <th>PREV_PARTS_DESC1</th>\n",
       "      <td>98.676109</td>\n",
       "    </tr>\n",
       "    <tr>\n",
       "      <th>PREV_PARTS_DESC2</th>\n",
       "      <td>99.496466</td>\n",
       "    </tr>\n",
       "    <tr>\n",
       "      <th>PREV_PARTS_DESC3</th>\n",
       "      <td>99.788535</td>\n",
       "    </tr>\n",
       "    <tr>\n",
       "      <th>PREV_PARTS_DESC4</th>\n",
       "      <td>99.899707</td>\n",
       "    </tr>\n",
       "    <tr>\n",
       "      <th>PREV_PARTS_DESC5</th>\n",
       "      <td>99.951438</td>\n",
       "    </tr>\n",
       "    <tr>\n",
       "      <th>RECEIPT_SYMPTOM</th>\n",
       "      <td>6.410477</td>\n",
       "    </tr>\n",
       "  </tbody>\n",
       "</table>\n",
       "</div>"
      ],
      "text/plain": [
       "                              0\n",
       "YEAR_YYYY              0.000000\n",
       "MONTH_YYYYMM           0.000000\n",
       "WEEK_YYYYWWW           0.000000\n",
       "RECLAIM_PERIOD        96.415769\n",
       "SUBSIDIARY_NAME        0.000000\n",
       "CAPTIVE_CHANNEL_FLAG   0.000000\n",
       "COMPANY_CODE           0.000000\n",
       "DIVISION_NAME          0.000000\n",
       "MODEL_CODE             0.000000\n",
       "PARTS_NO1             63.568479\n",
       "PARTS_NO2             91.837184\n",
       "PARTS_NO3             96.948631\n",
       "PARTS_NO4             98.555255\n",
       "PARTS_NO5             99.298667\n",
       "PREV_PARTS_NO1        98.676663\n",
       "PREV_PARTS_NO2        99.496624\n",
       "PREV_PARTS_NO3        99.788643\n",
       "PREV_PARTS_NO4        99.899764\n",
       "PREV_PARTS_NO5        99.951474\n",
       "PARTS_DESC1           63.568479\n",
       "PARTS_DESC2           91.837184\n",
       "PARTS_DESC3           96.948631\n",
       "PARTS_DESC4           98.555255\n",
       "PARTS_DESC5           99.298667\n",
       "PREV_PARTS_DESC1      98.676109\n",
       "PREV_PARTS_DESC2      99.496466\n",
       "PREV_PARTS_DESC3      99.788535\n",
       "PREV_PARTS_DESC4      99.899707\n",
       "PREV_PARTS_DESC5      99.951438\n",
       "RECEIPT_SYMPTOM        6.410477"
      ]
     },
     "metadata": {},
     "output_type": "display_data"
    },
    {
     "data": {
      "text/html": [
       "<div>\n",
       "<style scoped>\n",
       "    .dataframe tbody tr th:only-of-type {\n",
       "        vertical-align: middle;\n",
       "    }\n",
       "\n",
       "    .dataframe tbody tr th {\n",
       "        vertical-align: top;\n",
       "    }\n",
       "\n",
       "    .dataframe thead th {\n",
       "        text-align: right;\n",
       "    }\n",
       "</style>\n",
       "<table border=\"1\" class=\"dataframe\">\n",
       "  <thead>\n",
       "    <tr style=\"text-align: right;\">\n",
       "      <th></th>\n",
       "      <th>0</th>\n",
       "    </tr>\n",
       "  </thead>\n",
       "  <tbody>\n",
       "    <tr>\n",
       "      <th>count</th>\n",
       "      <td>30.000000</td>\n",
       "    </tr>\n",
       "    <tr>\n",
       "      <th>mean</th>\n",
       "      <td>66.628937</td>\n",
       "    </tr>\n",
       "    <tr>\n",
       "      <th>std</th>\n",
       "      <td>44.790196</td>\n",
       "    </tr>\n",
       "    <tr>\n",
       "      <th>min</th>\n",
       "      <td>0.000000</td>\n",
       "    </tr>\n",
       "    <tr>\n",
       "      <th>25%</th>\n",
       "      <td>1.602619</td>\n",
       "    </tr>\n",
       "    <tr>\n",
       "      <th>50%</th>\n",
       "      <td>96.948631</td>\n",
       "    </tr>\n",
       "    <tr>\n",
       "      <th>75%</th>\n",
       "      <td>99.447016</td>\n",
       "    </tr>\n",
       "    <tr>\n",
       "      <th>max</th>\n",
       "      <td>99.951474</td>\n",
       "    </tr>\n",
       "  </tbody>\n",
       "</table>\n",
       "</div>"
      ],
      "text/plain": [
       "               0\n",
       "count  30.000000\n",
       "mean   66.628937\n",
       "std    44.790196\n",
       "min     0.000000\n",
       "25%     1.602619\n",
       "50%    96.948631\n",
       "75%    99.447016\n",
       "max    99.951474"
      ]
     },
     "execution_count": 13,
     "metadata": {},
     "output_type": "execute_result"
    }
   ],
   "source": [
    "# 결측률을 계산하는 함수\n",
    "def calculate_missing_rate(column):\n",
    "    return column.isnull().mean() * 100  # 결측값의 비율을 백분율로 계산\n",
    "\n",
    "# 각 컬럼별 결측률 계산\n",
    "missing_rate_df = df.apply(calculate_missing_rate)\n",
    "\n",
    "# 결과 출력\n",
    "display(pd.DataFrame(missing_rate_df).head(30))\n",
    "pd.DataFrame(missing_rate_df).head(30).describe()"
   ]
  },
  {
   "cell_type": "code",
   "execution_count": 14,
   "metadata": {},
   "outputs": [
    {
     "data": {
      "image/png": "[encoded data removed]",
      "text/plain": [
       "<Figure size 640x480 with 1 Axes>"
      ]
     },
     "metadata": {},
     "output_type": "display_data"
    }
   ],
   "source": [
    "# 'a' 컬럼의 히스토그램 시각화\n",
    "plt.hist(pd.DataFrame(missing_rate_df)[0], bins='auto', edgecolor='black')  # 'auto'로 bins를 자동으로 조절\n",
    "#plt.title('Histogram of Column \"a\"')\n",
    "plt.xlabel('Value')\n",
    "plt.ylabel('Frequency')\n",
    "plt.show()"
   ]
  },
  {
   "cell_type": "markdown",
   "metadata": {},
   "source": [
    "# 재서비스 관련 EDA"
   ]
  },
  {
   "cell_type": "code",
   "execution_count": 15,
   "metadata": {},
   "outputs": [
    {
     "name": "stdout",
     "output_type": "stream",
     "text": [
      "0.03111010832145402\n"
     ]
    },
    {
     "data": {
      "text/html": [
       "<div>\n",
       "<style scoped>\n",
       "    .dataframe tbody tr th:only-of-type {\n",
       "        vertical-align: middle;\n",
       "    }\n",
       "\n",
       "    .dataframe tbody tr th {\n",
       "        vertical-align: top;\n",
       "    }\n",
       "\n",
       "    .dataframe thead th {\n",
       "        text-align: right;\n",
       "    }\n",
       "</style>\n",
       "<table border=\"1\" class=\"dataframe\">\n",
       "  <thead>\n",
       "    <tr style=\"text-align: right;\">\n",
       "      <th></th>\n",
       "      <th>YEAR_YYYY</th>\n",
       "      <th>MONTH_YYYYMM</th>\n",
       "      <th>WEEK_YYYYWWW</th>\n",
       "      <th>RECLAIM_PERIOD</th>\n",
       "      <th>SUBSIDIARY_NAME</th>\n",
       "      <th>CAPTIVE_CHANNEL_FLAG</th>\n",
       "      <th>COMPANY_CODE</th>\n",
       "      <th>DIVISION_NAME</th>\n",
       "      <th>MODEL_CODE</th>\n",
       "      <th>PARTS_NO1</th>\n",
       "      <th>...</th>\n",
       "      <th>KEY_PARTS_REMARK4</th>\n",
       "      <th>KEY_PARTS_REMARK5</th>\n",
       "      <th>PREV_KEY_PARTS_REMARK1</th>\n",
       "      <th>PREV_KEY_PARTS_REMARK2</th>\n",
       "      <th>PREV_KEY_PARTS_REMARK3</th>\n",
       "      <th>PREV_KEY_PARTS_REMARK4</th>\n",
       "      <th>PREV_KEY_PARTS_REMARK5</th>\n",
       "      <th>MULTICLAIM</th>\n",
       "      <th>PREV_RECEIPT_SYMPTOM</th>\n",
       "      <th>REPAIR_PERIOD</th>\n",
       "    </tr>\n",
       "  </thead>\n",
       "  <tbody>\n",
       "    <tr>\n",
       "      <th>0</th>\n",
       "      <td>2022</td>\n",
       "      <td>202201</td>\n",
       "      <td>2022W05</td>\n",
       "      <td>47.0</td>\n",
       "      <td>LGEAI</td>\n",
       "      <td>Non Captive</td>\n",
       "      <td>HE</td>\n",
       "      <td>LTV</td>\n",
       "      <td>OLED65C7P</td>\n",
       "      <td>LGE_PARTS_993</td>\n",
       "      <td>...</td>\n",
       "      <td>None</td>\n",
       "      <td>None</td>\n",
       "      <td>None</td>\n",
       "      <td>None</td>\n",
       "      <td>None</td>\n",
       "      <td>None</td>\n",
       "      <td>None</td>\n",
       "      <td>2</td>\n",
       "      <td>Power</td>\n",
       "      <td>37</td>\n",
       "    </tr>\n",
       "    <tr>\n",
       "      <th>1</th>\n",
       "      <td>2022</td>\n",
       "      <td>202201</td>\n",
       "      <td>2022W03</td>\n",
       "      <td>10.0</td>\n",
       "      <td>LGEAI</td>\n",
       "      <td>Non Captive</td>\n",
       "      <td>HE</td>\n",
       "      <td>LTV</td>\n",
       "      <td>65UN6955ZUF</td>\n",
       "      <td>LGE_PARTS_4492</td>\n",
       "      <td>...</td>\n",
       "      <td>None</td>\n",
       "      <td>None</td>\n",
       "      <td>Main</td>\n",
       "      <td>None</td>\n",
       "      <td>None</td>\n",
       "      <td>None</td>\n",
       "      <td>None</td>\n",
       "      <td>2</td>\n",
       "      <td>Audio</td>\n",
       "      <td>0</td>\n",
       "    </tr>\n",
       "    <tr>\n",
       "      <th>2</th>\n",
       "      <td>2022</td>\n",
       "      <td>202201</td>\n",
       "      <td>2022W05</td>\n",
       "      <td>30.0</td>\n",
       "      <td>LGEAI</td>\n",
       "      <td>Non Captive</td>\n",
       "      <td>HE</td>\n",
       "      <td>LTV</td>\n",
       "      <td>50UN7300AUD</td>\n",
       "      <td>LGE_PARTS_15608</td>\n",
       "      <td>...</td>\n",
       "      <td>None</td>\n",
       "      <td>None</td>\n",
       "      <td>Main</td>\n",
       "      <td>None</td>\n",
       "      <td>None</td>\n",
       "      <td>None</td>\n",
       "      <td>None</td>\n",
       "      <td>2</td>\n",
       "      <td>Power</td>\n",
       "      <td>10</td>\n",
       "    </tr>\n",
       "    <tr>\n",
       "      <th>3</th>\n",
       "      <td>2022</td>\n",
       "      <td>202201</td>\n",
       "      <td>2022W02</td>\n",
       "      <td>39.0</td>\n",
       "      <td>LGEAI</td>\n",
       "      <td>Non Captive</td>\n",
       "      <td>HE</td>\n",
       "      <td>LTV</td>\n",
       "      <td>70UP7070PUE</td>\n",
       "      <td>LGE_PARTS_9199</td>\n",
       "      <td>...</td>\n",
       "      <td>None</td>\n",
       "      <td>None</td>\n",
       "      <td>Power</td>\n",
       "      <td>Main</td>\n",
       "      <td>None</td>\n",
       "      <td>None</td>\n",
       "      <td>None</td>\n",
       "      <td>2</td>\n",
       "      <td>Power</td>\n",
       "      <td>1</td>\n",
       "    </tr>\n",
       "    <tr>\n",
       "      <th>4</th>\n",
       "      <td>2022</td>\n",
       "      <td>202201</td>\n",
       "      <td>2022W03</td>\n",
       "      <td>5.0</td>\n",
       "      <td>LGEAI</td>\n",
       "      <td>Non Captive</td>\n",
       "      <td>HE</td>\n",
       "      <td>LTV</td>\n",
       "      <td>OLED77CXAUA</td>\n",
       "      <td>LGE_PARTS_15413</td>\n",
       "      <td>...</td>\n",
       "      <td>None</td>\n",
       "      <td>None</td>\n",
       "      <td>None</td>\n",
       "      <td>None</td>\n",
       "      <td>None</td>\n",
       "      <td>None</td>\n",
       "      <td>None</td>\n",
       "      <td>2</td>\n",
       "      <td>Power</td>\n",
       "      <td>0</td>\n",
       "    </tr>\n",
       "    <tr>\n",
       "      <th>...</th>\n",
       "      <td>...</td>\n",
       "      <td>...</td>\n",
       "      <td>...</td>\n",
       "      <td>...</td>\n",
       "      <td>...</td>\n",
       "      <td>...</td>\n",
       "      <td>...</td>\n",
       "      <td>...</td>\n",
       "      <td>...</td>\n",
       "      <td>...</td>\n",
       "      <td>...</td>\n",
       "      <td>...</td>\n",
       "      <td>...</td>\n",
       "      <td>...</td>\n",
       "      <td>...</td>\n",
       "      <td>...</td>\n",
       "      <td>...</td>\n",
       "      <td>...</td>\n",
       "      <td>...</td>\n",
       "      <td>...</td>\n",
       "      <td>...</td>\n",
       "    </tr>\n",
       "    <tr>\n",
       "      <th>14196135</th>\n",
       "      <td>2023</td>\n",
       "      <td>202306</td>\n",
       "      <td>2023W25</td>\n",
       "      <td>23.0</td>\n",
       "      <td>LGEIL</td>\n",
       "      <td>Captive</td>\n",
       "      <td>HA</td>\n",
       "      <td>W/M</td>\n",
       "      <td>FHV1409ZWP</td>\n",
       "      <td>LGE_PARTS_16120</td>\n",
       "      <td>...</td>\n",
       "      <td>None</td>\n",
       "      <td>None</td>\n",
       "      <td>None</td>\n",
       "      <td>None</td>\n",
       "      <td>None</td>\n",
       "      <td>None</td>\n",
       "      <td>None</td>\n",
       "      <td>2</td>\n",
       "      <td>Power Issues</td>\n",
       "      <td>0</td>\n",
       "    </tr>\n",
       "    <tr>\n",
       "      <th>14196199</th>\n",
       "      <td>2023</td>\n",
       "      <td>202306</td>\n",
       "      <td>2023W23</td>\n",
       "      <td>-86.0</td>\n",
       "      <td>LGEIL</td>\n",
       "      <td>Non Captive</td>\n",
       "      <td>HA</td>\n",
       "      <td>RAC DIVISION</td>\n",
       "      <td>PW-Q12WUZA</td>\n",
       "      <td>None</td>\n",
       "      <td>...</td>\n",
       "      <td>None</td>\n",
       "      <td>None</td>\n",
       "      <td>None</td>\n",
       "      <td>None</td>\n",
       "      <td>None</td>\n",
       "      <td>None</td>\n",
       "      <td>None</td>\n",
       "      <td>2</td>\n",
       "      <td>None</td>\n",
       "      <td>0</td>\n",
       "    </tr>\n",
       "    <tr>\n",
       "      <th>14196218</th>\n",
       "      <td>2023</td>\n",
       "      <td>202306</td>\n",
       "      <td>2023W22</td>\n",
       "      <td>60.0</td>\n",
       "      <td>LGEIL</td>\n",
       "      <td>Non Captive</td>\n",
       "      <td>HE</td>\n",
       "      <td>LTV</td>\n",
       "      <td>43LM5620PTA</td>\n",
       "      <td>LGE_PARTS_27082</td>\n",
       "      <td>...</td>\n",
       "      <td>None</td>\n",
       "      <td>None</td>\n",
       "      <td>None</td>\n",
       "      <td>None</td>\n",
       "      <td>None</td>\n",
       "      <td>None</td>\n",
       "      <td>None</td>\n",
       "      <td>2</td>\n",
       "      <td>How to: Installation and Settings</td>\n",
       "      <td>0</td>\n",
       "    </tr>\n",
       "    <tr>\n",
       "      <th>14196273</th>\n",
       "      <td>2023</td>\n",
       "      <td>202306</td>\n",
       "      <td>2023W24</td>\n",
       "      <td>74.0</td>\n",
       "      <td>LGEIL</td>\n",
       "      <td>Captive</td>\n",
       "      <td>HE</td>\n",
       "      <td>LTV</td>\n",
       "      <td>43UQ7550PSF</td>\n",
       "      <td>LGE_PARTS_27082</td>\n",
       "      <td>...</td>\n",
       "      <td>None</td>\n",
       "      <td>None</td>\n",
       "      <td>None</td>\n",
       "      <td>None</td>\n",
       "      <td>None</td>\n",
       "      <td>None</td>\n",
       "      <td>None</td>\n",
       "      <td>2</td>\n",
       "      <td>How to: Installation and Settings</td>\n",
       "      <td>0</td>\n",
       "    </tr>\n",
       "    <tr>\n",
       "      <th>14196319</th>\n",
       "      <td>2023</td>\n",
       "      <td>202306</td>\n",
       "      <td>2023W23</td>\n",
       "      <td>2.0</td>\n",
       "      <td>LGEIL</td>\n",
       "      <td>Captive</td>\n",
       "      <td>HE</td>\n",
       "      <td>LTV</td>\n",
       "      <td>OLED55C7T</td>\n",
       "      <td>None</td>\n",
       "      <td>...</td>\n",
       "      <td>None</td>\n",
       "      <td>None</td>\n",
       "      <td>None</td>\n",
       "      <td>None</td>\n",
       "      <td>None</td>\n",
       "      <td>None</td>\n",
       "      <td>None</td>\n",
       "      <td>2</td>\n",
       "      <td>How to: Installation and Settings</td>\n",
       "      <td>0</td>\n",
       "    </tr>\n",
       "  </tbody>\n",
       "</table>\n",
       "<p>431848 rows × 72 columns</p>\n",
       "</div>"
      ],
      "text/plain": [
       "          YEAR_YYYY  MONTH_YYYYMM WEEK_YYYYWWW  RECLAIM_PERIOD  \\\n",
       "0              2022        202201      2022W05            47.0   \n",
       "1              2022        202201      2022W03            10.0   \n",
       "2              2022        202201      2022W05            30.0   \n",
       "3              2022        202201      2022W02            39.0   \n",
       "4              2022        202201      2022W03             5.0   \n",
       "...             ...           ...          ...             ...   \n",
       "14196135       2023        202306      2023W25            23.0   \n",
       "14196199       2023        202306      2023W23           -86.0   \n",
       "14196218       2023        202306      2023W22            60.0   \n",
       "14196273       2023        202306      2023W24            74.0   \n",
       "14196319       2023        202306      2023W23             2.0   \n",
       "\n",
       "         SUBSIDIARY_NAME CAPTIVE_CHANNEL_FLAG COMPANY_CODE DIVISION_NAME  \\\n",
       "0                  LGEAI          Non Captive           HE           LTV   \n",
       "1                  LGEAI          Non Captive           HE           LTV   \n",
       "2                  LGEAI          Non Captive           HE           LTV   \n",
       "3                  LGEAI          Non Captive           HE           LTV   \n",
       "4                  LGEAI          Non Captive           HE           LTV   \n",
       "...                  ...                  ...          ...           ...   \n",
       "14196135           LGEIL              Captive           HA           W/M   \n",
       "14196199           LGEIL          Non Captive           HA  RAC DIVISION   \n",
       "14196218           LGEIL          Non Captive           HE           LTV   \n",
       "14196273           LGEIL              Captive           HE           LTV   \n",
       "14196319           LGEIL              Captive           HE           LTV   \n",
       "\n",
       "           MODEL_CODE        PARTS_NO1  ... KEY_PARTS_REMARK4  \\\n",
       "0           OLED65C7P    LGE_PARTS_993  ...              None   \n",
       "1         65UN6955ZUF   LGE_PARTS_4492  ...              None   \n",
       "2         50UN7300AUD  LGE_PARTS_15608  ...              None   \n",
       "3         70UP7070PUE   LGE_PARTS_9199  ...              None   \n",
       "4         OLED77CXAUA  LGE_PARTS_15413  ...              None   \n",
       "...               ...              ...  ...               ...   \n",
       "14196135   FHV1409ZWP  LGE_PARTS_16120  ...              None   \n",
       "14196199   PW-Q12WUZA             None  ...              None   \n",
       "14196218  43LM5620PTA  LGE_PARTS_27082  ...              None   \n",
       "14196273  43UQ7550PSF  LGE_PARTS_27082  ...              None   \n",
       "14196319    OLED55C7T             None  ...              None   \n",
       "\n",
       "         KEY_PARTS_REMARK5 PREV_KEY_PARTS_REMARK1 PREV_KEY_PARTS_REMARK2  \\\n",
       "0                     None                   None                   None   \n",
       "1                     None                   Main                   None   \n",
       "2                     None                   Main                   None   \n",
       "3                     None                  Power                   Main   \n",
       "4                     None                   None                   None   \n",
       "...                    ...                    ...                    ...   \n",
       "14196135              None                   None                   None   \n",
       "14196199              None                   None                   None   \n",
       "14196218              None                   None                   None   \n",
       "14196273              None                   None                   None   \n",
       "14196319              None                   None                   None   \n",
       "\n",
       "         PREV_KEY_PARTS_REMARK3 PREV_KEY_PARTS_REMARK4 PREV_KEY_PARTS_REMARK5  \\\n",
       "0                          None                   None                   None   \n",
       "1                          None                   None                   None   \n",
       "2                          None                   None                   None   \n",
       "3                          None                   None                   None   \n",
       "4                          None                   None                   None   \n",
       "...                         ...                    ...                    ...   \n",
       "14196135                   None                   None                   None   \n",
       "14196199                   None                   None                   None   \n",
       "14196218                   None                   None                   None   \n",
       "14196273                   None                   None                   None   \n",
       "14196319                   None                   None                   None   \n",
       "\n",
       "         MULTICLAIM               PREV_RECEIPT_SYMPTOM REPAIR_PERIOD  \n",
       "0                 2                              Power            37  \n",
       "1                 2                              Audio             0  \n",
       "2                 2                              Power            10  \n",
       "3                 2                              Power             1  \n",
       "4                 2                              Power             0  \n",
       "...             ...                                ...           ...  \n",
       "14196135          2                       Power Issues             0  \n",
       "14196199          2                               None             0  \n",
       "14196218          2  How to: Installation and Settings             0  \n",
       "14196273          2  How to: Installation and Settings             0  \n",
       "14196319          2  How to: Installation and Settings             0  \n",
       "\n",
       "[431848 rows x 72 columns]"
      ]
     },
     "execution_count": 15,
     "metadata": {},
     "output_type": "execute_result"
    }
   ],
   "source": [
    "# 재서비스 개수\n",
    "print(len(df[df['RECLAIM']==1])/len(df))\n",
    "df[df['RECLAIM']==1]"
   ]
  },
  {
   "cell_type": "code",
   "execution_count": 16,
   "metadata": {},
   "outputs": [
    {
     "name": "stdout",
     "output_type": "stream",
     "text": [
      "0.0120288653579109\n",
      "0.3866545636427632\n"
     ]
    },
    {
     "data": {
      "text/html": [
       "<div>\n",
       "<style scoped>\n",
       "    .dataframe tbody tr th:only-of-type {\n",
       "        vertical-align: middle;\n",
       "    }\n",
       "\n",
       "    .dataframe tbody tr th {\n",
       "        vertical-align: top;\n",
       "    }\n",
       "\n",
       "    .dataframe thead th {\n",
       "        text-align: right;\n",
       "    }\n",
       "</style>\n",
       "<table border=\"1\" class=\"dataframe\">\n",
       "  <thead>\n",
       "    <tr style=\"text-align: right;\">\n",
       "      <th></th>\n",
       "      <th>YEAR_YYYY</th>\n",
       "      <th>MONTH_YYYYMM</th>\n",
       "      <th>WEEK_YYYYWWW</th>\n",
       "      <th>RECLAIM_PERIOD</th>\n",
       "      <th>SUBSIDIARY_NAME</th>\n",
       "      <th>CAPTIVE_CHANNEL_FLAG</th>\n",
       "      <th>COMPANY_CODE</th>\n",
       "      <th>DIVISION_NAME</th>\n",
       "      <th>MODEL_CODE</th>\n",
       "      <th>PARTS_NO1</th>\n",
       "      <th>...</th>\n",
       "      <th>KEY_PARTS_REMARK4</th>\n",
       "      <th>KEY_PARTS_REMARK5</th>\n",
       "      <th>PREV_KEY_PARTS_REMARK1</th>\n",
       "      <th>PREV_KEY_PARTS_REMARK2</th>\n",
       "      <th>PREV_KEY_PARTS_REMARK3</th>\n",
       "      <th>PREV_KEY_PARTS_REMARK4</th>\n",
       "      <th>PREV_KEY_PARTS_REMARK5</th>\n",
       "      <th>MULTICLAIM</th>\n",
       "      <th>PREV_RECEIPT_SYMPTOM</th>\n",
       "      <th>REPAIR_PERIOD</th>\n",
       "    </tr>\n",
       "  </thead>\n",
       "  <tbody>\n",
       "    <tr>\n",
       "      <th>2</th>\n",
       "      <td>2022</td>\n",
       "      <td>202201</td>\n",
       "      <td>2022W05</td>\n",
       "      <td>30.0</td>\n",
       "      <td>LGEAI</td>\n",
       "      <td>Non Captive</td>\n",
       "      <td>HE</td>\n",
       "      <td>LTV</td>\n",
       "      <td>50UN7300AUD</td>\n",
       "      <td>LGE_PARTS_15608</td>\n",
       "      <td>...</td>\n",
       "      <td>None</td>\n",
       "      <td>None</td>\n",
       "      <td>Main</td>\n",
       "      <td>None</td>\n",
       "      <td>None</td>\n",
       "      <td>None</td>\n",
       "      <td>None</td>\n",
       "      <td>2</td>\n",
       "      <td>Power</td>\n",
       "      <td>10</td>\n",
       "    </tr>\n",
       "    <tr>\n",
       "      <th>6</th>\n",
       "      <td>2022</td>\n",
       "      <td>202201</td>\n",
       "      <td>2022W04</td>\n",
       "      <td>41.0</td>\n",
       "      <td>LGEAI</td>\n",
       "      <td>Non Captive</td>\n",
       "      <td>HE</td>\n",
       "      <td>LTV</td>\n",
       "      <td>55UN7300AUD</td>\n",
       "      <td>LGE_PARTS_5204</td>\n",
       "      <td>...</td>\n",
       "      <td>None</td>\n",
       "      <td>None</td>\n",
       "      <td>Main</td>\n",
       "      <td>None</td>\n",
       "      <td>None</td>\n",
       "      <td>None</td>\n",
       "      <td>None</td>\n",
       "      <td>2</td>\n",
       "      <td>Network</td>\n",
       "      <td>0</td>\n",
       "    </tr>\n",
       "    <tr>\n",
       "      <th>8</th>\n",
       "      <td>2022</td>\n",
       "      <td>202201</td>\n",
       "      <td>2022W03</td>\n",
       "      <td>8.0</td>\n",
       "      <td>LGEAI</td>\n",
       "      <td>Non Captive</td>\n",
       "      <td>HE</td>\n",
       "      <td>LTV</td>\n",
       "      <td>55UN7000PUB</td>\n",
       "      <td>LGE_PARTS_17357</td>\n",
       "      <td>...</td>\n",
       "      <td>None</td>\n",
       "      <td>None</td>\n",
       "      <td>LED Array</td>\n",
       "      <td>None</td>\n",
       "      <td>None</td>\n",
       "      <td>None</td>\n",
       "      <td>None</td>\n",
       "      <td>2</td>\n",
       "      <td>Video</td>\n",
       "      <td>3</td>\n",
       "    </tr>\n",
       "    <tr>\n",
       "      <th>9</th>\n",
       "      <td>2022</td>\n",
       "      <td>202201</td>\n",
       "      <td>2022W02</td>\n",
       "      <td>6.0</td>\n",
       "      <td>LGEAI</td>\n",
       "      <td>Non Captive</td>\n",
       "      <td>HE</td>\n",
       "      <td>LTV</td>\n",
       "      <td>OLED55CXPUA</td>\n",
       "      <td>LGE_PARTS_14364</td>\n",
       "      <td>...</td>\n",
       "      <td>None</td>\n",
       "      <td>None</td>\n",
       "      <td>None</td>\n",
       "      <td>None</td>\n",
       "      <td>None</td>\n",
       "      <td>None</td>\n",
       "      <td>None</td>\n",
       "      <td>2</td>\n",
       "      <td>Power</td>\n",
       "      <td>4</td>\n",
       "    </tr>\n",
       "    <tr>\n",
       "      <th>10</th>\n",
       "      <td>2022</td>\n",
       "      <td>202201</td>\n",
       "      <td>2022W04</td>\n",
       "      <td>22.0</td>\n",
       "      <td>LGEAI</td>\n",
       "      <td>Non Captive</td>\n",
       "      <td>HE</td>\n",
       "      <td>LTV</td>\n",
       "      <td>OLED55CXPUA</td>\n",
       "      <td>LGE_PARTS_20646</td>\n",
       "      <td>...</td>\n",
       "      <td>None</td>\n",
       "      <td>None</td>\n",
       "      <td>None</td>\n",
       "      <td>None</td>\n",
       "      <td>None</td>\n",
       "      <td>None</td>\n",
       "      <td>None</td>\n",
       "      <td>2</td>\n",
       "      <td>Power</td>\n",
       "      <td>0</td>\n",
       "    </tr>\n",
       "    <tr>\n",
       "      <th>...</th>\n",
       "      <td>...</td>\n",
       "      <td>...</td>\n",
       "      <td>...</td>\n",
       "      <td>...</td>\n",
       "      <td>...</td>\n",
       "      <td>...</td>\n",
       "      <td>...</td>\n",
       "      <td>...</td>\n",
       "      <td>...</td>\n",
       "      <td>...</td>\n",
       "      <td>...</td>\n",
       "      <td>...</td>\n",
       "      <td>...</td>\n",
       "      <td>...</td>\n",
       "      <td>...</td>\n",
       "      <td>...</td>\n",
       "      <td>...</td>\n",
       "      <td>...</td>\n",
       "      <td>...</td>\n",
       "      <td>...</td>\n",
       "      <td>...</td>\n",
       "    </tr>\n",
       "    <tr>\n",
       "      <th>14195787</th>\n",
       "      <td>2023</td>\n",
       "      <td>202306</td>\n",
       "      <td>2023W26</td>\n",
       "      <td>-4.0</td>\n",
       "      <td>LGEIL</td>\n",
       "      <td>Non Captive</td>\n",
       "      <td>HA</td>\n",
       "      <td>RAC DIVISION</td>\n",
       "      <td>PS-Q19JNXE</td>\n",
       "      <td>None</td>\n",
       "      <td>...</td>\n",
       "      <td>None</td>\n",
       "      <td>None</td>\n",
       "      <td>None</td>\n",
       "      <td>None</td>\n",
       "      <td>None</td>\n",
       "      <td>None</td>\n",
       "      <td>None</td>\n",
       "      <td>1</td>\n",
       "      <td>Specification</td>\n",
       "      <td>0</td>\n",
       "    </tr>\n",
       "    <tr>\n",
       "      <th>14195823</th>\n",
       "      <td>2023</td>\n",
       "      <td>202306</td>\n",
       "      <td>2023W22</td>\n",
       "      <td>20.0</td>\n",
       "      <td>LGEIL</td>\n",
       "      <td>Captive</td>\n",
       "      <td>HA</td>\n",
       "      <td>W/M</td>\n",
       "      <td>FHD2112STB</td>\n",
       "      <td>LGE_PARTS_7352</td>\n",
       "      <td>...</td>\n",
       "      <td>None</td>\n",
       "      <td>None</td>\n",
       "      <td>None</td>\n",
       "      <td>None</td>\n",
       "      <td>None</td>\n",
       "      <td>None</td>\n",
       "      <td>None</td>\n",
       "      <td>2</td>\n",
       "      <td>Water/Suds Issues</td>\n",
       "      <td>0</td>\n",
       "    </tr>\n",
       "    <tr>\n",
       "      <th>14196218</th>\n",
       "      <td>2023</td>\n",
       "      <td>202306</td>\n",
       "      <td>2023W22</td>\n",
       "      <td>60.0</td>\n",
       "      <td>LGEIL</td>\n",
       "      <td>Non Captive</td>\n",
       "      <td>HE</td>\n",
       "      <td>LTV</td>\n",
       "      <td>43LM5620PTA</td>\n",
       "      <td>LGE_PARTS_27082</td>\n",
       "      <td>...</td>\n",
       "      <td>None</td>\n",
       "      <td>None</td>\n",
       "      <td>None</td>\n",
       "      <td>None</td>\n",
       "      <td>None</td>\n",
       "      <td>None</td>\n",
       "      <td>None</td>\n",
       "      <td>2</td>\n",
       "      <td>How to: Installation and Settings</td>\n",
       "      <td>0</td>\n",
       "    </tr>\n",
       "    <tr>\n",
       "      <th>14196273</th>\n",
       "      <td>2023</td>\n",
       "      <td>202306</td>\n",
       "      <td>2023W24</td>\n",
       "      <td>74.0</td>\n",
       "      <td>LGEIL</td>\n",
       "      <td>Captive</td>\n",
       "      <td>HE</td>\n",
       "      <td>LTV</td>\n",
       "      <td>43UQ7550PSF</td>\n",
       "      <td>LGE_PARTS_27082</td>\n",
       "      <td>...</td>\n",
       "      <td>None</td>\n",
       "      <td>None</td>\n",
       "      <td>None</td>\n",
       "      <td>None</td>\n",
       "      <td>None</td>\n",
       "      <td>None</td>\n",
       "      <td>None</td>\n",
       "      <td>2</td>\n",
       "      <td>How to: Installation and Settings</td>\n",
       "      <td>0</td>\n",
       "    </tr>\n",
       "    <tr>\n",
       "      <th>14196319</th>\n",
       "      <td>2023</td>\n",
       "      <td>202306</td>\n",
       "      <td>2023W23</td>\n",
       "      <td>2.0</td>\n",
       "      <td>LGEIL</td>\n",
       "      <td>Captive</td>\n",
       "      <td>HE</td>\n",
       "      <td>LTV</td>\n",
       "      <td>OLED55C7T</td>\n",
       "      <td>None</td>\n",
       "      <td>...</td>\n",
       "      <td>None</td>\n",
       "      <td>None</td>\n",
       "      <td>None</td>\n",
       "      <td>None</td>\n",
       "      <td>None</td>\n",
       "      <td>None</td>\n",
       "      <td>None</td>\n",
       "      <td>2</td>\n",
       "      <td>How to: Installation and Settings</td>\n",
       "      <td>0</td>\n",
       "    </tr>\n",
       "  </tbody>\n",
       "</table>\n",
       "<p>166976 rows × 72 columns</p>\n",
       "</div>"
      ],
      "text/plain": [
       "          YEAR_YYYY  MONTH_YYYYMM WEEK_YYYYWWW  RECLAIM_PERIOD  \\\n",
       "2              2022        202201      2022W05            30.0   \n",
       "6              2022        202201      2022W04            41.0   \n",
       "8              2022        202201      2022W03             8.0   \n",
       "9              2022        202201      2022W02             6.0   \n",
       "10             2022        202201      2022W04            22.0   \n",
       "...             ...           ...          ...             ...   \n",
       "14195787       2023        202306      2023W26            -4.0   \n",
       "14195823       2023        202306      2023W22            20.0   \n",
       "14196218       2023        202306      2023W22            60.0   \n",
       "14196273       2023        202306      2023W24            74.0   \n",
       "14196319       2023        202306      2023W23             2.0   \n",
       "\n",
       "         SUBSIDIARY_NAME CAPTIVE_CHANNEL_FLAG COMPANY_CODE DIVISION_NAME  \\\n",
       "2                  LGEAI          Non Captive           HE           LTV   \n",
       "6                  LGEAI          Non Captive           HE           LTV   \n",
       "8                  LGEAI          Non Captive           HE           LTV   \n",
       "9                  LGEAI          Non Captive           HE           LTV   \n",
       "10                 LGEAI          Non Captive           HE           LTV   \n",
       "...                  ...                  ...          ...           ...   \n",
       "14195787           LGEIL          Non Captive           HA  RAC DIVISION   \n",
       "14195823           LGEIL              Captive           HA           W/M   \n",
       "14196218           LGEIL          Non Captive           HE           LTV   \n",
       "14196273           LGEIL              Captive           HE           LTV   \n",
       "14196319           LGEIL              Captive           HE           LTV   \n",
       "\n",
       "           MODEL_CODE        PARTS_NO1  ... KEY_PARTS_REMARK4  \\\n",
       "2         50UN7300AUD  LGE_PARTS_15608  ...              None   \n",
       "6         55UN7300AUD   LGE_PARTS_5204  ...              None   \n",
       "8         55UN7000PUB  LGE_PARTS_17357  ...              None   \n",
       "9         OLED55CXPUA  LGE_PARTS_14364  ...              None   \n",
       "10        OLED55CXPUA  LGE_PARTS_20646  ...              None   \n",
       "...               ...              ...  ...               ...   \n",
       "14195787   PS-Q19JNXE             None  ...              None   \n",
       "14195823   FHD2112STB   LGE_PARTS_7352  ...              None   \n",
       "14196218  43LM5620PTA  LGE_PARTS_27082  ...              None   \n",
       "14196273  43UQ7550PSF  LGE_PARTS_27082  ...              None   \n",
       "14196319    OLED55C7T             None  ...              None   \n",
       "\n",
       "         KEY_PARTS_REMARK5 PREV_KEY_PARTS_REMARK1 PREV_KEY_PARTS_REMARK2  \\\n",
       "2                     None                   Main                   None   \n",
       "6                     None                   Main                   None   \n",
       "8                     None              LED Array                   None   \n",
       "9                     None                   None                   None   \n",
       "10                    None                   None                   None   \n",
       "...                    ...                    ...                    ...   \n",
       "14195787              None                   None                   None   \n",
       "14195823              None                   None                   None   \n",
       "14196218              None                   None                   None   \n",
       "14196273              None                   None                   None   \n",
       "14196319              None                   None                   None   \n",
       "\n",
       "         PREV_KEY_PARTS_REMARK3 PREV_KEY_PARTS_REMARK4 PREV_KEY_PARTS_REMARK5  \\\n",
       "2                          None                   None                   None   \n",
       "6                          None                   None                   None   \n",
       "8                          None                   None                   None   \n",
       "9                          None                   None                   None   \n",
       "10                         None                   None                   None   \n",
       "...                         ...                    ...                    ...   \n",
       "14195787                   None                   None                   None   \n",
       "14195823                   None                   None                   None   \n",
       "14196218                   None                   None                   None   \n",
       "14196273                   None                   None                   None   \n",
       "14196319                   None                   None                   None   \n",
       "\n",
       "         MULTICLAIM               PREV_RECEIPT_SYMPTOM REPAIR_PERIOD  \n",
       "2                 2                              Power            10  \n",
       "6                 2                            Network             0  \n",
       "8                 2                              Video             3  \n",
       "9                 2                              Power             4  \n",
       "10                2                              Power             0  \n",
       "...             ...                                ...           ...  \n",
       "14195787          1                      Specification             0  \n",
       "14195823          2                  Water/Suds Issues             0  \n",
       "14196218          2  How to: Installation and Settings             0  \n",
       "14196273          2  How to: Installation and Settings             0  \n",
       "14196319          2  How to: Installation and Settings             0  \n",
       "\n",
       "[166976 rows x 72 columns]"
      ]
     },
     "execution_count": 16,
     "metadata": {},
     "output_type": "execute_result"
    }
   ],
   "source": [
    "# 현재 전수 증상과 이전 접수증상 분석\n",
    "print(len(df[df['RECEIPT_SYMPTOM']==df['PREV_RECEIPT_SYMPTOM']])/len(df))\n",
    "print(len(df[df['RECEIPT_SYMPTOM']==df['PREV_RECEIPT_SYMPTOM']])/len(df[df['RECLAIM']==1]))\n",
    "df[df['RECEIPT_SYMPTOM']==df['PREV_RECEIPT_SYMPTOM']]"
   ]
  },
  {
   "cell_type": "code",
   "execution_count": null,
   "metadata": {},
   "outputs": [],
   "source": []
  },
  {
   "cell_type": "code",
   "execution_count": 17,
   "metadata": {},
   "outputs": [
    {
     "data": {
      "text/plain": [
       "SVC_TYPE\n",
       "IS    6424716\n",
       "IH    3663956\n",
       "MS    3625946\n",
       "CI      74542\n",
       "PD      62296\n",
       "CD      21311\n",
       "DI       8393\n",
       "ID        116\n",
       "Name: count, dtype: int64"
      ]
     },
     "execution_count": 17,
     "metadata": {},
     "output_type": "execute_result"
    }
   ],
   "source": [
    "df['SVC_TYPE'].value_counts()"
   ]
  },
  {
   "cell_type": "code",
   "execution_count": 18,
   "metadata": {},
   "outputs": [
    {
     "data": {
      "text/plain": [
       "WARRANTY_TYPE\n",
       "IW        9825457\n",
       "OW        3367580\n",
       "EW         264424\n",
       "P          154439\n",
       "EP         114815\n",
       "OZ          81053\n",
       "EM          52205\n",
       "IG          20094\n",
       "OG           1204\n",
       "<NULL>          5\n",
       "Name: count, dtype: int64"
      ]
     },
     "execution_count": 18,
     "metadata": {},
     "output_type": "execute_result"
    }
   ],
   "source": [
    "df['WARRANTY_TYPE'].value_counts()\n"
   ]
  },
  {
   "cell_type": "code",
   "execution_count": 19,
   "metadata": {},
   "outputs": [
    {
     "data": {
      "text/plain": [
       "SUBSIDIARY_NAME\n",
       "LGEIL    12784922\n",
       "LGEAI     1096354\n",
       "Name: count, dtype: int64"
      ]
     },
     "execution_count": 19,
     "metadata": {},
     "output_type": "execute_result"
    }
   ],
   "source": [
    "df['SUBSIDIARY_NAME'].value_counts()\n"
   ]
  },
  {
   "cell_type": "code",
   "execution_count": null,
   "metadata": {},
   "outputs": [],
   "source": []
  },
  {
   "cell_type": "markdown",
   "metadata": {},
   "source": [
    "# 미국 인도 비교"
   ]
  },
  {
   "cell_type": "code",
   "execution_count": 20,
   "metadata": {},
   "outputs": [
    {
     "data": {
      "text/plain": [
       "(13881276, 72)"
      ]
     },
     "execution_count": 20,
     "metadata": {},
     "output_type": "execute_result"
    }
   ],
   "source": [
    "df.shape"
   ]
  },
  {
   "cell_type": "code",
   "execution_count": 21,
   "metadata": {},
   "outputs": [],
   "source": [
    "reserv_df = df[df['RECLAIM']==1]"
   ]
  },
  {
   "cell_type": "code",
   "execution_count": 22,
   "metadata": {},
   "outputs": [
    {
     "name": "stdout",
     "output_type": "stream",
     "text": [
      "df size: (13881276, 72)\n",
      "reserv_df size: (431848, 72)\n"
     ]
    }
   ],
   "source": [
    "print('df size:',df.shape)\n",
    "print('reserv_df size:',reserv_df.shape)"
   ]
  },
  {
   "cell_type": "code",
   "execution_count": 23,
   "metadata": {},
   "outputs": [],
   "source": [
    "usa_df = reserv_df[reserv_df['SUBSIDIARY_NAME'] == 'LGEAI']\n",
    "india_df = reserv_df[reserv_df['SUBSIDIARY_NAME'] == 'LGEIL']"
   ]
  },
  {
   "cell_type": "markdown",
   "metadata": {},
   "source": [
    "## 재서비스율 비교"
   ]
  },
  {
   "cell_type": "code",
   "execution_count": 24,
   "metadata": {},
   "outputs": [
    {
     "name": "stdout",
     "output_type": "stream",
     "text": [
      "미국 재서비스율\n",
      "0.08651858797432216\n",
      "인도 재서비스율\n",
      "0.026358627764799816\n"
     ]
    }
   ],
   "source": [
    "print('미국 재서비스율')\n",
    "print(len(usa_df)/len(df[df['SUBSIDIARY_NAME']=='LGEAI']))\n",
    "\n",
    "print('인도 재서비스율')\n",
    "print(len(india_df)/len(df[df['SUBSIDIARY_NAME']=='LGEIL']))"
   ]
  },
  {
   "cell_type": "markdown",
   "metadata": {},
   "source": [
    "## 수리기간 비교"
   ]
  },
  {
   "cell_type": "code",
   "execution_count": 25,
   "metadata": {},
   "outputs": [
    {
     "data": {
      "text/plain": [
       "count    94855.000000\n",
       "mean         3.320500\n",
       "std         10.422573\n",
       "min          0.000000\n",
       "25%          0.000000\n",
       "50%          0.000000\n",
       "75%          0.000000\n",
       "max        300.000000\n",
       "Name: REPAIR_PERIOD, dtype: float64"
      ]
     },
     "metadata": {},
     "output_type": "display_data"
    },
    {
     "name": "stdout",
     "output_type": "stream",
     "text": [
      "********************************************\n"
     ]
    },
    {
     "data": {
      "text/plain": [
       "count    336993.000000\n",
       "mean          0.228064\n",
       "std           1.733933\n",
       "min           0.000000\n",
       "25%           0.000000\n",
       "50%           0.000000\n",
       "75%           0.000000\n",
       "max         135.000000\n",
       "Name: REPAIR_PERIOD, dtype: float64"
      ]
     },
     "metadata": {},
     "output_type": "display_data"
    }
   ],
   "source": [
    "\n",
    "display(usa_df['REPAIR_PERIOD'].describe())\n",
    "print('********************************************')\n",
    "\n",
    "display(india_df['REPAIR_PERIOD'].describe())"
   ]
  },
  {
   "cell_type": "code",
   "execution_count": 26,
   "metadata": {},
   "outputs": [
    {
     "data": {
      "image/png": "[encoded data removed]",
      "text/plain": [
       "<Figure size 1200x500 with 2 Axes>"
      ]
     },
     "metadata": {},
     "output_type": "display_data"
    }
   ],
   "source": [
    "# Figure 및 Axes 생성\n",
    "fig, axes = plt.subplots(1, 2, figsize=(12, 5))\n",
    "\n",
    "# 첫 번째 서브플롯: 히스토그램\n",
    "axes[0].hist(usa_df['REPAIR_PERIOD'], bins=10, alpha=0.5, color='navy')\n",
    "axes[0].set_title('Distribution of REPAIR_PERIOD in USA')\n",
    "axes[0].set_xlabel('REPAIR_PERIOD')\n",
    "axes[0].set_ylabel('Frequency')\n",
    "\n",
    "# 두 번째 서브플롯: 박스플롯\n",
    "axes[1].boxplot(usa_df['REPAIR_PERIOD'], vert=False, widths=0.7, patch_artist=True, boxprops=dict(facecolor='navy', color='navy'))\n",
    "axes[1].set_title('Boxplot of REPAIR_PERIOD in USA')\n",
    "axes[1].set_xlabel('REPAIR_PERIOD')\n",
    "\n",
    "# 서브플롯 간의 간격 조절\n",
    "plt.tight_layout()\n",
    "\n",
    "# 그래프 표시\n",
    "plt.show()"
   ]
  },
  {
   "cell_type": "code",
   "execution_count": 27,
   "metadata": {},
   "outputs": [
    {
     "data": {
      "image/png": "[encoded data removed]",
      "text/plain": [
       "<Figure size 1200x500 with 2 Axes>"
      ]
     },
     "metadata": {},
     "output_type": "display_data"
    }
   ],
   "source": [
    "# Figure 및 Axes 생성\n",
    "fig, axes = plt.subplots(1, 2, figsize=(12, 5))\n",
    "\n",
    "# 첫 번째 서브플롯: 히스토그램\n",
    "axes[0].hist(india_df['REPAIR_PERIOD'], bins=10, alpha=0.5, color='orange')\n",
    "axes[0].set_title('Distribution of REPAIR_PERIOD in USA')\n",
    "axes[0].set_xlabel('REPAIR_PERIOD')\n",
    "axes[0].set_ylabel('Frequency')\n",
    "\n",
    "# 두 번째 서브플롯: 박스플롯\n",
    "axes[1].boxplot(india_df['REPAIR_PERIOD'], vert=False, widths=0.7, patch_artist=True, boxprops=dict(facecolor='blue', color='blue'))\n",
    "axes[1].set_title('Boxplot of REPAIR_PERIOD in USA')\n",
    "axes[1].set_xlabel('REPAIR_PERIOD')\n",
    "\n",
    "# 서브플롯 간의 간격 조절\n",
    "plt.tight_layout()\n",
    "\n",
    "# 그래프 표시\n",
    "plt.show()"
   ]
  },
  {
   "cell_type": "code",
   "execution_count": 28,
   "metadata": {},
   "outputs": [
    {
     "data": {
      "image/png": "[encoded data removed]",
      "text/plain": [
       "<Figure size 640x480 with 1 Axes>"
      ]
     },
     "metadata": {},
     "output_type": "display_data"
    }
   ],
   "source": [
    "# 히스토그램 그리기\n",
    "plt.hist(usa_df['REPAIR_PERIOD'], bins=10, alpha=0.5, label='USA')\n",
    "plt.hist(india_df['REPAIR_PERIOD'], bins=10, alpha=0.5, label='India')\n",
    "\n",
    "# 그래프 제목 및 레이블 설정\n",
    "plt.title('Distribution of REPAIR_PERIOD in USA and India')\n",
    "plt.xlabel('REPAIR_PERIOD')\n",
    "plt.ylabel('Frequency')\n",
    "\n",
    "# 범례 추가\n",
    "plt.legend()\n",
    "\n",
    "# 그래프 표시\n",
    "plt.show()"
   ]
  },
  {
   "cell_type": "markdown",
   "metadata": {},
   "source": [
    "## 재서비스 기간(이전 서비스와 재서비스 접수 사이의 기간) 비교"
   ]
  },
  {
   "cell_type": "code",
   "execution_count": 29,
   "metadata": {},
   "outputs": [
    {
     "data": {
      "text/plain": [
       "count    94855.00000\n",
       "mean        23.64024\n",
       "std         26.57486\n",
       "min        -89.00000\n",
       "25%          5.00000\n",
       "50%         15.00000\n",
       "75%         40.00000\n",
       "max         89.00000\n",
       "Name: RECLAIM_PERIOD, dtype: float64"
      ]
     },
     "metadata": {},
     "output_type": "display_data"
    },
    {
     "name": "stdout",
     "output_type": "stream",
     "text": [
      "미국\n",
      "***********\n",
      "인도\n"
     ]
    },
    {
     "data": {
      "text/plain": [
       "count    336993.000000\n",
       "mean         34.507746\n",
       "std          28.958153\n",
       "min         -89.000000\n",
       "25%          10.000000\n",
       "50%          31.000000\n",
       "75%          58.000000\n",
       "max          89.000000\n",
       "Name: RECLAIM_PERIOD, dtype: float64"
      ]
     },
     "metadata": {},
     "output_type": "display_data"
    }
   ],
   "source": [
    "display(usa_df['RECLAIM_PERIOD'].describe())\n",
    "print('미국')\n",
    "print('***********')\n",
    "print('인도')\n",
    "display(india_df['RECLAIM_PERIOD'].describe())"
   ]
  },
  {
   "cell_type": "code",
   "execution_count": null,
   "metadata": {},
   "outputs": [],
   "source": []
  },
  {
   "cell_type": "code",
   "execution_count": null,
   "metadata": {},
   "outputs": [],
   "source": []
  },
  {
   "cell_type": "code",
   "execution_count": 30,
   "metadata": {},
   "outputs": [
    {
     "name": "stdout",
     "output_type": "stream",
     "text": [
      "82\n"
     ]
    },
    {
     "data": {
      "text/plain": [
       "ENGINEER_REPAIR\n",
       "Sealed System Repair                23907\n",
       "Part replaced-mechanical (ref#)     23078\n",
       "Part replaced-electrical (ref#)     16402\n",
       "Customer education                   7119\n",
       "Adjustment  internal (give ref#)     5007\n",
       "                                    ...  \n",
       "LED PKG Exchange                        1\n",
       "CONNECTOR X4 replacement                1\n",
       "MSD base replacement                    1\n",
       "Pipe ass'y Inlet replacement            1\n",
       "VITM replacement                        1\n",
       "Name: count, Length: 82, dtype: int64"
      ]
     },
     "execution_count": 30,
     "metadata": {},
     "output_type": "execute_result"
    }
   ],
   "source": [
    "print(len(usa_df['ENGINEER_REPAIR'].value_counts()))\n",
    "usa_df['ENGINEER_REPAIR'].value_counts()"
   ]
  },
  {
   "cell_type": "code",
   "execution_count": 31,
   "metadata": {},
   "outputs": [
    {
     "name": "stdout",
     "output_type": "stream",
     "text": [
      "42\n"
     ]
    },
    {
     "data": {
      "text/plain": [
       "ENGINEER_REPAIR\n",
       "Parts replaced                                   127645\n",
       "Installation of new product                       48416\n",
       "Demo given                                        28410\n",
       "Gas Charging                                      21342\n",
       "Internal adjustment                               15509\n",
       "Compressor Replaced                               13599\n",
       "Wet/Preventive Maintenance                        12070\n",
       "External adjustment                               12031\n",
       "Module/Array/Open Cell Replacement                10695\n",
       "DRY SERVICE                                        9924\n",
       "Set Found OK                                       6745\n",
       "Explanation Done                                   6339\n",
       "Clean set internally                               4858\n",
       "Clean Filter                                       3773\n",
       "O/W Estimate given                                 3739\n",
       "Re-Installation                                    3280\n",
       "Accessory Sale                                     3059\n",
       "Drum Replacement                                   2051\n",
       "Set Replacement (Dealer)                           1401\n",
       "Set Replacement (Customer)                          711\n",
       "Adjust by remote                                    474\n",
       "Provide Missing/ Damaged Accessory                  366\n",
       "Connection made proper                              154\n",
       "Denting / Painting                                  123\n",
       "Clean Remote PCB                                     62\n",
       "Additional Gas Charge                                60\n",
       "Software Update                                      57\n",
       "Replacement(Component,Module)                        38\n",
       "Dry solder removed                                   11\n",
       "Product accessory exchange                           10\n",
       "Repaired electrical parts                             8\n",
       "Preventive parts replacement                          7\n",
       "Repaired mechanical parts                             7\n",
       "PART REPLACED OTHER INTERNAL                          4\n",
       "Product exchange                                      4\n",
       "Parts Repl.-Others                                    4\n",
       "PART REPLACED OTHER EXTERNAL                          2\n",
       "Other-Others                                          1\n",
       "Preventive action without parts replacement           1\n",
       "Product exchange (on request of manufacturer)         1\n",
       "Dead-On-Arrival Part                                  1\n",
       "Clean Cond / Eva coil                                 1\n",
       "Name: count, dtype: int64"
      ]
     },
     "execution_count": 31,
     "metadata": {},
     "output_type": "execute_result"
    }
   ],
   "source": [
    "print(len(india_df['ENGINEER_REPAIR'].value_counts()))\n",
    "india_df['ENGINEER_REPAIR'].value_counts()"
   ]
  },
  {
   "cell_type": "code",
   "execution_count": 32,
   "metadata": {},
   "outputs": [
    {
     "name": "stdout",
     "output_type": "stream",
     "text": [
      "128\n"
     ]
    },
    {
     "data": {
      "text/plain": [
       "RECEIPT_SYMPTOM\n",
       "Cooling                                 24492\n",
       "FIX                                      7261\n",
       "Icemaker                                 7101\n",
       "Noise                                    5643\n",
       "Leaking                                  4132\n",
       "                                        ...  \n",
       "Troubleshooting - Network Connection        1\n",
       "(PCC)Error/Display                          1\n",
       "(PCC)Water Supply                           1\n",
       "(PCC)Drying                                 1\n",
       "Inquiry                                     1\n",
       "Name: count, Length: 128, dtype: int64"
      ]
     },
     "execution_count": 32,
     "metadata": {},
     "output_type": "execute_result"
    }
   ],
   "source": [
    "print(len(usa_df['RECEIPT_SYMPTOM'].value_counts()))\n",
    "usa_df['RECEIPT_SYMPTOM'].value_counts()"
   ]
  },
  {
   "cell_type": "code",
   "execution_count": 33,
   "metadata": {},
   "outputs": [
    {
     "name": "stdout",
     "output_type": "stream",
     "text": [
      "151\n"
     ]
    },
    {
     "data": {
      "text/plain": [
       "RECEIPT_SYMPTOM\n",
       "Power Issues                                                                                                                                                                                                                                 52887\n",
       "Specification                                                                                                                                                                                                                                44955\n",
       "Cooling Issues                                                                                                                                                                                                                               35988\n",
       "How to: Installation and Settings                                                                                                                                                                                                            29769\n",
       "TS: Temperature                                                                                                                                                                                                                              18093\n",
       "                                                                                                                                                                                                                                             ...  \n",
       "\"Post-IB : V23.10, Pincode-Existing Profile, TRCD-#SNA#, SVC Type-IH, CF No.-7030509737, PC-Refrigerator, SPC-Direct Cool (Single Door), Model No.-GL-205KA5, Symp-Power Issues, WTY-IW, Req Date-19-Mar-23,  [], Time : 19-03-23, 16:06\"        1\n",
       "Installation and connection                                                                                                                                                                                                                      1\n",
       "related to sensor                                                                                                                                                                                                                                1\n",
       "Alerts\\Sound                                                                                                                                                                                                                                     1\n",
       "Miscellaneous                                                                                                                                                                                                                                    1\n",
       "Name: count, Length: 151, dtype: int64"
      ]
     },
     "execution_count": 33,
     "metadata": {},
     "output_type": "execute_result"
    }
   ],
   "source": [
    "print(len(india_df['RECEIPT_SYMPTOM'].value_counts()))\n",
    "india_df['RECEIPT_SYMPTOM'].value_counts()"
   ]
  },
  {
   "cell_type": "markdown",
   "metadata": {},
   "source": [
    "# 직영 외주 비교"
   ]
  },
  {
   "cell_type": "code",
   "execution_count": 34,
   "metadata": {},
   "outputs": [],
   "source": [
    "cap_df = reserv_df[reserv_df['CAPTIVE_CHANNEL_FLAG'] == 'Captive']\n",
    "nocap_df = reserv_df[reserv_df['CAPTIVE_CHANNEL_FLAG'] == 'Non Captive']"
   ]
  },
  {
   "cell_type": "markdown",
   "metadata": {},
   "source": [
    "### 재서비스율 비교"
   ]
  },
  {
   "cell_type": "code",
   "execution_count": 35,
   "metadata": {},
   "outputs": [
    {
     "name": "stdout",
     "output_type": "stream",
     "text": [
      "직영 재서비스율\n",
      "0.03190834850788334\n",
      "외주 재서비스율\n",
      "0.029656446872086833\n"
     ]
    }
   ],
   "source": [
    "print('직영 재서비스율')\n",
    "print(len(cap_df)/len(df[df['CAPTIVE_CHANNEL_FLAG']=='Captive']))\n",
    "\n",
    "print('외주 재서비스율')\n",
    "print(len(nocap_df)/len(df[df['CAPTIVE_CHANNEL_FLAG']=='Non Captive']))"
   ]
  },
  {
   "cell_type": "markdown",
   "metadata": {},
   "source": [
    "### 수리기간 비교"
   ]
  },
  {
   "cell_type": "code",
   "execution_count": 36,
   "metadata": {},
   "outputs": [
    {
     "data": {
      "text/plain": [
       "count    285922.000000\n",
       "mean          0.288421\n",
       "std           2.036477\n",
       "min           0.000000\n",
       "25%           0.000000\n",
       "50%           0.000000\n",
       "75%           0.000000\n",
       "max         135.000000\n",
       "Name: REPAIR_PERIOD, dtype: float64"
      ]
     },
     "metadata": {},
     "output_type": "display_data"
    },
    {
     "name": "stdout",
     "output_type": "stream",
     "text": [
      "********************************************\n"
     ]
    },
    {
     "data": {
      "text/plain": [
       "count    145926.000000\n",
       "mean          2.119951\n",
       "std           8.488734\n",
       "min           0.000000\n",
       "25%           0.000000\n",
       "50%           0.000000\n",
       "75%           0.000000\n",
       "max         300.000000\n",
       "Name: REPAIR_PERIOD, dtype: float64"
      ]
     },
     "metadata": {},
     "output_type": "display_data"
    }
   ],
   "source": [
    "display(cap_df['REPAIR_PERIOD'].describe())\n",
    "print('********************************************')\n",
    "\n",
    "display(nocap_df['REPAIR_PERIOD'].describe())"
   ]
  },
  {
   "cell_type": "code",
   "execution_count": 38,
   "metadata": {},
   "outputs": [
    {
     "data": {
      "image/png": "[encoded data removed]",
      "text/plain": [
       "<Figure size 1200x500 with 2 Axes>"
      ]
     },
     "metadata": {},
     "output_type": "display_data"
    }
   ],
   "source": [
    "#직영\n",
    "\n",
    "# Figure 및 Axes 생성\n",
    "fig, axes = plt.subplots(1, 2, figsize=(12, 5))\n",
    "\n",
    "# 첫 번째 서브플롯: 히스토그램\n",
    "axes[0].hist(cap_df['REPAIR_PERIOD'], bins=10, alpha=0.5, color='orange')\n",
    "axes[0].set_title('Distribution of REPAIR_PERIOD in USA')\n",
    "axes[0].set_xlabel('REPAIR_PERIOD')\n",
    "axes[0].set_ylabel('Frequency')\n",
    "\n",
    "# 두 번째 서브플롯: 박스플롯\n",
    "axes[1].boxplot(cap_df['REPAIR_PERIOD'], vert=False, widths=0.7, patch_artist=True, boxprops=dict(facecolor='blue', color='blue'))\n",
    "axes[1].set_title('Boxplot of REPAIR_PERIOD in USA')\n",
    "axes[1].set_xlabel('REPAIR_PERIOD')\n",
    "\n",
    "# 서브플롯 간의 간격 조절\n",
    "plt.tight_layout()\n",
    "\n",
    "# 그래프 표시\n",
    "plt.show()"
   ]
  },
  {
   "cell_type": "code",
   "execution_count": 39,
   "metadata": {},
   "outputs": [
    {
     "data": {
      "image/png": "[encoded data removed]",
      "text/plain": [
       "<Figure size 1200x500 with 2 Axes>"
      ]
     },
     "metadata": {},
     "output_type": "display_data"
    }
   ],
   "source": [
    "# Figure 및 Axes 생성\n",
    "fig, axes = plt.subplots(1, 2, figsize=(12, 5))\n",
    "\n",
    "# 첫 번째 서브플롯: 히스토그램\n",
    "axes[0].hist(nocap_df['REPAIR_PERIOD'], bins=10, alpha=0.5, color='navy')\n",
    "axes[0].set_title('Distribution of REPAIR_PERIOD in USA')\n",
    "axes[0].set_xlabel('REPAIR_PERIOD')\n",
    "axes[0].set_ylabel('Frequency')\n",
    "\n",
    "# 두 번째 서브플롯: 박스플롯\n",
    "axes[1].boxplot(nocap_df['REPAIR_PERIOD'], vert=False, widths=0.7, patch_artist=True, boxprops=dict(facecolor='navy', color='navy'))\n",
    "axes[1].set_title('Boxplot of REPAIR_PERIOD in USA')\n",
    "axes[1].set_xlabel('REPAIR_PERIOD')\n",
    "\n",
    "# 서브플롯 간의 간격 조절\n",
    "plt.tight_layout()\n",
    "\n",
    "# 그래프 표시\n",
    "plt.show()"
   ]
  },
  {
   "cell_type": "code",
   "execution_count": 42,
   "metadata": {},
   "outputs": [
    {
     "data": {
      "image/png": "[encoded data removed]",
      "text/plain": [
       "<Figure size 640x480 with 1 Axes>"
      ]
     },
     "metadata": {},
     "output_type": "display_data"
    }
   ],
   "source": [
    "# 히스토그램 그리기\n",
    "plt.hist(cap_df['REPAIR_PERIOD'], bins=10, alpha=0.5, label='cap')\n",
    "plt.hist(nocap_df['REPAIR_PERIOD'], bins=10, alpha=0.5, label='nocap')\n",
    "\n",
    "# 그래프 제목 및 레이블 설정\n",
    "plt.title('Distribution of REPAIR_PERIOD in USA and India')\n",
    "plt.xlabel('REPAIR_PERIOD')\n",
    "plt.ylabel('Frequency')\n",
    "\n",
    "# 범례 추가\n",
    "plt.legend()\n",
    "\n",
    "# 그래프 표시\n",
    "plt.show()"
   ]
  },
  {
   "cell_type": "markdown",
   "metadata": {},
   "source": [
    "## 재서비스 기간(이전 서비스와 재서비스 접수 사이의 기간) 비교"
   ]
  },
  {
   "cell_type": "code",
   "execution_count": 43,
   "metadata": {},
   "outputs": [
    {
     "data": {
      "text/plain": [
       "count    285922.000000\n",
       "mean         33.602997\n",
       "std          27.883205\n",
       "min         -89.000000\n",
       "25%           9.000000\n",
       "50%          29.000000\n",
       "75%          56.000000\n",
       "max          89.000000\n",
       "Name: RECLAIM_PERIOD, dtype: float64"
      ]
     },
     "metadata": {},
     "output_type": "display_data"
    },
    {
     "name": "stdout",
     "output_type": "stream",
     "text": [
      "직영\n",
      "***********\n",
      "외주\n"
     ]
    },
    {
     "data": {
      "text/plain": [
       "count    145926.000000\n",
       "mean         29.216370\n",
       "std          30.322123\n",
       "min         -89.000000\n",
       "25%           6.000000\n",
       "50%          24.000000\n",
       "75%          53.000000\n",
       "max          89.000000\n",
       "Name: RECLAIM_PERIOD, dtype: float64"
      ]
     },
     "metadata": {},
     "output_type": "display_data"
    }
   ],
   "source": [
    "display(cap_df['RECLAIM_PERIOD'].describe())\n",
    "print('직영')\n",
    "print('***********')\n",
    "print('외주')\n",
    "display(nocap_df['RECLAIM_PERIOD'].describe())"
   ]
  },
  {
   "cell_type": "code",
   "execution_count": null,
   "metadata": {},
   "outputs": [],
   "source": []
  }
 ],
 "metadata": {
  "kernelspec": {
   "display_name": "Python 3",
   "language": "python",
   "name": "python3"
  },
  "language_info": {
   "codemirror_mode": {
    "name": "ipython",
    "version": 3
   },
   "file_extension": ".py",
   "mimetype": "text/x-python",
   "name": "python",
   "nbconvert_exporter": "python",
   "pygments_lexer": "ipython3",
   "version": "3.12.0"
  }
 },
 "nbformat": 4,
 "nbformat_minor": 2
}
