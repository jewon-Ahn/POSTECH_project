{
 "cells": [
  {
   "cell_type": "code",
   "execution_count": null,
   "metadata": {},
   "outputs": [],
   "source": [
    "import pandas as pd\n",
    "from tqdm import tqdm\n",
    "df = pd.read_parquet('postech_company_project.parquet')\n"
   ]
  },
  {
   "cell_type": "code",
   "execution_count": null,
   "metadata": {},
   "outputs": [],
   "source": [
    "df.head()"
   ]
  },
  {
   "cell_type": "code",
   "execution_count": null,
   "metadata": {},
   "outputs": [],
   "source": [
    "df = df.drop(['YEAR_YYYY', 'MONTH_YYYYMM'], axis=1)\n",
    "\n",
    "columns_to_drop = ['PARTS_NO1', 'PARTS_NO2', 'PARTS_NO3', 'PARTS_NO4', 'PARTS_NO5',\n",
    "                   'PREV_PARTS_NO1', 'PREV_PARTS_NO2', 'PREV_PARTS_NO3', 'PREV_PARTS_NO4', 'PREV_PARTS_NO5',\n",
    "                   'PARTS_DESC1', 'PARTS_DESC2', 'PARTS_DESC3', 'PARTS_DESC4', 'PARTS_DESC5',\n",
    "                   'PREV_PARTS_DESC1', 'PREV_PARTS_DESC2', 'PREV_PARTS_DESC3', 'PREV_PARTS_DESC4', 'PREV_PARTS_DESC5']\n",
    "\n",
    "df = df.drop(columns_to_drop, axis=1)\n",
    "columns_to_drop = ['KEY_PARTS1', 'KEY_PARTS2', 'KEY_PARTS3', 'KEY_PARTS4', 'KEY_PARTS5',\n",
    "                   'PREV_KEY_PARTS1', 'PREV_KEY_PARTS2', 'PREV_KEY_PARTS3', 'PREV_KEY_PARTS4', 'PREV_KEY_PARTS5',\n",
    "                   'KEY_PARTS_REMARK1', 'KEY_PARTS_REMARK2', 'KEY_PARTS_REMARK3', 'KEY_PARTS_REMARK4', 'KEY_PARTS_REMARK5',\n",
    "                   'PREV_KEY_PARTS_REMARK1', 'PREV_KEY_PARTS_REMARK2', 'PREV_KEY_PARTS_REMARK3', 'PREV_KEY_PARTS_REMARK4', 'PREV_KEY_PARTS_REMARK5']\n",
    "\n",
    "df = df.drop(columns_to_drop, axis=1)\n",
    "\n",
    "print(df)"
   ]
  },
  {
   "cell_type": "code",
   "execution_count": null,
   "metadata": {},
   "outputs": [],
   "source": [
    "df.head()"
   ]
  },
  {
   "cell_type": "markdown",
   "metadata": {},
   "source": [
    " \"RECEIPT_NUMBER\" 및 \"PREV_RECEIPT_NUMBER\" 열에서 \"LGE_REC_\" 부분 제거 및 문자열을 숫자로 변환\n",
    " 기존 데이터를 바탕으로 다음 재수리가 발생하는지 확인 할때 숫자값만을 이용해서 인덱스로 빠르게 데이터 가공하기 위함"
   ]
  },
  {
   "cell_type": "code",
   "execution_count": null,
   "metadata": {},
   "outputs": [],
   "source": [
    "df['RECEIPT_NUMBER'] = df['RECEIPT_NUMBER'].str.replace('LGE_REC_', '').astype(int, errors='ignore')\n",
    "df['PREV_RECEIPT_NUMBER'] = df['PREV_RECEIPT_NUMBER'].str.replace('LGE_REC_', '').astype(int, errors='ignore')"
   ]
  },
  {
   "cell_type": "code",
   "execution_count": null,
   "metadata": {},
   "outputs": [],
   "source": [
    "df.set_index('RECEIPT_NUMBER', inplace=True)"
   ]
  },
  {
   "cell_type": "code",
   "execution_count": null,
   "metadata": {},
   "outputs": [],
   "source": [
    "df['NEXT_RECLAIM'] = 0  # \"NEXT_RECLAIM\" 열을 초기화\n",
    "\n",
    "for index, row in tqdm(df.iterrows(), total=len(df)):\n",
    "    prev_receipt_number = row['PREV_RECEIPT_NUMBER']\n",
    "    if not pd.isna(prev_receipt_number):\n",
    "        prev_receipt_number = int(prev_receipt_number)\n",
    "        if prev_receipt_number in df.index:\n",
    "            df.at[prev_receipt_number, 'NEXT_RECLAIM'] = 1"
   ]
  },
  {
   "cell_type": "code",
   "execution_count": null,
   "metadata": {},
   "outputs": [],
   "source": [
    "print(df.columns)"
   ]
  },
  {
   "cell_type": "markdown",
   "metadata": {},
   "source": [
    "각 데이터의 유니크값 확인"
   ]
  },
  {
   "cell_type": "code",
   "execution_count": null,
   "metadata": {},
   "outputs": [],
   "source": [
    "unique_values = df.nunique()\n",
    "for column_name, unique_count in unique_values.items():\n",
    "    unique_data = df[column_name].unique()\n",
    "    print(f\"Column: {column_name}, Unique Count: {unique_count}\")\n",
    "    print(unique_data)\n",
    "    print()"
   ]
  },
  {
   "cell_type": "markdown",
   "metadata": {},
   "source": [
    "엔지니어 숫자 확인"
   ]
  },
  {
   "cell_type": "code",
   "execution_count": null,
   "metadata": {},
   "outputs": [],
   "source": [
    "engineer_counts = df.groupby('CENTER_CODE')['ENGINEER_CODE'].unique()\n",
    "print(engineer_counts)\n"
   ]
  },
  {
   "cell_type": "markdown",
   "metadata": {},
   "source": [
    "1명이상의 엔지니어 숫자 확인"
   ]
  },
  {
   "cell_type": "code",
   "execution_count": null,
   "metadata": {},
   "outputs": [],
   "source": [
    "result = df.groupby('CENTER_CODE').agg(\n",
    "    ENGINEER_COUNT=('ENGINEER_CODE', 'nunique'),\n",
    "    SUBSIDIARY_NAME=('SUBSIDIARY_NAME', 'first')\n",
    ")\n",
    "\n",
    "# 1개인 CENTER_CODE 제외\n",
    "filtered_result = result[result['ENGINEER_COUNT'] > 1]\n",
    "print(filtered_result)"
   ]
  },
  {
   "cell_type": "markdown",
   "metadata": {},
   "source": [
    "센터별 엔지니어 숫자와 재수리 비율 확인"
   ]
  },
  {
   "cell_type": "code",
   "execution_count": null,
   "metadata": {},
   "outputs": [],
   "source": [
    "result = df.groupby('CENTER_CODE').agg(\n",
    "    ENGINEER_COUNT=('ENGINEER_CODE', 'nunique'),\n",
    "    SUBSIDIARY_NAME=('SUBSIDIARY_NAME', 'first'),\n",
    "    RECLAIM_SUM=('RECLAIM', 'sum')\n",
    ")\n",
    "result['RECLAIM_RATIO'] = result['RECLAIM_SUM'] / result['ENGINEER_COUNT']"
   ]
  },
  {
   "cell_type": "code",
   "execution_count": null,
   "metadata": {},
   "outputs": [],
   "source": [
    "import seaborn as sns\n",
    "import matplotlib.pyplot as plt"
   ]
  },
  {
   "cell_type": "code",
   "execution_count": null,
   "metadata": {},
   "outputs": [],
   "source": [
    "sns.boxplot(x='RECLAIM_RATIO', data=result)\n",
    "plt.xlabel('RECLAIM_RATIO')\n",
    "plt.show()"
   ]
  },
  {
   "cell_type": "code",
   "execution_count": null,
   "metadata": {},
   "outputs": [],
   "source": [
    "# 날짜 형식으로 변환\n",
    "df['REPAIR_START_DATE'] = pd.to_datetime(df['REPAIR_START_DATE'], format='%Y%m%d')\n",
    "df['REPAIR_END_DATE'] = pd.to_datetime(df['REPAIR_END_DATE'], format='%Y%m%d')\n",
    "\n",
    "# 수리 걸린 시간 계산\n",
    "df['REPAIR_DURATION'] = df['REPAIR_END_DATE'] - df['REPAIR_START_DATE']"
   ]
  },
  {
   "cell_type": "markdown",
   "metadata": {},
   "source": [
    "엔지니어별 Load 계산"
   ]
  },
  {
   "cell_type": "code",
   "execution_count": null,
   "metadata": {},
   "outputs": [],
   "source": [
    "def format_date(date_str):\n",
    "    date_obj = pd.to_datetime(date_str, format='%Y%m%d')\n",
    "    week_number = date_obj.strftime('%U')\n",
    "    formatted_date = date_obj.strftime('%Y') + 'W' + week_number\n",
    "    return formatted_date\n",
    "\n",
    "df['REPAIR_START_DATE'] = df['REPAIR_START_DATE'].progress_apply(format_date)"
   ]
  },
  {
   "cell_type": "code",
   "execution_count": null,
   "metadata": {},
   "outputs": [],
   "source": [
    "for index, row in tqdm(df.iterrows(), total=len(df)):\n",
    "    week = row['REPAIR_START_DATE']\n",
    "    engineer_code = row['ENGINEER_CODE']\n",
    "    if engineer_code not in df.index:\n",
    "        df.loc[engineer_code] = 0\n",
    "    df.at[engineer_code, week] += 1"
   ]
  },
  {
   "cell_type": "code",
   "execution_count": null,
   "metadata": {},
   "outputs": [],
   "source": []
  }
 ],
 "metadata": {
  "language_info": {
   "name": "python"
  }
 },
 "nbformat": 4,
 "nbformat_minor": 2
}
