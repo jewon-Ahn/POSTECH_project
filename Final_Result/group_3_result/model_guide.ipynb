{
 "cells": [
  {
   "cell_type": "code",
   "execution_count": 22,
   "metadata": {},
   "outputs": [],
   "source": [
    "import pandas as pd\n",
    "import numpy as np\n",
    "import matplotlib.pyplot as plt\n",
    "from sklearn.manifold import TSNE\n",
    "import seaborn as sns\n",
    "import tqdm\n",
    "import re\n",
    "import torch\n",
    "import torch.nn as nn\n",
    "from tab_transformer_pytorch import TabTransformer\n",
    "\n",
    "from torch.utils.data import DataLoader, TensorDataset\n",
    "import torch.optim as optim\n",
    "from sklearn.metrics import accuracy_score, precision_score, recall_score, f1_score\n",
    "import os\n",
    "from sklearn.model_selection import train_test_split\n",
    "\n",
    "import buy_data_function as bf\n",
    "import model_function as md"
   ]
  },
  {
   "cell_type": "code",
   "execution_count": 23,
   "metadata": {},
   "outputs": [],
   "source": [
    "pd.set_option(\"display.max_column\",None)"
   ]
  },
  {
   "cell_type": "code",
   "execution_count": 24,
   "metadata": {},
   "outputs": [],
   "source": [
    "path = \"G:/내 드라이브/대학원/프로젝트/LG/\""
   ]
  },
  {
   "cell_type": "code",
   "execution_count": 25,
   "metadata": {},
   "outputs": [],
   "source": [
    "buy_data = pd.read_csv(path + \"master_buy.csv\",encoding=\"euc-kr\")\n",
    "crm_data = pd.read_csv(path + \"master_crm.csv\",encoding=\"euc-kr\")"
   ]
  },
  {
   "cell_type": "code",
   "execution_count": 26,
   "metadata": {},
   "outputs": [
    {
     "name": "stderr",
     "output_type": "stream",
     "text": [
      "c:\\Users\\PJH\\lg\\buy_data_function.py:32: SettingWithCopyWarning: \n",
      "A value is trying to be set on a copy of a slice from a DataFrame.\n",
      "Try using .loc[row_indexer,col_indexer] = value instead\n",
      "\n",
      "See the caveats in the documentation: https://pandas.pydata.org/pandas-docs/stable/user_guide/indexing.html#returning-a-view-versus-a-copy\n",
      "  buy_data[\"금액(중간값)\"] = buy_data['금액'].apply(replace_amount)\n",
      "c:\\Users\\PJH\\lg\\buy_data_function.py:33: SettingWithCopyWarning: \n",
      "A value is trying to be set on a copy of a slice from a DataFrame.\n",
      "Try using .loc[row_indexer,col_indexer] = value instead\n",
      "\n",
      "See the caveats in the documentation: https://pandas.pydata.org/pandas-docs/stable/user_guide/indexing.html#returning-a-view-versus-a-copy\n",
      "  buy_data['매출일자(배송완료일자)'] = pd.to_datetime(buy_data['매출일자(배송완료일자)'], format='%Y%m%d')\n",
      "c:\\Users\\PJH\\lg\\buy_data_function.py:34: SettingWithCopyWarning: \n",
      "A value is trying to be set on a copy of a slice from a DataFrame.\n",
      "Try using .loc[row_indexer,col_indexer] = value instead\n",
      "\n",
      "See the caveats in the documentation: https://pandas.pydata.org/pandas-docs/stable/user_guide/indexing.html#returning-a-view-versus-a-copy\n",
      "  buy_data[\"년도\"] = buy_data['매출일자(배송완료일자)'].apply(lambda x : x.year)\n",
      "c:\\Users\\PJH\\lg\\buy_data_function.py:35: SettingWithCopyWarning: \n",
      "A value is trying to be set on a copy of a slice from a DataFrame.\n",
      "Try using .loc[row_indexer,col_indexer] = value instead\n",
      "\n",
      "See the caveats in the documentation: https://pandas.pydata.org/pandas-docs/stable/user_guide/indexing.html#returning-a-view-versus-a-copy\n",
      "  buy_data[\"년월\"] = buy_data['매출일자(배송완료일자)'].apply(lambda x : x.strftime(\"%Y-%m\"))\n"
     ]
    }
   ],
   "source": [
    "#buy_data 전처리 코드\n",
    "buy_data = bf.preprocess(buy_data)\n",
    "timeseries = bf.make_timeseries(buy_data)\n",
    "#predict_2023 = bf.make_predict(timeseries)"
   ]
  },
  {
   "cell_type": "code",
   "execution_count": 27,
   "metadata": {},
   "outputs": [],
   "source": [
    "data = crm_data.copy()"
   ]
  },
  {
   "cell_type": "code",
   "execution_count": 28,
   "metadata": {},
   "outputs": [],
   "source": [
    "total_columns = crm_data.columns[1:-1]\n",
    "ordinal_column = ['케어솔루션품목수','케어십품목수','최근3년구매금액','Only&Best품목수','건강관리가전품목수',\"연령대\",\n",
    " \"아파트시세\",\"아파트평형대\",\"포인트사용빈도\",\"보유멤버십포인트\"]\n",
    "\n",
    "categorical_column = list(set(total_columns) - set(ordinal_column))"
   ]
  },
  {
   "cell_type": "code",
   "execution_count": 29,
   "metadata": {},
   "outputs": [],
   "source": [
    "ordinal = [['0품목', '1품목', '2품목', '3품목', '4품목', '5품목', '6품목', '7품목', '8품목', '9품목', '10품목↑'],\n",
    "['0품목', '1품목', '2품목', '3품목', '4품목', '5품목', '6품목', '8품목', '9품목', '10품목↑'],\n",
    "['0원','1KK미만','1KK이상3KK미만','3KK이상5KK미만','5KK이상10KK미만','10KK이상15KK미만','15KK이상20KK미만','20KK이상25KK미만','25KK이상30KK미만','30KK↑'],\n",
    "['0품목','1품목','2품목','3품목','4품목','5품목','6품목','7품목'],\n",
    "['0품목','1품목','2품목','3품목','4품목'],\n",
    "[np.nan,'10대', '20대','30대','40대','50대','60대(60~64)','60대(65~69)','70대','80대↑'],\n",
    "[np.nan,'1억↓','1~2억','3~4억','5~6억','7~8억','9~10억','11~15억','16~29억', '30억↑'],\n",
    "[np.nan,'10평대↓','10평대','20평대','30평대', '40평대','50평대','60평대','70평대↑'],\n",
    "['미사용','1~2회','3~4회','5~6회','7~8회','9~10회','11~12회','13~14회','15~16회','17~18회','19~20회','20회↑'],\n",
    "[np.nan,'1만↓','3만↓','5만↓','10만↓','20만↓','30만↓','30만↑']]"
   ]
  },
  {
   "cell_type": "code",
   "execution_count": 30,
   "metadata": {},
   "outputs": [],
   "source": [
    "#data 전처리\n",
    "data,categorical_encoder_list,categorical_mapping_list,ordinal_encoder, ordinal_mapping_list = md.preprocess(data,categorical_column,ordinal_column,ordinal)"
   ]
  },
  {
   "cell_type": "code",
   "execution_count": 31,
   "metadata": {},
   "outputs": [],
   "source": [
    "#time_series 추가하려면 사용\n",
    "data = data.merge(timeseries,on=\"고객ID\")"
   ]
  },
  {
   "cell_type": "code",
   "execution_count": 32,
   "metadata": {},
   "outputs": [],
   "source": [
    "#범주형 변수의 column 구하는 부분\n",
    "#이 때 넣을 data frame의 범주형 column순서와 같아야함\n",
    "cat_columns = data.drop(list(timeseries.columns)+[\"label\",\"고객ID\"],axis=1).columns"
   ]
  },
  {
   "cell_type": "code",
   "execution_count": 33,
   "metadata": {},
   "outputs": [],
   "source": [
    "# column별 unique한 값을 뽑는 코드\n",
    "nunique_list = []\n",
    "\n",
    "for i in cat_columns:\n",
    "    nunique_list.append(crm_data[i].nunique(dropna=False))"
   ]
  },
  {
   "cell_type": "code",
   "execution_count": 34,
   "metadata": {},
   "outputs": [],
   "source": [
    "#train_test split\n",
    "X = data.drop([\"label\",\"고객ID\",2023.0],axis=1)\n",
    "Y = data.label\n",
    "\n",
    "x_train, x_valid, y_train, y_valid = train_test_split(X, Y, test_size=0.2, shuffle=True, stratify=Y, random_state=34)"
   ]
  },
  {
   "cell_type": "code",
   "execution_count": 35,
   "metadata": {},
   "outputs": [],
   "source": [
    "#model 생성\n",
    "model = TabTransformer(\n",
    "    categories = tuple(nunique_list),   # tuple containing the number of unique values within each category\n",
    "    num_continuous = 14,                 # number of continuous values\n",
    "    dim = 32,                           # dimension, paper set at 32\n",
    "    dim_out = 1,                        # binary prediction, but could be anything\n",
    "    depth = 6,                          # depth, paper recommended 6\n",
    "    heads = 8,                          # heads, paper recommends 8\n",
    "    attn_dropout = 0.1,                 # post-attention dropout\n",
    "    ff_dropout = 0.1,                   # feed forward dropout\n",
    "    mlp_hidden_mults = (4, 2),          # relative multiples of each hidden dimension of the last mlp to logits\n",
    "    mlp_act = nn.ReLU(),                # activation for final mlp, defaults to relu, but could be anything else (selu etc)\n",
    "    last_act = nn.Sigmoid(),\n",
    "    #continuous_mean_std = cont_mean_std # (optional) - normalize the continuous values before layer norm\n",
    ")\n",
    "\n",
    "# x_categ = batch_X    # category values, from 0 - max number of categories, in the order as passed into the constructor above\n",
    "# x_cont = torch.tensor([[]])    # assume continuous values are already normalized individually\n",
    "\n",
    "# pred = model(x_categ, x_cont,return_attn = True) # (1, 1)"
   ]
  },
  {
   "cell_type": "code",
   "execution_count": 36,
   "metadata": {},
   "outputs": [],
   "source": [
    "#cuda 지정\n",
    "device = \"cuda\" if torch.cuda.is_available() else \"cpu\"\n",
    "#저장할 경로\n",
    "path = \"G:/내 드라이브/대학원/수업/lg/lg_model/model_test\""
   ]
  },
  {
   "cell_type": "code",
   "execution_count": 37,
   "metadata": {},
   "outputs": [],
   "source": [
    "#model을 사용하게 해주는 class 객체 생성\n",
    "model_controller = md.model_use(\n",
    "    model = model,\n",
    "    batch_size = 64,\n",
    "    epochs = 10,\n",
    "    device = device,\n",
    "    #범주형 변수의 수를 넣어줘야 함\n",
    "    num_cat = len(nunique_list),\n",
    "    save_path = path,\n",
    "    want_criterion=nn.BCELoss()\n",
    ")"
   ]
  },
  {
   "cell_type": "code",
   "execution_count": null,
   "metadata": {},
   "outputs": [],
   "source": [
    "#위의 지정한 경로에 모델을 자동으로 저장해 줌\n",
    "model_controller.train(train_x,train_y,valid_x,valid_y)"
   ]
  },
  {
   "cell_type": "code",
   "execution_count": null,
   "metadata": {},
   "outputs": [],
   "source": [
    "#model test 코드\n",
    "#test data에 대해 아래와 같이 4개를 반환\n",
    "embedding, accuracy, recall, f1 = model_controller.test(valid_x,valid_y)"
   ]
  },
  {
   "cell_type": "code",
   "execution_count": null,
   "metadata": {},
   "outputs": [],
   "source": [
    "#uncertainty를 사용한 코드\n",
    "#iterations만큼 반복한 평균 sigmoid값과 모델의 uncertainty를 반환해줌\n",
    "iterations = 100\n",
    "mean_array,uncertainty = model_controller.uncertainty(iterations,x_valid, y_valid)"
   ]
  },
  {
   "cell_type": "code",
   "execution_count": null,
   "metadata": {},
   "outputs": [],
   "source": [
    "#학습된 모델로 embedding된 그래프를 그려주는 코드\n",
    "model_controller.embedding_graph(X,Y,save_name=\"/test.png\")"
   ]
  },
  {
   "cell_type": "code",
   "execution_count": null,
   "metadata": {},
   "outputs": [],
   "source": [
    "#학습된 모델로 column별 embedding된 그래프를 그려주는 코드\n",
    "model_controller.column_embedding_graph(X,Y,cat_columns,categorical_column,categorical_mapping_list,ordinal_column,ordinal_mapping_list)"
   ]
  }
 ],
 "metadata": {
  "kernelspec": {
   "display_name": "lg",
   "language": "python",
   "name": "conda"
  },
  "language_info": {
   "codemirror_mode": {
    "name": "ipython",
    "version": 3
   },
   "file_extension": ".py",
   "mimetype": "text/x-python",
   "name": "python",
   "nbconvert_exporter": "python",
   "pygments_lexer": "ipython3",
   "version": "3.8.18"
  }
 },
 "nbformat": 4,
 "nbformat_minor": 2
}
