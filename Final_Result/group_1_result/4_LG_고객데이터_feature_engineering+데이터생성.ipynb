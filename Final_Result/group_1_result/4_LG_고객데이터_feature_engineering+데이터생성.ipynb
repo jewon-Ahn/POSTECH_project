{
 "cells": [
  {
   "cell_type": "markdown",
   "id": "0d1a6a95",
   "metadata": {},
   "source": [
    "# 4.1 Feature Engineering & 최종 데이터 생성"
   ]
  },
  {
   "cell_type": "markdown",
   "id": "1794eab7",
   "metadata": {},
   "source": [
    "- 각 카테고리별, 결측치 처리 방법별 모델링에 사용할 데이터 생성\n",
    "- 이 데이터를 사용하여 `5_LG_고객데이터_결측치_방법론선택.ipynb` 파일에서 각 카테고리에 맞는 결측치 처리 방법 선택"
   ]
  },
  {
   "cell_type": "code",
   "execution_count": null,
   "id": "8fe5bca2",
   "metadata": {},
   "outputs": [],
   "source": [
    "import pandas as pd\n",
    "from tqdm import tqdm\n",
    "from datetime import datetime\n",
    "\n",
    "pd.set_option('display.max_columns', None)\n"
   ]
  },
  {
   "cell_type": "code",
   "execution_count": 148,
   "id": "8cd576c2",
   "metadata": {},
   "outputs": [],
   "source": [
    "### 결측치 완료한 데이터 프레임으로 수정 필요\n",
    "# df = pd.read_csv('../data/결측치_output/결측치_f1기준_v1.csv', index_col = 0)"
   ]
  },
  {
   "cell_type": "code",
   "execution_count": 202,
   "id": "68d0a5f5",
   "metadata": {},
   "outputs": [],
   "source": [
    "# df = pd.read_csv('../data/결측치_output/결측치_CategoricalImputer.csv', index_col = 0)"
   ]
  },
  {
   "cell_type": "code",
   "execution_count": null,
   "id": "e50ede91",
   "metadata": {},
   "outputs": [],
   "source": [
    "# df = pd.read_csv('../data/결측치_output/결측치_RandomSampleImputer.csv', index_col = 0)"
   ]
  },
  {
   "cell_type": "code",
   "execution_count": null,
   "id": "89d9a383",
   "metadata": {},
   "outputs": [],
   "source": [
    "# df = pd.read_csv('../data/결측치_ArbitaryImputer.csv', index_col = 0)"
   ]
  },
  {
   "cell_type": "code",
   "execution_count": 458,
   "id": "9e89a33f",
   "metadata": {},
   "outputs": [],
   "source": [
    "# df = pd.read_csv('../data/결측치_output/결측치_ArbitaryImputer.csv', index_col = 0)\n",
    "# df = pd.read_csv('../data/결측치_output/결측치_KNNImputer_distance10_final.csv', index_col = 0)"
   ]
  },
  {
   "cell_type": "markdown",
   "id": "407d4bf3",
   "metadata": {},
   "source": [
    "## 2023년에 구매한 이력은 제거"
   ]
  },
  {
   "cell_type": "code",
   "execution_count": 203,
   "id": "035934bb",
   "metadata": {},
   "outputs": [],
   "source": [
    "df.loc[df['년도'] == 2023, 'label_2023'] = 1\n",
    "df.loc[df['년도'] != 2023, 'label_2023'] = 0"
   ]
  },
  {
   "cell_type": "code",
   "execution_count": 204,
   "id": "7255affb",
   "metadata": {},
   "outputs": [
    {
     "data": {
      "text/html": [
       "<div>\n",
       "<style scoped>\n",
       "    .dataframe tbody tr th:only-of-type {\n",
       "        vertical-align: middle;\n",
       "    }\n",
       "\n",
       "    .dataframe tbody tr th {\n",
       "        vertical-align: top;\n",
       "    }\n",
       "\n",
       "    .dataframe thead th {\n",
       "        text-align: right;\n",
       "    }\n",
       "</style>\n",
       "<table border=\"1\" class=\"dataframe\">\n",
       "  <thead>\n",
       "    <tr style=\"text-align: right;\">\n",
       "      <th></th>\n",
       "      <th>고객ID</th>\n",
       "      <th>label_y</th>\n",
       "    </tr>\n",
       "  </thead>\n",
       "  <tbody>\n",
       "    <tr>\n",
       "      <th>6250</th>\n",
       "      <td>40445</td>\n",
       "      <td>1.0</td>\n",
       "    </tr>\n",
       "    <tr>\n",
       "      <th>9260</th>\n",
       "      <td>24253</td>\n",
       "      <td>1.0</td>\n",
       "    </tr>\n",
       "    <tr>\n",
       "      <th>12405</th>\n",
       "      <td>63417</td>\n",
       "      <td>1.0</td>\n",
       "    </tr>\n",
       "    <tr>\n",
       "      <th>16373</th>\n",
       "      <td>22718</td>\n",
       "      <td>1.0</td>\n",
       "    </tr>\n",
       "    <tr>\n",
       "      <th>18475</th>\n",
       "      <td>20032</td>\n",
       "      <td>1.0</td>\n",
       "    </tr>\n",
       "    <tr>\n",
       "      <th>...</th>\n",
       "      <td>...</td>\n",
       "      <td>...</td>\n",
       "    </tr>\n",
       "    <tr>\n",
       "      <th>532602</th>\n",
       "      <td>91470</td>\n",
       "      <td>1.0</td>\n",
       "    </tr>\n",
       "    <tr>\n",
       "      <th>532609</th>\n",
       "      <td>92672</td>\n",
       "      <td>1.0</td>\n",
       "    </tr>\n",
       "    <tr>\n",
       "      <th>532612</th>\n",
       "      <td>98487</td>\n",
       "      <td>1.0</td>\n",
       "    </tr>\n",
       "    <tr>\n",
       "      <th>532616</th>\n",
       "      <td>102635</td>\n",
       "      <td>1.0</td>\n",
       "    </tr>\n",
       "    <tr>\n",
       "      <th>532622</th>\n",
       "      <td>98135</td>\n",
       "      <td>1.0</td>\n",
       "    </tr>\n",
       "  </tbody>\n",
       "</table>\n",
       "<p>16690 rows × 2 columns</p>\n",
       "</div>"
      ],
      "text/plain": [
       "          고객ID  label_y\n",
       "6250     40445      1.0\n",
       "9260     24253      1.0\n",
       "12405    63417      1.0\n",
       "16373    22718      1.0\n",
       "18475    20032      1.0\n",
       "...        ...      ...\n",
       "532602   91470      1.0\n",
       "532609   92672      1.0\n",
       "532612   98487      1.0\n",
       "532616  102635      1.0\n",
       "532622   98135      1.0\n",
       "\n",
       "[16690 rows x 2 columns]"
      ]
     },
     "execution_count": 204,
     "metadata": {},
     "output_type": "execute_result"
    }
   ],
   "source": [
    "df_isbuy_2023 = df[['고객ID', 'label_2023']]\n",
    "df_isbuy_2023 = df_isbuy_2023[df_isbuy_2023['label_2023'] == 1]\n",
    "df_isbuy_2023.drop_duplicates(\"고객ID\", inplace = True)\n",
    "df_isbuy_2023.rename({'label_2023':'label_y'}, axis = 1, inplace = True)\n",
    "df_isbuy_2023"
   ]
  },
  {
   "cell_type": "code",
   "execution_count": 206,
   "id": "ed54756f",
   "metadata": {},
   "outputs": [
    {
     "data": {
      "text/plain": [
       "0.0    503612\n",
       "1.0     29013\n",
       "Name: label_2023, dtype: int64"
      ]
     },
     "execution_count": 206,
     "metadata": {},
     "output_type": "execute_result"
    }
   ],
   "source": [
    "df['label_2023'].value_counts()"
   ]
  },
  {
   "cell_type": "code",
   "execution_count": 207,
   "id": "524b67ef",
   "metadata": {},
   "outputs": [],
   "source": [
    "# 꼭 돌려야함\n",
    "df = df.loc[df['label_2023'] != 1]"
   ]
  },
  {
   "cell_type": "markdown",
   "id": "31c778df",
   "metadata": {},
   "source": [
    "## 제품군 별로 나누기"
   ]
  },
  {
   "cell_type": "code",
   "execution_count": 210,
   "id": "62f199e5",
   "metadata": {},
   "outputs": [],
   "source": [
    "def split_category(x):\n",
    "    if x in ['냉장고','김치냉장고', '정수기', '식기세척기', '전기레인지', '얼음정수기냉장고', '광파오븐']:\n",
    "        new_c = '부엌'\n",
    "    elif x in ['TV', 'PC', '모니터', 'AV', '휴대폰']:\n",
    "        new_c = '디스플레이'\n",
    "    elif x in ['세탁기', '청소기', '건조기', '스타일러', '미니워시', '워시타워', '로봇청소기']:\n",
    "        new_c = '청소'\n",
    "    elif x in ['뷰티기기', '안마의자']:\n",
    "        new_c = '건강관리'\n",
    "    elif x in ['에어컨', '공기청정기']:\n",
    "        new_c = '에어솔루션'\n",
    "    else:\n",
    "        new_c = '기타'\n",
    "    return new_c"
   ]
  },
  {
   "cell_type": "code",
   "execution_count": 211,
   "id": "860c688d",
   "metadata": {},
   "outputs": [],
   "source": [
    "df['제품카테고리'] = df['타겟제품명'].apply(lambda x: split_category(x))"
   ]
  },
  {
   "cell_type": "code",
   "execution_count": 212,
   "id": "035f4fef",
   "metadata": {},
   "outputs": [
    {
     "data": {
      "text/plain": [
       "array(['시그니처TV', '시그니처냉장고', '시그니처세탁기', '시그니처공청기', '시그니처기타', '시그니처에어컨'],\n",
       "      dtype=object)"
      ]
     },
     "execution_count": 212,
     "metadata": {},
     "output_type": "execute_result"
    }
   ],
   "source": [
    "df[df['제품카테고리'] == '기타']['타겟제품명'].unique()"
   ]
  },
  {
   "cell_type": "markdown",
   "id": "38c9412c",
   "metadata": {},
   "source": [
    "## 가공 변수 추가"
   ]
  },
  {
   "cell_type": "markdown",
   "id": "c9f608a8",
   "metadata": {},
   "source": [
    "- df_crm에 가공변수를 추가 \n",
    "- 마지막에 df_crm과 제품별로 나눠진 데이터를 merge 필요"
   ]
  },
  {
   "cell_type": "code",
   "execution_count": 213,
   "id": "c1fde39d",
   "metadata": {},
   "outputs": [],
   "source": [
    "df_crm = pd.read_csv('../data/master_crm.csv', encoding='cp949')"
   ]
  },
  {
   "cell_type": "markdown",
   "id": "3165d488",
   "metadata": {},
   "source": [
    "### 총구매빈도"
   ]
  },
  {
   "cell_type": "code",
   "execution_count": 214,
   "id": "bd1c0487",
   "metadata": {},
   "outputs": [],
   "source": [
    "# df.loc[df['년도'] == 2023, 'label_2023'] = 1\n",
    "# df.loc[df['년도'] != 2023, 'label_2023'] = 0"
   ]
  },
  {
   "cell_type": "code",
   "execution_count": 215,
   "id": "355f7196",
   "metadata": {},
   "outputs": [
    {
     "data": {
      "text/html": [
       "<div>\n",
       "<style scoped>\n",
       "    .dataframe tbody tr th:only-of-type {\n",
       "        vertical-align: middle;\n",
       "    }\n",
       "\n",
       "    .dataframe tbody tr th {\n",
       "        vertical-align: top;\n",
       "    }\n",
       "\n",
       "    .dataframe thead th {\n",
       "        text-align: right;\n",
       "    }\n",
       "</style>\n",
       "<table border=\"1\" class=\"dataframe\">\n",
       "  <thead>\n",
       "    <tr style=\"text-align: right;\">\n",
       "      <th></th>\n",
       "      <th>고객ID</th>\n",
       "      <th>멤버십고객여부</th>\n",
       "      <th>케어솔루션고객여부</th>\n",
       "      <th>케어솔루션품목수</th>\n",
       "      <th>케어십가입여부</th>\n",
       "      <th>케어십품목수</th>\n",
       "      <th>최근3년구매금액</th>\n",
       "      <th>최근구매채널</th>\n",
       "      <th>Only&amp;Best품목수</th>\n",
       "      <th>건강관리가전품목수</th>\n",
       "      <th>연령대</th>\n",
       "      <th>주거형태</th>\n",
       "      <th>아파트시세</th>\n",
       "      <th>아파트평형대</th>\n",
       "      <th>포인트사용빈도</th>\n",
       "      <th>보유멤버십포인트</th>\n",
       "      <th>멤버십가입경로</th>\n",
       "      <th>제휴카드보유여부</th>\n",
       "      <th>프리미엄카드보유여부</th>\n",
       "      <th>제휴가입여부</th>\n",
       "      <th>멤버십앱설치여부</th>\n",
       "      <th>거주광역명</th>\n",
       "      <th>거주시군구명</th>\n",
       "      <th>거주행정동명</th>\n",
       "      <th>label</th>\n",
       "    </tr>\n",
       "  </thead>\n",
       "  <tbody>\n",
       "    <tr>\n",
       "      <th>0</th>\n",
       "      <td>1</td>\n",
       "      <td>NaN</td>\n",
       "      <td>0.0</td>\n",
       "      <td>0품목</td>\n",
       "      <td>1</td>\n",
       "      <td>2품목</td>\n",
       "      <td>5KK이상10KK미만</td>\n",
       "      <td>홈플러스</td>\n",
       "      <td>2품목</td>\n",
       "      <td>2품목</td>\n",
       "      <td>NaN</td>\n",
       "      <td>아파트</td>\n",
       "      <td>1억↓</td>\n",
       "      <td>20평대</td>\n",
       "      <td>미사용</td>\n",
       "      <td>NaN</td>\n",
       "      <td>NaN</td>\n",
       "      <td>0</td>\n",
       "      <td>0</td>\n",
       "      <td>0</td>\n",
       "      <td>NaN</td>\n",
       "      <td>경기</td>\n",
       "      <td>안산시 상록구</td>\n",
       "      <td>일동</td>\n",
       "      <td>0</td>\n",
       "    </tr>\n",
       "    <tr>\n",
       "      <th>1</th>\n",
       "      <td>2</td>\n",
       "      <td>NaN</td>\n",
       "      <td>0.0</td>\n",
       "      <td>1품목</td>\n",
       "      <td>0</td>\n",
       "      <td>0품목</td>\n",
       "      <td>1KK미만</td>\n",
       "      <td>B2B</td>\n",
       "      <td>2품목</td>\n",
       "      <td>2품목</td>\n",
       "      <td>NaN</td>\n",
       "      <td>아파트</td>\n",
       "      <td>3~4억</td>\n",
       "      <td>40평대</td>\n",
       "      <td>미사용</td>\n",
       "      <td>NaN</td>\n",
       "      <td>NaN</td>\n",
       "      <td>0</td>\n",
       "      <td>0</td>\n",
       "      <td>0</td>\n",
       "      <td>NaN</td>\n",
       "      <td>경기</td>\n",
       "      <td>오산시</td>\n",
       "      <td>대원동</td>\n",
       "      <td>0</td>\n",
       "    </tr>\n",
       "    <tr>\n",
       "      <th>2</th>\n",
       "      <td>3</td>\n",
       "      <td>NaN</td>\n",
       "      <td>1.0</td>\n",
       "      <td>0품목</td>\n",
       "      <td>0</td>\n",
       "      <td>0품목</td>\n",
       "      <td>0원</td>\n",
       "      <td>하이마트</td>\n",
       "      <td>1품목</td>\n",
       "      <td>2품목</td>\n",
       "      <td>NaN</td>\n",
       "      <td>아파트</td>\n",
       "      <td>5~6억</td>\n",
       "      <td>30평대</td>\n",
       "      <td>미사용</td>\n",
       "      <td>NaN</td>\n",
       "      <td>NaN</td>\n",
       "      <td>0</td>\n",
       "      <td>0</td>\n",
       "      <td>0</td>\n",
       "      <td>NaN</td>\n",
       "      <td>경기</td>\n",
       "      <td>화성시</td>\n",
       "      <td>새솔동</td>\n",
       "      <td>0</td>\n",
       "    </tr>\n",
       "    <tr>\n",
       "      <th>3</th>\n",
       "      <td>4</td>\n",
       "      <td>NaN</td>\n",
       "      <td>0.0</td>\n",
       "      <td>3품목</td>\n",
       "      <td>0</td>\n",
       "      <td>0품목</td>\n",
       "      <td>1KK미만</td>\n",
       "      <td>베스트샵</td>\n",
       "      <td>1품목</td>\n",
       "      <td>2품목</td>\n",
       "      <td>NaN</td>\n",
       "      <td>아파트</td>\n",
       "      <td>1~2억</td>\n",
       "      <td>30평대</td>\n",
       "      <td>미사용</td>\n",
       "      <td>NaN</td>\n",
       "      <td>NaN</td>\n",
       "      <td>0</td>\n",
       "      <td>0</td>\n",
       "      <td>0</td>\n",
       "      <td>NaN</td>\n",
       "      <td>전북</td>\n",
       "      <td>전주시 덕진구</td>\n",
       "      <td>여의동</td>\n",
       "      <td>0</td>\n",
       "    </tr>\n",
       "    <tr>\n",
       "      <th>4</th>\n",
       "      <td>5</td>\n",
       "      <td>NaN</td>\n",
       "      <td>0.0</td>\n",
       "      <td>0품목</td>\n",
       "      <td>1</td>\n",
       "      <td>2품목</td>\n",
       "      <td>1KK이상3KK미만</td>\n",
       "      <td>이마트</td>\n",
       "      <td>1품목</td>\n",
       "      <td>2품목</td>\n",
       "      <td>NaN</td>\n",
       "      <td>아파트</td>\n",
       "      <td>3~4억</td>\n",
       "      <td>40평대</td>\n",
       "      <td>미사용</td>\n",
       "      <td>NaN</td>\n",
       "      <td>NaN</td>\n",
       "      <td>0</td>\n",
       "      <td>0</td>\n",
       "      <td>0</td>\n",
       "      <td>NaN</td>\n",
       "      <td>경기</td>\n",
       "      <td>용인시 처인구</td>\n",
       "      <td>역북동</td>\n",
       "      <td>0</td>\n",
       "    </tr>\n",
       "    <tr>\n",
       "      <th>...</th>\n",
       "      <td>...</td>\n",
       "      <td>...</td>\n",
       "      <td>...</td>\n",
       "      <td>...</td>\n",
       "      <td>...</td>\n",
       "      <td>...</td>\n",
       "      <td>...</td>\n",
       "      <td>...</td>\n",
       "      <td>...</td>\n",
       "      <td>...</td>\n",
       "      <td>...</td>\n",
       "      <td>...</td>\n",
       "      <td>...</td>\n",
       "      <td>...</td>\n",
       "      <td>...</td>\n",
       "      <td>...</td>\n",
       "      <td>...</td>\n",
       "      <td>...</td>\n",
       "      <td>...</td>\n",
       "      <td>...</td>\n",
       "      <td>...</td>\n",
       "      <td>...</td>\n",
       "      <td>...</td>\n",
       "      <td>...</td>\n",
       "      <td>...</td>\n",
       "    </tr>\n",
       "    <tr>\n",
       "      <th>104347</th>\n",
       "      <td>104348</td>\n",
       "      <td>0.0</td>\n",
       "      <td>0.0</td>\n",
       "      <td>1품목</td>\n",
       "      <td>0</td>\n",
       "      <td>0품목</td>\n",
       "      <td>1KK미만</td>\n",
       "      <td>온라인</td>\n",
       "      <td>1품목</td>\n",
       "      <td>1품목</td>\n",
       "      <td>30대</td>\n",
       "      <td>아파트</td>\n",
       "      <td>11~15억</td>\n",
       "      <td>20평대</td>\n",
       "      <td>미사용</td>\n",
       "      <td>NaN</td>\n",
       "      <td>LGE회원통합</td>\n",
       "      <td>0</td>\n",
       "      <td>0</td>\n",
       "      <td>0</td>\n",
       "      <td>0.0</td>\n",
       "      <td>서울</td>\n",
       "      <td>양천구</td>\n",
       "      <td>신정1동</td>\n",
       "      <td>1</td>\n",
       "    </tr>\n",
       "    <tr>\n",
       "      <th>104348</th>\n",
       "      <td>104349</td>\n",
       "      <td>0.0</td>\n",
       "      <td>NaN</td>\n",
       "      <td>0품목</td>\n",
       "      <td>0</td>\n",
       "      <td>0품목</td>\n",
       "      <td>1KK이상3KK미만</td>\n",
       "      <td>베스트샵</td>\n",
       "      <td>0품목</td>\n",
       "      <td>0품목</td>\n",
       "      <td>30대</td>\n",
       "      <td>아파트</td>\n",
       "      <td>1억↓</td>\n",
       "      <td>20평대</td>\n",
       "      <td>미사용</td>\n",
       "      <td>NaN</td>\n",
       "      <td>LGE회원통합</td>\n",
       "      <td>0</td>\n",
       "      <td>0</td>\n",
       "      <td>0</td>\n",
       "      <td>0.0</td>\n",
       "      <td>충북</td>\n",
       "      <td>충주시</td>\n",
       "      <td>칠금.금릉동</td>\n",
       "      <td>1</td>\n",
       "    </tr>\n",
       "    <tr>\n",
       "      <th>104349</th>\n",
       "      <td>104350</td>\n",
       "      <td>0.0</td>\n",
       "      <td>0.0</td>\n",
       "      <td>1품목</td>\n",
       "      <td>1</td>\n",
       "      <td>1품목</td>\n",
       "      <td>1KK이상3KK미만</td>\n",
       "      <td>베스트샵</td>\n",
       "      <td>1품목</td>\n",
       "      <td>2품목</td>\n",
       "      <td>30대</td>\n",
       "      <td>아파트</td>\n",
       "      <td>3~4억</td>\n",
       "      <td>30평대</td>\n",
       "      <td>미사용</td>\n",
       "      <td>NaN</td>\n",
       "      <td>모닝글로리</td>\n",
       "      <td>0</td>\n",
       "      <td>0</td>\n",
       "      <td>0</td>\n",
       "      <td>1.0</td>\n",
       "      <td>경기</td>\n",
       "      <td>수원시 권선구</td>\n",
       "      <td>평동</td>\n",
       "      <td>1</td>\n",
       "    </tr>\n",
       "    <tr>\n",
       "      <th>104350</th>\n",
       "      <td>104351</td>\n",
       "      <td>0.0</td>\n",
       "      <td>0.0</td>\n",
       "      <td>0품목</td>\n",
       "      <td>0</td>\n",
       "      <td>0품목</td>\n",
       "      <td>1KK이상3KK미만</td>\n",
       "      <td>베스트샵</td>\n",
       "      <td>1품목</td>\n",
       "      <td>1품목</td>\n",
       "      <td>40대</td>\n",
       "      <td>아파트</td>\n",
       "      <td>7~8억</td>\n",
       "      <td>30평대</td>\n",
       "      <td>미사용</td>\n",
       "      <td>NaN</td>\n",
       "      <td>스마트월렛</td>\n",
       "      <td>0</td>\n",
       "      <td>0</td>\n",
       "      <td>0</td>\n",
       "      <td>0.0</td>\n",
       "      <td>서울</td>\n",
       "      <td>도봉구</td>\n",
       "      <td>창1동</td>\n",
       "      <td>1</td>\n",
       "    </tr>\n",
       "    <tr>\n",
       "      <th>104351</th>\n",
       "      <td>104352</td>\n",
       "      <td>0.0</td>\n",
       "      <td>NaN</td>\n",
       "      <td>0품목</td>\n",
       "      <td>0</td>\n",
       "      <td>0품목</td>\n",
       "      <td>5KK이상10KK미만</td>\n",
       "      <td>베스트샵</td>\n",
       "      <td>1품목</td>\n",
       "      <td>1품목</td>\n",
       "      <td>40대</td>\n",
       "      <td>아파트</td>\n",
       "      <td>7~8억</td>\n",
       "      <td>20평대</td>\n",
       "      <td>1~2회</td>\n",
       "      <td>NaN</td>\n",
       "      <td>스마트월렛</td>\n",
       "      <td>1</td>\n",
       "      <td>0</td>\n",
       "      <td>0</td>\n",
       "      <td>1.0</td>\n",
       "      <td>서울</td>\n",
       "      <td>강서구</td>\n",
       "      <td>염창동</td>\n",
       "      <td>1</td>\n",
       "    </tr>\n",
       "  </tbody>\n",
       "</table>\n",
       "<p>104352 rows × 25 columns</p>\n",
       "</div>"
      ],
      "text/plain": [
       "          고객ID  멤버십고객여부  케어솔루션고객여부 케어솔루션품목수  케어십가입여부 케어십품목수     최근3년구매금액  \\\n",
       "0            1      NaN        0.0      0품목        1    2품목  5KK이상10KK미만   \n",
       "1            2      NaN        0.0      1품목        0    0품목        1KK미만   \n",
       "2            3      NaN        1.0      0품목        0    0품목           0원   \n",
       "3            4      NaN        0.0      3품목        0    0품목        1KK미만   \n",
       "4            5      NaN        0.0      0품목        1    2품목   1KK이상3KK미만   \n",
       "...        ...      ...        ...      ...      ...    ...          ...   \n",
       "104347  104348      0.0        0.0      1품목        0    0품목        1KK미만   \n",
       "104348  104349      0.0        NaN      0품목        0    0품목   1KK이상3KK미만   \n",
       "104349  104350      0.0        0.0      1품목        1    1품목   1KK이상3KK미만   \n",
       "104350  104351      0.0        0.0      0품목        0    0품목   1KK이상3KK미만   \n",
       "104351  104352      0.0        NaN      0품목        0    0품목  5KK이상10KK미만   \n",
       "\n",
       "       최근구매채널 Only&Best품목수 건강관리가전품목수  연령대 주거형태   아파트시세 아파트평형대 포인트사용빈도  \\\n",
       "0        홈플러스          2품목       2품목  NaN  아파트     1억↓   20평대     미사용   \n",
       "1         B2B          2품목       2품목  NaN  아파트    3~4억   40평대     미사용   \n",
       "2        하이마트          1품목       2품목  NaN  아파트    5~6억   30평대     미사용   \n",
       "3        베스트샵          1품목       2품목  NaN  아파트    1~2억   30평대     미사용   \n",
       "4         이마트          1품목       2품목  NaN  아파트    3~4억   40평대     미사용   \n",
       "...       ...          ...       ...  ...  ...     ...    ...     ...   \n",
       "104347    온라인          1품목       1품목  30대  아파트  11~15억   20평대     미사용   \n",
       "104348   베스트샵          0품목       0품목  30대  아파트     1억↓   20평대     미사용   \n",
       "104349   베스트샵          1품목       2품목  30대  아파트    3~4억   30평대     미사용   \n",
       "104350   베스트샵          1품목       1품목  40대  아파트    7~8억   30평대     미사용   \n",
       "104351   베스트샵          1품목       1품목  40대  아파트    7~8억   20평대    1~2회   \n",
       "\n",
       "       보유멤버십포인트  멤버십가입경로  제휴카드보유여부  프리미엄카드보유여부  제휴가입여부  멤버십앱설치여부 거주광역명  \\\n",
       "0           NaN      NaN         0           0       0       NaN    경기   \n",
       "1           NaN      NaN         0           0       0       NaN    경기   \n",
       "2           NaN      NaN         0           0       0       NaN    경기   \n",
       "3           NaN      NaN         0           0       0       NaN    전북   \n",
       "4           NaN      NaN         0           0       0       NaN    경기   \n",
       "...         ...      ...       ...         ...     ...       ...   ...   \n",
       "104347      NaN  LGE회원통합         0           0       0       0.0    서울   \n",
       "104348      NaN  LGE회원통합         0           0       0       0.0    충북   \n",
       "104349      NaN    모닝글로리         0           0       0       1.0    경기   \n",
       "104350      NaN    스마트월렛         0           0       0       0.0    서울   \n",
       "104351      NaN    스마트월렛         1           0       0       1.0    서울   \n",
       "\n",
       "         거주시군구명  거주행정동명  label  \n",
       "0       안산시 상록구      일동      0  \n",
       "1           오산시     대원동      0  \n",
       "2           화성시     새솔동      0  \n",
       "3       전주시 덕진구     여의동      0  \n",
       "4       용인시 처인구     역북동      0  \n",
       "...         ...     ...    ...  \n",
       "104347      양천구    신정1동      1  \n",
       "104348      충주시  칠금.금릉동      1  \n",
       "104349  수원시 권선구      평동      1  \n",
       "104350      도봉구     창1동      1  \n",
       "104351      강서구     염창동      1  \n",
       "\n",
       "[104352 rows x 25 columns]"
      ]
     },
     "execution_count": 215,
     "metadata": {},
     "output_type": "execute_result"
    }
   ],
   "source": [
    "df_crm"
   ]
  },
  {
   "cell_type": "code",
   "execution_count": 216,
   "id": "2c401a1c",
   "metadata": {},
   "outputs": [
    {
     "data": {
      "text/html": [
       "<div>\n",
       "<style scoped>\n",
       "    .dataframe tbody tr th:only-of-type {\n",
       "        vertical-align: middle;\n",
       "    }\n",
       "\n",
       "    .dataframe tbody tr th {\n",
       "        vertical-align: top;\n",
       "    }\n",
       "\n",
       "    .dataframe thead th {\n",
       "        text-align: right;\n",
       "    }\n",
       "</style>\n",
       "<table border=\"1\" class=\"dataframe\">\n",
       "  <thead>\n",
       "    <tr style=\"text-align: right;\">\n",
       "      <th></th>\n",
       "      <th>고객ID</th>\n",
       "      <th>멤버십고객여부</th>\n",
       "      <th>케어솔루션고객여부</th>\n",
       "      <th>케어솔루션품목수</th>\n",
       "      <th>케어십가입여부</th>\n",
       "      <th>케어십품목수</th>\n",
       "      <th>최근3년구매금액</th>\n",
       "      <th>최근구매채널</th>\n",
       "      <th>Only&amp;Best품목수</th>\n",
       "      <th>건강관리가전품목수</th>\n",
       "      <th>연령대</th>\n",
       "      <th>주거형태</th>\n",
       "      <th>아파트시세</th>\n",
       "      <th>아파트평형대</th>\n",
       "      <th>포인트사용빈도</th>\n",
       "      <th>보유멤버십포인트</th>\n",
       "      <th>멤버십가입경로</th>\n",
       "      <th>제휴카드보유여부</th>\n",
       "      <th>프리미엄카드보유여부</th>\n",
       "      <th>제휴가입여부</th>\n",
       "      <th>멤버십앱설치여부</th>\n",
       "      <th>거주광역명</th>\n",
       "      <th>거주시군구명</th>\n",
       "      <th>거주행정동명</th>\n",
       "      <th>label</th>\n",
       "      <th>총구매빈도</th>\n",
       "    </tr>\n",
       "  </thead>\n",
       "  <tbody>\n",
       "    <tr>\n",
       "      <th>0</th>\n",
       "      <td>1</td>\n",
       "      <td>NaN</td>\n",
       "      <td>0.0</td>\n",
       "      <td>0품목</td>\n",
       "      <td>1</td>\n",
       "      <td>2품목</td>\n",
       "      <td>5KK이상10KK미만</td>\n",
       "      <td>홈플러스</td>\n",
       "      <td>2품목</td>\n",
       "      <td>2품목</td>\n",
       "      <td>NaN</td>\n",
       "      <td>아파트</td>\n",
       "      <td>1억↓</td>\n",
       "      <td>20평대</td>\n",
       "      <td>미사용</td>\n",
       "      <td>NaN</td>\n",
       "      <td>NaN</td>\n",
       "      <td>0</td>\n",
       "      <td>0</td>\n",
       "      <td>0</td>\n",
       "      <td>NaN</td>\n",
       "      <td>경기</td>\n",
       "      <td>안산시 상록구</td>\n",
       "      <td>일동</td>\n",
       "      <td>0</td>\n",
       "      <td>3</td>\n",
       "    </tr>\n",
       "    <tr>\n",
       "      <th>1</th>\n",
       "      <td>2</td>\n",
       "      <td>NaN</td>\n",
       "      <td>0.0</td>\n",
       "      <td>1품목</td>\n",
       "      <td>0</td>\n",
       "      <td>0품목</td>\n",
       "      <td>1KK미만</td>\n",
       "      <td>B2B</td>\n",
       "      <td>2품목</td>\n",
       "      <td>2품목</td>\n",
       "      <td>NaN</td>\n",
       "      <td>아파트</td>\n",
       "      <td>3~4억</td>\n",
       "      <td>40평대</td>\n",
       "      <td>미사용</td>\n",
       "      <td>NaN</td>\n",
       "      <td>NaN</td>\n",
       "      <td>0</td>\n",
       "      <td>0</td>\n",
       "      <td>0</td>\n",
       "      <td>NaN</td>\n",
       "      <td>경기</td>\n",
       "      <td>오산시</td>\n",
       "      <td>대원동</td>\n",
       "      <td>0</td>\n",
       "      <td>3</td>\n",
       "    </tr>\n",
       "    <tr>\n",
       "      <th>2</th>\n",
       "      <td>3</td>\n",
       "      <td>NaN</td>\n",
       "      <td>1.0</td>\n",
       "      <td>0품목</td>\n",
       "      <td>0</td>\n",
       "      <td>0품목</td>\n",
       "      <td>0원</td>\n",
       "      <td>하이마트</td>\n",
       "      <td>1품목</td>\n",
       "      <td>2품목</td>\n",
       "      <td>NaN</td>\n",
       "      <td>아파트</td>\n",
       "      <td>5~6억</td>\n",
       "      <td>30평대</td>\n",
       "      <td>미사용</td>\n",
       "      <td>NaN</td>\n",
       "      <td>NaN</td>\n",
       "      <td>0</td>\n",
       "      <td>0</td>\n",
       "      <td>0</td>\n",
       "      <td>NaN</td>\n",
       "      <td>경기</td>\n",
       "      <td>화성시</td>\n",
       "      <td>새솔동</td>\n",
       "      <td>0</td>\n",
       "      <td>5</td>\n",
       "    </tr>\n",
       "  </tbody>\n",
       "</table>\n",
       "</div>"
      ],
      "text/plain": [
       "   고객ID  멤버십고객여부  케어솔루션고객여부 케어솔루션품목수  케어십가입여부 케어십품목수     최근3년구매금액 최근구매채널  \\\n",
       "0     1      NaN        0.0      0품목        1    2품목  5KK이상10KK미만   홈플러스   \n",
       "1     2      NaN        0.0      1품목        0    0품목        1KK미만    B2B   \n",
       "2     3      NaN        1.0      0품목        0    0품목           0원   하이마트   \n",
       "\n",
       "  Only&Best품목수 건강관리가전품목수  연령대 주거형태 아파트시세 아파트평형대 포인트사용빈도 보유멤버십포인트 멤버십가입경로  \\\n",
       "0          2품목       2품목  NaN  아파트   1억↓   20평대     미사용      NaN     NaN   \n",
       "1          2품목       2품목  NaN  아파트  3~4억   40평대     미사용      NaN     NaN   \n",
       "2          1품목       2품목  NaN  아파트  5~6억   30평대     미사용      NaN     NaN   \n",
       "\n",
       "   제휴카드보유여부  프리미엄카드보유여부  제휴가입여부  멤버십앱설치여부 거주광역명   거주시군구명 거주행정동명  label  총구매빈도  \n",
       "0         0           0       0       NaN    경기  안산시 상록구     일동      0      3  \n",
       "1         0           0       0       NaN    경기      오산시    대원동      0      3  \n",
       "2         0           0       0       NaN    경기      화성시    새솔동      0      5  "
      ]
     },
     "execution_count": 216,
     "metadata": {},
     "output_type": "execute_result"
    }
   ],
   "source": [
    "df_crm = df_crm.merge(df.groupby(['고객ID']).count()['label_2023'], on = \"고객ID\")\n",
    "df_crm = df_crm.rename(columns = {\"label_2023\" : \"총구매빈도\"})\n",
    "df_crm.head(3)"
   ]
  },
  {
   "cell_type": "markdown",
   "id": "03e94726",
   "metadata": {},
   "source": [
    "### 최대구매가격대"
   ]
  },
  {
   "cell_type": "code",
   "execution_count": 218,
   "id": "6532c160",
   "metadata": {},
   "outputs": [],
   "source": [
    "df['금액_중간값'] = df['금액'].replace(to_replace={\"Missing\": 0, \"0만원 이상 100만원 이하\":50 , \"100만원 이상 200만원 이하\":150, \"200만원 이상 300만원 이하\":250, \"300만원 이상 400만원 이하\":350, \"400만원 이상 500만원 이하\":450, \"500만원 이상 600만원 이하\":550, \"600만원 이상 700만원 이하\":650, \"700만원 이상 800만원 이하\":750, \"800만원 이상 900만원 이하\":850, \"900만원 이상 1000만원 이하\":950, \"1000만원 이상\":1000 })"
   ]
  },
  {
   "cell_type": "code",
   "execution_count": 219,
   "id": "9fbd0400",
   "metadata": {},
   "outputs": [],
   "source": [
    "# 고객별로 그룹화하 후 각 그룹에서 최대값 리턴\n",
    "max_purchase_by_customer = df.groupby('고객ID')['금액_중간값'].max()"
   ]
  },
  {
   "cell_type": "code",
   "execution_count": 220,
   "id": "bafad8c1",
   "metadata": {},
   "outputs": [
    {
     "data": {
      "text/html": [
       "<div>\n",
       "<style scoped>\n",
       "    .dataframe tbody tr th:only-of-type {\n",
       "        vertical-align: middle;\n",
       "    }\n",
       "\n",
       "    .dataframe tbody tr th {\n",
       "        vertical-align: top;\n",
       "    }\n",
       "\n",
       "    .dataframe thead th {\n",
       "        text-align: right;\n",
       "    }\n",
       "</style>\n",
       "<table border=\"1\" class=\"dataframe\">\n",
       "  <thead>\n",
       "    <tr style=\"text-align: right;\">\n",
       "      <th></th>\n",
       "      <th>고객ID</th>\n",
       "      <th>멤버십고객여부</th>\n",
       "      <th>케어솔루션고객여부</th>\n",
       "      <th>케어솔루션품목수</th>\n",
       "      <th>케어십가입여부</th>\n",
       "      <th>케어십품목수</th>\n",
       "      <th>최근3년구매금액</th>\n",
       "      <th>최근구매채널</th>\n",
       "      <th>Only&amp;Best품목수</th>\n",
       "      <th>건강관리가전품목수</th>\n",
       "      <th>연령대</th>\n",
       "      <th>주거형태</th>\n",
       "      <th>아파트시세</th>\n",
       "      <th>아파트평형대</th>\n",
       "      <th>포인트사용빈도</th>\n",
       "      <th>보유멤버십포인트</th>\n",
       "      <th>멤버십가입경로</th>\n",
       "      <th>제휴카드보유여부</th>\n",
       "      <th>프리미엄카드보유여부</th>\n",
       "      <th>제휴가입여부</th>\n",
       "      <th>멤버십앱설치여부</th>\n",
       "      <th>거주광역명</th>\n",
       "      <th>거주시군구명</th>\n",
       "      <th>거주행정동명</th>\n",
       "      <th>label</th>\n",
       "      <th>총구매빈도</th>\n",
       "      <th>최대구매가격대</th>\n",
       "    </tr>\n",
       "  </thead>\n",
       "  <tbody>\n",
       "    <tr>\n",
       "      <th>0</th>\n",
       "      <td>1</td>\n",
       "      <td>NaN</td>\n",
       "      <td>0.0</td>\n",
       "      <td>0품목</td>\n",
       "      <td>1</td>\n",
       "      <td>2품목</td>\n",
       "      <td>5KK이상10KK미만</td>\n",
       "      <td>홈플러스</td>\n",
       "      <td>2품목</td>\n",
       "      <td>2품목</td>\n",
       "      <td>NaN</td>\n",
       "      <td>아파트</td>\n",
       "      <td>1억↓</td>\n",
       "      <td>20평대</td>\n",
       "      <td>미사용</td>\n",
       "      <td>NaN</td>\n",
       "      <td>NaN</td>\n",
       "      <td>0</td>\n",
       "      <td>0</td>\n",
       "      <td>0</td>\n",
       "      <td>NaN</td>\n",
       "      <td>경기</td>\n",
       "      <td>안산시 상록구</td>\n",
       "      <td>일동</td>\n",
       "      <td>0</td>\n",
       "      <td>3</td>\n",
       "      <td>250</td>\n",
       "    </tr>\n",
       "    <tr>\n",
       "      <th>1</th>\n",
       "      <td>2</td>\n",
       "      <td>NaN</td>\n",
       "      <td>0.0</td>\n",
       "      <td>1품목</td>\n",
       "      <td>0</td>\n",
       "      <td>0품목</td>\n",
       "      <td>1KK미만</td>\n",
       "      <td>B2B</td>\n",
       "      <td>2품목</td>\n",
       "      <td>2품목</td>\n",
       "      <td>NaN</td>\n",
       "      <td>아파트</td>\n",
       "      <td>3~4억</td>\n",
       "      <td>40평대</td>\n",
       "      <td>미사용</td>\n",
       "      <td>NaN</td>\n",
       "      <td>NaN</td>\n",
       "      <td>0</td>\n",
       "      <td>0</td>\n",
       "      <td>0</td>\n",
       "      <td>NaN</td>\n",
       "      <td>경기</td>\n",
       "      <td>오산시</td>\n",
       "      <td>대원동</td>\n",
       "      <td>0</td>\n",
       "      <td>3</td>\n",
       "      <td>150</td>\n",
       "    </tr>\n",
       "  </tbody>\n",
       "</table>\n",
       "</div>"
      ],
      "text/plain": [
       "   고객ID  멤버십고객여부  케어솔루션고객여부 케어솔루션품목수  케어십가입여부 케어십품목수     최근3년구매금액 최근구매채널  \\\n",
       "0     1      NaN        0.0      0품목        1    2품목  5KK이상10KK미만   홈플러스   \n",
       "1     2      NaN        0.0      1품목        0    0품목        1KK미만    B2B   \n",
       "\n",
       "  Only&Best품목수 건강관리가전품목수  연령대 주거형태 아파트시세 아파트평형대 포인트사용빈도 보유멤버십포인트 멤버십가입경로  \\\n",
       "0          2품목       2품목  NaN  아파트   1억↓   20평대     미사용      NaN     NaN   \n",
       "1          2품목       2품목  NaN  아파트  3~4억   40평대     미사용      NaN     NaN   \n",
       "\n",
       "   제휴카드보유여부  프리미엄카드보유여부  제휴가입여부  멤버십앱설치여부 거주광역명   거주시군구명 거주행정동명  label  총구매빈도  \\\n",
       "0         0           0       0       NaN    경기  안산시 상록구     일동      0      3   \n",
       "1         0           0       0       NaN    경기      오산시    대원동      0      3   \n",
       "\n",
       "   최대구매가격대  \n",
       "0      250  \n",
       "1      150  "
      ]
     },
     "execution_count": 220,
     "metadata": {},
     "output_type": "execute_result"
    }
   ],
   "source": [
    "df_crm['최대구매가격대'] = max_purchase_by_customer.reset_index(drop = True)\n",
    "df_crm.head(2)"
   ]
  },
  {
   "cell_type": "markdown",
   "id": "d5292e25",
   "metadata": {},
   "source": [
    "### 가장 최근 구매 이후 경과일"
   ]
  },
  {
   "cell_type": "code",
   "execution_count": 221,
   "id": "a62bedce",
   "metadata": {},
   "outputs": [
    {
     "data": {
      "text/html": [
       "<div>\n",
       "<style scoped>\n",
       "    .dataframe tbody tr th:only-of-type {\n",
       "        vertical-align: middle;\n",
       "    }\n",
       "\n",
       "    .dataframe tbody tr th {\n",
       "        vertical-align: top;\n",
       "    }\n",
       "\n",
       "    .dataframe thead th {\n",
       "        text-align: right;\n",
       "    }\n",
       "</style>\n",
       "<table border=\"1\" class=\"dataframe\">\n",
       "  <thead>\n",
       "    <tr style=\"text-align: right;\">\n",
       "      <th></th>\n",
       "      <th>고객ID</th>\n",
       "      <th>매출일자(배송완료일자)</th>\n",
       "      <th>최근매출일로부터경과일</th>\n",
       "    </tr>\n",
       "  </thead>\n",
       "  <tbody>\n",
       "    <tr>\n",
       "      <th>0</th>\n",
       "      <td>1</td>\n",
       "      <td>2022-01-11</td>\n",
       "      <td>707</td>\n",
       "    </tr>\n",
       "    <tr>\n",
       "      <th>1</th>\n",
       "      <td>2</td>\n",
       "      <td>2021-12-29</td>\n",
       "      <td>720</td>\n",
       "    </tr>\n",
       "    <tr>\n",
       "      <th>2</th>\n",
       "      <td>3</td>\n",
       "      <td>2020-08-17</td>\n",
       "      <td>1219</td>\n",
       "    </tr>\n",
       "    <tr>\n",
       "      <th>3</th>\n",
       "      <td>4</td>\n",
       "      <td>2021-06-05</td>\n",
       "      <td>927</td>\n",
       "    </tr>\n",
       "    <tr>\n",
       "      <th>4</th>\n",
       "      <td>5</td>\n",
       "      <td>2020-10-08</td>\n",
       "      <td>1167</td>\n",
       "    </tr>\n",
       "    <tr>\n",
       "      <th>...</th>\n",
       "      <td>...</td>\n",
       "      <td>...</td>\n",
       "      <td>...</td>\n",
       "    </tr>\n",
       "    <tr>\n",
       "      <th>102686</th>\n",
       "      <td>104347</td>\n",
       "      <td>2022-12-21</td>\n",
       "      <td>363</td>\n",
       "    </tr>\n",
       "    <tr>\n",
       "      <th>102687</th>\n",
       "      <td>104348</td>\n",
       "      <td>2020-12-29</td>\n",
       "      <td>1085</td>\n",
       "    </tr>\n",
       "    <tr>\n",
       "      <th>102688</th>\n",
       "      <td>104349</td>\n",
       "      <td>2022-12-24</td>\n",
       "      <td>360</td>\n",
       "    </tr>\n",
       "    <tr>\n",
       "      <th>102689</th>\n",
       "      <td>104350</td>\n",
       "      <td>2018-06-11</td>\n",
       "      <td>2017</td>\n",
       "    </tr>\n",
       "    <tr>\n",
       "      <th>102690</th>\n",
       "      <td>104351</td>\n",
       "      <td>2022-11-08</td>\n",
       "      <td>406</td>\n",
       "    </tr>\n",
       "  </tbody>\n",
       "</table>\n",
       "<p>102691 rows × 3 columns</p>\n",
       "</div>"
      ],
      "text/plain": [
       "          고객ID 매출일자(배송완료일자)  최근매출일로부터경과일\n",
       "0            1   2022-01-11          707\n",
       "1            2   2021-12-29          720\n",
       "2            3   2020-08-17         1219\n",
       "3            4   2021-06-05          927\n",
       "4            5   2020-10-08         1167\n",
       "...        ...          ...          ...\n",
       "102686  104347   2022-12-21          363\n",
       "102687  104348   2020-12-29         1085\n",
       "102688  104349   2022-12-24          360\n",
       "102689  104350   2018-06-11         2017\n",
       "102690  104351   2022-11-08          406\n",
       "\n",
       "[102691 rows x 3 columns]"
      ]
     },
     "execution_count": 221,
     "metadata": {},
     "output_type": "execute_result"
    }
   ],
   "source": [
    "df['매출일자(배송완료일자)'] = pd.to_datetime(df['매출일자(배송완료일자)'])\n",
    "current_date = datetime.now()\n",
    "\n",
    "# 각 고객 별로 최근 매출일자(배송완료일자)를 찾고 일수 차이 계산\n",
    "customer_last_purchase_dates = df.groupby('고객ID')['매출일자(배송완료일자)'].max().reset_index()\n",
    "customer_last_purchase_dates['최근매출일로부터경과일'] = (current_date - customer_last_purchase_dates['매출일자(배송완료일자)']).dt.days\n",
    "\n",
    "customer_last_purchase_dates"
   ]
  },
  {
   "cell_type": "code",
   "execution_count": 222,
   "id": "cd740db0",
   "metadata": {},
   "outputs": [],
   "source": [
    "df_crm = df_crm.merge(customer_last_purchase_dates[['고객ID', '매출일자(배송완료일자)', '최근매출일로부터경과일']], on = \"고객ID\")"
   ]
  },
  {
   "cell_type": "markdown",
   "id": "9c4310fc",
   "metadata": {},
   "source": [
    "### 가장 선호하는 구매 제품"
   ]
  },
  {
   "cell_type": "code",
   "execution_count": 223,
   "id": "0633a27a",
   "metadata": {},
   "outputs": [
    {
     "data": {
      "text/plain": [
       "고객ID\n",
       "1                    [부엌]\n",
       "2                    [부엌]\n",
       "3                    [부엌]\n",
       "4         [부엌, 에어솔루션, 청소]\n",
       "5                    [청소]\n",
       "               ...       \n",
       "104347            [디스플레이]\n",
       "104348        [부엌, 에어솔루션]\n",
       "104349        [디스플레이, 부엌]\n",
       "104350            [에어솔루션]\n",
       "104351        [디스플레이, 청소]\n",
       "Length: 102691, dtype: object"
      ]
     },
     "execution_count": 223,
     "metadata": {},
     "output_type": "execute_result"
    }
   ],
   "source": [
    "# 각 고객ID 별로 제품 카테고리의 구매 횟수를 계산\n",
    "customer_purchase_counts = df.groupby(['고객ID', '제품카테고리']).size().reset_index(name='구매횟수')\n",
    "\n",
    "# 각 고객ID 별로 가장 높은 구매 횟수를 찾아 해당하는 제품 카테고리를 반환\n",
    "max_purchase_categories = customer_purchase_counts.groupby('고객ID').apply(lambda x: x[x['구매횟수'] == x['구매횟수'].max()]['제품카테고리'].tolist())\n",
    "\n",
    "max_purchase_categories"
   ]
  },
  {
   "cell_type": "code",
   "execution_count": 224,
   "id": "3d8fa619",
   "metadata": {},
   "outputs": [
    {
     "data": {
      "text/html": [
       "<div>\n",
       "<style scoped>\n",
       "    .dataframe tbody tr th:only-of-type {\n",
       "        vertical-align: middle;\n",
       "    }\n",
       "\n",
       "    .dataframe tbody tr th {\n",
       "        vertical-align: top;\n",
       "    }\n",
       "\n",
       "    .dataframe thead th {\n",
       "        text-align: right;\n",
       "    }\n",
       "</style>\n",
       "<table border=\"1\" class=\"dataframe\">\n",
       "  <thead>\n",
       "    <tr style=\"text-align: right;\">\n",
       "      <th></th>\n",
       "      <th>고객ID</th>\n",
       "      <th>멤버십고객여부</th>\n",
       "      <th>케어솔루션고객여부</th>\n",
       "      <th>케어솔루션품목수</th>\n",
       "      <th>케어십가입여부</th>\n",
       "      <th>케어십품목수</th>\n",
       "      <th>최근3년구매금액</th>\n",
       "      <th>최근구매채널</th>\n",
       "      <th>Only&amp;Best품목수</th>\n",
       "      <th>건강관리가전품목수</th>\n",
       "      <th>연령대</th>\n",
       "      <th>주거형태</th>\n",
       "      <th>아파트시세</th>\n",
       "      <th>아파트평형대</th>\n",
       "      <th>포인트사용빈도</th>\n",
       "      <th>보유멤버십포인트</th>\n",
       "      <th>멤버십가입경로</th>\n",
       "      <th>제휴카드보유여부</th>\n",
       "      <th>프리미엄카드보유여부</th>\n",
       "      <th>제휴가입여부</th>\n",
       "      <th>멤버십앱설치여부</th>\n",
       "      <th>거주광역명</th>\n",
       "      <th>거주시군구명</th>\n",
       "      <th>거주행정동명</th>\n",
       "      <th>label</th>\n",
       "      <th>총구매빈도</th>\n",
       "      <th>최대구매가격대</th>\n",
       "      <th>매출일자(배송완료일자)</th>\n",
       "      <th>최근매출일로부터경과일</th>\n",
       "      <th>주구매제품카테고리</th>\n",
       "    </tr>\n",
       "  </thead>\n",
       "  <tbody>\n",
       "    <tr>\n",
       "      <th>0</th>\n",
       "      <td>1</td>\n",
       "      <td>NaN</td>\n",
       "      <td>0.0</td>\n",
       "      <td>0품목</td>\n",
       "      <td>1</td>\n",
       "      <td>2품목</td>\n",
       "      <td>5KK이상10KK미만</td>\n",
       "      <td>홈플러스</td>\n",
       "      <td>2품목</td>\n",
       "      <td>2품목</td>\n",
       "      <td>NaN</td>\n",
       "      <td>아파트</td>\n",
       "      <td>1억↓</td>\n",
       "      <td>20평대</td>\n",
       "      <td>미사용</td>\n",
       "      <td>NaN</td>\n",
       "      <td>NaN</td>\n",
       "      <td>0</td>\n",
       "      <td>0</td>\n",
       "      <td>0</td>\n",
       "      <td>NaN</td>\n",
       "      <td>경기</td>\n",
       "      <td>안산시 상록구</td>\n",
       "      <td>일동</td>\n",
       "      <td>0</td>\n",
       "      <td>3</td>\n",
       "      <td>250</td>\n",
       "      <td>2022-01-11</td>\n",
       "      <td>707</td>\n",
       "      <td>[부엌]</td>\n",
       "    </tr>\n",
       "    <tr>\n",
       "      <th>1</th>\n",
       "      <td>2</td>\n",
       "      <td>NaN</td>\n",
       "      <td>0.0</td>\n",
       "      <td>1품목</td>\n",
       "      <td>0</td>\n",
       "      <td>0품목</td>\n",
       "      <td>1KK미만</td>\n",
       "      <td>B2B</td>\n",
       "      <td>2품목</td>\n",
       "      <td>2품목</td>\n",
       "      <td>NaN</td>\n",
       "      <td>아파트</td>\n",
       "      <td>3~4억</td>\n",
       "      <td>40평대</td>\n",
       "      <td>미사용</td>\n",
       "      <td>NaN</td>\n",
       "      <td>NaN</td>\n",
       "      <td>0</td>\n",
       "      <td>0</td>\n",
       "      <td>0</td>\n",
       "      <td>NaN</td>\n",
       "      <td>경기</td>\n",
       "      <td>오산시</td>\n",
       "      <td>대원동</td>\n",
       "      <td>0</td>\n",
       "      <td>3</td>\n",
       "      <td>150</td>\n",
       "      <td>2021-12-29</td>\n",
       "      <td>720</td>\n",
       "      <td>[부엌]</td>\n",
       "    </tr>\n",
       "  </tbody>\n",
       "</table>\n",
       "</div>"
      ],
      "text/plain": [
       "   고객ID  멤버십고객여부  케어솔루션고객여부 케어솔루션품목수  케어십가입여부 케어십품목수     최근3년구매금액 최근구매채널  \\\n",
       "0     1      NaN        0.0      0품목        1    2품목  5KK이상10KK미만   홈플러스   \n",
       "1     2      NaN        0.0      1품목        0    0품목        1KK미만    B2B   \n",
       "\n",
       "  Only&Best품목수 건강관리가전품목수  연령대 주거형태 아파트시세 아파트평형대 포인트사용빈도 보유멤버십포인트 멤버십가입경로  \\\n",
       "0          2품목       2품목  NaN  아파트   1억↓   20평대     미사용      NaN     NaN   \n",
       "1          2품목       2품목  NaN  아파트  3~4억   40평대     미사용      NaN     NaN   \n",
       "\n",
       "   제휴카드보유여부  프리미엄카드보유여부  제휴가입여부  멤버십앱설치여부 거주광역명   거주시군구명 거주행정동명  label  총구매빈도  \\\n",
       "0         0           0       0       NaN    경기  안산시 상록구     일동      0      3   \n",
       "1         0           0       0       NaN    경기      오산시    대원동      0      3   \n",
       "\n",
       "   최대구매가격대 매출일자(배송완료일자)  최근매출일로부터경과일 주구매제품카테고리  \n",
       "0      250   2022-01-11          707      [부엌]  \n",
       "1      150   2021-12-29          720      [부엌]  "
      ]
     },
     "execution_count": 224,
     "metadata": {},
     "output_type": "execute_result"
    }
   ],
   "source": [
    "df_crm['주구매제품카테고리'] = max_purchase_categories.reset_index(drop = True)\n",
    "df_crm.head(2)"
   ]
  },
  {
   "cell_type": "markdown",
   "id": "b4f0dd1d",
   "metadata": {},
   "source": [
    "# 방법론 1 (선택)\n",
    "- Idea : 각 제품군 별로 특징이 다를 것이므로, 제품군 별로 구매가능성을 예측하는 데에 더 정확할 것\n",
    "- 따라서, 제품 카테고리 별로 데이터프레임을 구분한 후, 각각 제품군 별로 모델링을 하여, 모델을 여러 개 생성\n",
    "- 이때, Y_target은 각 제품군 구매여부(1, 0)가 됨.\n",
    "    - 2023년의 구매이력과 매칭하여, 어떤 제품군 카테고리를 구매했는지 확인할 수 있으므로, 각 제품군 별 구매여부 추적이 가능함"
   ]
  },
  {
   "cell_type": "markdown",
   "id": "504518cd",
   "metadata": {},
   "source": [
    "기본컬럼 (23) : '고객ID', '멤버십고객여부', '케어솔루션품목수', '케어십가입여부',\n",
    "       '케어십품목수', '최근3년구매금액', '최근구매채널', 'Only&Best품목수', '건강관리가전품목수', '연령대',\n",
    "       '주거형태', '아파트시세', '아파트평형대', '포인트사용빈도', '보유멤버십포인트', '멤버십가입경로', '제휴카드보유여부',\n",
    "       '프리미엄카드보유여부', '제휴가입여부', '멤버십앱설치여부', '거주광역명', '거주시군구명', 'label_y'\n",
    "       \n",
    "추가 (4의배수) : '년도', '월', '타겟제품명', '금액'\n",
    "\n",
    "가공변수 (4) : 총구매빈도, 최대구매가격대, 주구매제품카테고리\n",
    "\n",
    "모델링에서 제거 : '최근매출일로부터경과일', '고객ID', '케어솔루션고객여부', '거주행정동명'"
   ]
  },
  {
   "cell_type": "markdown",
   "id": "2b5fead4",
   "metadata": {},
   "source": [
    "## 제품별로 데이터프레임 생성"
   ]
  },
  {
   "cell_type": "markdown",
   "id": "6f33cbce",
   "metadata": {},
   "source": [
    "### 모든 데이터"
   ]
  },
  {
   "cell_type": "code",
   "execution_count": 225,
   "id": "cb7c2a6b",
   "metadata": {},
   "outputs": [
    {
     "data": {
      "text/html": [
       "<div>\n",
       "<style scoped>\n",
       "    .dataframe tbody tr th:only-of-type {\n",
       "        vertical-align: middle;\n",
       "    }\n",
       "\n",
       "    .dataframe tbody tr th {\n",
       "        vertical-align: top;\n",
       "    }\n",
       "\n",
       "    .dataframe thead th {\n",
       "        text-align: right;\n",
       "    }\n",
       "</style>\n",
       "<table border=\"1\" class=\"dataframe\">\n",
       "  <thead>\n",
       "    <tr style=\"text-align: right;\">\n",
       "      <th></th>\n",
       "      <th>고객ID</th>\n",
       "      <th>label_y</th>\n",
       "    </tr>\n",
       "  </thead>\n",
       "  <tbody>\n",
       "    <tr>\n",
       "      <th>6250</th>\n",
       "      <td>40445</td>\n",
       "      <td>1.0</td>\n",
       "    </tr>\n",
       "    <tr>\n",
       "      <th>9260</th>\n",
       "      <td>24253</td>\n",
       "      <td>1.0</td>\n",
       "    </tr>\n",
       "    <tr>\n",
       "      <th>12405</th>\n",
       "      <td>63417</td>\n",
       "      <td>1.0</td>\n",
       "    </tr>\n",
       "    <tr>\n",
       "      <th>16373</th>\n",
       "      <td>22718</td>\n",
       "      <td>1.0</td>\n",
       "    </tr>\n",
       "    <tr>\n",
       "      <th>18475</th>\n",
       "      <td>20032</td>\n",
       "      <td>1.0</td>\n",
       "    </tr>\n",
       "    <tr>\n",
       "      <th>...</th>\n",
       "      <td>...</td>\n",
       "      <td>...</td>\n",
       "    </tr>\n",
       "    <tr>\n",
       "      <th>532602</th>\n",
       "      <td>91470</td>\n",
       "      <td>1.0</td>\n",
       "    </tr>\n",
       "    <tr>\n",
       "      <th>532609</th>\n",
       "      <td>92672</td>\n",
       "      <td>1.0</td>\n",
       "    </tr>\n",
       "    <tr>\n",
       "      <th>532612</th>\n",
       "      <td>98487</td>\n",
       "      <td>1.0</td>\n",
       "    </tr>\n",
       "    <tr>\n",
       "      <th>532616</th>\n",
       "      <td>102635</td>\n",
       "      <td>1.0</td>\n",
       "    </tr>\n",
       "    <tr>\n",
       "      <th>532622</th>\n",
       "      <td>98135</td>\n",
       "      <td>1.0</td>\n",
       "    </tr>\n",
       "  </tbody>\n",
       "</table>\n",
       "<p>16690 rows × 2 columns</p>\n",
       "</div>"
      ],
      "text/plain": [
       "          고객ID  label_y\n",
       "6250     40445      1.0\n",
       "9260     24253      1.0\n",
       "12405    63417      1.0\n",
       "16373    22718      1.0\n",
       "18475    20032      1.0\n",
       "...        ...      ...\n",
       "532602   91470      1.0\n",
       "532609   92672      1.0\n",
       "532612   98487      1.0\n",
       "532616  102635      1.0\n",
       "532622   98135      1.0\n",
       "\n",
       "[16690 rows x 2 columns]"
      ]
     },
     "execution_count": 225,
     "metadata": {},
     "output_type": "execute_result"
    }
   ],
   "source": [
    "df_isbuy_2023"
   ]
  },
  {
   "cell_type": "code",
   "execution_count": 226,
   "id": "35051540",
   "metadata": {},
   "outputs": [],
   "source": [
    "df_y = df.merge(df_isbuy_2023, on = '고객ID', how = 'left')\n",
    "df_y.loc[df_y['label_y'].isnull(), 'label_y'] = 0"
   ]
  },
  {
   "cell_type": "code",
   "execution_count": 227,
   "id": "02c1ac35",
   "metadata": {},
   "outputs": [
    {
     "data": {
      "text/plain": [
       "0.0    443383\n",
       "1.0     60229\n",
       "Name: label_y, dtype: int64"
      ]
     },
     "execution_count": 227,
     "metadata": {},
     "output_type": "execute_result"
    }
   ],
   "source": [
    "df_y['label_y'].value_counts()"
   ]
  },
  {
   "cell_type": "code",
   "execution_count": 228,
   "id": "5da1c2d1",
   "metadata": {},
   "outputs": [
    {
     "data": {
      "text/plain": [
       "array([2022, 2020, 2016, 2015, 2019, 2017, 2021, 2010, 2014, 2018, 2012,\n",
       "       2011, 2013, 2009])"
      ]
     },
     "execution_count": 228,
     "metadata": {},
     "output_type": "execute_result"
    }
   ],
   "source": [
    "df_y['년도'].unique()"
   ]
  },
  {
   "cell_type": "markdown",
   "id": "c7d9cfd9",
   "metadata": {},
   "source": [
    "### Air Solution"
   ]
  },
  {
   "cell_type": "code",
   "execution_count": 229,
   "id": "79fe38d1",
   "metadata": {},
   "outputs": [],
   "source": [
    "air_df = df_y.loc[df_y['제품카테고리'] == '에어솔루션']"
   ]
  },
  {
   "cell_type": "code",
   "execution_count": 230,
   "id": "81efe221",
   "metadata": {
    "scrolled": true
   },
   "outputs": [],
   "source": [
    "# air_df.loc[:, 'label_y'] = 0\n",
    "# air_df.loc[(air_df['년도'] == 2023) & (air_df['제품카테고리'] == '에어솔루션'), 'label_y'] = 1"
   ]
  },
  {
   "cell_type": "code",
   "execution_count": 231,
   "id": "b7c233c4",
   "metadata": {},
   "outputs": [
    {
     "data": {
      "text/plain": [
       "0.0    148739\n",
       "1.0     19017\n",
       "Name: label_y, dtype: int64"
      ]
     },
     "execution_count": 231,
     "metadata": {},
     "output_type": "execute_result"
    }
   ],
   "source": [
    "air_df['label_y'].value_counts()"
   ]
  },
  {
   "cell_type": "code",
   "execution_count": 232,
   "id": "36a1a682",
   "metadata": {},
   "outputs": [],
   "source": [
    "# air_df"
   ]
  },
  {
   "cell_type": "markdown",
   "id": "ab162ddd",
   "metadata": {},
   "source": [
    "### Clean"
   ]
  },
  {
   "cell_type": "code",
   "execution_count": 233,
   "id": "0ea50c1e",
   "metadata": {},
   "outputs": [],
   "source": [
    "clean_df = df_y.loc[df_y['제품카테고리'] == '청소']"
   ]
  },
  {
   "cell_type": "code",
   "execution_count": 234,
   "id": "f6b287dc",
   "metadata": {},
   "outputs": [
    {
     "data": {
      "text/plain": [
       "0.0    109934\n",
       "1.0     15473\n",
       "Name: label_y, dtype: int64"
      ]
     },
     "execution_count": 234,
     "metadata": {},
     "output_type": "execute_result"
    }
   ],
   "source": [
    "clean_df['label_y'].value_counts()"
   ]
  },
  {
   "cell_type": "markdown",
   "id": "d25025ee",
   "metadata": {},
   "source": [
    "### Kitchen"
   ]
  },
  {
   "cell_type": "code",
   "execution_count": 235,
   "id": "dc1c72da",
   "metadata": {},
   "outputs": [],
   "source": [
    "kitchen_df = df_y.loc[df_y['제품카테고리'] == '부엌']\n"
   ]
  },
  {
   "cell_type": "code",
   "execution_count": 236,
   "id": "d15487cc",
   "metadata": {},
   "outputs": [
    {
     "data": {
      "text/plain": [
       "0.0    90839\n",
       "1.0    12960\n",
       "Name: label_y, dtype: int64"
      ]
     },
     "execution_count": 236,
     "metadata": {},
     "output_type": "execute_result"
    }
   ],
   "source": [
    "kitchen_df['label_y'].value_counts()"
   ]
  },
  {
   "cell_type": "markdown",
   "id": "10ebb452",
   "metadata": {},
   "source": [
    "### Display"
   ]
  },
  {
   "cell_type": "code",
   "execution_count": 237,
   "id": "f7194bef",
   "metadata": {},
   "outputs": [],
   "source": [
    "display_df = df_y.loc[df_y['제품카테고리'] == '디스플레이']\n",
    "# display_df.loc[:, 'label_y'] = 0\n",
    "# display_df.loc[(display_df['년도'] == 2023) & (display_df['제품카테고리'] == '디스플레이'), 'label_y'] = 1"
   ]
  },
  {
   "cell_type": "code",
   "execution_count": 238,
   "id": "03a69257",
   "metadata": {},
   "outputs": [
    {
     "data": {
      "text/plain": [
       "0.0    86956\n",
       "1.0    11774\n",
       "Name: label_y, dtype: int64"
      ]
     },
     "execution_count": 238,
     "metadata": {},
     "output_type": "execute_result"
    }
   ],
   "source": [
    "display_df['label_y'].value_counts()"
   ]
  },
  {
   "cell_type": "markdown",
   "id": "0b435acf",
   "metadata": {},
   "source": [
    "### Health"
   ]
  },
  {
   "cell_type": "code",
   "execution_count": 239,
   "id": "19c9f3ac",
   "metadata": {},
   "outputs": [],
   "source": [
    "health_df = df_y.loc[df_y['제품카테고리'] == '건강관리']"
   ]
  },
  {
   "cell_type": "code",
   "execution_count": 240,
   "id": "5163277c",
   "metadata": {},
   "outputs": [
    {
     "data": {
      "text/plain": [
       "0.0    6486\n",
       "1.0     922\n",
       "Name: label_y, dtype: int64"
      ]
     },
     "execution_count": 240,
     "metadata": {},
     "output_type": "execute_result"
    }
   ],
   "source": [
    "health_df['label_y'].value_counts()"
   ]
  },
  {
   "cell_type": "markdown",
   "id": "e7067f1b",
   "metadata": {},
   "source": [
    "### Signature"
   ]
  },
  {
   "cell_type": "code",
   "execution_count": 241,
   "id": "bab24ba3",
   "metadata": {},
   "outputs": [],
   "source": [
    "etc_df = df_y.loc[df_y['제품카테고리'] == '기타']"
   ]
  },
  {
   "cell_type": "code",
   "execution_count": 242,
   "id": "20ad3631",
   "metadata": {},
   "outputs": [
    {
     "data": {
      "text/plain": [
       "0.0    429\n",
       "1.0     83\n",
       "Name: label_y, dtype: int64"
      ]
     },
     "execution_count": 242,
     "metadata": {},
     "output_type": "execute_result"
    }
   ],
   "source": [
    "etc_df['label_y'].value_counts()"
   ]
  },
  {
   "cell_type": "markdown",
   "id": "095dcf50",
   "metadata": {},
   "source": [
    "## 고객의 구매이력 데이터 통합 함수"
   ]
  },
  {
   "cell_type": "code",
   "execution_count": 243,
   "id": "4297af09",
   "metadata": {},
   "outputs": [],
   "source": [
    "def create_row_from_group(group, customer_id):\n",
    "\n",
    "    new_row = {'고객ID': customer_id}\n",
    "    for column in group.columns:\n",
    "        new_row[column] = group.iloc[0][column]\n",
    "    return new_row"
   ]
  },
  {
   "cell_type": "code",
   "execution_count": 244,
   "id": "63ecbf73",
   "metadata": {},
   "outputs": [],
   "source": [
    "def organize_purchases_per_customer(dataframe, column_list):\n",
    "    \n",
    "    # 단일 고객의 최대 구매 횟수 파악\n",
    "    grouped_new = dataframe.groupby('고객ID')\n",
    "    max_purchases_new = grouped_new.size().max()\n",
    "\n",
    "    label_encoding_df = {column: [] for column in column_list}\n",
    "\n",
    "    for i in range(1, max_purchases_new + 1):\n",
    "        label_encoding_df[f'년도_{i}'] = []\n",
    "        label_encoding_df[f'월_{i}'] = []\n",
    "        label_encoding_df[f'타겟제품명_{i}'] = []\n",
    "        label_encoding_df[f'금액_{i}'] = []\n",
    "\n",
    "    for customer_id, group in tqdm(grouped_new):\n",
    "        purchases = list(group[['년도', '월','타겟제품명', '금액']].itertuples(index=False, name=None))\n",
    "        new_row_new = create_row_from_group(group, customer_id)\n",
    "\n",
    "        # 새 행에 판매 날짜 및 구매 추가\n",
    "        for i, (year, month, product_name, amount) in enumerate(purchases, 1):\n",
    "            new_row_new[f'년도_{i}'] = year\n",
    "            new_row_new[f'월_{i}'] = month\n",
    "            new_row_new[f'타겟제품명_{i}'] = product_name\n",
    "            new_row_new[f'금액_{i}'] = amount\n",
    "\n",
    "        # 최대 구매수보다 적은 경우 나머지 행 채우기\n",
    "        for j in range(len(purchases) + 1, max_purchases_new + 1):\n",
    "            new_row_new[f'년도_{j}'] = None\n",
    "            new_row_new[f'월_{j}'] = None\n",
    "            new_row_new[f'타겟제품명_{j}'] = None\n",
    "            new_row_new[f'금액_{j}'] = None\n",
    "\n",
    "        for key in label_encoding_df:\n",
    "            label_encoding_df[key].append(new_row_new.get(key, None))\n",
    "\n",
    "    new_structured_df_new = pd.DataFrame(label_encoding_df)\n",
    "    return new_structured_df_new\n"
   ]
  },
  {
   "cell_type": "markdown",
   "id": "84827543",
   "metadata": {},
   "source": [
    "## 고객별 데이터 생성 : 고객 정보와 가공변수 포함된 df "
   ]
  },
  {
   "cell_type": "code",
   "execution_count": 245,
   "id": "3812cb40",
   "metadata": {},
   "outputs": [],
   "source": [
    "def final_df_maker(dataframe, col_list):\n",
    "    df_new = organize_purchases_per_customer(dataframe, col_list)\n",
    "    # 가공변수 추가\n",
    "    df_new = df_new.merge(df_crm[['고객ID','총구매빈도', '최대구매가격대',\n",
    "       '주구매제품카테고리']], on = '고객ID', how = 'left')\n",
    "    return df_new"
   ]
  },
  {
   "cell_type": "code",
   "execution_count": 246,
   "id": "d7e7b8f7",
   "metadata": {},
   "outputs": [],
   "source": [
    "col_list = [\n",
    "'고객ID','멤버십고객여부', '케어솔루션품목수', '케어십가입여부', '케어십품목수', '최근3년구매금액', '최근구매채널',\n",
    "'Only&Best품목수', '건강관리가전품목수', '연령대', '주거형태', '아파트시세', '아파트평형대', '포인트사용빈도',\n",
    "'보유멤버십포인트', '멤버십가입경로', '제휴카드보유여부', '프리미엄카드보유여부', '제휴가입여부', '멤버십앱설치여부',\n",
    "'거주광역명', '거주시군구명', 'label_y']"
   ]
  },
  {
   "cell_type": "code",
   "execution_count": 247,
   "id": "0e95eada",
   "metadata": {},
   "outputs": [
    {
     "name": "stderr",
     "output_type": "stream",
     "text": [
      "100%|████████████████████████████████████████| 397/397 [00:01<00:00, 384.05it/s]\n"
     ]
    }
   ],
   "source": [
    "etc_df_new = final_df_maker(etc_df, col_list)"
   ]
  },
  {
   "cell_type": "code",
   "execution_count": 248,
   "id": "09922a8e",
   "metadata": {},
   "outputs": [
    {
     "name": "stderr",
     "output_type": "stream",
     "text": [
      "100%|██████████████████████████████████████| 5039/5039 [00:13<00:00, 384.40it/s]\n"
     ]
    }
   ],
   "source": [
    "health_df_new = final_df_maker(health_df, col_list)"
   ]
  },
  {
   "cell_type": "code",
   "execution_count": 249,
   "id": "ea11fd41",
   "metadata": {},
   "outputs": [
    {
     "name": "stderr",
     "output_type": "stream",
     "text": [
      "100%|████████████████████████████████████| 72873/72873 [03:06<00:00, 390.53it/s]\n"
     ]
    }
   ],
   "source": [
    "clean_df_new = final_df_maker(clean_df, col_list)"
   ]
  },
  {
   "cell_type": "code",
   "execution_count": 252,
   "id": "3a85801f",
   "metadata": {},
   "outputs": [
    {
     "name": "stderr",
     "output_type": "stream",
     "text": [
      "100%|████████████████████████████████████| 63547/63547 [02:42<00:00, 390.58it/s]\n"
     ]
    }
   ],
   "source": [
    "air_df_new = final_df_maker(air_df, col_list)"
   ]
  },
  {
   "cell_type": "code",
   "execution_count": 253,
   "id": "b213a801",
   "metadata": {},
   "outputs": [
    {
     "name": "stderr",
     "output_type": "stream",
     "text": [
      "100%|████████████████████████████████████| 67436/67436 [02:51<00:00, 393.35it/s]\n",
      "100%|████████████████████████████████████| 62058/62058 [02:41<00:00, 383.93it/s]\n"
     ]
    }
   ],
   "source": [
    "kitchen_df_new = final_df_maker(kitchen_df, col_list)\n",
    "display_df_new = final_df_maker(display_df, col_list)"
   ]
  },
  {
   "cell_type": "code",
   "execution_count": 254,
   "id": "5e51dd3a",
   "metadata": {},
   "outputs": [
    {
     "name": "stderr",
     "output_type": "stream",
     "text": [
      "100%|██████████████████████████████████| 102691/102691 [04:21<00:00, 392.52it/s]\n"
     ]
    }
   ],
   "source": [
    "all_df_new = final_df_maker(df_y, col_list)"
   ]
  },
  {
   "cell_type": "code",
   "execution_count": null,
   "id": "004db0ae",
   "metadata": {},
   "outputs": [],
   "source": [
    "# etc_df_new.to_csv('../data/etc/etc_df_최빈값_2023제거.csv', encoding='utf-8-sig')\n"
   ]
  },
  {
   "cell_type": "code",
   "execution_count": 255,
   "id": "5fc38119",
   "metadata": {},
   "outputs": [],
   "source": [
    "# etc_df_new.to_csv('../data/etc/etc_df_최빈값_2023제거.csv', encoding='utf-8-sig')\n",
    "# health_df_new.to_csv('../data/health/health_df_최빈값_2023제거.csv', encoding='utf-8-sig')\n",
    "# air_df_new.to_csv('../data/air/air_df_최빈값_2023제거.csv', encoding='utf-8-sig')\n",
    "# kitchen_df_new.to_csv('../data/kitchen/kitchen_df_최빈값_2023제거.csv', encoding='utf-8-sig')\n",
    "# display_df_new.to_csv('../data/display/display_df_최빈값_2023제거.csv', encoding='utf-8-sig')\n",
    "# clean_df_new.to_csv('../data/clean/clean_df_최빈값_2023제거.csv', encoding='utf-8-sig')\n"
   ]
  },
  {
   "cell_type": "code",
   "execution_count": 256,
   "id": "4e3505d8",
   "metadata": {},
   "outputs": [],
   "source": [
    "# all_df_new.to_csv('../data/all/all_df_최빈값_2023제거.csv', encoding='utf-8-sig')"
   ]
  },
  {
   "cell_type": "markdown",
   "id": "8a41d2fb",
   "metadata": {},
   "source": [
    "## 미세먼지, 온도 추가"
   ]
  },
  {
   "cell_type": "code",
   "execution_count": 117,
   "id": "b0e4b50d",
   "metadata": {},
   "outputs": [],
   "source": [
    "df_x = df_y.copy()"
   ]
  },
  {
   "cell_type": "markdown",
   "id": "e92facb3",
   "metadata": {},
   "source": [
    "### 미세먼지"
   ]
  },
  {
   "cell_type": "code",
   "execution_count": 118,
   "id": "369b0f15",
   "metadata": {},
   "outputs": [],
   "source": [
    "dust1 = pd.read_excel('../data/외부변수/20091120-20181231_미세먼지농도.xlsx')"
   ]
  },
  {
   "cell_type": "code",
   "execution_count": 119,
   "id": "5cc3f8c0",
   "metadata": {},
   "outputs": [],
   "source": [
    "dust2 = pd.read_excel('../data/외부변수/20190101-20230831_미세먼지농도.xlsx')"
   ]
  },
  {
   "cell_type": "code",
   "execution_count": 120,
   "id": "aea58169",
   "metadata": {},
   "outputs": [],
   "source": [
    "dust = pd.concat([dust1, dust2])"
   ]
  },
  {
   "cell_type": "code",
   "execution_count": 121,
   "id": "dcb0081d",
   "metadata": {},
   "outputs": [
    {
     "data": {
      "text/html": [
       "<div>\n",
       "<style scoped>\n",
       "    .dataframe tbody tr th:only-of-type {\n",
       "        vertical-align: middle;\n",
       "    }\n",
       "\n",
       "    .dataframe tbody tr th {\n",
       "        vertical-align: top;\n",
       "    }\n",
       "\n",
       "    .dataframe thead th {\n",
       "        text-align: right;\n",
       "    }\n",
       "</style>\n",
       "<table border=\"1\" class=\"dataframe\">\n",
       "  <thead>\n",
       "    <tr style=\"text-align: right;\">\n",
       "      <th></th>\n",
       "      <th>지점</th>\n",
       "      <th>지점명</th>\n",
       "      <th>일시</th>\n",
       "      <th>일 미세먼지 농도(㎍/㎥)</th>\n",
       "    </tr>\n",
       "  </thead>\n",
       "  <tbody>\n",
       "    <tr>\n",
       "      <th>0</th>\n",
       "      <td>90</td>\n",
       "      <td>속초</td>\n",
       "      <td>2009-11-20</td>\n",
       "      <td>25</td>\n",
       "    </tr>\n",
       "    <tr>\n",
       "      <th>1</th>\n",
       "      <td>90</td>\n",
       "      <td>속초</td>\n",
       "      <td>2009-11-21</td>\n",
       "      <td>27</td>\n",
       "    </tr>\n",
       "    <tr>\n",
       "      <th>2</th>\n",
       "      <td>90</td>\n",
       "      <td>속초</td>\n",
       "      <td>2009-11-22</td>\n",
       "      <td>19</td>\n",
       "    </tr>\n",
       "    <tr>\n",
       "      <th>3</th>\n",
       "      <td>90</td>\n",
       "      <td>속초</td>\n",
       "      <td>2009-11-23</td>\n",
       "      <td>48</td>\n",
       "    </tr>\n",
       "    <tr>\n",
       "      <th>4</th>\n",
       "      <td>90</td>\n",
       "      <td>속초</td>\n",
       "      <td>2009-11-24</td>\n",
       "      <td>63</td>\n",
       "    </tr>\n",
       "    <tr>\n",
       "      <th>...</th>\n",
       "      <td>...</td>\n",
       "      <td>...</td>\n",
       "      <td>...</td>\n",
       "      <td>...</td>\n",
       "    </tr>\n",
       "    <tr>\n",
       "      <th>41918</th>\n",
       "      <td>501</td>\n",
       "      <td>연평도</td>\n",
       "      <td>2023-08-27</td>\n",
       "      <td>34</td>\n",
       "    </tr>\n",
       "    <tr>\n",
       "      <th>41919</th>\n",
       "      <td>501</td>\n",
       "      <td>연평도</td>\n",
       "      <td>2023-08-28</td>\n",
       "      <td>19</td>\n",
       "    </tr>\n",
       "    <tr>\n",
       "      <th>41920</th>\n",
       "      <td>501</td>\n",
       "      <td>연평도</td>\n",
       "      <td>2023-08-29</td>\n",
       "      <td>18</td>\n",
       "    </tr>\n",
       "    <tr>\n",
       "      <th>41921</th>\n",
       "      <td>501</td>\n",
       "      <td>연평도</td>\n",
       "      <td>2023-08-30</td>\n",
       "      <td>12</td>\n",
       "    </tr>\n",
       "    <tr>\n",
       "      <th>41922</th>\n",
       "      <td>501</td>\n",
       "      <td>연평도</td>\n",
       "      <td>2023-08-31</td>\n",
       "      <td>19</td>\n",
       "    </tr>\n",
       "  </tbody>\n",
       "</table>\n",
       "<p>125264 rows × 4 columns</p>\n",
       "</div>"
      ],
      "text/plain": [
       "        지점  지점명         일시  일 미세먼지 농도(㎍/㎥)\n",
       "0       90   속초 2009-11-20              25\n",
       "1       90   속초 2009-11-21              27\n",
       "2       90   속초 2009-11-22              19\n",
       "3       90   속초 2009-11-23              48\n",
       "4       90   속초 2009-11-24              63\n",
       "...    ...  ...        ...             ...\n",
       "41918  501  연평도 2023-08-27              34\n",
       "41919  501  연평도 2023-08-28              19\n",
       "41920  501  연평도 2023-08-29              18\n",
       "41921  501  연평도 2023-08-30              12\n",
       "41922  501  연평도 2023-08-31              19\n",
       "\n",
       "[125264 rows x 4 columns]"
      ]
     },
     "execution_count": 121,
     "metadata": {},
     "output_type": "execute_result"
    }
   ],
   "source": [
    "dust"
   ]
  },
  {
   "cell_type": "code",
   "execution_count": 122,
   "id": "bd922157",
   "metadata": {},
   "outputs": [],
   "source": [
    "mean_dust = dust[['일시', '일 미세먼지 농도(㎍/㎥)']].groupby('일시').mean().reset_index()"
   ]
  },
  {
   "cell_type": "markdown",
   "id": "72033aa4",
   "metadata": {},
   "source": [
    "### 위의 일 미세먼지 농도가 결측치인 것을 '서울시 일별 평균 대기오염도 정보'를 평균냄으로써 결측치 보완 (이하 날짜)\n",
    " https://data.seoul.go.kr/dataList/OA-2218/S/1/datasetView.do\n",
    "* 2019-10-08 : 23.044\n",
    "* 2019-10-09 : 24.804\n",
    "* 2022-02-15 : 35.063"
   ]
  },
  {
   "cell_type": "code",
   "execution_count": 123,
   "id": "7baf5d0d",
   "metadata": {},
   "outputs": [
    {
     "data": {
      "text/html": [
       "<div>\n",
       "<style scoped>\n",
       "    .dataframe tbody tr th:only-of-type {\n",
       "        vertical-align: middle;\n",
       "    }\n",
       "\n",
       "    .dataframe tbody tr th {\n",
       "        vertical-align: top;\n",
       "    }\n",
       "\n",
       "    .dataframe thead th {\n",
       "        text-align: right;\n",
       "    }\n",
       "</style>\n",
       "<table border=\"1\" class=\"dataframe\">\n",
       "  <thead>\n",
       "    <tr style=\"text-align: right;\">\n",
       "      <th></th>\n",
       "      <th>일시</th>\n",
       "      <th>일 미세먼지 농도(㎍/㎥)</th>\n",
       "    </tr>\n",
       "  </thead>\n",
       "  <tbody>\n",
       "    <tr>\n",
       "      <th>0</th>\n",
       "      <td>2009-11-20 00:00:00</td>\n",
       "      <td>32.777778</td>\n",
       "    </tr>\n",
       "    <tr>\n",
       "      <th>1</th>\n",
       "      <td>2009-11-21 00:00:00</td>\n",
       "      <td>32.000000</td>\n",
       "    </tr>\n",
       "    <tr>\n",
       "      <th>2</th>\n",
       "      <td>2009-11-22 00:00:00</td>\n",
       "      <td>29.259259</td>\n",
       "    </tr>\n",
       "    <tr>\n",
       "      <th>3</th>\n",
       "      <td>2009-11-23 00:00:00</td>\n",
       "      <td>52.555556</td>\n",
       "    </tr>\n",
       "    <tr>\n",
       "      <th>4</th>\n",
       "      <td>2009-11-24 00:00:00</td>\n",
       "      <td>62.000000</td>\n",
       "    </tr>\n",
       "    <tr>\n",
       "      <th>...</th>\n",
       "      <td>...</td>\n",
       "      <td>...</td>\n",
       "    </tr>\n",
       "    <tr>\n",
       "      <th>5026</th>\n",
       "      <td>2023-08-28 00:00:00</td>\n",
       "      <td>15.040000</td>\n",
       "    </tr>\n",
       "    <tr>\n",
       "      <th>5027</th>\n",
       "      <td>2023-08-29 00:00:00</td>\n",
       "      <td>15.863636</td>\n",
       "    </tr>\n",
       "    <tr>\n",
       "      <th>5028</th>\n",
       "      <td>2023-08-30 00:00:00</td>\n",
       "      <td>14.000000</td>\n",
       "    </tr>\n",
       "    <tr>\n",
       "      <th>5029</th>\n",
       "      <td>2023-08-31 00:00:00</td>\n",
       "      <td>16.666667</td>\n",
       "    </tr>\n",
       "    <tr>\n",
       "      <th>5030</th>\n",
       "      <td>2022-02-15</td>\n",
       "      <td>35.063000</td>\n",
       "    </tr>\n",
       "  </tbody>\n",
       "</table>\n",
       "<p>5031 rows × 2 columns</p>\n",
       "</div>"
      ],
      "text/plain": [
       "                       일시  일 미세먼지 농도(㎍/㎥)\n",
       "0     2009-11-20 00:00:00       32.777778\n",
       "1     2009-11-21 00:00:00       32.000000\n",
       "2     2009-11-22 00:00:00       29.259259\n",
       "3     2009-11-23 00:00:00       52.555556\n",
       "4     2009-11-24 00:00:00       62.000000\n",
       "...                   ...             ...\n",
       "5026  2023-08-28 00:00:00       15.040000\n",
       "5027  2023-08-29 00:00:00       15.863636\n",
       "5028  2023-08-30 00:00:00       14.000000\n",
       "5029  2023-08-31 00:00:00       16.666667\n",
       "5030           2022-02-15       35.063000\n",
       "\n",
       "[5031 rows x 2 columns]"
      ]
     },
     "execution_count": 123,
     "metadata": {},
     "output_type": "execute_result"
    }
   ],
   "source": [
    "# 누락된 미세먼지 농도 데이터 추가\n",
    "\n",
    "mean_dust.append(pd.DataFrame({'일시': ['2019-10-08'], '일 미세먼지 농도(㎍/㎥)': [23.044]}), ignore_index=True)\n",
    "mean_dust.append(pd.DataFrame({'일시': ['2019-10-09'], '일 미세먼지 농도(㎍/㎥)': [24.804]}), ignore_index=True)\n",
    "mean_dust.append(pd.DataFrame({'일시': ['2022-02-15'], '일 미세먼지 농도(㎍/㎥)': [35.063]}), ignore_index=True)"
   ]
  },
  {
   "cell_type": "code",
   "execution_count": 124,
   "id": "357f0e75",
   "metadata": {
    "scrolled": true
   },
   "outputs": [
    {
     "data": {
      "text/html": [
       "<div>\n",
       "<style scoped>\n",
       "    .dataframe tbody tr th:only-of-type {\n",
       "        vertical-align: middle;\n",
       "    }\n",
       "\n",
       "    .dataframe tbody tr th {\n",
       "        vertical-align: top;\n",
       "    }\n",
       "\n",
       "    .dataframe thead th {\n",
       "        text-align: right;\n",
       "    }\n",
       "</style>\n",
       "<table border=\"1\" class=\"dataframe\">\n",
       "  <thead>\n",
       "    <tr style=\"text-align: right;\">\n",
       "      <th></th>\n",
       "      <th>일시</th>\n",
       "      <th>일 미세먼지 농도(㎍/㎥)</th>\n",
       "    </tr>\n",
       "  </thead>\n",
       "  <tbody>\n",
       "    <tr>\n",
       "      <th>0</th>\n",
       "      <td>2009-11-20</td>\n",
       "      <td>32.777778</td>\n",
       "    </tr>\n",
       "    <tr>\n",
       "      <th>1</th>\n",
       "      <td>2009-11-21</td>\n",
       "      <td>32.000000</td>\n",
       "    </tr>\n",
       "    <tr>\n",
       "      <th>2</th>\n",
       "      <td>2009-11-22</td>\n",
       "      <td>29.259259</td>\n",
       "    </tr>\n",
       "    <tr>\n",
       "      <th>3</th>\n",
       "      <td>2009-11-23</td>\n",
       "      <td>52.555556</td>\n",
       "    </tr>\n",
       "    <tr>\n",
       "      <th>4</th>\n",
       "      <td>2009-11-24</td>\n",
       "      <td>62.000000</td>\n",
       "    </tr>\n",
       "    <tr>\n",
       "      <th>...</th>\n",
       "      <td>...</td>\n",
       "      <td>...</td>\n",
       "    </tr>\n",
       "    <tr>\n",
       "      <th>5025</th>\n",
       "      <td>2023-08-27</td>\n",
       "      <td>23.576923</td>\n",
       "    </tr>\n",
       "    <tr>\n",
       "      <th>5026</th>\n",
       "      <td>2023-08-28</td>\n",
       "      <td>15.040000</td>\n",
       "    </tr>\n",
       "    <tr>\n",
       "      <th>5027</th>\n",
       "      <td>2023-08-29</td>\n",
       "      <td>15.863636</td>\n",
       "    </tr>\n",
       "    <tr>\n",
       "      <th>5028</th>\n",
       "      <td>2023-08-30</td>\n",
       "      <td>14.000000</td>\n",
       "    </tr>\n",
       "    <tr>\n",
       "      <th>5029</th>\n",
       "      <td>2023-08-31</td>\n",
       "      <td>16.666667</td>\n",
       "    </tr>\n",
       "  </tbody>\n",
       "</table>\n",
       "<p>5030 rows × 2 columns</p>\n",
       "</div>"
      ],
      "text/plain": [
       "             일시  일 미세먼지 농도(㎍/㎥)\n",
       "0    2009-11-20       32.777778\n",
       "1    2009-11-21       32.000000\n",
       "2    2009-11-22       29.259259\n",
       "3    2009-11-23       52.555556\n",
       "4    2009-11-24       62.000000\n",
       "...         ...             ...\n",
       "5025 2023-08-27       23.576923\n",
       "5026 2023-08-28       15.040000\n",
       "5027 2023-08-29       15.863636\n",
       "5028 2023-08-30       14.000000\n",
       "5029 2023-08-31       16.666667\n",
       "\n",
       "[5030 rows x 2 columns]"
      ]
     },
     "execution_count": 124,
     "metadata": {},
     "output_type": "execute_result"
    }
   ],
   "source": [
    "mean_dust['일시'] = pd.to_datetime(mean_dust['일시'], format='%Y-%m-%d')\n",
    "mean_dust.sort_values(by = \"일시\", inplace = True)\n",
    "mean_dust"
   ]
  },
  {
   "cell_type": "code",
   "execution_count": 125,
   "id": "802482ac",
   "metadata": {},
   "outputs": [
    {
     "data": {
      "text/html": [
       "<div>\n",
       "<style scoped>\n",
       "    .dataframe tbody tr th:only-of-type {\n",
       "        vertical-align: middle;\n",
       "    }\n",
       "\n",
       "    .dataframe tbody tr th {\n",
       "        vertical-align: top;\n",
       "    }\n",
       "\n",
       "    .dataframe thead th {\n",
       "        text-align: right;\n",
       "    }\n",
       "</style>\n",
       "<table border=\"1\" class=\"dataframe\">\n",
       "  <thead>\n",
       "    <tr style=\"text-align: right;\">\n",
       "      <th></th>\n",
       "      <th>일시</th>\n",
       "      <th>일 미세먼지 농도(㎍/㎥)</th>\n",
       "    </tr>\n",
       "  </thead>\n",
       "  <tbody>\n",
       "    <tr>\n",
       "      <th>0</th>\n",
       "      <td>2009-11-20</td>\n",
       "      <td>32.777778</td>\n",
       "    </tr>\n",
       "    <tr>\n",
       "      <th>1</th>\n",
       "      <td>2009-11-21</td>\n",
       "      <td>32.000000</td>\n",
       "    </tr>\n",
       "    <tr>\n",
       "      <th>2</th>\n",
       "      <td>2009-11-22</td>\n",
       "      <td>29.259259</td>\n",
       "    </tr>\n",
       "    <tr>\n",
       "      <th>3</th>\n",
       "      <td>2009-11-23</td>\n",
       "      <td>52.555556</td>\n",
       "    </tr>\n",
       "    <tr>\n",
       "      <th>4</th>\n",
       "      <td>2009-11-24</td>\n",
       "      <td>62.000000</td>\n",
       "    </tr>\n",
       "    <tr>\n",
       "      <th>...</th>\n",
       "      <td>...</td>\n",
       "      <td>...</td>\n",
       "    </tr>\n",
       "    <tr>\n",
       "      <th>5025</th>\n",
       "      <td>2023-08-27</td>\n",
       "      <td>23.576923</td>\n",
       "    </tr>\n",
       "    <tr>\n",
       "      <th>5026</th>\n",
       "      <td>2023-08-28</td>\n",
       "      <td>15.040000</td>\n",
       "    </tr>\n",
       "    <tr>\n",
       "      <th>5027</th>\n",
       "      <td>2023-08-29</td>\n",
       "      <td>15.863636</td>\n",
       "    </tr>\n",
       "    <tr>\n",
       "      <th>5028</th>\n",
       "      <td>2023-08-30</td>\n",
       "      <td>14.000000</td>\n",
       "    </tr>\n",
       "    <tr>\n",
       "      <th>5029</th>\n",
       "      <td>2023-08-31</td>\n",
       "      <td>16.666667</td>\n",
       "    </tr>\n",
       "  </tbody>\n",
       "</table>\n",
       "<p>5030 rows × 2 columns</p>\n",
       "</div>"
      ],
      "text/plain": [
       "             일시  일 미세먼지 농도(㎍/㎥)\n",
       "0    2009-11-20       32.777778\n",
       "1    2009-11-21       32.000000\n",
       "2    2009-11-22       29.259259\n",
       "3    2009-11-23       52.555556\n",
       "4    2009-11-24       62.000000\n",
       "...         ...             ...\n",
       "5025 2023-08-27       23.576923\n",
       "5026 2023-08-28       15.040000\n",
       "5027 2023-08-29       15.863636\n",
       "5028 2023-08-30       14.000000\n",
       "5029 2023-08-31       16.666667\n",
       "\n",
       "[5030 rows x 2 columns]"
      ]
     },
     "execution_count": 125,
     "metadata": {},
     "output_type": "execute_result"
    }
   ],
   "source": [
    "mean_dust"
   ]
  },
  {
   "cell_type": "code",
   "execution_count": 128,
   "id": "4531280e",
   "metadata": {},
   "outputs": [],
   "source": [
    "df_x['매출일자(배송완료일자)'] = pd.to_datetime(df_x['매출일자(배송완료일자)'], format='%Y-%m-%d')"
   ]
  },
  {
   "cell_type": "code",
   "execution_count": 129,
   "id": "b9aecb0a",
   "metadata": {},
   "outputs": [],
   "source": [
    "df_x = df_x.merge(mean_dust, left_on = '매출일자(배송완료일자)', right_on = '일시', how = 'left')"
   ]
  },
  {
   "cell_type": "markdown",
   "id": "13f830fb",
   "metadata": {},
   "source": [
    "### 온도"
   ]
  },
  {
   "cell_type": "code",
   "execution_count": 130,
   "id": "d4f79780",
   "metadata": {},
   "outputs": [],
   "source": [
    "temperature1 = pd.read_excel('../data/외부변수/20091120-20181231_기온.xlsx')"
   ]
  },
  {
   "cell_type": "code",
   "execution_count": 131,
   "id": "8b46e572",
   "metadata": {},
   "outputs": [],
   "source": [
    "temperature2 = pd.read_excel('../data/외부변수/20190101-20230831_기온.xlsx')"
   ]
  },
  {
   "cell_type": "code",
   "execution_count": 132,
   "id": "0bbdab31",
   "metadata": {},
   "outputs": [],
   "source": [
    "temperature = pd.concat([temperature1, temperature2])"
   ]
  },
  {
   "cell_type": "code",
   "execution_count": 133,
   "id": "315c1d2a",
   "metadata": {},
   "outputs": [],
   "source": [
    "mean_temperature = temperature[['일시', '평균기온(°C)']].groupby('일시').mean().reset_index()"
   ]
  },
  {
   "cell_type": "code",
   "execution_count": 134,
   "id": "bebfec4d",
   "metadata": {},
   "outputs": [
    {
     "data": {
      "text/html": [
       "<div>\n",
       "<style scoped>\n",
       "    .dataframe tbody tr th:only-of-type {\n",
       "        vertical-align: middle;\n",
       "    }\n",
       "\n",
       "    .dataframe tbody tr th {\n",
       "        vertical-align: top;\n",
       "    }\n",
       "\n",
       "    .dataframe thead th {\n",
       "        text-align: right;\n",
       "    }\n",
       "</style>\n",
       "<table border=\"1\" class=\"dataframe\">\n",
       "  <thead>\n",
       "    <tr style=\"text-align: right;\">\n",
       "      <th></th>\n",
       "      <th>일시</th>\n",
       "      <th>평균기온(°C)</th>\n",
       "    </tr>\n",
       "  </thead>\n",
       "  <tbody>\n",
       "    <tr>\n",
       "      <th>0</th>\n",
       "      <td>2009-11-20</td>\n",
       "      <td>3.035714</td>\n",
       "    </tr>\n",
       "    <tr>\n",
       "      <th>1</th>\n",
       "      <td>2009-11-21</td>\n",
       "      <td>2.598810</td>\n",
       "    </tr>\n",
       "    <tr>\n",
       "      <th>2</th>\n",
       "      <td>2009-11-22</td>\n",
       "      <td>2.825000</td>\n",
       "    </tr>\n",
       "    <tr>\n",
       "      <th>3</th>\n",
       "      <td>2009-11-23</td>\n",
       "      <td>5.992857</td>\n",
       "    </tr>\n",
       "    <tr>\n",
       "      <th>4</th>\n",
       "      <td>2009-11-24</td>\n",
       "      <td>6.148810</td>\n",
       "    </tr>\n",
       "    <tr>\n",
       "      <th>...</th>\n",
       "      <td>...</td>\n",
       "      <td>...</td>\n",
       "    </tr>\n",
       "    <tr>\n",
       "      <th>5028</th>\n",
       "      <td>2023-08-27</td>\n",
       "      <td>25.341667</td>\n",
       "    </tr>\n",
       "    <tr>\n",
       "      <th>5029</th>\n",
       "      <td>2023-08-28</td>\n",
       "      <td>25.096875</td>\n",
       "    </tr>\n",
       "    <tr>\n",
       "      <th>5030</th>\n",
       "      <td>2023-08-29</td>\n",
       "      <td>25.286458</td>\n",
       "    </tr>\n",
       "    <tr>\n",
       "      <th>5031</th>\n",
       "      <td>2023-08-30</td>\n",
       "      <td>22.922917</td>\n",
       "    </tr>\n",
       "    <tr>\n",
       "      <th>5032</th>\n",
       "      <td>2023-08-31</td>\n",
       "      <td>23.448958</td>\n",
       "    </tr>\n",
       "  </tbody>\n",
       "</table>\n",
       "<p>5033 rows × 2 columns</p>\n",
       "</div>"
      ],
      "text/plain": [
       "             일시   평균기온(°C)\n",
       "0    2009-11-20   3.035714\n",
       "1    2009-11-21   2.598810\n",
       "2    2009-11-22   2.825000\n",
       "3    2009-11-23   5.992857\n",
       "4    2009-11-24   6.148810\n",
       "...         ...        ...\n",
       "5028 2023-08-27  25.341667\n",
       "5029 2023-08-28  25.096875\n",
       "5030 2023-08-29  25.286458\n",
       "5031 2023-08-30  22.922917\n",
       "5032 2023-08-31  23.448958\n",
       "\n",
       "[5033 rows x 2 columns]"
      ]
     },
     "execution_count": 134,
     "metadata": {},
     "output_type": "execute_result"
    }
   ],
   "source": [
    "mean_temperature['일시'] = pd.to_datetime(mean_temperature['일시'], format='%Y-%m-%d')\n",
    "mean_temperature"
   ]
  },
  {
   "cell_type": "code",
   "execution_count": 135,
   "id": "0a450370",
   "metadata": {},
   "outputs": [],
   "source": [
    "df_x = df_x.merge(mean_temperature, left_on = '매출일자(배송완료일자)', right_on = '일시', how = 'left')"
   ]
  },
  {
   "cell_type": "code",
   "execution_count": 136,
   "id": "d8c42ff6",
   "metadata": {},
   "outputs": [],
   "source": [
    "df_x = df_x.drop(['일시_x', '일시_y'], axis = 1)"
   ]
  },
  {
   "cell_type": "code",
   "execution_count": 137,
   "id": "449136e3",
   "metadata": {},
   "outputs": [],
   "source": [
    "df_x = df_x.rename({'일 미세먼지 농도(㎍/㎥)' : '미세먼지', '평균기온(°C)' : '기온'}, axis = 1)"
   ]
  },
  {
   "cell_type": "code",
   "execution_count": 138,
   "id": "7fabfd03",
   "metadata": {},
   "outputs": [
    {
     "data": {
      "text/html": [
       "<div>\n",
       "<style scoped>\n",
       "    .dataframe tbody tr th:only-of-type {\n",
       "        vertical-align: middle;\n",
       "    }\n",
       "\n",
       "    .dataframe tbody tr th {\n",
       "        vertical-align: top;\n",
       "    }\n",
       "\n",
       "    .dataframe thead th {\n",
       "        text-align: right;\n",
       "    }\n",
       "</style>\n",
       "<table border=\"1\" class=\"dataframe\">\n",
       "  <thead>\n",
       "    <tr style=\"text-align: right;\">\n",
       "      <th></th>\n",
       "      <th>고객ID</th>\n",
       "      <th>매출일자(배송완료일자)</th>\n",
       "      <th>타겟제품명</th>\n",
       "      <th>금액</th>\n",
       "      <th>멤버십고객여부</th>\n",
       "      <th>케어솔루션품목수</th>\n",
       "      <th>케어십가입여부</th>\n",
       "      <th>케어십품목수</th>\n",
       "      <th>최근3년구매금액</th>\n",
       "      <th>최근구매채널</th>\n",
       "      <th>Only&amp;Best품목수</th>\n",
       "      <th>건강관리가전품목수</th>\n",
       "      <th>연령대</th>\n",
       "      <th>주거형태</th>\n",
       "      <th>아파트시세</th>\n",
       "      <th>아파트평형대</th>\n",
       "      <th>포인트사용빈도</th>\n",
       "      <th>보유멤버십포인트</th>\n",
       "      <th>멤버십가입경로</th>\n",
       "      <th>제휴카드보유여부</th>\n",
       "      <th>프리미엄카드보유여부</th>\n",
       "      <th>제휴가입여부</th>\n",
       "      <th>멤버십앱설치여부</th>\n",
       "      <th>거주광역명</th>\n",
       "      <th>거주시군구명</th>\n",
       "      <th>년도</th>\n",
       "      <th>월</th>\n",
       "      <th>label_2023</th>\n",
       "      <th>제품카테고리</th>\n",
       "      <th>금액_중간값</th>\n",
       "      <th>label_y</th>\n",
       "      <th>미세먼지</th>\n",
       "      <th>기온</th>\n",
       "    </tr>\n",
       "  </thead>\n",
       "  <tbody>\n",
       "    <tr>\n",
       "      <th>0</th>\n",
       "      <td>34410</td>\n",
       "      <td>2022-04-29</td>\n",
       "      <td>에어컨</td>\n",
       "      <td>300만원 이상 400만원 이하</td>\n",
       "      <td>0.0</td>\n",
       "      <td>0</td>\n",
       "      <td>0</td>\n",
       "      <td>0</td>\n",
       "      <td>15KK이상20KK미만</td>\n",
       "      <td>2</td>\n",
       "      <td>1</td>\n",
       "      <td>1</td>\n",
       "      <td>30대</td>\n",
       "      <td>아파트</td>\n",
       "      <td>1~2억</td>\n",
       "      <td>20평대</td>\n",
       "      <td>미사용</td>\n",
       "      <td>0</td>\n",
       "      <td>매장</td>\n",
       "      <td>0</td>\n",
       "      <td>0</td>\n",
       "      <td>0</td>\n",
       "      <td>0.0</td>\n",
       "      <td>전북</td>\n",
       "      <td>전주시 덕진구</td>\n",
       "      <td>2022</td>\n",
       "      <td>4</td>\n",
       "      <td>0.0</td>\n",
       "      <td>에어솔루션</td>\n",
       "      <td>350</td>\n",
       "      <td>0.0</td>\n",
       "      <td>16.4</td>\n",
       "      <td>11.554737</td>\n",
       "    </tr>\n",
       "    <tr>\n",
       "      <th>1</th>\n",
       "      <td>34410</td>\n",
       "      <td>2020-05-25</td>\n",
       "      <td>세탁기</td>\n",
       "      <td>100만원 이상 200만원 이하</td>\n",
       "      <td>0.0</td>\n",
       "      <td>0</td>\n",
       "      <td>0</td>\n",
       "      <td>0</td>\n",
       "      <td>15KK이상20KK미만</td>\n",
       "      <td>2</td>\n",
       "      <td>1</td>\n",
       "      <td>1</td>\n",
       "      <td>30대</td>\n",
       "      <td>아파트</td>\n",
       "      <td>1~2억</td>\n",
       "      <td>20평대</td>\n",
       "      <td>미사용</td>\n",
       "      <td>0</td>\n",
       "      <td>매장</td>\n",
       "      <td>0</td>\n",
       "      <td>0</td>\n",
       "      <td>0</td>\n",
       "      <td>0.0</td>\n",
       "      <td>전북</td>\n",
       "      <td>전주시 덕진구</td>\n",
       "      <td>2020</td>\n",
       "      <td>5</td>\n",
       "      <td>0.0</td>\n",
       "      <td>청소</td>\n",
       "      <td>150</td>\n",
       "      <td>0.0</td>\n",
       "      <td>26.4</td>\n",
       "      <td>17.718947</td>\n",
       "    </tr>\n",
       "  </tbody>\n",
       "</table>\n",
       "</div>"
      ],
      "text/plain": [
       "    고객ID 매출일자(배송완료일자) 타겟제품명                 금액 멤버십고객여부  케어솔루션품목수  케어십가입여부  \\\n",
       "0  34410   2022-04-29   에어컨  300만원 이상 400만원 이하     0.0         0        0   \n",
       "1  34410   2020-05-25   세탁기  100만원 이상 200만원 이하     0.0         0        0   \n",
       "\n",
       "   케어십품목수      최근3년구매금액 최근구매채널  Only&Best품목수  건강관리가전품목수  연령대 주거형태 아파트시세  \\\n",
       "0       0  15KK이상20KK미만      2             1          1  30대  아파트  1~2억   \n",
       "1       0  15KK이상20KK미만      2             1          1  30대  아파트  1~2억   \n",
       "\n",
       "  아파트평형대 포인트사용빈도 보유멤버십포인트 멤버십가입경로  제휴카드보유여부  프리미엄카드보유여부  제휴가입여부 멤버십앱설치여부  \\\n",
       "0   20평대     미사용        0      매장         0           0       0      0.0   \n",
       "1   20평대     미사용        0      매장         0           0       0      0.0   \n",
       "\n",
       "  거주광역명   거주시군구명    년도  월  label_2023 제품카테고리  금액_중간값  label_y  미세먼지         기온  \n",
       "0    전북  전주시 덕진구  2022  4         0.0  에어솔루션     350      0.0  16.4  11.554737  \n",
       "1    전북  전주시 덕진구  2020  5         0.0     청소     150      0.0  26.4  17.718947  "
      ]
     },
     "execution_count": 138,
     "metadata": {},
     "output_type": "execute_result"
    }
   ],
   "source": [
    "df_x.head(2)"
   ]
  },
  {
   "cell_type": "code",
   "execution_count": 139,
   "id": "83e0cdb9",
   "metadata": {},
   "outputs": [],
   "source": [
    "def organize_purchases_per_customer_add_variable(dataframe, column_list):\n",
    "    \n",
    "    # 단일 고객의 최대 구매 횟수 파악\n",
    "    grouped_new = dataframe.groupby('고객ID')\n",
    "    max_purchases_new = grouped_new.size().max()\n",
    "\n",
    "    label_encoding_df = {column: [] for column in column_list}\n",
    "\n",
    "    for i in range(1, max_purchases_new + 1):\n",
    "        label_encoding_df[f'년도_{i}'] = []\n",
    "        label_encoding_df[f'월_{i}'] = []\n",
    "        label_encoding_df[f'타겟제품명_{i}'] = []\n",
    "        label_encoding_df[f'금액_{i}'] = []\n",
    "        label_encoding_df[f'미세먼지_{i}'] = []\n",
    "        label_encoding_df[f'기온_{i}'] = []\n",
    "\n",
    "    for customer_id, group in tqdm(grouped_new):\n",
    "        purchases = list(group[['년도', '월','타겟제품명', '금액', '미세먼지', '기온']].itertuples(index=False, name=None))\n",
    "        new_row_new = create_row_from_group(group, customer_id)\n",
    "\n",
    "        # 새 행에 판매 날짜 및 구매 추가\n",
    "        for i, (year, month, product_name, amount, dust, temperature) in enumerate(purchases, 1):\n",
    "            new_row_new[f'년도_{i}'] = year\n",
    "            new_row_new[f'월_{i}'] = month\n",
    "            new_row_new[f'타겟제품명_{i}'] = product_name\n",
    "            new_row_new[f'금액_{i}'] = amount\n",
    "            new_row_new[f'미세먼지_{i}'] = dust\n",
    "            new_row_new[f'기온_{i}'] = temperature\n",
    "\n",
    "        # 최대 구매수보다 적은 경우 나머지 행 채우기\n",
    "        for j in range(len(purchases) + 1, max_purchases_new + 1):\n",
    "            new_row_new[f'년도_{j}'] = None\n",
    "            new_row_new[f'월_{j}'] = None\n",
    "            new_row_new[f'타겟제품명_{j}'] = None\n",
    "            new_row_new[f'금액_{j}'] = None\n",
    "            new_row_new[f'미세먼지_{i}'] = None\n",
    "            new_row_new[f'기온_{i}'] = None\n",
    "\n",
    "        for key in label_encoding_df:\n",
    "            label_encoding_df[key].append(new_row_new.get(key, None))\n",
    "\n",
    "    new_structured_df_new = pd.DataFrame(label_encoding_df)\n",
    "    return new_structured_df_new\n"
   ]
  },
  {
   "cell_type": "code",
   "execution_count": 140,
   "id": "16fb2556",
   "metadata": {},
   "outputs": [],
   "source": [
    "def final_df_maker_add_variable(dataframe, col_list):\n",
    "    df_new = organize_purchases_per_customer_add_variable(dataframe, col_list)\n",
    "    # 가공변수 추가\n",
    "    df_new = df_new.merge(df_crm[['고객ID','총구매빈도', '최대구매가격대',\n",
    "       '주구매제품카테고리']], on = '고객ID', how = 'left')\n",
    "    return df_new"
   ]
  },
  {
   "cell_type": "code",
   "execution_count": 141,
   "id": "7de53662",
   "metadata": {},
   "outputs": [],
   "source": [
    "col_list = [\n",
    "'고객ID','멤버십고객여부', '케어솔루션품목수', '케어십가입여부', '케어십품목수', '최근3년구매금액', '최근구매채널',\n",
    "'Only&Best품목수', '건강관리가전품목수', '연령대', '주거형태', '아파트시세', '아파트평형대', '포인트사용빈도',\n",
    "'보유멤버십포인트', '멤버십가입경로', '제휴카드보유여부', '프리미엄카드보유여부', '제휴가입여부', '멤버십앱설치여부',\n",
    "'거주광역명', '거주시군구명', 'label_y']"
   ]
  },
  {
   "cell_type": "markdown",
   "id": "31174a5f",
   "metadata": {},
   "source": [
    "### Air Solution - 미세먼지, 기온"
   ]
  },
  {
   "cell_type": "code",
   "execution_count": 142,
   "id": "29271163",
   "metadata": {},
   "outputs": [],
   "source": [
    "air2_df = df_x.loc[df_x['제품카테고리'] == '에어솔루션']"
   ]
  },
  {
   "cell_type": "code",
   "execution_count": 143,
   "id": "f638a2ec",
   "metadata": {},
   "outputs": [
    {
     "name": "stderr",
     "output_type": "stream",
     "text": [
      "100%|████████████████████████████████████| 63547/63547 [02:55<00:00, 361.58it/s]\n"
     ]
    }
   ],
   "source": [
    "air2_df_new = final_df_maker_add_variable(air2_df, col_list)"
   ]
  },
  {
   "cell_type": "code",
   "execution_count": 144,
   "id": "a6ec58e9",
   "metadata": {},
   "outputs": [
    {
     "data": {
      "text/html": [
       "<div>\n",
       "<style scoped>\n",
       "    .dataframe tbody tr th:only-of-type {\n",
       "        vertical-align: middle;\n",
       "    }\n",
       "\n",
       "    .dataframe tbody tr th {\n",
       "        vertical-align: top;\n",
       "    }\n",
       "\n",
       "    .dataframe thead th {\n",
       "        text-align: right;\n",
       "    }\n",
       "</style>\n",
       "<table border=\"1\" class=\"dataframe\">\n",
       "  <thead>\n",
       "    <tr style=\"text-align: right;\">\n",
       "      <th></th>\n",
       "      <th>고객ID</th>\n",
       "      <th>멤버십고객여부</th>\n",
       "      <th>케어솔루션품목수</th>\n",
       "      <th>케어십가입여부</th>\n",
       "      <th>케어십품목수</th>\n",
       "      <th>최근3년구매금액</th>\n",
       "      <th>최근구매채널</th>\n",
       "      <th>Only&amp;Best품목수</th>\n",
       "      <th>건강관리가전품목수</th>\n",
       "      <th>연령대</th>\n",
       "      <th>주거형태</th>\n",
       "      <th>아파트시세</th>\n",
       "      <th>아파트평형대</th>\n",
       "      <th>포인트사용빈도</th>\n",
       "      <th>보유멤버십포인트</th>\n",
       "      <th>멤버십가입경로</th>\n",
       "      <th>제휴카드보유여부</th>\n",
       "      <th>프리미엄카드보유여부</th>\n",
       "      <th>제휴가입여부</th>\n",
       "      <th>멤버십앱설치여부</th>\n",
       "      <th>거주광역명</th>\n",
       "      <th>거주시군구명</th>\n",
       "      <th>label_y</th>\n",
       "      <th>년도_1</th>\n",
       "      <th>월_1</th>\n",
       "      <th>타겟제품명_1</th>\n",
       "      <th>금액_1</th>\n",
       "      <th>미세먼지_1</th>\n",
       "      <th>기온_1</th>\n",
       "      <th>년도_2</th>\n",
       "      <th>월_2</th>\n",
       "      <th>타겟제품명_2</th>\n",
       "      <th>금액_2</th>\n",
       "      <th>미세먼지_2</th>\n",
       "      <th>기온_2</th>\n",
       "      <th>년도_3</th>\n",
       "      <th>월_3</th>\n",
       "      <th>타겟제품명_3</th>\n",
       "      <th>금액_3</th>\n",
       "      <th>미세먼지_3</th>\n",
       "      <th>기온_3</th>\n",
       "      <th>년도_4</th>\n",
       "      <th>월_4</th>\n",
       "      <th>타겟제품명_4</th>\n",
       "      <th>금액_4</th>\n",
       "      <th>미세먼지_4</th>\n",
       "      <th>기온_4</th>\n",
       "      <th>년도_5</th>\n",
       "      <th>월_5</th>\n",
       "      <th>타겟제품명_5</th>\n",
       "      <th>금액_5</th>\n",
       "      <th>미세먼지_5</th>\n",
       "      <th>기온_5</th>\n",
       "      <th>년도_6</th>\n",
       "      <th>월_6</th>\n",
       "      <th>타겟제품명_6</th>\n",
       "      <th>금액_6</th>\n",
       "      <th>미세먼지_6</th>\n",
       "      <th>기온_6</th>\n",
       "      <th>년도_7</th>\n",
       "      <th>월_7</th>\n",
       "      <th>타겟제품명_7</th>\n",
       "      <th>금액_7</th>\n",
       "      <th>미세먼지_7</th>\n",
       "      <th>기온_7</th>\n",
       "      <th>년도_8</th>\n",
       "      <th>월_8</th>\n",
       "      <th>타겟제품명_8</th>\n",
       "      <th>금액_8</th>\n",
       "      <th>미세먼지_8</th>\n",
       "      <th>기온_8</th>\n",
       "      <th>총구매빈도</th>\n",
       "      <th>최대구매가격대</th>\n",
       "      <th>주구매제품카테고리</th>\n",
       "    </tr>\n",
       "  </thead>\n",
       "  <tbody>\n",
       "    <tr>\n",
       "      <th>0</th>\n",
       "      <td>3</td>\n",
       "      <td>Missing</td>\n",
       "      <td>0</td>\n",
       "      <td>0</td>\n",
       "      <td>0</td>\n",
       "      <td>0원</td>\n",
       "      <td>3</td>\n",
       "      <td>1</td>\n",
       "      <td>2</td>\n",
       "      <td>Missing</td>\n",
       "      <td>아파트</td>\n",
       "      <td>5~6억</td>\n",
       "      <td>30평대</td>\n",
       "      <td>미사용</td>\n",
       "      <td>0</td>\n",
       "      <td>Missing</td>\n",
       "      <td>0</td>\n",
       "      <td>0</td>\n",
       "      <td>0</td>\n",
       "      <td>Missing</td>\n",
       "      <td>경기</td>\n",
       "      <td>화성시</td>\n",
       "      <td>0.0</td>\n",
       "      <td>2020</td>\n",
       "      <td>8</td>\n",
       "      <td>공기청정기</td>\n",
       "      <td>0만원 이상 100만원 이하</td>\n",
       "      <td>NaN</td>\n",
       "      <td>NaN</td>\n",
       "      <td>NaN</td>\n",
       "      <td>NaN</td>\n",
       "      <td>None</td>\n",
       "      <td>None</td>\n",
       "      <td>NaN</td>\n",
       "      <td>NaN</td>\n",
       "      <td>NaN</td>\n",
       "      <td>NaN</td>\n",
       "      <td>None</td>\n",
       "      <td>None</td>\n",
       "      <td>NaN</td>\n",
       "      <td>NaN</td>\n",
       "      <td>NaN</td>\n",
       "      <td>NaN</td>\n",
       "      <td>None</td>\n",
       "      <td>None</td>\n",
       "      <td>NaN</td>\n",
       "      <td>NaN</td>\n",
       "      <td>NaN</td>\n",
       "      <td>NaN</td>\n",
       "      <td>None</td>\n",
       "      <td>None</td>\n",
       "      <td>NaN</td>\n",
       "      <td>NaN</td>\n",
       "      <td>NaN</td>\n",
       "      <td>NaN</td>\n",
       "      <td>None</td>\n",
       "      <td>None</td>\n",
       "      <td>NaN</td>\n",
       "      <td>NaN</td>\n",
       "      <td>NaN</td>\n",
       "      <td>NaN</td>\n",
       "      <td>None</td>\n",
       "      <td>None</td>\n",
       "      <td>NaN</td>\n",
       "      <td>NaN</td>\n",
       "      <td>NaN</td>\n",
       "      <td>NaN</td>\n",
       "      <td>None</td>\n",
       "      <td>None</td>\n",
       "      <td>NaN</td>\n",
       "      <td>NaN</td>\n",
       "      <td>5</td>\n",
       "      <td>250</td>\n",
       "      <td>[부엌]</td>\n",
       "    </tr>\n",
       "    <tr>\n",
       "      <th>1</th>\n",
       "      <td>4</td>\n",
       "      <td>Missing</td>\n",
       "      <td>3</td>\n",
       "      <td>0</td>\n",
       "      <td>0</td>\n",
       "      <td>1KK미만</td>\n",
       "      <td>4</td>\n",
       "      <td>1</td>\n",
       "      <td>2</td>\n",
       "      <td>Missing</td>\n",
       "      <td>아파트</td>\n",
       "      <td>1~2억</td>\n",
       "      <td>30평대</td>\n",
       "      <td>미사용</td>\n",
       "      <td>0</td>\n",
       "      <td>Missing</td>\n",
       "      <td>0</td>\n",
       "      <td>0</td>\n",
       "      <td>0</td>\n",
       "      <td>Missing</td>\n",
       "      <td>전북</td>\n",
       "      <td>전주시 덕진구</td>\n",
       "      <td>0.0</td>\n",
       "      <td>2018</td>\n",
       "      <td>11</td>\n",
       "      <td>공기청정기</td>\n",
       "      <td>0만원 이상 100만원 이하</td>\n",
       "      <td>NaN</td>\n",
       "      <td>NaN</td>\n",
       "      <td>NaN</td>\n",
       "      <td>NaN</td>\n",
       "      <td>None</td>\n",
       "      <td>None</td>\n",
       "      <td>NaN</td>\n",
       "      <td>NaN</td>\n",
       "      <td>NaN</td>\n",
       "      <td>NaN</td>\n",
       "      <td>None</td>\n",
       "      <td>None</td>\n",
       "      <td>NaN</td>\n",
       "      <td>NaN</td>\n",
       "      <td>NaN</td>\n",
       "      <td>NaN</td>\n",
       "      <td>None</td>\n",
       "      <td>None</td>\n",
       "      <td>NaN</td>\n",
       "      <td>NaN</td>\n",
       "      <td>NaN</td>\n",
       "      <td>NaN</td>\n",
       "      <td>None</td>\n",
       "      <td>None</td>\n",
       "      <td>NaN</td>\n",
       "      <td>NaN</td>\n",
       "      <td>NaN</td>\n",
       "      <td>NaN</td>\n",
       "      <td>None</td>\n",
       "      <td>None</td>\n",
       "      <td>NaN</td>\n",
       "      <td>NaN</td>\n",
       "      <td>NaN</td>\n",
       "      <td>NaN</td>\n",
       "      <td>None</td>\n",
       "      <td>None</td>\n",
       "      <td>NaN</td>\n",
       "      <td>NaN</td>\n",
       "      <td>NaN</td>\n",
       "      <td>NaN</td>\n",
       "      <td>None</td>\n",
       "      <td>None</td>\n",
       "      <td>NaN</td>\n",
       "      <td>NaN</td>\n",
       "      <td>3</td>\n",
       "      <td>150</td>\n",
       "      <td>[부엌, 에어솔루션, 청소]</td>\n",
       "    </tr>\n",
       "  </tbody>\n",
       "</table>\n",
       "</div>"
      ],
      "text/plain": [
       "   고객ID  멤버십고객여부  케어솔루션품목수  케어십가입여부  케어십품목수 최근3년구매금액 최근구매채널  Only&Best품목수  \\\n",
       "0     3  Missing         0        0       0       0원      3             1   \n",
       "1     4  Missing         3        0       0    1KK미만      4             1   \n",
       "\n",
       "   건강관리가전품목수      연령대 주거형태 아파트시세 아파트평형대 포인트사용빈도 보유멤버십포인트  멤버십가입경로  제휴카드보유여부  \\\n",
       "0          2  Missing  아파트  5~6억   30평대     미사용        0  Missing         0   \n",
       "1          2  Missing  아파트  1~2억   30평대     미사용        0  Missing         0   \n",
       "\n",
       "   프리미엄카드보유여부  제휴가입여부 멤버십앱설치여부 거주광역명   거주시군구명  label_y  년도_1  월_1 타겟제품명_1  \\\n",
       "0           0       0  Missing    경기      화성시      0.0  2020    8   공기청정기   \n",
       "1           0       0  Missing    전북  전주시 덕진구      0.0  2018   11   공기청정기   \n",
       "\n",
       "              금액_1  미세먼지_1  기온_1  년도_2  월_2 타겟제품명_2  금액_2  미세먼지_2  기온_2  년도_3  \\\n",
       "0  0만원 이상 100만원 이하     NaN   NaN   NaN  NaN    None  None     NaN   NaN   NaN   \n",
       "1  0만원 이상 100만원 이하     NaN   NaN   NaN  NaN    None  None     NaN   NaN   NaN   \n",
       "\n",
       "   월_3 타겟제품명_3  금액_3  미세먼지_3  기온_3  년도_4  월_4 타겟제품명_4  금액_4  미세먼지_4  기온_4  \\\n",
       "0  NaN    None  None     NaN   NaN   NaN  NaN    None  None     NaN   NaN   \n",
       "1  NaN    None  None     NaN   NaN   NaN  NaN    None  None     NaN   NaN   \n",
       "\n",
       "   년도_5  월_5 타겟제품명_5  금액_5  미세먼지_5  기온_5  년도_6  월_6 타겟제품명_6  금액_6  미세먼지_6  \\\n",
       "0   NaN  NaN    None  None     NaN   NaN   NaN  NaN    None  None     NaN   \n",
       "1   NaN  NaN    None  None     NaN   NaN   NaN  NaN    None  None     NaN   \n",
       "\n",
       "   기온_6  년도_7  월_7 타겟제품명_7  금액_7  미세먼지_7  기온_7  년도_8  월_8 타겟제품명_8  금액_8  \\\n",
       "0   NaN   NaN  NaN    None  None     NaN   NaN   NaN  NaN    None  None   \n",
       "1   NaN   NaN  NaN    None  None     NaN   NaN   NaN  NaN    None  None   \n",
       "\n",
       "   미세먼지_8  기온_8  총구매빈도  최대구매가격대        주구매제품카테고리  \n",
       "0     NaN   NaN      5      250             [부엌]  \n",
       "1     NaN   NaN      3      150  [부엌, 에어솔루션, 청소]  "
      ]
     },
     "execution_count": 144,
     "metadata": {},
     "output_type": "execute_result"
    }
   ],
   "source": [
    "air2_df_new.head(2)"
   ]
  },
  {
   "cell_type": "code",
   "execution_count": 145,
   "id": "361b40cf",
   "metadata": {},
   "outputs": [],
   "source": [
    "air2_df_new.to_csv('../data/air_외부변수/air_df_new_값생성_미세먼지_2023제거.csv', encoding='utf-8-sig')"
   ]
  },
  {
   "cell_type": "markdown",
   "id": "a69bb7d4",
   "metadata": {},
   "source": [
    "# 방법론 2 (사용하지 않음)\n",
    "- Idea : 각 제품군 별로 방법론 1처럼 데이터프레임을 나누게 되면, 어떤 제품을 구매하고, 다른 제품군도 같이 구매하게 되는 제품 간 연관성 정보가 소실될 수 있음\n",
    "- 따라서, 제품군 별로 데이터프레임을 구분하지 않고, 하나의 기존 데이터프레임으로 둠.\n",
    "- 이때, Y_target은 제품군 별 구매여부(1, 0)를 매번 모델링 때마다 다르게 변화시키면서 모델 예측을 진행 ex) 동일한 데이터프레임을 가지고, 처음에는 Y_target을 부엌, 그 다음은 에어솔루션 등으로 정답지를 바꾸면서 각각 다른 모델을 도출하는 것"
   ]
  },
  {
   "cell_type": "code",
   "execution_count": null,
   "id": "768bbdf2",
   "metadata": {},
   "outputs": [],
   "source": [
    "df2 = pd.read_csv('../data/.....', index_col = 0)\n",
    "df_copy = df2.copy()"
   ]
  },
  {
   "cell_type": "markdown",
   "id": "f4faeda6",
   "metadata": {},
   "source": [
    "## 2023년 구매 여부 컬럼"
   ]
  },
  {
   "cell_type": "code",
   "execution_count": null,
   "id": "a9548806",
   "metadata": {},
   "outputs": [],
   "source": [
    "# 데이터를 '년도' 기준으로 내림차순 정렬\n",
    "df_copy = df_copy.sort_values(by='년도', ascending=False)\n",
    "\n",
    "# 각 '고객ID'별로 첫 번째 행만 남기고 중복 제거\n",
    "df_copy = df_copy.drop_duplicates(subset='고객ID')"
   ]
  },
  {
   "cell_type": "code",
   "execution_count": null,
   "id": "6f03a34b",
   "metadata": {},
   "outputs": [],
   "source": [
    "df_copy.loc[df_copy['년도'] == 2023, '2023년구매'] = 1\n",
    "df_copy.loc[df_copy['년도'] != 2023, '2023년구매'] = 0"
   ]
  },
  {
   "cell_type": "code",
   "execution_count": null,
   "id": "2fc73510",
   "metadata": {},
   "outputs": [],
   "source": [
    "df2 = df2.merge(df_copy[['고객ID', '2023년구매']], on='고객ID', how = 'left')"
   ]
  },
  {
   "cell_type": "code",
   "execution_count": null,
   "id": "45b9f8df",
   "metadata": {},
   "outputs": [],
   "source": [
    "df2['제품카테고리'] = df2['타겟제품명'].apply(lambda x: split_category(x))"
   ]
  },
  {
   "cell_type": "markdown",
   "id": "7db62d3b",
   "metadata": {},
   "source": [
    "## 2023년에 구매한 제품카테고리"
   ]
  },
  {
   "cell_type": "code",
   "execution_count": null,
   "id": "9747bfa8",
   "metadata": {},
   "outputs": [],
   "source": [
    "df_2023 = df2.loc[df2['년도'] == 2023]"
   ]
  },
  {
   "cell_type": "code",
   "execution_count": null,
   "id": "5866564c",
   "metadata": {},
   "outputs": [],
   "source": [
    "grouped_data = df_2023.groupby('고객ID')['제품카테고리'].apply(list).reset_index()\n",
    "grouped_data"
   ]
  },
  {
   "cell_type": "code",
   "execution_count": null,
   "id": "e9b96f52",
   "metadata": {},
   "outputs": [],
   "source": [
    "df2 = df2.merge(grouped_data, on='고객ID', how = 'left')"
   ]
  },
  {
   "cell_type": "code",
   "execution_count": null,
   "id": "a76a8a35",
   "metadata": {},
   "outputs": [],
   "source": [
    "df2 = df2.rename({'제품카테고리_x' : '제품카테고리'}, axis = 1)\n",
    "df2 = df2.rename({'제품카테고리_y' : '제품리스트'}, axis = 1)"
   ]
  },
  {
   "cell_type": "code",
   "execution_count": null,
   "id": "a4bf30db",
   "metadata": {},
   "outputs": [],
   "source": [
    "df2.head(1)"
   ]
  },
  {
   "cell_type": "markdown",
   "id": "cb34264c",
   "metadata": {},
   "source": [
    "## 제품카테고리 별 label 컬럼 추가"
   ]
  },
  {
   "cell_type": "code",
   "execution_count": null,
   "id": "0e7c70d5",
   "metadata": {},
   "outputs": [],
   "source": [
    "# 제품명과 label 컬럼명 매핑\n",
    "product_label_mapping = {\n",
    "    '에어솔루션': 'label_에어솔루션',\n",
    "    '청소': 'label_청소',\n",
    "    '부엌': 'label_부엌',\n",
    "    '디스플레이': 'label_디스플레이',\n",
    "    '건강관리': 'label_건강관리',\n",
    "    '기타': 'label_기타'\n",
    "}\n",
    "\n",
    "# 각 행에 대해 조건에 맞게 값을 할당\n",
    "for index, row in tqdm(df2.iterrows()):\n",
    "    if row['2023년구매'] == 0:\n",
    "        for label in product_label_mapping.values():\n",
    "            df2.loc[index, label] = 0\n",
    "    elif row['2023년구매'] == 1:\n",
    "        purchased_products = row['제품리스트']  # 예: ['디스플레이', '청소, 빨래', ...]\n",
    "        for product in purchased_products:\n",
    "            label = product_label_mapping.get(product, None)\n",
    "            if label:\n",
    "                df2.at[index, label] = 1"
   ]
  },
  {
   "cell_type": "code",
   "execution_count": null,
   "id": "c7c7f38e",
   "metadata": {},
   "outputs": [],
   "source": [
    "df2['label_에어솔루션'].fillna(0)\n",
    "df2['label_청소'].fillna(0)\n",
    "df2['label_부엌'].fillna(0)\n",
    "df2['label_디스플레이'].fillna(0)\n",
    "df2['label_기타'].fillna(0)"
   ]
  },
  {
   "cell_type": "markdown",
   "id": "f4b8d512",
   "metadata": {},
   "source": [
    "## 고객별 데이터 생성"
   ]
  },
  {
   "cell_type": "code",
   "execution_count": null,
   "id": "103d5d75",
   "metadata": {},
   "outputs": [],
   "source": [
    "col_list = [\n",
    "'고객ID','멤버십고객여부', '케어솔루션품목수', '케어십가입여부', '케어십품목수', '최근3년구매금액', '최근구매채널',\n",
    "'Only&Best품목수', '건강관리가전품목수', '연령대', '주거형태', '아파트시세', '아파트평형대', '포인트사용빈도',\n",
    "'보유멤버십포인트', '멤버십가입경로', '제휴카드보유여부', '프리미엄카드보유여부', '제휴가입여부', '멤버십앱설치여부',\n",
    "'거주광역명', '거주시군구명', '제품카테고리', 'label_에어솔루션', 'label_청소', 'label_부엌',\n",
    "       'label_디스플레이', 'label_건강관리', 'label_기타'] \n",
    "all_df = final_df_maker(df2, col_list)"
   ]
  },
  {
   "cell_type": "code",
   "execution_count": null,
   "id": "14af1647",
   "metadata": {},
   "outputs": [],
   "source": [
    "all_df"
   ]
  },
  {
   "cell_type": "code",
   "execution_count": null,
   "id": "e3be4659",
   "metadata": {},
   "outputs": [],
   "source": [
    "# df_list = [['air', '에어솔루션'], ['clean', '청소, 빨래'], ['kitchen', '부엌'], ['display', '디스플레이'], ['health', '건강관리'], ['etc', '기타']]"
   ]
  },
  {
   "cell_type": "code",
   "execution_count": null,
   "id": "aead56c4",
   "metadata": {},
   "outputs": [],
   "source": []
  }
 ],
 "metadata": {
  "kernelspec": {
   "display_name": "Python 3 (ipykernel)",
   "language": "python",
   "name": "python3"
  },
  "language_info": {
   "codemirror_mode": {
    "name": "ipython",
    "version": 3
   },
   "file_extension": ".py",
   "mimetype": "text/x-python",
   "name": "python",
   "nbconvert_exporter": "python",
   "pygments_lexer": "ipython3",
   "version": "3.11.4"
  }
 },
 "nbformat": 4,
 "nbformat_minor": 5
}
