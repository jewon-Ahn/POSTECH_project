{
 "cells": [
  {
   "cell_type": "markdown",
   "id": "a7829833",
   "metadata": {},
   "source": [
    "# 4.2 Feature Engineering & 연관규칙 데이터 생성"
   ]
  },
  {
   "cell_type": "markdown",
   "id": "b9cebab6",
   "metadata": {},
   "source": [
    "- 각 **연관규칙** 카테고리별, 결측치 처리 방법별 모델링에 사용할 데이터 생성\n",
    "- 이 데이터를 사용하여 5_LG_고객데이터_결측치_방법론선택.ipynb 파일을 **수정하여** 연관규칙 카테고리에 맞는 결측치 처리 방법 선택하여야함"
   ]
  },
  {
   "cell_type": "code",
   "execution_count": null,
   "id": "05bc3078",
   "metadata": {},
   "outputs": [],
   "source": [
    "import pandas as pd\n",
    "from tqdm import tqdm\n",
    "from datetime import datetime\n",
    "\n",
    "pd.set_option('display.max_columns', None)\n"
   ]
  },
  {
   "cell_type": "code",
   "execution_count": 23,
   "id": "9e89a33f",
   "metadata": {},
   "outputs": [
    {
     "name": "stderr",
     "output_type": "stream",
     "text": [
      "/Users/hyojinlee/opt/anaconda3/lib/python3.9/site-packages/IPython/core/interactiveshell.py:3444: DtypeWarning: Columns (10) have mixed types.Specify dtype option on import or set low_memory=False.\n",
      "  exec(code_obj, self.user_global_ns, self.user_ns)\n"
     ]
    }
   ],
   "source": [
    "df = pd.read_csv('../data/결측치_output/결측치_ArbitaryImputer.csv', index_col = 0)\n",
    "# df = pd.read_csv('../data/결측치_KNNImputer_distance10_final.csv', index_col = 0)\n"
   ]
  },
  {
   "cell_type": "code",
   "execution_count": 24,
   "id": "82165ade",
   "metadata": {},
   "outputs": [
    {
     "data": {
      "text/plain": [
       "4          374520\n",
       "3           46293\n",
       "2           44813\n",
       "1           34231\n",
       "4           24832\n",
       "3            3029\n",
       "2            2607\n",
       "1            2296\n",
       "Missing         4\n",
       "Name: 최근구매채널, dtype: int64"
      ]
     },
     "execution_count": 24,
     "metadata": {},
     "output_type": "execute_result"
    }
   ],
   "source": [
    "df['최근구매채널'].value_counts()"
   ]
  },
  {
   "cell_type": "code",
   "execution_count": 25,
   "id": "ca9a65dd",
   "metadata": {},
   "outputs": [
    {
     "data": {
      "text/plain": [
       "Index(['고객ID', '매출일자(배송완료일자)', '타겟제품명', '금액', '멤버십고객여부', '케어솔루션품목수', '케어십가입여부',\n",
       "       '케어십품목수', '최근3년구매금액', '최근구매채널', 'Only&Best품목수', '건강관리가전품목수', '연령대',\n",
       "       '주거형태', '아파트시세', '아파트평형대', '포인트사용빈도', '보유멤버십포인트', '멤버십가입경로', '제휴카드보유여부',\n",
       "       '프리미엄카드보유여부', '제휴가입여부', '멤버십앱설치여부', '거주광역명', '거주시군구명', '년도', '월'],\n",
       "      dtype='object')"
      ]
     },
     "execution_count": 25,
     "metadata": {},
     "output_type": "execute_result"
    }
   ],
   "source": [
    "df.columns"
   ]
  },
  {
   "cell_type": "markdown",
   "id": "407d4bf3",
   "metadata": {},
   "source": [
    "## 2023년에 구매한 이력은 제거"
   ]
  },
  {
   "cell_type": "code",
   "execution_count": 26,
   "id": "035934bb",
   "metadata": {},
   "outputs": [],
   "source": [
    "df.loc[df['년도'] == 2023, 'label_2023'] = 1\n",
    "df.loc[df['년도'] != 2023, 'label_2023'] = 0"
   ]
  },
  {
   "cell_type": "code",
   "execution_count": 27,
   "id": "7255affb",
   "metadata": {},
   "outputs": [
    {
     "data": {
      "text/html": [
       "<div>\n",
       "<style scoped>\n",
       "    .dataframe tbody tr th:only-of-type {\n",
       "        vertical-align: middle;\n",
       "    }\n",
       "\n",
       "    .dataframe tbody tr th {\n",
       "        vertical-align: top;\n",
       "    }\n",
       "\n",
       "    .dataframe thead th {\n",
       "        text-align: right;\n",
       "    }\n",
       "</style>\n",
       "<table border=\"1\" class=\"dataframe\">\n",
       "  <thead>\n",
       "    <tr style=\"text-align: right;\">\n",
       "      <th></th>\n",
       "      <th>고객ID</th>\n",
       "      <th>label_y</th>\n",
       "    </tr>\n",
       "  </thead>\n",
       "  <tbody>\n",
       "    <tr>\n",
       "      <th>6250</th>\n",
       "      <td>40445</td>\n",
       "      <td>1.0</td>\n",
       "    </tr>\n",
       "    <tr>\n",
       "      <th>9260</th>\n",
       "      <td>24253</td>\n",
       "      <td>1.0</td>\n",
       "    </tr>\n",
       "    <tr>\n",
       "      <th>12405</th>\n",
       "      <td>63417</td>\n",
       "      <td>1.0</td>\n",
       "    </tr>\n",
       "    <tr>\n",
       "      <th>16373</th>\n",
       "      <td>22718</td>\n",
       "      <td>1.0</td>\n",
       "    </tr>\n",
       "    <tr>\n",
       "      <th>18475</th>\n",
       "      <td>20032</td>\n",
       "      <td>1.0</td>\n",
       "    </tr>\n",
       "    <tr>\n",
       "      <th>...</th>\n",
       "      <td>...</td>\n",
       "      <td>...</td>\n",
       "    </tr>\n",
       "    <tr>\n",
       "      <th>532602</th>\n",
       "      <td>91470</td>\n",
       "      <td>1.0</td>\n",
       "    </tr>\n",
       "    <tr>\n",
       "      <th>532609</th>\n",
       "      <td>92672</td>\n",
       "      <td>1.0</td>\n",
       "    </tr>\n",
       "    <tr>\n",
       "      <th>532612</th>\n",
       "      <td>98487</td>\n",
       "      <td>1.0</td>\n",
       "    </tr>\n",
       "    <tr>\n",
       "      <th>532616</th>\n",
       "      <td>102635</td>\n",
       "      <td>1.0</td>\n",
       "    </tr>\n",
       "    <tr>\n",
       "      <th>532622</th>\n",
       "      <td>98135</td>\n",
       "      <td>1.0</td>\n",
       "    </tr>\n",
       "  </tbody>\n",
       "</table>\n",
       "<p>16690 rows × 2 columns</p>\n",
       "</div>"
      ],
      "text/plain": [
       "          고객ID  label_y\n",
       "6250     40445      1.0\n",
       "9260     24253      1.0\n",
       "12405    63417      1.0\n",
       "16373    22718      1.0\n",
       "18475    20032      1.0\n",
       "...        ...      ...\n",
       "532602   91470      1.0\n",
       "532609   92672      1.0\n",
       "532612   98487      1.0\n",
       "532616  102635      1.0\n",
       "532622   98135      1.0\n",
       "\n",
       "[16690 rows x 2 columns]"
      ]
     },
     "execution_count": 27,
     "metadata": {},
     "output_type": "execute_result"
    }
   ],
   "source": [
    "df_isbuy_2023 = df[['고객ID', 'label_2023']]\n",
    "df_isbuy_2023 = df_isbuy_2023[df_isbuy_2023['label_2023'] == 1]\n",
    "df_isbuy_2023.drop_duplicates(\"고객ID\", inplace = True)\n",
    "df_isbuy_2023.rename({'label_2023':'label_y'}, axis = 1, inplace = True)\n",
    "df_isbuy_2023"
   ]
  },
  {
   "cell_type": "code",
   "execution_count": 28,
   "id": "43b505ef",
   "metadata": {},
   "outputs": [],
   "source": [
    "# 꼭 돌려야함\n",
    "df = df.loc[df['label_2023'] != 1]"
   ]
  },
  {
   "cell_type": "code",
   "execution_count": 29,
   "id": "7ec17884",
   "metadata": {},
   "outputs": [],
   "source": [
    "df_crm = pd.read_csv('../data/master_crm.csv', encoding='cp949')"
   ]
  },
  {
   "cell_type": "markdown",
   "id": "31c778df",
   "metadata": {},
   "source": [
    "## 제품군 별로 나누기 - 연관규칙"
   ]
  },
  {
   "cell_type": "markdown",
   "id": "4f8f170b",
   "metadata": {},
   "source": [
    "그룹1: TV, 에어컨, 냉장고, 세탁기\n",
    "그룹2: 건조기, 스타일러, 공기청정기, 청소기\n",
    "그룹3: 김치냉장고, 식기세척기, 전기레인지, 정수기\n",
    "그룹4: 미니워시, PC, 휴대폰, 뷰티기기\n",
    "그룹5: 모니터, 안마의자\n"
   ]
  },
  {
   "cell_type": "code",
   "execution_count": 30,
   "id": "22b79f31",
   "metadata": {},
   "outputs": [],
   "source": [
    "df['타겟제품명'] = df['타겟제품명'].replace({\n",
    "    '시그니처냉장고': '냉장고',\n",
    "    '시그니처세탁기': '세탁기',\n",
    "    '시그니처공청기': '공기청정기',\n",
    "    '시그니처에어컨': '에어컨',\n",
    "    '시그니처TV': 'TV'\n",
    "})"
   ]
  },
  {
   "cell_type": "code",
   "execution_count": 31,
   "id": "62f199e5",
   "metadata": {},
   "outputs": [],
   "source": [
    "#### 수정 필요\n",
    "def split_category(x):\n",
    "    if x in ['TV', '에어컨', '냉장고', '세탁기']:\n",
    "        new_c = '그룹1'\n",
    "    elif x in ['건조기', '스타일러', '공기청정기', '청소기']:\n",
    "        new_c = '그룹2'\n",
    "    elif x in ['김치냉장고', '식기세척기', '전기레인지', '정수기']:\n",
    "        new_c = '그룹3'\n",
    "    elif x in ['미니워시', 'PC', '휴대폰', '뷰티기기']:\n",
    "        new_c = '그룹4'\n",
    "    elif x in ['모니터', '안마의자']:\n",
    "        new_c = '그룹5'\n",
    "    elif x in ['로봇청소기', '얼음정수기냉장고', 'AV', '워시타워']:\n",
    "        new_c = '그룹6'\n",
    "    else:\n",
    "        new_c = '기타'\n",
    "    return new_c"
   ]
  },
  {
   "cell_type": "code",
   "execution_count": 32,
   "id": "860c688d",
   "metadata": {},
   "outputs": [],
   "source": [
    "df['제품카테고리'] = df['타겟제품명'].apply(lambda x: split_category(x))"
   ]
  },
  {
   "cell_type": "markdown",
   "id": "38c9412c",
   "metadata": {},
   "source": [
    "## 가공 변수 추가"
   ]
  },
  {
   "cell_type": "markdown",
   "id": "c9f608a8",
   "metadata": {},
   "source": [
    "- df_crm에 가공변수를 추가 \n",
    "- 마지막에 df_crm과 제품별로 나눠진 데이터를 merge 필요"
   ]
  },
  {
   "cell_type": "markdown",
   "id": "3165d488",
   "metadata": {},
   "source": [
    "### 총구매빈도"
   ]
  },
  {
   "cell_type": "code",
   "execution_count": 33,
   "id": "bd1c0487",
   "metadata": {},
   "outputs": [],
   "source": [
    "# df.loc[df['년도'] == 2023, 'label_2023'] = 1\n",
    "# df.loc[df['년도'] != 2023, 'label_2023'] = 0"
   ]
  },
  {
   "cell_type": "code",
   "execution_count": 34,
   "id": "2c401a1c",
   "metadata": {},
   "outputs": [
    {
     "data": {
      "text/html": [
       "<div>\n",
       "<style scoped>\n",
       "    .dataframe tbody tr th:only-of-type {\n",
       "        vertical-align: middle;\n",
       "    }\n",
       "\n",
       "    .dataframe tbody tr th {\n",
       "        vertical-align: top;\n",
       "    }\n",
       "\n",
       "    .dataframe thead th {\n",
       "        text-align: right;\n",
       "    }\n",
       "</style>\n",
       "<table border=\"1\" class=\"dataframe\">\n",
       "  <thead>\n",
       "    <tr style=\"text-align: right;\">\n",
       "      <th></th>\n",
       "      <th>고객ID</th>\n",
       "      <th>멤버십고객여부</th>\n",
       "      <th>케어솔루션고객여부</th>\n",
       "      <th>케어솔루션품목수</th>\n",
       "      <th>케어십가입여부</th>\n",
       "      <th>케어십품목수</th>\n",
       "      <th>최근3년구매금액</th>\n",
       "      <th>최근구매채널</th>\n",
       "      <th>Only&amp;Best품목수</th>\n",
       "      <th>건강관리가전품목수</th>\n",
       "      <th>연령대</th>\n",
       "      <th>주거형태</th>\n",
       "      <th>아파트시세</th>\n",
       "      <th>아파트평형대</th>\n",
       "      <th>포인트사용빈도</th>\n",
       "      <th>보유멤버십포인트</th>\n",
       "      <th>멤버십가입경로</th>\n",
       "      <th>제휴카드보유여부</th>\n",
       "      <th>프리미엄카드보유여부</th>\n",
       "      <th>제휴가입여부</th>\n",
       "      <th>멤버십앱설치여부</th>\n",
       "      <th>거주광역명</th>\n",
       "      <th>거주시군구명</th>\n",
       "      <th>거주행정동명</th>\n",
       "      <th>label</th>\n",
       "      <th>총구매빈도</th>\n",
       "    </tr>\n",
       "  </thead>\n",
       "  <tbody>\n",
       "    <tr>\n",
       "      <th>0</th>\n",
       "      <td>1</td>\n",
       "      <td>NaN</td>\n",
       "      <td>0.0</td>\n",
       "      <td>0품목</td>\n",
       "      <td>1</td>\n",
       "      <td>2품목</td>\n",
       "      <td>5KK이상10KK미만</td>\n",
       "      <td>홈플러스</td>\n",
       "      <td>2품목</td>\n",
       "      <td>2품목</td>\n",
       "      <td>NaN</td>\n",
       "      <td>아파트</td>\n",
       "      <td>1억↓</td>\n",
       "      <td>20평대</td>\n",
       "      <td>미사용</td>\n",
       "      <td>NaN</td>\n",
       "      <td>NaN</td>\n",
       "      <td>0</td>\n",
       "      <td>0</td>\n",
       "      <td>0</td>\n",
       "      <td>NaN</td>\n",
       "      <td>경기</td>\n",
       "      <td>안산시 상록구</td>\n",
       "      <td>일동</td>\n",
       "      <td>0</td>\n",
       "      <td>3</td>\n",
       "    </tr>\n",
       "    <tr>\n",
       "      <th>1</th>\n",
       "      <td>2</td>\n",
       "      <td>NaN</td>\n",
       "      <td>0.0</td>\n",
       "      <td>1품목</td>\n",
       "      <td>0</td>\n",
       "      <td>0품목</td>\n",
       "      <td>1KK미만</td>\n",
       "      <td>B2B</td>\n",
       "      <td>2품목</td>\n",
       "      <td>2품목</td>\n",
       "      <td>NaN</td>\n",
       "      <td>아파트</td>\n",
       "      <td>3~4억</td>\n",
       "      <td>40평대</td>\n",
       "      <td>미사용</td>\n",
       "      <td>NaN</td>\n",
       "      <td>NaN</td>\n",
       "      <td>0</td>\n",
       "      <td>0</td>\n",
       "      <td>0</td>\n",
       "      <td>NaN</td>\n",
       "      <td>경기</td>\n",
       "      <td>오산시</td>\n",
       "      <td>대원동</td>\n",
       "      <td>0</td>\n",
       "      <td>3</td>\n",
       "    </tr>\n",
       "    <tr>\n",
       "      <th>2</th>\n",
       "      <td>3</td>\n",
       "      <td>NaN</td>\n",
       "      <td>1.0</td>\n",
       "      <td>0품목</td>\n",
       "      <td>0</td>\n",
       "      <td>0품목</td>\n",
       "      <td>0원</td>\n",
       "      <td>하이마트</td>\n",
       "      <td>1품목</td>\n",
       "      <td>2품목</td>\n",
       "      <td>NaN</td>\n",
       "      <td>아파트</td>\n",
       "      <td>5~6억</td>\n",
       "      <td>30평대</td>\n",
       "      <td>미사용</td>\n",
       "      <td>NaN</td>\n",
       "      <td>NaN</td>\n",
       "      <td>0</td>\n",
       "      <td>0</td>\n",
       "      <td>0</td>\n",
       "      <td>NaN</td>\n",
       "      <td>경기</td>\n",
       "      <td>화성시</td>\n",
       "      <td>새솔동</td>\n",
       "      <td>0</td>\n",
       "      <td>5</td>\n",
       "    </tr>\n",
       "  </tbody>\n",
       "</table>\n",
       "</div>"
      ],
      "text/plain": [
       "   고객ID  멤버십고객여부  케어솔루션고객여부 케어솔루션품목수  케어십가입여부 케어십품목수     최근3년구매금액 최근구매채널  \\\n",
       "0     1      NaN        0.0      0품목        1    2품목  5KK이상10KK미만   홈플러스   \n",
       "1     2      NaN        0.0      1품목        0    0품목        1KK미만    B2B   \n",
       "2     3      NaN        1.0      0품목        0    0품목           0원   하이마트   \n",
       "\n",
       "  Only&Best품목수 건강관리가전품목수  연령대 주거형태 아파트시세 아파트평형대 포인트사용빈도 보유멤버십포인트 멤버십가입경로  \\\n",
       "0          2품목       2품목  NaN  아파트   1억↓   20평대     미사용      NaN     NaN   \n",
       "1          2품목       2품목  NaN  아파트  3~4억   40평대     미사용      NaN     NaN   \n",
       "2          1품목       2품목  NaN  아파트  5~6억   30평대     미사용      NaN     NaN   \n",
       "\n",
       "   제휴카드보유여부  프리미엄카드보유여부  제휴가입여부  멤버십앱설치여부 거주광역명   거주시군구명 거주행정동명  label  총구매빈도  \n",
       "0         0           0       0       NaN    경기  안산시 상록구     일동      0      3  \n",
       "1         0           0       0       NaN    경기      오산시    대원동      0      3  \n",
       "2         0           0       0       NaN    경기      화성시    새솔동      0      5  "
      ]
     },
     "execution_count": 34,
     "metadata": {},
     "output_type": "execute_result"
    }
   ],
   "source": [
    "df_crm = df_crm.merge(df.groupby(['고객ID']).count()['label_2023'], on = \"고객ID\")\n",
    "df_crm = df_crm.rename(columns = {\"label_2023\" : \"총구매빈도\"})\n",
    "df_crm.head(3)"
   ]
  },
  {
   "cell_type": "markdown",
   "id": "03e94726",
   "metadata": {},
   "source": [
    "### 최대구매가격대"
   ]
  },
  {
   "cell_type": "code",
   "execution_count": 35,
   "id": "9323ec95",
   "metadata": {},
   "outputs": [],
   "source": [
    "# df['금액_중간값'] = df['금액'].replace(to_replace={\"0만원 이상 100만원 이하\":50 , \"100만원 이상 200만원 이하\":150, \"200만원 이상 300만원 이하\":250, \"300만원 이상 400만원 이하\":350, \"400만원 이상 500만원 이하\":450, \"500만원 이상 600만원 이하\":550, \"600만원 이상 700만원 이하\":650, \"700만원 이상 800만원 이하\":750, \"800만원 이상 900만원 이하\":850, \"900만원 이상 1000만원 이하\":950, \"1000만원 이상\":1000 })"
   ]
  },
  {
   "cell_type": "code",
   "execution_count": 36,
   "id": "6532c160",
   "metadata": {},
   "outputs": [],
   "source": [
    "# 결측치_ArbitaryImputer.csv 인 경우에 셀 실행\n",
    "\n",
    "df['금액_중간값'] = df['금액'].replace(to_replace={\"Missing\": 0, \"0만원 이상 100만원 이하\":50 , \"100만원 이상 200만원 이하\":150, \"200만원 이상 300만원 이하\":250, \"300만원 이상 400만원 이하\":350, \"400만원 이상 500만원 이하\":450, \"500만원 이상 600만원 이하\":550, \"600만원 이상 700만원 이하\":650, \"700만원 이상 800만원 이하\":750, \"800만원 이상 900만원 이하\":850, \"900만원 이상 1000만원 이하\":950, \"1000만원 이상\":1000 })\n",
    "\n"
   ]
  },
  {
   "cell_type": "code",
   "execution_count": 37,
   "id": "9fbd0400",
   "metadata": {},
   "outputs": [],
   "source": [
    "# 고객별로 그룹화하 후 각 그룹에서 최대값 리턴\n",
    "max_purchase_by_customer = df.groupby('고객ID')['금액_중간값'].max()"
   ]
  },
  {
   "cell_type": "code",
   "execution_count": 38,
   "id": "bafad8c1",
   "metadata": {},
   "outputs": [
    {
     "data": {
      "text/html": [
       "<div>\n",
       "<style scoped>\n",
       "    .dataframe tbody tr th:only-of-type {\n",
       "        vertical-align: middle;\n",
       "    }\n",
       "\n",
       "    .dataframe tbody tr th {\n",
       "        vertical-align: top;\n",
       "    }\n",
       "\n",
       "    .dataframe thead th {\n",
       "        text-align: right;\n",
       "    }\n",
       "</style>\n",
       "<table border=\"1\" class=\"dataframe\">\n",
       "  <thead>\n",
       "    <tr style=\"text-align: right;\">\n",
       "      <th></th>\n",
       "      <th>고객ID</th>\n",
       "      <th>멤버십고객여부</th>\n",
       "      <th>케어솔루션고객여부</th>\n",
       "      <th>케어솔루션품목수</th>\n",
       "      <th>케어십가입여부</th>\n",
       "      <th>케어십품목수</th>\n",
       "      <th>최근3년구매금액</th>\n",
       "      <th>최근구매채널</th>\n",
       "      <th>Only&amp;Best품목수</th>\n",
       "      <th>건강관리가전품목수</th>\n",
       "      <th>연령대</th>\n",
       "      <th>주거형태</th>\n",
       "      <th>아파트시세</th>\n",
       "      <th>아파트평형대</th>\n",
       "      <th>포인트사용빈도</th>\n",
       "      <th>보유멤버십포인트</th>\n",
       "      <th>멤버십가입경로</th>\n",
       "      <th>제휴카드보유여부</th>\n",
       "      <th>프리미엄카드보유여부</th>\n",
       "      <th>제휴가입여부</th>\n",
       "      <th>멤버십앱설치여부</th>\n",
       "      <th>거주광역명</th>\n",
       "      <th>거주시군구명</th>\n",
       "      <th>거주행정동명</th>\n",
       "      <th>label</th>\n",
       "      <th>총구매빈도</th>\n",
       "      <th>최대구매가격대</th>\n",
       "    </tr>\n",
       "  </thead>\n",
       "  <tbody>\n",
       "    <tr>\n",
       "      <th>0</th>\n",
       "      <td>1</td>\n",
       "      <td>NaN</td>\n",
       "      <td>0.0</td>\n",
       "      <td>0품목</td>\n",
       "      <td>1</td>\n",
       "      <td>2품목</td>\n",
       "      <td>5KK이상10KK미만</td>\n",
       "      <td>홈플러스</td>\n",
       "      <td>2품목</td>\n",
       "      <td>2품목</td>\n",
       "      <td>NaN</td>\n",
       "      <td>아파트</td>\n",
       "      <td>1억↓</td>\n",
       "      <td>20평대</td>\n",
       "      <td>미사용</td>\n",
       "      <td>NaN</td>\n",
       "      <td>NaN</td>\n",
       "      <td>0</td>\n",
       "      <td>0</td>\n",
       "      <td>0</td>\n",
       "      <td>NaN</td>\n",
       "      <td>경기</td>\n",
       "      <td>안산시 상록구</td>\n",
       "      <td>일동</td>\n",
       "      <td>0</td>\n",
       "      <td>3</td>\n",
       "      <td>250</td>\n",
       "    </tr>\n",
       "    <tr>\n",
       "      <th>1</th>\n",
       "      <td>2</td>\n",
       "      <td>NaN</td>\n",
       "      <td>0.0</td>\n",
       "      <td>1품목</td>\n",
       "      <td>0</td>\n",
       "      <td>0품목</td>\n",
       "      <td>1KK미만</td>\n",
       "      <td>B2B</td>\n",
       "      <td>2품목</td>\n",
       "      <td>2품목</td>\n",
       "      <td>NaN</td>\n",
       "      <td>아파트</td>\n",
       "      <td>3~4억</td>\n",
       "      <td>40평대</td>\n",
       "      <td>미사용</td>\n",
       "      <td>NaN</td>\n",
       "      <td>NaN</td>\n",
       "      <td>0</td>\n",
       "      <td>0</td>\n",
       "      <td>0</td>\n",
       "      <td>NaN</td>\n",
       "      <td>경기</td>\n",
       "      <td>오산시</td>\n",
       "      <td>대원동</td>\n",
       "      <td>0</td>\n",
       "      <td>3</td>\n",
       "      <td>150</td>\n",
       "    </tr>\n",
       "  </tbody>\n",
       "</table>\n",
       "</div>"
      ],
      "text/plain": [
       "   고객ID  멤버십고객여부  케어솔루션고객여부 케어솔루션품목수  케어십가입여부 케어십품목수     최근3년구매금액 최근구매채널  \\\n",
       "0     1      NaN        0.0      0품목        1    2품목  5KK이상10KK미만   홈플러스   \n",
       "1     2      NaN        0.0      1품목        0    0품목        1KK미만    B2B   \n",
       "\n",
       "  Only&Best품목수 건강관리가전품목수  연령대 주거형태 아파트시세 아파트평형대 포인트사용빈도 보유멤버십포인트 멤버십가입경로  \\\n",
       "0          2품목       2품목  NaN  아파트   1억↓   20평대     미사용      NaN     NaN   \n",
       "1          2품목       2품목  NaN  아파트  3~4억   40평대     미사용      NaN     NaN   \n",
       "\n",
       "   제휴카드보유여부  프리미엄카드보유여부  제휴가입여부  멤버십앱설치여부 거주광역명   거주시군구명 거주행정동명  label  총구매빈도  \\\n",
       "0         0           0       0       NaN    경기  안산시 상록구     일동      0      3   \n",
       "1         0           0       0       NaN    경기      오산시    대원동      0      3   \n",
       "\n",
       "   최대구매가격대  \n",
       "0      250  \n",
       "1      150  "
      ]
     },
     "execution_count": 38,
     "metadata": {},
     "output_type": "execute_result"
    }
   ],
   "source": [
    "df_crm['최대구매가격대'] = max_purchase_by_customer.reset_index(drop = True)\n",
    "df_crm.head(2)"
   ]
  },
  {
   "cell_type": "markdown",
   "id": "d5292e25",
   "metadata": {},
   "source": [
    "### 가장 최근 구매 이후 경과일"
   ]
  },
  {
   "cell_type": "code",
   "execution_count": 136,
   "id": "a62bedce",
   "metadata": {},
   "outputs": [
    {
     "data": {
      "text/html": [
       "<div>\n",
       "<style scoped>\n",
       "    .dataframe tbody tr th:only-of-type {\n",
       "        vertical-align: middle;\n",
       "    }\n",
       "\n",
       "    .dataframe tbody tr th {\n",
       "        vertical-align: top;\n",
       "    }\n",
       "\n",
       "    .dataframe thead th {\n",
       "        text-align: right;\n",
       "    }\n",
       "</style>\n",
       "<table border=\"1\" class=\"dataframe\">\n",
       "  <thead>\n",
       "    <tr style=\"text-align: right;\">\n",
       "      <th></th>\n",
       "      <th>고객ID</th>\n",
       "      <th>매출일자(배송완료일자)</th>\n",
       "      <th>최근매출일로부터경과일</th>\n",
       "    </tr>\n",
       "  </thead>\n",
       "  <tbody>\n",
       "    <tr>\n",
       "      <th>0</th>\n",
       "      <td>1</td>\n",
       "      <td>2022-01-11</td>\n",
       "      <td>703</td>\n",
       "    </tr>\n",
       "    <tr>\n",
       "      <th>1</th>\n",
       "      <td>2</td>\n",
       "      <td>2021-12-29</td>\n",
       "      <td>716</td>\n",
       "    </tr>\n",
       "    <tr>\n",
       "      <th>2</th>\n",
       "      <td>3</td>\n",
       "      <td>2020-08-17</td>\n",
       "      <td>1215</td>\n",
       "    </tr>\n",
       "    <tr>\n",
       "      <th>3</th>\n",
       "      <td>4</td>\n",
       "      <td>2021-06-05</td>\n",
       "      <td>923</td>\n",
       "    </tr>\n",
       "    <tr>\n",
       "      <th>4</th>\n",
       "      <td>5</td>\n",
       "      <td>2020-10-08</td>\n",
       "      <td>1163</td>\n",
       "    </tr>\n",
       "    <tr>\n",
       "      <th>...</th>\n",
       "      <td>...</td>\n",
       "      <td>...</td>\n",
       "      <td>...</td>\n",
       "    </tr>\n",
       "    <tr>\n",
       "      <th>102718</th>\n",
       "      <td>104347</td>\n",
       "      <td>2023-03-03</td>\n",
       "      <td>287</td>\n",
       "    </tr>\n",
       "    <tr>\n",
       "      <th>102719</th>\n",
       "      <td>104348</td>\n",
       "      <td>2023-07-15</td>\n",
       "      <td>153</td>\n",
       "    </tr>\n",
       "    <tr>\n",
       "      <th>102720</th>\n",
       "      <td>104349</td>\n",
       "      <td>2023-05-01</td>\n",
       "      <td>228</td>\n",
       "    </tr>\n",
       "    <tr>\n",
       "      <th>102721</th>\n",
       "      <td>104350</td>\n",
       "      <td>2023-03-11</td>\n",
       "      <td>279</td>\n",
       "    </tr>\n",
       "    <tr>\n",
       "      <th>102722</th>\n",
       "      <td>104351</td>\n",
       "      <td>2023-05-09</td>\n",
       "      <td>220</td>\n",
       "    </tr>\n",
       "  </tbody>\n",
       "</table>\n",
       "<p>102723 rows × 3 columns</p>\n",
       "</div>"
      ],
      "text/plain": [
       "          고객ID 매출일자(배송완료일자)  최근매출일로부터경과일\n",
       "0            1   2022-01-11          703\n",
       "1            2   2021-12-29          716\n",
       "2            3   2020-08-17         1215\n",
       "3            4   2021-06-05          923\n",
       "4            5   2020-10-08         1163\n",
       "...        ...          ...          ...\n",
       "102718  104347   2023-03-03          287\n",
       "102719  104348   2023-07-15          153\n",
       "102720  104349   2023-05-01          228\n",
       "102721  104350   2023-03-11          279\n",
       "102722  104351   2023-05-09          220\n",
       "\n",
       "[102723 rows x 3 columns]"
      ]
     },
     "execution_count": 136,
     "metadata": {},
     "output_type": "execute_result"
    }
   ],
   "source": [
    "\n",
    "# 날짜 형식으로 변환\n",
    "df['매출일자(배송완료일자)'] = pd.to_datetime(df['매출일자(배송완료일자)'])\n",
    "\n",
    "# 현재 날짜 계산\n",
    "current_date = datetime.now()\n",
    "\n",
    "# 각 고객 별로 최근 매출일자(배송완료일자)를 찾고 일수 차이 계산\n",
    "customer_last_purchase_dates = df.groupby('고객ID')['매출일자(배송완료일자)'].max().reset_index()\n",
    "customer_last_purchase_dates['최근매출일로부터경과일'] = (current_date - customer_last_purchase_dates['매출일자(배송완료일자)']).dt.days\n",
    "\n",
    "customer_last_purchase_dates"
   ]
  },
  {
   "cell_type": "code",
   "execution_count": 137,
   "id": "cd740db0",
   "metadata": {},
   "outputs": [],
   "source": [
    "df_crm = df_crm.merge(customer_last_purchase_dates[['고객ID', '매출일자(배송완료일자)', '최근매출일로부터경과일']], on = \"고객ID\")"
   ]
  },
  {
   "cell_type": "markdown",
   "id": "9c4310fc",
   "metadata": {},
   "source": [
    "### 가장 선호하는 구매 제품"
   ]
  },
  {
   "cell_type": "code",
   "execution_count": 39,
   "id": "0633a27a",
   "metadata": {},
   "outputs": [
    {
     "data": {
      "text/plain": [
       "고객ID\n",
       "1              [그룹3]\n",
       "2              [그룹3]\n",
       "3              [그룹1]\n",
       "4              [그룹2]\n",
       "5         [그룹2, 그룹4]\n",
       "             ...    \n",
       "104347    [그룹1, 그룹5]\n",
       "104348    [그룹2, 그룹3]\n",
       "104349    [그룹1, 그룹3]\n",
       "104350         [그룹1]\n",
       "104351    [그룹1, 그룹2]\n",
       "Length: 102691, dtype: object"
      ]
     },
     "execution_count": 39,
     "metadata": {},
     "output_type": "execute_result"
    }
   ],
   "source": [
    "# 각 고객ID 별로 제품 카테고리의 구매 횟수를 계산\n",
    "customer_purchase_counts = df.groupby(['고객ID', '제품카테고리']).size().reset_index(name='구매횟수')\n",
    "\n",
    "# 각 고객ID 별로 가장 높은 구매 횟수를 찾아 해당하는 제품 카테고리를 반환\n",
    "max_purchase_categories = customer_purchase_counts.groupby('고객ID').apply(lambda x: x[x['구매횟수'] == x['구매횟수'].max()]['제품카테고리'].tolist())\n",
    "\n",
    "max_purchase_categories"
   ]
  },
  {
   "cell_type": "code",
   "execution_count": 40,
   "id": "3d8fa619",
   "metadata": {},
   "outputs": [
    {
     "data": {
      "text/html": [
       "<div>\n",
       "<style scoped>\n",
       "    .dataframe tbody tr th:only-of-type {\n",
       "        vertical-align: middle;\n",
       "    }\n",
       "\n",
       "    .dataframe tbody tr th {\n",
       "        vertical-align: top;\n",
       "    }\n",
       "\n",
       "    .dataframe thead th {\n",
       "        text-align: right;\n",
       "    }\n",
       "</style>\n",
       "<table border=\"1\" class=\"dataframe\">\n",
       "  <thead>\n",
       "    <tr style=\"text-align: right;\">\n",
       "      <th></th>\n",
       "      <th>고객ID</th>\n",
       "      <th>멤버십고객여부</th>\n",
       "      <th>케어솔루션고객여부</th>\n",
       "      <th>케어솔루션품목수</th>\n",
       "      <th>케어십가입여부</th>\n",
       "      <th>케어십품목수</th>\n",
       "      <th>최근3년구매금액</th>\n",
       "      <th>최근구매채널</th>\n",
       "      <th>Only&amp;Best품목수</th>\n",
       "      <th>건강관리가전품목수</th>\n",
       "      <th>연령대</th>\n",
       "      <th>주거형태</th>\n",
       "      <th>아파트시세</th>\n",
       "      <th>아파트평형대</th>\n",
       "      <th>포인트사용빈도</th>\n",
       "      <th>보유멤버십포인트</th>\n",
       "      <th>멤버십가입경로</th>\n",
       "      <th>제휴카드보유여부</th>\n",
       "      <th>프리미엄카드보유여부</th>\n",
       "      <th>제휴가입여부</th>\n",
       "      <th>멤버십앱설치여부</th>\n",
       "      <th>거주광역명</th>\n",
       "      <th>거주시군구명</th>\n",
       "      <th>거주행정동명</th>\n",
       "      <th>label</th>\n",
       "      <th>총구매빈도</th>\n",
       "      <th>최대구매가격대</th>\n",
       "      <th>주구매제품카테고리</th>\n",
       "    </tr>\n",
       "  </thead>\n",
       "  <tbody>\n",
       "    <tr>\n",
       "      <th>0</th>\n",
       "      <td>1</td>\n",
       "      <td>NaN</td>\n",
       "      <td>0.0</td>\n",
       "      <td>0품목</td>\n",
       "      <td>1</td>\n",
       "      <td>2품목</td>\n",
       "      <td>5KK이상10KK미만</td>\n",
       "      <td>홈플러스</td>\n",
       "      <td>2품목</td>\n",
       "      <td>2품목</td>\n",
       "      <td>NaN</td>\n",
       "      <td>아파트</td>\n",
       "      <td>1억↓</td>\n",
       "      <td>20평대</td>\n",
       "      <td>미사용</td>\n",
       "      <td>NaN</td>\n",
       "      <td>NaN</td>\n",
       "      <td>0</td>\n",
       "      <td>0</td>\n",
       "      <td>0</td>\n",
       "      <td>NaN</td>\n",
       "      <td>경기</td>\n",
       "      <td>안산시 상록구</td>\n",
       "      <td>일동</td>\n",
       "      <td>0</td>\n",
       "      <td>3</td>\n",
       "      <td>250</td>\n",
       "      <td>[그룹3]</td>\n",
       "    </tr>\n",
       "    <tr>\n",
       "      <th>1</th>\n",
       "      <td>2</td>\n",
       "      <td>NaN</td>\n",
       "      <td>0.0</td>\n",
       "      <td>1품목</td>\n",
       "      <td>0</td>\n",
       "      <td>0품목</td>\n",
       "      <td>1KK미만</td>\n",
       "      <td>B2B</td>\n",
       "      <td>2품목</td>\n",
       "      <td>2품목</td>\n",
       "      <td>NaN</td>\n",
       "      <td>아파트</td>\n",
       "      <td>3~4억</td>\n",
       "      <td>40평대</td>\n",
       "      <td>미사용</td>\n",
       "      <td>NaN</td>\n",
       "      <td>NaN</td>\n",
       "      <td>0</td>\n",
       "      <td>0</td>\n",
       "      <td>0</td>\n",
       "      <td>NaN</td>\n",
       "      <td>경기</td>\n",
       "      <td>오산시</td>\n",
       "      <td>대원동</td>\n",
       "      <td>0</td>\n",
       "      <td>3</td>\n",
       "      <td>150</td>\n",
       "      <td>[그룹3]</td>\n",
       "    </tr>\n",
       "  </tbody>\n",
       "</table>\n",
       "</div>"
      ],
      "text/plain": [
       "   고객ID  멤버십고객여부  케어솔루션고객여부 케어솔루션품목수  케어십가입여부 케어십품목수     최근3년구매금액 최근구매채널  \\\n",
       "0     1      NaN        0.0      0품목        1    2품목  5KK이상10KK미만   홈플러스   \n",
       "1     2      NaN        0.0      1품목        0    0품목        1KK미만    B2B   \n",
       "\n",
       "  Only&Best품목수 건강관리가전품목수  연령대 주거형태 아파트시세 아파트평형대 포인트사용빈도 보유멤버십포인트 멤버십가입경로  \\\n",
       "0          2품목       2품목  NaN  아파트   1억↓   20평대     미사용      NaN     NaN   \n",
       "1          2품목       2품목  NaN  아파트  3~4억   40평대     미사용      NaN     NaN   \n",
       "\n",
       "   제휴카드보유여부  프리미엄카드보유여부  제휴가입여부  멤버십앱설치여부 거주광역명   거주시군구명 거주행정동명  label  총구매빈도  \\\n",
       "0         0           0       0       NaN    경기  안산시 상록구     일동      0      3   \n",
       "1         0           0       0       NaN    경기      오산시    대원동      0      3   \n",
       "\n",
       "   최대구매가격대 주구매제품카테고리  \n",
       "0      250     [그룹3]  \n",
       "1      150     [그룹3]  "
      ]
     },
     "execution_count": 40,
     "metadata": {},
     "output_type": "execute_result"
    }
   ],
   "source": [
    "df_crm['주구매제품카테고리'] = max_purchase_categories.reset_index(drop = True)\n",
    "df_crm.head(2)"
   ]
  },
  {
   "cell_type": "markdown",
   "id": "b4f0dd1d",
   "metadata": {},
   "source": [
    "# 방법론 1\n",
    "- Idea : 각 제품군 별로 특징이 다를 것이므로, 제품군 별로 구매가능성을 예측하는 데에 더 정확할 것\n",
    "- 따라서, 제품 카테고리 별로 데이터프레임을 구분한 후, 각각 제품군 별로 모델링을 하여, 모델을 여러 개 생성\n",
    "- 이때, Y_target은 각 제품군 구매여부(1, 0)가 됨.\n",
    "    - 2023년의 구매이력과 매칭하여, 어떤 제품군 카테고리를 구매했는지 확인할 수 있으므로, 각 제품군 별 구매여부 추적이 가능함"
   ]
  },
  {
   "cell_type": "markdown",
   "id": "504518cd",
   "metadata": {},
   "source": [
    "기본컬럼 (23) : '고객ID', '멤버십고객여부', '케어솔루션품목수', '케어십가입여부',\n",
    "       '케어십품목수', '최근3년구매금액', '최근구매채널', 'Only&Best품목수', '건강관리가전품목수', '연령대',\n",
    "       '주거형태', '아파트시세', '아파트평형대', '포인트사용빈도', '보유멤버십포인트', '멤버십가입경로', '제휴카드보유여부',\n",
    "       '프리미엄카드보유여부', '제휴가입여부', '멤버십앱설치여부', '거주광역명', '거주시군구명', 'label_y'\n",
    "       \n",
    "추가 (4의배수) : '년도', '월', '타겟제품명', '금액'\n",
    "\n",
    "가공변수 (4) : 총구매빈도, 최대구매가격대, 최근매출일로부터경과일, 주구매제품카테고리\n",
    "\n",
    "모델링에서 제거 : '년도', '최근매출일로부터경과일', '고객ID'"
   ]
  },
  {
   "cell_type": "markdown",
   "id": "2b5fead4",
   "metadata": {},
   "source": [
    "## 제품별로 데이터프레임 생성"
   ]
  },
  {
   "cell_type": "markdown",
   "id": "6f33cbce",
   "metadata": {},
   "source": [
    "### 모든 데이터"
   ]
  },
  {
   "cell_type": "code",
   "execution_count": 41,
   "id": "7db222a8",
   "metadata": {},
   "outputs": [],
   "source": [
    "df = df.merge(df_isbuy_2023, on = '고객ID', how = 'left')\n",
    "df.loc[df['label_y'].isnull(), 'label_y'] = 0"
   ]
  },
  {
   "cell_type": "markdown",
   "id": "944a1da4",
   "metadata": {},
   "source": [
    "### 그룹1"
   ]
  },
  {
   "cell_type": "code",
   "execution_count": 45,
   "id": "79fe38d1",
   "metadata": {},
   "outputs": [],
   "source": [
    "group1_df = df.loc[df['제품카테고리'] == '그룹1']"
   ]
  },
  {
   "cell_type": "code",
   "execution_count": 46,
   "id": "b7c233c4",
   "metadata": {},
   "outputs": [
    {
     "data": {
      "text/plain": [
       "0.0    267984\n",
       "1.0     34526\n",
       "Name: label_y, dtype: int64"
      ]
     },
     "execution_count": 46,
     "metadata": {},
     "output_type": "execute_result"
    }
   ],
   "source": [
    "group1_df['label_y'].value_counts()"
   ]
  },
  {
   "cell_type": "markdown",
   "id": "0b7b158d",
   "metadata": {},
   "source": [
    "### 그룹2"
   ]
  },
  {
   "cell_type": "code",
   "execution_count": 47,
   "id": "2bf24a0f",
   "metadata": {},
   "outputs": [],
   "source": [
    "group2_df = df.loc[df['제품카테고리'] == '그룹2']"
   ]
  },
  {
   "cell_type": "code",
   "execution_count": 48,
   "id": "4acdda5f",
   "metadata": {},
   "outputs": [
    {
     "data": {
      "text/plain": [
       "0.0    78073\n",
       "1.0    11531\n",
       "Name: label_y, dtype: int64"
      ]
     },
     "execution_count": 48,
     "metadata": {},
     "output_type": "execute_result"
    }
   ],
   "source": [
    "group2_df['label_y'].value_counts()"
   ]
  },
  {
   "cell_type": "markdown",
   "id": "60b55249",
   "metadata": {},
   "source": [
    "### 그룹3"
   ]
  },
  {
   "cell_type": "code",
   "execution_count": 49,
   "id": "90ac9d6e",
   "metadata": {},
   "outputs": [
    {
     "data": {
      "text/plain": [
       "0.0    50069\n",
       "1.0     7664\n",
       "Name: label_y, dtype: int64"
      ]
     },
     "execution_count": 49,
     "metadata": {},
     "output_type": "execute_result"
    }
   ],
   "source": [
    "group3_df = df.loc[df['제품카테고리'] == '그룹3']\n",
    "\n",
    "group3_df['label_y'].value_counts()"
   ]
  },
  {
   "cell_type": "markdown",
   "id": "1ce7e1c2",
   "metadata": {},
   "source": [
    "### 그룹4"
   ]
  },
  {
   "cell_type": "code",
   "execution_count": 50,
   "id": "2aabd18e",
   "metadata": {},
   "outputs": [
    {
     "data": {
      "text/plain": [
       "0.0    39855\n",
       "1.0     5111\n",
       "Name: label_y, dtype: int64"
      ]
     },
     "execution_count": 50,
     "metadata": {},
     "output_type": "execute_result"
    }
   ],
   "source": [
    "group4_df = df.loc[df['제품카테고리'] == '그룹4']\n",
    "\n",
    "\n",
    "group4_df['label_y'].value_counts()"
   ]
  },
  {
   "cell_type": "markdown",
   "id": "2f26ac3f",
   "metadata": {},
   "source": [
    "### 그룹5"
   ]
  },
  {
   "cell_type": "code",
   "execution_count": 51,
   "id": "e0fd92f6",
   "metadata": {},
   "outputs": [
    {
     "data": {
      "text/plain": [
       "0.0    1672\n",
       "1.0     403\n",
       "Name: label_y, dtype: int64"
      ]
     },
     "execution_count": 51,
     "metadata": {},
     "output_type": "execute_result"
    }
   ],
   "source": [
    "group5_df = df.loc[df['제품카테고리'] == '그룹5']\n",
    "\n",
    "group5_df['label_y'].value_counts()"
   ]
  },
  {
   "cell_type": "markdown",
   "id": "0fe8051a",
   "metadata": {},
   "source": [
    "### 그룹6"
   ]
  },
  {
   "cell_type": "code",
   "execution_count": 52,
   "id": "d5f4b919",
   "metadata": {},
   "outputs": [
    {
     "data": {
      "text/plain": [
       "0.0    5727\n",
       "1.0     993\n",
       "Name: label_y, dtype: int64"
      ]
     },
     "execution_count": 52,
     "metadata": {},
     "output_type": "execute_result"
    }
   ],
   "source": [
    "group6_df = df.loc[df['제품카테고리'] == '그룹6']\n",
    "\n",
    "group6_df['label_y'].value_counts()"
   ]
  },
  {
   "cell_type": "markdown",
   "id": "095dcf50",
   "metadata": {},
   "source": [
    "## 고객의 구매이력 데이터 통합 함수"
   ]
  },
  {
   "cell_type": "code",
   "execution_count": 54,
   "id": "4297af09",
   "metadata": {},
   "outputs": [],
   "source": [
    "def create_row_from_group(group, customer_id):\n",
    "\n",
    "    new_row = {'고객ID': customer_id}\n",
    "    for column in group.columns:\n",
    "        new_row[column] = group.iloc[0][column]\n",
    "    return new_row"
   ]
  },
  {
   "cell_type": "code",
   "execution_count": 55,
   "id": "63ecbf73",
   "metadata": {},
   "outputs": [],
   "source": [
    "def organize_purchases_per_customer(dataframe, column_list):\n",
    "    \n",
    "    # 단일 고객의 최대 구매 횟수 파악\n",
    "    grouped_new = dataframe.groupby('고객ID')\n",
    "    max_purchases_new = grouped_new.size().max()\n",
    "\n",
    "    label_encoding_df = {column: [] for column in column_list}\n",
    "\n",
    "    for i in range(1, max_purchases_new + 1):\n",
    "        label_encoding_df[f'년도_{i}'] = []\n",
    "        label_encoding_df[f'월_{i}'] = []\n",
    "        label_encoding_df[f'타겟제품명_{i}'] = []\n",
    "        label_encoding_df[f'금액_{i}'] = []\n",
    "\n",
    "    for customer_id, group in tqdm(grouped_new):\n",
    "        purchases = list(group[['년도', '월','타겟제품명', '금액']].itertuples(index=False, name=None))\n",
    "        new_row_new = create_row_from_group(group, customer_id)\n",
    "\n",
    "        # 새 행에 판매 날짜 및 구매 추가\n",
    "        for i, (year, month, product_name, amount) in enumerate(purchases, 1):\n",
    "            new_row_new[f'년도_{i}'] = year\n",
    "            new_row_new[f'월_{i}'] = month\n",
    "            new_row_new[f'타겟제품명_{i}'] = product_name\n",
    "            new_row_new[f'금액_{i}'] = amount\n",
    "\n",
    "        # 최대 구매수보다 적은 경우 나머지 행 채우기\n",
    "        for j in range(len(purchases) + 1, max_purchases_new + 1):\n",
    "            new_row_new[f'년도_{j}'] = None\n",
    "            new_row_new[f'월_{j}'] = None\n",
    "            new_row_new[f'타겟제품명_{j}'] = None\n",
    "            new_row_new[f'금액_{j}'] = None\n",
    "\n",
    "        for key in label_encoding_df:\n",
    "            label_encoding_df[key].append(new_row_new.get(key, None))\n",
    "\n",
    "    new_structured_df_new = pd.DataFrame(label_encoding_df)\n",
    "    return new_structured_df_new\n"
   ]
  },
  {
   "cell_type": "markdown",
   "id": "84827543",
   "metadata": {},
   "source": [
    "## 고객별 데이터 생성 : 고객 정보와 가공변수 포함된 df "
   ]
  },
  {
   "cell_type": "code",
   "execution_count": 56,
   "id": "3812cb40",
   "metadata": {},
   "outputs": [],
   "source": [
    "def final_df_maker(dataframe, col_list):\n",
    "    df_new = organize_purchases_per_customer(dataframe, col_list)\n",
    "    # 가공변수 추가\n",
    "    df_new = df_new.merge(df_crm[['고객ID','총구매빈도', '최대구매가격대',\n",
    "       '주구매제품카테고리']], on = '고객ID', how = 'left')\n",
    "    return df_new"
   ]
  },
  {
   "cell_type": "code",
   "execution_count": 57,
   "id": "d7e7b8f7",
   "metadata": {},
   "outputs": [],
   "source": [
    "col_list = [\n",
    "'고객ID','멤버십고객여부', '케어솔루션품목수', '케어십가입여부', '케어십품목수', '최근3년구매금액', '최근구매채널',\n",
    "'Only&Best품목수', '건강관리가전품목수', '연령대', '주거형태', '아파트시세', '아파트평형대', '포인트사용빈도',\n",
    "'보유멤버십포인트', '멤버십가입경로', '제휴카드보유여부', '프리미엄카드보유여부', '제휴가입여부', '멤버십앱설치여부',\n",
    "'거주광역명', '거주시군구명', 'label_y']"
   ]
  },
  {
   "cell_type": "code",
   "execution_count": 58,
   "id": "0e95eada",
   "metadata": {},
   "outputs": [
    {
     "name": "stderr",
     "output_type": "stream",
     "text": [
      "100%|████████████████████████████████████| 93746/93746 [03:25<00:00, 457.02it/s]\n",
      "100%|████████████████████████████████████| 57752/57752 [02:06<00:00, 457.03it/s]\n",
      "100%|████████████████████████████████████| 42767/42767 [01:34<00:00, 454.66it/s]\n",
      "100%|████████████████████████████████████| 31620/31620 [01:09<00:00, 452.86it/s]\n",
      "100%|██████████████████████████████████████| 1883/1883 [00:04<00:00, 461.12it/s]\n",
      "100%|██████████████████████████████████████| 5900/5900 [00:12<00:00, 462.41it/s]\n"
     ]
    }
   ],
   "source": [
    "group1_df_new = final_df_maker(group1_df, col_list)\n",
    "group2_df_new = final_df_maker(group2_df, col_list)\n",
    "group3_df_new = final_df_maker(group3_df, col_list)\n",
    "group4_df_new = final_df_maker(group4_df, col_list)\n",
    "group5_df_new = final_df_maker(group5_df, col_list)\n",
    "group6_df_new = final_df_maker(group6_df, col_list)"
   ]
  },
  {
   "cell_type": "code",
   "execution_count": null,
   "id": "1481144b",
   "metadata": {},
   "outputs": [],
   "source": []
  },
  {
   "cell_type": "code",
   "execution_count": 59,
   "id": "5fc38119",
   "metadata": {},
   "outputs": [],
   "source": [
    "# group1_df_new.to_csv('../data/association_rule/group1_df_값생성_2023제거.csv', encoding='utf-8-sig')\n",
    "# group2_df_new.to_csv('../data/association_rule/group2_df_값생성_2023제거.csv', encoding='utf-8-sig')\n",
    "# group3_df_new.to_csv('../data/association_rule/group3_df_값생성_2023제거.csv', encoding='utf-8-sig')\n",
    "# group4_df_new.to_csv('../data/association_rule/group4_df_값생성_2023제거.csv', encoding='utf-8-sig')\n",
    "# group5_df_new.to_csv('../data/association_rule/group5_df_값생성_2023제거.csv', encoding='utf-8-sig')\n",
    "# group6_df_new.to_csv('../data/association_rule/group6_df_값생성_2023제거.csv', encoding='utf-8-sig')"
   ]
  },
  {
   "cell_type": "code",
   "execution_count": null,
   "id": "aead56c4",
   "metadata": {},
   "outputs": [],
   "source": []
  }
 ],
 "metadata": {
  "kernelspec": {
   "display_name": "Python 3 (ipykernel)",
   "language": "python",
   "name": "python3"
  },
  "language_info": {
   "codemirror_mode": {
    "name": "ipython",
    "version": 3
   },
   "file_extension": ".py",
   "mimetype": "text/x-python",
   "name": "python",
   "nbconvert_exporter": "python",
   "pygments_lexer": "ipython3",
   "version": "3.11.4"
  }
 },
 "nbformat": 4,
 "nbformat_minor": 5
}
