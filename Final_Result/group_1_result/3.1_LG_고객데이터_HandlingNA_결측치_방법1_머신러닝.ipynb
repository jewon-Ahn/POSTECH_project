{
 "cells": [
  {
   "cell_type": "markdown",
   "id": "e71a5b1f",
   "metadata": {},
   "source": [
    "# 3.1 머신러닝을 사용해서 결측치 처리\n",
    "- 메모리 에러가 남\n",
    "- 코드 수정 필요\n",
    "- 파일 저장위치: `../data/결측치_output/`\n",
    "- \n",
    "https://medium.com/analytics-vidhya/handle-missing-values-in-categorical-features-b7c5b073dda2"
   ]
  },
  {
   "cell_type": "markdown",
   "id": "d1cdd5f1-2c4e-49c5-8dff-9fe5a7a14787",
   "metadata": {},
   "source": [
    "## 데이터 불러오기"
   ]
  },
  {
   "cell_type": "code",
   "execution_count": 1,
   "id": "036f3509",
   "metadata": {},
   "outputs": [],
   "source": [
    "from tqdm.auto import tqdm\n",
    "import warnings\n",
    "warnings.filterwarnings(action='ignore')"
   ]
  },
  {
   "cell_type": "code",
   "execution_count": 2,
   "id": "020106a5",
   "metadata": {},
   "outputs": [],
   "source": [
    "import pandas as pd\n",
    "from sklearn.model_selection import train_test_split"
   ]
  },
  {
   "cell_type": "code",
   "execution_count": 5,
   "id": "c2f9a29c",
   "metadata": {},
   "outputs": [],
   "source": [
    "df = pd.read_csv(\"../data/customer.csv\")\n",
    "df.drop(['Unnamed: 0'], axis = 1, inplace = True)"
   ]
  },
  {
   "cell_type": "code",
   "execution_count": 6,
   "id": "7e6fa0f2",
   "metadata": {},
   "outputs": [],
   "source": [
    "df.drop(['케어솔루션고객여부', '거주행정동명', 'label_y', 'label_x'], axis = 1, inplace = True)"
   ]
  },
  {
   "cell_type": "code",
   "execution_count": 7,
   "id": "03a97d1b",
   "metadata": {},
   "outputs": [],
   "source": [
    "# 날짜형으로 변환\n",
    "df['매출일자(배송완료일자)'] = pd.to_datetime(df['매출일자(배송완료일자)'], format='%Y-%m-%d')\n",
    "df['년도'] = df['매출일자(배송완료일자)'].dt.year\n",
    "df['월'] = df['매출일자(배송완료일자)'].dt.month"
   ]
  },
  {
   "cell_type": "code",
   "execution_count": 8,
   "id": "6948bca9",
   "metadata": {},
   "outputs": [],
   "source": [
    "# 보유멤버십포인트 결측치는 0으로 채우기\n",
    "df.loc[df['보유멤버십포인트'].isnull(), '보유멤버십포인트'] = 0"
   ]
  },
  {
   "cell_type": "code",
   "execution_count": 9,
   "id": "f5bcba13",
   "metadata": {
    "scrolled": true
   },
   "outputs": [],
   "source": [
    "df_ = df.isnull().sum().sort_values().to_frame()"
   ]
  },
  {
   "cell_type": "code",
   "execution_count": 10,
   "id": "4a788295",
   "metadata": {},
   "outputs": [
    {
     "data": {
      "text/html": [
       "<div>\n",
       "<style scoped>\n",
       "    .dataframe tbody tr th:only-of-type {\n",
       "        vertical-align: middle;\n",
       "    }\n",
       "\n",
       "    .dataframe tbody tr th {\n",
       "        vertical-align: top;\n",
       "    }\n",
       "\n",
       "    .dataframe thead th {\n",
       "        text-align: right;\n",
       "    }\n",
       "</style>\n",
       "<table border=\"1\" class=\"dataframe\">\n",
       "  <thead>\n",
       "    <tr style=\"text-align: right;\">\n",
       "      <th></th>\n",
       "      <th>고객ID</th>\n",
       "      <th>제휴가입여부</th>\n",
       "      <th>프리미엄카드보유여부</th>\n",
       "      <th>제휴카드보유여부</th>\n",
       "      <th>보유멤버십포인트</th>\n",
       "      <th>포인트사용빈도</th>\n",
       "      <th>년도</th>\n",
       "      <th>건강관리가전품목수</th>\n",
       "      <th>Only&amp;Best품목수</th>\n",
       "      <th>주거형태</th>\n",
       "      <th>...</th>\n",
       "      <th>최근구매채널</th>\n",
       "      <th>금액</th>\n",
       "      <th>멤버십고객여부</th>\n",
       "      <th>멤버십앱설치여부</th>\n",
       "      <th>멤버십가입경로</th>\n",
       "      <th>거주광역명</th>\n",
       "      <th>거주시군구명</th>\n",
       "      <th>연령대</th>\n",
       "      <th>아파트평형대</th>\n",
       "      <th>아파트시세</th>\n",
       "    </tr>\n",
       "  </thead>\n",
       "  <tbody>\n",
       "    <tr>\n",
       "      <th>nullcount</th>\n",
       "      <td>0</td>\n",
       "      <td>0</td>\n",
       "      <td>0</td>\n",
       "      <td>0</td>\n",
       "      <td>0</td>\n",
       "      <td>0</td>\n",
       "      <td>0</td>\n",
       "      <td>0</td>\n",
       "      <td>0</td>\n",
       "      <td>0</td>\n",
       "      <td>...</td>\n",
       "      <td>4</td>\n",
       "      <td>338</td>\n",
       "      <td>6905</td>\n",
       "      <td>6905</td>\n",
       "      <td>6905</td>\n",
       "      <td>18804</td>\n",
       "      <td>18870</td>\n",
       "      <td>27995</td>\n",
       "      <td>128164</td>\n",
       "      <td>128164</td>\n",
       "    </tr>\n",
       "  </tbody>\n",
       "</table>\n",
       "<p>1 rows × 27 columns</p>\n",
       "</div>"
      ],
      "text/plain": [
       "           고객ID  제휴가입여부  프리미엄카드보유여부  제휴카드보유여부  보유멤버십포인트  포인트사용빈도  년도  \\\n",
       "nullcount     0       0           0         0         0        0   0   \n",
       "\n",
       "           건강관리가전품목수  Only&Best품목수  주거형태  ...  최근구매채널   금액  멤버십고객여부  멤버십앱설치여부  \\\n",
       "nullcount          0             0     0  ...       4  338     6905      6905   \n",
       "\n",
       "           멤버십가입경로  거주광역명  거주시군구명    연령대  아파트평형대   아파트시세  \n",
       "nullcount     6905  18804   18870  27995  128164  128164  \n",
       "\n",
       "[1 rows x 27 columns]"
      ]
     },
     "execution_count": 10,
     "metadata": {},
     "output_type": "execute_result"
    }
   ],
   "source": [
    "# column_name chagne\n",
    "df_ = df_.rename(columns = {0 : \"nullcount\"})\n",
    "df_ = df_.rename(columns = {\"index\" : \"column_name\"})\n",
    "df_ = df_.T\n",
    "df_"
   ]
  },
  {
   "cell_type": "code",
   "execution_count": 11,
   "id": "c80b1be0-3529-41bc-8b6c-004223ec9b60",
   "metadata": {
    "tags": []
   },
   "outputs": [],
   "source": [
    "# int 변수로 바꿀 수 있는 str 변수를 찾아서 type 변환\n",
    "\n",
    "df['케어솔루션품목수'] = df['케어솔루션품목수'].apply(lambda x : int(x[0]))\n",
    "df['케어십품목수'] = df['케어십품목수'].apply(lambda x : int(x[0]))\n",
    "df['Only&Best품목수'] = df['Only&Best품목수'].apply(lambda x : int(x[0]))\n",
    "df['건강관리가전품목수'] = df['건강관리가전품목수'].apply(lambda x : int(x[0]))"
   ]
  },
  {
   "cell_type": "code",
   "execution_count": 12,
   "id": "42f13eb5-308a-4218-9076-70b8dd8bf9aa",
   "metadata": {},
   "outputs": [
    {
     "data": {
      "text/html": [
       "<div>\n",
       "<style scoped>\n",
       "    .dataframe tbody tr th:only-of-type {\n",
       "        vertical-align: middle;\n",
       "    }\n",
       "\n",
       "    .dataframe tbody tr th {\n",
       "        vertical-align: top;\n",
       "    }\n",
       "\n",
       "    .dataframe thead th {\n",
       "        text-align: right;\n",
       "    }\n",
       "</style>\n",
       "<table border=\"1\" class=\"dataframe\">\n",
       "  <thead>\n",
       "    <tr style=\"text-align: right;\">\n",
       "      <th></th>\n",
       "      <th>고객ID</th>\n",
       "      <th>매출일자(배송완료일자)</th>\n",
       "      <th>타겟제품명</th>\n",
       "      <th>금액</th>\n",
       "      <th>멤버십고객여부</th>\n",
       "      <th>케어솔루션품목수</th>\n",
       "      <th>케어십가입여부</th>\n",
       "      <th>케어십품목수</th>\n",
       "      <th>최근3년구매금액</th>\n",
       "      <th>최근구매채널</th>\n",
       "      <th>Only&amp;Best품목수</th>\n",
       "      <th>건강관리가전품목수</th>\n",
       "      <th>연령대</th>\n",
       "      <th>주거형태</th>\n",
       "      <th>아파트시세</th>\n",
       "      <th>아파트평형대</th>\n",
       "      <th>포인트사용빈도</th>\n",
       "      <th>보유멤버십포인트</th>\n",
       "      <th>멤버십가입경로</th>\n",
       "      <th>제휴카드보유여부</th>\n",
       "      <th>프리미엄카드보유여부</th>\n",
       "      <th>제휴가입여부</th>\n",
       "      <th>멤버십앱설치여부</th>\n",
       "      <th>거주광역명</th>\n",
       "      <th>거주시군구명</th>\n",
       "      <th>년도</th>\n",
       "      <th>월</th>\n",
       "    </tr>\n",
       "  </thead>\n",
       "  <tbody>\n",
       "    <tr>\n",
       "      <th>0</th>\n",
       "      <td>34410</td>\n",
       "      <td>2022-04-29</td>\n",
       "      <td>에어컨</td>\n",
       "      <td>300만원 이상 400만원 이하</td>\n",
       "      <td>0.0</td>\n",
       "      <td>0</td>\n",
       "      <td>0</td>\n",
       "      <td>0</td>\n",
       "      <td>15KK이상20KK미만</td>\n",
       "      <td>온라인</td>\n",
       "      <td>1</td>\n",
       "      <td>1</td>\n",
       "      <td>30대</td>\n",
       "      <td>아파트</td>\n",
       "      <td>1~2억</td>\n",
       "      <td>20평대</td>\n",
       "      <td>미사용</td>\n",
       "      <td>0</td>\n",
       "      <td>베스트샵</td>\n",
       "      <td>0</td>\n",
       "      <td>0</td>\n",
       "      <td>0</td>\n",
       "      <td>0.0</td>\n",
       "      <td>전북</td>\n",
       "      <td>전주시 덕진구</td>\n",
       "      <td>2022</td>\n",
       "      <td>4</td>\n",
       "    </tr>\n",
       "  </tbody>\n",
       "</table>\n",
       "</div>"
      ],
      "text/plain": [
       "    고객ID 매출일자(배송완료일자) 타겟제품명                 금액  멤버십고객여부  케어솔루션품목수  케어십가입여부  \\\n",
       "0  34410   2022-04-29   에어컨  300만원 이상 400만원 이하      0.0         0        0   \n",
       "\n",
       "   케어십품목수      최근3년구매금액 최근구매채널  Only&Best품목수  건강관리가전품목수  연령대 주거형태 아파트시세  \\\n",
       "0       0  15KK이상20KK미만    온라인             1          1  30대  아파트  1~2억   \n",
       "\n",
       "  아파트평형대 포인트사용빈도 보유멤버십포인트 멤버십가입경로  제휴카드보유여부  프리미엄카드보유여부  제휴가입여부  멤버십앱설치여부  \\\n",
       "0   20평대     미사용        0    베스트샵         0           0       0       0.0   \n",
       "\n",
       "  거주광역명   거주시군구명    년도  월  \n",
       "0    전북  전주시 덕진구  2022  4  "
      ]
     },
     "execution_count": 12,
     "metadata": {},
     "output_type": "execute_result"
    }
   ],
   "source": [
    "pd.set_option('display.max_columns', None)\n",
    "df.head(1)"
   ]
  },
  {
   "cell_type": "markdown",
   "id": "7896d04b-3f65-4888-85d3-2b3bc8737cb1",
   "metadata": {},
   "source": [
    "## 학습 데이터 구성"
   ]
  },
  {
   "cell_type": "markdown",
   "id": "128db5c0-aacb-47aa-b0d4-8f63769d7f11",
   "metadata": {},
   "source": [
    "* 학습 데이터 : null_count가 없는 컬럼들만 모두 학습 데이터에 포함시켜야 되며, 이후 순차적으로 컬럼들을 예측하고, 컬럼들이 하나씩 추가되어 누적되는 방식"
   ]
  },
  {
   "cell_type": "code",
   "execution_count": 13,
   "id": "d4adaad3-16e9-416d-acab-1000d3d890bb",
   "metadata": {},
   "outputs": [
    {
     "name": "stdout",
     "output_type": "stream",
     "text": [
      "학습 데이터에 포함시킬 컬럼 :  ['고객ID', '제휴가입여부', '프리미엄카드보유여부', '제휴카드보유여부', '보유멤버십포인트', '포인트사용빈도', '년도', '건강관리가전품목수', 'Only&Best품목수', '주거형태', '최근3년구매금액', '매출일자(배송완료일자)', '타겟제품명', '케어솔루션품목수', '월', '케어십가입여부', '케어십품목수']\n",
      "추후 예측할 NA 컬럼 :  ['최근구매채널', '금액', '멤버십고객여부', '멤버십앱설치여부', '멤버십가입경로', '거주광역명', '거주시군구명', '연령대', '아파트평형대', '아파트시세']\n"
     ]
    }
   ],
   "source": [
    "# 학습데이터\n",
    "\n",
    "train_columns = [] # 학습 데이터 구성시, 활용할 컬럼명을 저장해주는 리스트\n",
    "NA_columns = [] # 학습 데이터에 포함되지 않고, 추후에 순차적으로 예측할 컬럼명을 저장해주는 리스트 \n",
    "\n",
    "for column in df_.columns:\n",
    "    if df_.loc[\"nullcount\", column] == 0:\n",
    "        train_columns.append(column)\n",
    "    else:\n",
    "        NA_columns.append(column)\n",
    "\n",
    "print(\"학습 데이터에 포함시킬 컬럼 : \", train_columns)\n",
    "print(\"추후 예측할 NA 컬럼 : \", NA_columns)"
   ]
  },
  {
   "cell_type": "code",
   "execution_count": 14,
   "id": "d5a7e331",
   "metadata": {},
   "outputs": [],
   "source": [
    "# binary 변수 -> int type\n",
    "if '멤버십고객여부' in train_columns:\n",
    "    df['멤버십고객여부'] = df['멤버십고객여부'].apply(lambda x : int(int(x)))\n",
    "if '멤버십앱설치여부' in train_columns:    \n",
    "    df['멤버십앱설치여부'] = df['멤버십앱설치여부'].apply(lambda x : int(int(x)))\n",
    "if '케어십가입여부' in train_columns:\n",
    "    df['케어십가입여부'] = df['케어십가입여부'].apply(lambda x : int(int(x)))\n",
    "if '제휴카드보유여부' in train_columns:\n",
    "    df['제휴카드보유여부'] = df['제휴카드보유여부'].apply(lambda x : int(int(x)))\n",
    "if '프리미엄카드보유여부' in train_columns:\n",
    "    df['프리미엄카드보유여부'] = df['프리미엄카드보유여부'].apply(lambda x : int(int(x)))\n",
    "if '제휴가입여부' in train_columns:\n",
    "    df['제휴가입여부'] = df['제휴가입여부'].apply(lambda x : int(int(x)))\n",
    "                                          "
   ]
  },
  {
   "cell_type": "code",
   "execution_count": 15,
   "id": "e6627b0a-a31b-4036-a193-ba5daf9d9620",
   "metadata": {},
   "outputs": [],
   "source": [
    "# 멤버십가입경로 4개 그룹으로 나눔\n",
    "\n",
    "def change_variable(x):\n",
    "    if x in ['베스트샵', '하이마트', '백화점', '전자랜드', '홈플러스', '(주)이마트']:\n",
    "        return '매장'\n",
    "    elif x in ['신한카드', '제휴카드', '하나SK카드', '롯데카드', 'LG페이', '네이버페이', '페이코', '스마트월렛']:\n",
    "        return '카드'\n",
    "    elif x in ['디얼디어', '바른손', '모닝글로리']:\n",
    "        return '기타'\n",
    "    elif x in ['LGE회원통합', 'LGE앱', 'LGE홈페이지(모바일)', '모바일그룹', '얍_KT', '얍_LGU', 'LGE홈페이지']:\n",
    "        return '홈페이지'\n",
    "    \n",
    "def change_variable2(x):\n",
    "    if x in ['백화점']:\n",
    "        return '1'\n",
    "    elif x in ['할인점 기타', '이마트', '온라인']:\n",
    "        return '2'\n",
    "    elif x in ['홈플러스', '하이마트', '전자랜드']:\n",
    "        return '3'\n",
    "    elif x in ['B2B', '베스트샵', '인터넷/홈쇼핑']:\n",
    "        return '4'"
   ]
  },
  {
   "cell_type": "code",
   "execution_count": 16,
   "id": "b098baf8-a2e5-45b9-b5e5-463f5b4a57e8",
   "metadata": {},
   "outputs": [
    {
     "data": {
      "text/html": [
       "<div>\n",
       "<style scoped>\n",
       "    .dataframe tbody tr th:only-of-type {\n",
       "        vertical-align: middle;\n",
       "    }\n",
       "\n",
       "    .dataframe tbody tr th {\n",
       "        vertical-align: top;\n",
       "    }\n",
       "\n",
       "    .dataframe thead th {\n",
       "        text-align: right;\n",
       "    }\n",
       "</style>\n",
       "<table border=\"1\" class=\"dataframe\">\n",
       "  <thead>\n",
       "    <tr style=\"text-align: right;\">\n",
       "      <th></th>\n",
       "      <th>고객ID</th>\n",
       "      <th>매출일자(배송완료일자)</th>\n",
       "      <th>타겟제품명</th>\n",
       "      <th>금액</th>\n",
       "      <th>멤버십고객여부</th>\n",
       "      <th>케어솔루션품목수</th>\n",
       "      <th>케어십가입여부</th>\n",
       "      <th>케어십품목수</th>\n",
       "      <th>최근3년구매금액</th>\n",
       "      <th>최근구매채널</th>\n",
       "      <th>Only&amp;Best품목수</th>\n",
       "      <th>건강관리가전품목수</th>\n",
       "      <th>연령대</th>\n",
       "      <th>주거형태</th>\n",
       "      <th>아파트시세</th>\n",
       "      <th>아파트평형대</th>\n",
       "      <th>포인트사용빈도</th>\n",
       "      <th>보유멤버십포인트</th>\n",
       "      <th>멤버십가입경로</th>\n",
       "      <th>제휴카드보유여부</th>\n",
       "      <th>프리미엄카드보유여부</th>\n",
       "      <th>제휴가입여부</th>\n",
       "      <th>멤버십앱설치여부</th>\n",
       "      <th>거주광역명</th>\n",
       "      <th>거주시군구명</th>\n",
       "      <th>년도</th>\n",
       "      <th>월</th>\n",
       "    </tr>\n",
       "  </thead>\n",
       "  <tbody>\n",
       "    <tr>\n",
       "      <th>0</th>\n",
       "      <td>34410</td>\n",
       "      <td>2022-04-29</td>\n",
       "      <td>에어컨</td>\n",
       "      <td>300만원 이상 400만원 이하</td>\n",
       "      <td>0.0</td>\n",
       "      <td>0</td>\n",
       "      <td>0</td>\n",
       "      <td>0</td>\n",
       "      <td>15KK이상20KK미만</td>\n",
       "      <td>2</td>\n",
       "      <td>1</td>\n",
       "      <td>1</td>\n",
       "      <td>30대</td>\n",
       "      <td>아파트</td>\n",
       "      <td>1~2억</td>\n",
       "      <td>20평대</td>\n",
       "      <td>미사용</td>\n",
       "      <td>0</td>\n",
       "      <td>매장</td>\n",
       "      <td>0</td>\n",
       "      <td>0</td>\n",
       "      <td>0</td>\n",
       "      <td>0.0</td>\n",
       "      <td>전북</td>\n",
       "      <td>전주시 덕진구</td>\n",
       "      <td>2022</td>\n",
       "      <td>4</td>\n",
       "    </tr>\n",
       "  </tbody>\n",
       "</table>\n",
       "</div>"
      ],
      "text/plain": [
       "    고객ID 매출일자(배송완료일자) 타겟제품명                 금액  멤버십고객여부  케어솔루션품목수  케어십가입여부  \\\n",
       "0  34410   2022-04-29   에어컨  300만원 이상 400만원 이하      0.0         0        0   \n",
       "\n",
       "   케어십품목수      최근3년구매금액 최근구매채널  Only&Best품목수  건강관리가전품목수  연령대 주거형태 아파트시세  \\\n",
       "0       0  15KK이상20KK미만      2             1          1  30대  아파트  1~2억   \n",
       "\n",
       "  아파트평형대 포인트사용빈도 보유멤버십포인트 멤버십가입경로  제휴카드보유여부  프리미엄카드보유여부  제휴가입여부  멤버십앱설치여부  \\\n",
       "0   20평대     미사용        0      매장         0           0       0       0.0   \n",
       "\n",
       "  거주광역명   거주시군구명    년도  월  \n",
       "0    전북  전주시 덕진구  2022  4  "
      ]
     },
     "execution_count": 16,
     "metadata": {},
     "output_type": "execute_result"
    }
   ],
   "source": [
    "df['멤버십가입경로'] = df['멤버십가입경로'].apply(lambda x: change_variable(x))\n",
    "df['최근구매채널'] = df['최근구매채널'].apply(lambda x: change_variable2(x))\n",
    "df.head(1)"
   ]
  },
  {
   "cell_type": "code",
   "execution_count": 17,
   "id": "1533f0f7",
   "metadata": {},
   "outputs": [],
   "source": [
    "def train_val_test_split(df, train_columns, NA_columns):\n",
    "    # 원핫 인코딩\n",
    "    df_encoded = pd.get_dummies(df[train_columns])\n",
    "    \n",
    "    # train_columns 와 NA컬럼 중 하나를  (NA_coulmns[0]()) 합쳐준다.\n",
    "    # NA_columns에서 순차적으로 가장 맨 앞에 컬럼부터 예측\n",
    "    df_train_val = pd.concat([df_encoded, df[NA_columns[0]]], axis = 1)\n",
    "\n",
    "    # NA가 있는 row 만 test로 빼준다.\n",
    "    df_test = df_train_val[df_train_val.isnull().any(axis=1)]\n",
    "    y_test = df_test[NA_columns[0]]\n",
    "    X_test = df_test.drop(['고객ID', '매출일자(배송완료일자)', NA_columns[0]], axis =1)\n",
    "\n",
    "    # NA가 없는 데이터프레임\n",
    "    df_train_val = df_train_val.dropna()\n",
    "\n",
    "    # NA가 없는 데이터프레임에서 train, val을 나눈다. \n",
    "    # 어떤 알고리즘을 쓸지 알기 위해\n",
    "    y_train_val = df_train_val[NA_columns[0]]\n",
    "    X_train_val = df_train_val.drop(['고객ID', '매출일자(배송완료일자)', NA_columns[0]], axis =1)\n",
    "    X_train, X_val, y_train, y_val = train_test_split(X_train_val, y_train_val, test_size=0.3, random_state=42)\n",
    "    \n",
    "    return (X_train, X_val, X_test, y_train, y_val, y_test)"
   ]
  },
  {
   "cell_type": "code",
   "execution_count": 48,
   "id": "2c14a17f",
   "metadata": {},
   "outputs": [],
   "source": [
    "# 원핫 인코딩\n",
    "df_encoded = pd.get_dummies(df[train_columns])\n",
    "# df_encoded.head(3)"
   ]
  },
  {
   "cell_type": "code",
   "execution_count": 49,
   "id": "d8d88492",
   "metadata": {},
   "outputs": [],
   "source": [
    "# train_columns 와 NA컬럼 중 하나를  (NA_coulmns[0]()) 합쳐준다.\n",
    "# NA_columns에서 순차적으로 가장 맨 앞에 컬럼부터 예측\n",
    "df_train_val = pd.concat([df_encoded, df[NA_columns[0]]], axis = 1)"
   ]
  },
  {
   "cell_type": "code",
   "execution_count": 50,
   "id": "2575f280",
   "metadata": {},
   "outputs": [],
   "source": [
    "# NA가 있는 row 만 test로 빼준다.\n",
    "df_test = df_train_val[df_train_val.isnull().any(axis=1)]\n",
    "y_test = df_test[NA_columns[0]]\n",
    "X_test = df_test.drop(['고객ID', '매출일자(배송완료일자)', NA_columns[0]], axis =1)"
   ]
  },
  {
   "cell_type": "code",
   "execution_count": 51,
   "id": "a30d98af",
   "metadata": {},
   "outputs": [],
   "source": [
    "# NA가 없는 데이터프레임\n",
    "df_train_val = df_train_val.dropna()\n",
    "\n",
    "# NA가 없는 데이터프레임에서 train, val을 나눈다. \n",
    "# 어떤 알고리즘을 쓸지 알기 위해\n",
    "y_train_val = df_train_val[NA_columns[0]]\n",
    "X_train_val = df_train_val.drop(['고객ID', '매출일자(배송완료일자)', NA_columns[0]], axis =1)\n",
    "X_train, X_val, y_train, y_val = train_test_split(X_train_val, y_train_val, test_size=0.3, random_state=42)"
   ]
  },
  {
   "cell_type": "code",
   "execution_count": 52,
   "id": "74ed97e3-9e02-4c41-90bc-c9ee8d9dbdcf",
   "metadata": {},
   "outputs": [
    {
     "name": "stdout",
     "output_type": "stream",
     "text": [
      "X_train 갯수 :  372834\n",
      "y_train 갯수 :  372834\n",
      "X_val 갯수 :  159787\n",
      "y_val 갯수 :  159787\n",
      "X_test 갯수 :  4\n",
      "y_test 갯수 :  4\n"
     ]
    }
   ],
   "source": [
    "print(\"X_train 갯수 : \", len(X_train))\n",
    "print(\"y_train 갯수 : \", len(y_train))\n",
    "print(\"X_val 갯수 : \", len(X_val))\n",
    "print(\"y_val 갯수 : \", len(y_val))\n",
    "print(\"X_test 갯수 : \", len(X_test))\n",
    "print(\"y_test 갯수 : \", len(y_test))"
   ]
  },
  {
   "cell_type": "markdown",
   "id": "0394d55a-cd3b-438d-8be3-82f3b1ccfacc",
   "metadata": {},
   "source": [
    "# 결측치 많은 순으로 학습 후 예측"
   ]
  },
  {
   "cell_type": "code",
   "execution_count": 19,
   "id": "3f1f7dd7-0e4d-487a-948d-058364ee8948",
   "metadata": {
    "tags": []
   },
   "outputs": [],
   "source": [
    "# 분류 알고리즘\n",
    "from sklearn.linear_model import LogisticRegression\n",
    "from sklearn.svm import SVC\n",
    "from sklearn.tree import DecisionTreeClassifier\n",
    "from sklearn.ensemble import RandomForestClassifier\n",
    "from sklearn.ensemble import AdaBoostClassifier\n",
    "from sklearn.ensemble import GradientBoostingClassifier\n",
    "from sklearn.ensemble import VotingClassifier\n",
    "\n",
    "# 분류용 평가 함수\n",
    "from sklearn.metrics import accuracy_score\n",
    "from sklearn.metrics import precision_score\n",
    "from sklearn.metrics import recall_score\n",
    "from sklearn.metrics import f1_score\n",
    "from sklearn.metrics import roc_auc_score\n",
    "\n",
    "import matplotlib.pyplot as plt\n",
    "import joblib\n",
    "import pickle"
   ]
  },
  {
   "cell_type": "code",
   "execution_count": 20,
   "id": "625e1de0",
   "metadata": {},
   "outputs": [],
   "source": [
    "def train_fit(y_target, X_train, y_train):\n",
    "    \n",
    "    # 검증할 모델들 생성\n",
    "    model1 = DecisionTreeClassifier(random_state=1)\n",
    "    model2 = RandomForestClassifier(random_state=1)\n",
    "    model3 = AdaBoostClassifier(random_state=1)\n",
    "    model4 = LogisticRegression(random_state=1)\n",
    "    model5 = GradientBoostingClassifier(random_state=1)\n",
    "\n",
    "    model_list = [model1, model2, model3, model4, model5]\n",
    "\n",
    "\n",
    "    model_save = []\n",
    "    # 모델 이름 \n",
    "    model_name = ['DT', 'RF', 'Ada', 'LR', 'GB']    \n",
    "    # 학습용 데이터를 학습한다.\n",
    "    for m1 in tqdm(model_list) :\n",
    "        print(f'===Training data ... {m1}===')\n",
    "        model = m1.fit(X_train, y_train)\n",
    "        model_save.append(model)\n",
    "    \n",
    "    return model_save\n",
    "        \n",
    "\n",
    "    #'saved_model'은 저장할 파일의 이름이다.\n",
    "#     with open(f'{y_target}_saved_model', 'wb') as f:\n",
    "#         pickle.dump(m1, f)"
   ]
  },
  {
   "cell_type": "code",
   "execution_count": 21,
   "id": "962d4dbe",
   "metadata": {},
   "outputs": [],
   "source": [
    "def predict_val(train_fit, X_val):\n",
    "    # 학습용 데이터를 통해 결과를 예측한다.\n",
    "    pred_list = []\n",
    "\n",
    "    for m1 in tqdm(train_fit) :\n",
    "        pred = m1.predict(X_val)\n",
    "        pred_list.append(pred)\n",
    "    return pred_list"
   ]
  },
  {
   "cell_type": "code",
   "execution_count": 22,
   "id": "01747030",
   "metadata": {},
   "outputs": [],
   "source": [
    "def evaluate(pred_list, y_target, y_val, average):\n",
    "\n",
    "    # 평가\n",
    "    # 평가 결과를 담을 딕셔너리\n",
    "    dict1 = {\n",
    "        'accuracy' : [],\n",
    "        'precision' : [],\n",
    "        'recall' : [],\n",
    "        'f1' : [],\n",
    "        # 'roc_auc' : [],\n",
    "        'name' : []\n",
    "    }\n",
    "    model_name = ['DT', 'RF', 'Ada']\n",
    "    model_name = ['KNN', 'LR', 'DT', 'RF']#, 'Ada']  \n",
    "    # 각 모델별 예측 결과를 하나씩 추출하여 평가한다.\n",
    "    for idx, p1 in tqdm(enumerate(pred_list)) :\n",
    "\n",
    "        r1 = accuracy_score(y_val, p1)\n",
    "        r2 = precision_score(y_val, p1, average=average)\n",
    "        r3 = recall_score(y_val, p1, average=average)\n",
    "        r4 = f1_score(y_val, p1, average=average)\n",
    "    #     r5 = roc_auc_score(y_val, p1, average='macro')\n",
    "\n",
    "        dict1['accuracy'].append(r1)\n",
    "        dict1['precision'].append(r2)\n",
    "        dict1['recall'].append(r3)\n",
    "        dict1['f1'].append(r4)\n",
    "        # dict1['roc_auc'].append(r5)\n",
    "        dict1['name'].append(f'{y_target}-{model_name[idx]}')\n",
    "\n",
    "    # 시각화\n",
    "    df100 = pd.DataFrame(dict1)\n",
    "    df100.to_csv(f'../data/{y_target}_예측결과.csv', encoding='utf-8-sig')\n",
    "    df100.set_index('name', inplace=True)\n",
    "    df100.sort_values('f1', ascending=False, inplace=True)\n",
    "    return df100\n",
    "#     df100.plot.bar()\n",
    "#     plt.rcParams['font.family'] = 'AppleGothic'\n",
    "#     plt.savefig(f'{y_target}_모델예측성능_그래프.png')\n",
    "#     plt.show()\n",
    "    "
   ]
  },
  {
   "cell_type": "code",
   "execution_count": 23,
   "id": "2a543ec2",
   "metadata": {},
   "outputs": [],
   "source": [
    "def predict_X_Test (eval_, fit_result, X_test):\n",
    "    eval_.reset_index(inplace=True)\n",
    "    highest_f1_name = eval_.loc[eval_['f1'].idxmax()]['name'].split('-')[1]\n",
    "\n",
    "    if 'KNN' == highest_f1_name:\n",
    "        p = fit_result[0].predict(X_test)\n",
    "    elif 'LR' == highest_f1_name:\n",
    "        p = fit_result[1].predict(X_test)\n",
    "    elif 'DT' == highest_f1_name:\n",
    "        p = fit_result[2].predict(X_test)\n",
    "    elif 'RF' == highest_f1_name:\n",
    "        p = fit_result[3].predict(X_test)\n",
    "    elif 'Ada' == highest_f1_name:\n",
    "        p = fit_result[4].predict(X_test)\n",
    "    return p"
   ]
  },
  {
   "cell_type": "code",
   "execution_count": 24,
   "id": "dd47bdab",
   "metadata": {},
   "outputs": [
    {
     "data": {
      "text/plain": [
       "'최근구매채널'"
      ]
     },
     "execution_count": 24,
     "metadata": {},
     "output_type": "execute_result"
    }
   ],
   "source": [
    "NA_columns[0]"
   ]
  },
  {
   "cell_type": "markdown",
   "id": "53ba4ac2",
   "metadata": {},
   "source": [
    "## 결측치 적은 순으로 채우기"
   ]
  },
  {
   "cell_type": "code",
   "execution_count": null,
   "id": "242830c6",
   "metadata": {},
   "outputs": [],
   "source": [
    "while NA_columns:\n",
    "    print(NA_columns[0])\n",
    "    X_train, X_val, X_test, y_train, y_val, y_test = train_val_test_split(df, train_columns, NA_columns)\n",
    "    fit_ = train_fit(NA_columns[0], X_train, y_train)\n",
    "    predict_ = predict_val(fit_, X_val.values)\n",
    "\n",
    "    if NA_columns[0] in ['멤버십고객여부', '멤버십앱설치여부']:\n",
    "        eval_ = evaluate(predict_, NA_columns[0], y_val, 'binary') # macro\n",
    "    else:\n",
    "        eval_= evaluate(predict_, NA_columns[0], y_val, 'macro')\n",
    "\n",
    "    predict_y_ = predict_X_Test(eval_, fit_, X_test.values)\n",
    "    \n",
    "    index_ = pd.DataFrame(y_test.index)\n",
    "    index_.to_csv(f'../data/{NA_columns[0]}_missing_index.csv', encoding='utf-8-sig')\n",
    "    \n",
    "    df.loc[y_test.index, NA_columns[0]] = predict_y_\n",
    "\n",
    "    add = NA_columns.pop(0)\n",
    "    train_columns.append(add)"
   ]
  },
  {
   "cell_type": "code",
   "execution_count": null,
   "id": "a85d240a",
   "metadata": {},
   "outputs": [],
   "source": [
    "# df.to_csv('../data/final_df_m5_v2.csv', encoding='utf-8-sig')"
   ]
  },
  {
   "cell_type": "markdown",
   "id": "8489439b",
   "metadata": {},
   "source": [
    "## f1 기준으로 가장 높은 순으로 채우기"
   ]
  },
  {
   "cell_type": "code",
   "execution_count": 25,
   "id": "59507fac",
   "metadata": {},
   "outputs": [],
   "source": [
    "def train_val_test_split_one(df, train_columns, NA_columns):\n",
    "    # 원핫 인코딩\n",
    "    df_encoded = pd.get_dummies(df[train_columns])\n",
    "    \n",
    "    # train_columns 와 NA컬럼 중 하나를  (NA_coulmns[0]()) 합쳐준다.\n",
    "    # NA_columns에서 순차적으로 가장 맨 앞에 컬럼부터 예측\n",
    "    df_train_val = pd.concat([df_encoded, df[NA_columns]], axis = 1)\n",
    "\n",
    "    # NA가 있는 row만 test로 빼준다.\n",
    "    df_test = df_train_val[df_train_val.isnull().any(axis=1)]\n",
    "    y_test = df_test[NA_columns]\n",
    "    X_test = df_test.drop(['고객ID', '매출일자(배송완료일자)', NA_columns], axis =1)\n",
    "\n",
    "    # NA가 없는 데이터프레임\n",
    "    df_train_val = df_train_val.dropna()\n",
    "\n",
    "    # NA가 없는 데이터프레임에서 train, val을 나눈다. \n",
    "    # 어떤 알고리즘을 쓸지 알기 위해\n",
    "    y_train_val = df_train_val[NA_columns]\n",
    "    X_train_val = df_train_val.drop(['고객ID', '매출일자(배송완료일자)', NA_columns], axis =1)\n",
    "    X_train, X_val, y_train, y_val = train_test_split(X_train_val, y_train_val, test_size=0.3, random_state=42)\n",
    "    \n",
    "    return (X_train, X_val, X_test, y_train, y_val, y_test)"
   ]
  },
  {
   "cell_type": "code",
   "execution_count": 59,
   "id": "4eea998f",
   "metadata": {},
   "outputs": [],
   "source": [
    "def evaluate_one(pred_list, y_target, y_val, average, order):\n",
    "\n",
    "    # 평가\n",
    "    # 평가 결과를 담을 딕셔너리\n",
    "    dict1 = {\n",
    "        'order' : [],\n",
    "        'accuracy' : [],\n",
    "        'precision' : [],\n",
    "        'recall' : [],\n",
    "        'f1' : [],\n",
    "        # 'roc_auc' : [],\n",
    "        'name' : []\n",
    "    }\n",
    "    model_name = ['DT', 'RF', 'Ada', 'LR', 'GB']    \n",
    "    # 각 모델별 예측 결과를 하나씩 추출하여 평가한다.\n",
    "    for idx, p1 in tqdm(enumerate(pred_list)) :\n",
    "\n",
    "        r1 = accuracy_score(y_val, p1)\n",
    "        r2 = precision_score(y_val, p1, average=average)\n",
    "        r3 = recall_score(y_val, p1, average=average)\n",
    "        r4 = f1_score(y_val, p1, average=average)\n",
    "    #     r5 = roc_auc_score(y_val, p1, average='macro')\n",
    "\n",
    "        dict1['order'].append(order)\n",
    "        dict1['accuracy'].append(r1)\n",
    "        dict1['precision'].append(r2)\n",
    "        dict1['recall'].append(r3)\n",
    "        dict1['f1'].append(r4)\n",
    "        # dict1['roc_auc'].append(r5)\n",
    "        dict1['name'].append(f'{y_target}-{model_name[idx]}')\n",
    "\n",
    "    # 시각화\n",
    "    df100 = pd.DataFrame(dict1)\n",
    "    df100.to_csv(f'../data/{order}/예측결과_{order}_{y_target}.csv', encoding='utf-8-sig')\n",
    "    df100.set_index('name', inplace=True)\n",
    "    df100.sort_values('f1', ascending=False, inplace=True)\n",
    "    return df100\n",
    "#     df100.plot.bar()\n",
    "#     plt.rcParams['font.family'] = 'AppleGothic'\n",
    "#     plt.savefig(f'{y_target}_모델예측성능_그래프.png')\n",
    "#     plt.show()\n",
    "    "
   ]
  },
  {
   "cell_type": "code",
   "execution_count": 60,
   "id": "70f044e2",
   "metadata": {},
   "outputs": [],
   "source": [
    "def predict_X_Test_one(df, order_, train_columns):\n",
    "    \n",
    "    dfp = pd.read_csv(f'../data/{order_}/{order_}_evaluation.csv', encoding='utf-8-sig')\n",
    "\n",
    "\n",
    "    a = dfp.loc[dfp['f1'].idxmax()]['name']\n",
    "    missing_fill_col = a.split('-')[0]\n",
    "    missing_model = a.split('-')[1]\n",
    "\n",
    "    X_train, X_val, X_test, y_train, y_val, y_test = train_val_test_split_one(df, train_columns, missing_fill_col)\n",
    "\n",
    "\n",
    "    # 검증할 모델들 생성\n",
    "    def predict_X_Test_one(df, order_, train_columns):\n",
    "    \n",
    "    dfp = pd.read_csv(f'../data/{order_}/{order_}_evaluation.csv', encoding='utf-8-sig')\n",
    "\n",
    "\n",
    "    a = dfp.loc[dfp['f1'].idxmax()]['name']\n",
    "    missing_fill_col = a.split('-')[0]\n",
    "    missing_model = a.split('-')[1]\n",
    "\n",
    "    X_train, X_val, X_test, y_train, y_val, y_test = train_val_test_split_one(df, train_columns, missing_fill_col)\n",
    "\n",
    "    # 검증할 모델들 생성\n",
    "    model1 = DecisionTreeClassifier(random_state=1)\n",
    "    model2 = RandomForestClassifier(random_state=1)\n",
    "    model3 = AdaBoostClassifier(random_state=1)\n",
    "    model4 = LogisticRegression(random_state=1)\n",
    "    model5 = GradientBoostingClassifier(random_state=1)\n",
    "\n",
    "    model_list = [model1, model2, model3, model4, model5]\n",
    "\n",
    "\n",
    "\n",
    "    if 'KNN' == missing_model:\n",
    "        p = model_list[0].fit(X_train, y_train)\n",
    "        pre_y = p.predict(X_test)\n",
    "        df.loc[y_test.index, missing_fill_col] = pre_y\n",
    "\n",
    "    elif 'LR' == missing_model:\n",
    "        p = model_list[1].fit(X_train, y_train)\n",
    "        pre_y = p.predict(X_test)\n",
    "        df.loc[y_test.index, missing_fill_col] = pre_y\n",
    "\n",
    "    elif 'DT' == missing_model:\n",
    "        p = model_list[2].fit(X_train, y_train)\n",
    "        pre_y = p.predict(X_test)\n",
    "        df.loc[y_test.index, missing_fill_col] = pre_y\n",
    "\n",
    "    elif 'RF' == missing_model:\n",
    "        p = model_list[3].fit(X_train, y_train)\n",
    "        pre_y = p.predict(X_test)\n",
    "        df.loc[y_test.index, missing_fill_col] = pre_y\n",
    "\n",
    "    elif 'Ada' == missing_model:\n",
    "        p = model_list[4].fit(X_train, y_train)\n",
    "        pre_y = p.predict(X_test)\n",
    "        df.loc[y_test.index, missing_fill_col] = pre_y\n",
    "        \n",
    "    return df, missing_fill_col\n",
    "\n",
    "\n",
    "    if 'KNN' == missing_model:\n",
    "        p = model_list[0].fit(X_train, y_train)\n",
    "        pre_y = p.predict(X_test)\n",
    "        df.loc[y_test.index, missing_fill_col] = pre_y\n",
    "\n",
    "    elif 'LR' == missing_model:\n",
    "        p = model_list[1].fit(X_train, y_train)\n",
    "        pre_y = p.predict(X_test)\n",
    "        df.loc[y_test.index, missing_fill_col] = pre_y\n",
    "\n",
    "    elif 'DT' == missing_model:\n",
    "        p = model_list[2].fit(X_train, y_train)\n",
    "        pre_y = p.predict(X_test)\n",
    "        df.loc[y_test.index, missing_fill_col] = pre_y\n",
    "\n",
    "    elif 'RF' == missing_model:\n",
    "        p = model_list[3].fit(X_train, y_train)\n",
    "        pre_y = p.predict(X_test)\n",
    "        df.loc[y_test.index, missing_fill_col] = pre_y\n",
    "\n",
    "    elif 'Ada' == missing_model:\n",
    "        p = model_list[4].fit(X_train, y_train)\n",
    "        pre_y = p.predict(X_test)\n",
    "        df.loc[y_test.index, missing_fill_col] = pre_y\n",
    "        \n",
    "    return df, missing_fill_col"
   ]
  },
  {
   "cell_type": "markdown",
   "id": "8848c704",
   "metadata": {},
   "source": [
    "## 첫번째 결측치 컬럼 추가 : 멤버십앱설치여부"
   ]
  },
  {
   "cell_type": "code",
   "execution_count": null,
   "id": "c613e427",
   "metadata": {},
   "outputs": [],
   "source": [
    "dict2 = {\n",
    "        'order' : [],\n",
    "        'accuracy' : [],\n",
    "        'precision' : [],\n",
    "        'recall' : [],\n",
    "        'f1' : [],\n",
    "        # 'roc_auc' : [],\n",
    "        'name' : []\n",
    "    }"
   ]
  },
  {
   "cell_type": "code",
   "execution_count": null,
   "id": "95a1f97b",
   "metadata": {},
   "outputs": [],
   "source": [
    "order = 'first'\n",
    "for i in range(len(NA_columns)):\n",
    "    fill_col = NA_columns[i]\n",
    "    X_train, X_val, X_test, y_train, y_val, y_test = train_val_test_split_one(df, train_columns, fill_col)\n",
    "    fit_ = train_fit(fill_col, X_train, y_train)\n",
    "    predict_ = predict_val(fit_, X_val.values)\n",
    "\n",
    "    if fill_col in ['멤버십고객여부', '멤버십앱설치여부']:\n",
    "        eval_ = evaluate_one(predict_, fill_col, y_val, 'binary', order) # macro\n",
    "    else:\n",
    "        eval_= evaluate_one(predict_, fill_col, y_val, 'macro', order)\n",
    "\n",
    "    eval_.reset_index(inplace=True)\n",
    "    dict2['order'].append(eval_.loc[eval_['f1'].idxmax()]['order'])\n",
    "    dict2['accuracy'].append(eval_.loc[eval_['f1'].idxmax()]['accuracy'])\n",
    "    dict2['precision'].append(eval_.loc[eval_['f1'].idxmax()]['precision'])\n",
    "    dict2['recall'].append(eval_.loc[eval_['f1'].idxmax()]['recall'])\n",
    "    dict2['f1'].append(eval_.loc[eval_['f1'].idxmax()]['f1'])\n",
    "    # dict1['roc_auc'].append(r5)\n",
    "    dict2['name'].append(eval_.loc[eval_['f1'].idxmax()]['name'])\n",
    "\n",
    "df200 = pd.DataFrame(dict2)\n",
    "# df200.to_csv(f'../data/{order}/{order}_evaluation.csv', encoding='utf-8-sig')\n",
    "    "
   ]
  },
  {
   "cell_type": "code",
   "execution_count": null,
   "id": "a5b06532",
   "metadata": {},
   "outputs": [],
   "source": [
    "predict_X_Test_one(df, order, train_columns)"
   ]
  },
  {
   "cell_type": "markdown",
   "id": "f47d2be6",
   "metadata": {},
   "source": [
    "### train_columns, NA_columns 업데이트"
   ]
  },
  {
   "cell_type": "code",
   "execution_count": null,
   "id": "e84c85fc",
   "metadata": {},
   "outputs": [],
   "source": [
    "# train_columns.append(missing_fill_col)\n",
    "# NA_columns.remove(missing_fill_col)"
   ]
  },
  {
   "cell_type": "code",
   "execution_count": 61,
   "id": "daba485c",
   "metadata": {},
   "outputs": [],
   "source": [
    "def auto_fill_missingcol(order, NA_columns):\n",
    "    dict2 = {\n",
    "            'order' : [],\n",
    "            'accuracy' : [],\n",
    "            'precision' : [],\n",
    "            'recall' : [],\n",
    "            'f1' : [],\n",
    "            # 'roc_auc' : [],\n",
    "            'name' : []\n",
    "        }\n",
    "\n",
    "    for i in range(len(NA_columns)):\n",
    "        fill_col = NA_columns[i]\n",
    "        print(f'--------{fill_col}--------')\n",
    "        X_train, X_val, X_test, y_train, y_val, y_test = train_val_test_split_one(df, train_columns, fill_col)\n",
    "        fit_ = train_fit(fill_col, X_train, y_train)\n",
    "        predict_ = predict_val(fit_, X_val.values)\n",
    "\n",
    "        if fill_col in ['멤버십고객여부', '멤버십앱설치여부']:\n",
    "            eval_ = evaluate_one(predict_, fill_col, y_val, 'binary', order) # macro\n",
    "        else:\n",
    "            eval_= evaluate_one(predict_, fill_col, y_val, 'macro', order)\n",
    "\n",
    "        eval_.reset_index(inplace=True)\n",
    "        dict2['order'].append(eval_.loc[eval_['f1'].idxmax()]['order'])\n",
    "        dict2['accuracy'].append(eval_.loc[eval_['f1'].idxmax()]['accuracy'])\n",
    "        dict2['precision'].append(eval_.loc[eval_['f1'].idxmax()]['precision'])\n",
    "        dict2['recall'].append(eval_.loc[eval_['f1'].idxmax()]['recall'])\n",
    "        dict2['f1'].append(eval_.loc[eval_['f1'].idxmax()]['f1'])\n",
    "        # dict1['roc_auc'].append(r5)\n",
    "        dict2['name'].append(eval_.loc[eval_['f1'].idxmax()]['name'])\n",
    "\n",
    "    df200 = pd.DataFrame(dict2)\n",
    "    df200.to_csv(f'../data/{order}/{order}_evaluation.csv', encoding='utf-8-sig')\n"
   ]
  },
  {
   "cell_type": "code",
   "execution_count": 62,
   "id": "b909c05f",
   "metadata": {},
   "outputs": [],
   "source": [
    "order = ['1st_', '2nd_', '3rd_', '4th_', '5th_', '6th_', '7th_', '8th_', '9th_', '10th_']"
   ]
  },
  {
   "cell_type": "code",
   "execution_count": null,
   "id": "984f6db0",
   "metadata": {},
   "outputs": [
    {
     "data": {
      "application/vnd.jupyter.widget-view+json": {
       "model_id": "91fe9c9d89694014afd3a88004bc1a45",
       "version_major": 2,
       "version_minor": 0
      },
      "text/plain": [
       "  0%|          | 0/10 [00:00<?, ?it/s]"
      ]
     },
     "metadata": {},
     "output_type": "display_data"
    },
    {
     "name": "stdout",
     "output_type": "stream",
     "text": [
      "==========1st_==========\n",
      "--------최근구매채널--------\n"
     ]
    },
    {
     "data": {
      "application/vnd.jupyter.widget-view+json": {
       "model_id": "2f7445d84e324de3ace219b454a8fe17",
       "version_major": 2,
       "version_minor": 0
      },
      "text/plain": [
       "  0%|          | 0/4 [00:00<?, ?it/s]"
      ]
     },
     "metadata": {},
     "output_type": "display_data"
    },
    {
     "name": "stdout",
     "output_type": "stream",
     "text": [
      "===Training data ... KNeighborsClassifier()===\n",
      "===Training data ... LogisticRegression(random_state=1)===\n",
      "===Training data ... DecisionTreeClassifier(random_state=1)===\n",
      "===Training data ... RandomForestClassifier(random_state=1)===\n"
     ]
    },
    {
     "data": {
      "application/vnd.jupyter.widget-view+json": {
       "model_id": "c9ab22b881b94492b51bbf55c1089acd",
       "version_major": 2,
       "version_minor": 0
      },
      "text/plain": [
       "  0%|          | 0/4 [00:00<?, ?it/s]"
      ]
     },
     "metadata": {},
     "output_type": "display_data"
    },
    {
     "data": {
      "application/vnd.jupyter.widget-view+json": {
       "model_id": "f9dee1d5c5d44f7b86e4f5c35dc19526",
       "version_major": 2,
       "version_minor": 0
      },
      "text/plain": [
       "0it [00:00, ?it/s]"
      ]
     },
     "metadata": {},
     "output_type": "display_data"
    },
    {
     "name": "stdout",
     "output_type": "stream",
     "text": [
      "--------금액--------\n"
     ]
    },
    {
     "data": {
      "application/vnd.jupyter.widget-view+json": {
       "model_id": "d8d45e869a3043ea92d4938412353826",
       "version_major": 2,
       "version_minor": 0
      },
      "text/plain": [
       "  0%|          | 0/4 [00:00<?, ?it/s]"
      ]
     },
     "metadata": {},
     "output_type": "display_data"
    },
    {
     "name": "stdout",
     "output_type": "stream",
     "text": [
      "===Training data ... KNeighborsClassifier()===\n",
      "===Training data ... LogisticRegression(random_state=1)===\n",
      "===Training data ... DecisionTreeClassifier(random_state=1)===\n",
      "===Training data ... RandomForestClassifier(random_state=1)===\n"
     ]
    },
    {
     "data": {
      "application/vnd.jupyter.widget-view+json": {
       "model_id": "d712b70aa9464d32810d5b69909cd302",
       "version_major": 2,
       "version_minor": 0
      },
      "text/plain": [
       "  0%|          | 0/4 [00:00<?, ?it/s]"
      ]
     },
     "metadata": {},
     "output_type": "display_data"
    },
    {
     "data": {
      "application/vnd.jupyter.widget-view+json": {
       "model_id": "467cc11194044c57a4c3ad7ce380527c",
       "version_major": 2,
       "version_minor": 0
      },
      "text/plain": [
       "0it [00:00, ?it/s]"
      ]
     },
     "metadata": {},
     "output_type": "display_data"
    },
    {
     "name": "stdout",
     "output_type": "stream",
     "text": [
      "--------멤버십고객여부--------\n"
     ]
    },
    {
     "data": {
      "application/vnd.jupyter.widget-view+json": {
       "model_id": "ffab75a40b5445d79b0a291b6cc4b923",
       "version_major": 2,
       "version_minor": 0
      },
      "text/plain": [
       "  0%|          | 0/4 [00:00<?, ?it/s]"
      ]
     },
     "metadata": {},
     "output_type": "display_data"
    },
    {
     "name": "stdout",
     "output_type": "stream",
     "text": [
      "===Training data ... KNeighborsClassifier()===\n",
      "===Training data ... LogisticRegression(random_state=1)===\n",
      "===Training data ... DecisionTreeClassifier(random_state=1)===\n",
      "===Training data ... RandomForestClassifier(random_state=1)===\n"
     ]
    },
    {
     "data": {
      "application/vnd.jupyter.widget-view+json": {
       "model_id": "0efeeff53e254e7688e00129323dcb41",
       "version_major": 2,
       "version_minor": 0
      },
      "text/plain": [
       "  0%|          | 0/4 [00:00<?, ?it/s]"
      ]
     },
     "metadata": {},
     "output_type": "display_data"
    },
    {
     "data": {
      "application/vnd.jupyter.widget-view+json": {
       "model_id": "af41d162d4044d8eb89728f03733fd0e",
       "version_major": 2,
       "version_minor": 0
      },
      "text/plain": [
       "0it [00:00, ?it/s]"
      ]
     },
     "metadata": {},
     "output_type": "display_data"
    },
    {
     "name": "stdout",
     "output_type": "stream",
     "text": [
      "--------멤버십앱설치여부--------\n"
     ]
    },
    {
     "data": {
      "application/vnd.jupyter.widget-view+json": {
       "model_id": "d33be9194a0a4f398d33f0b80f3814bf",
       "version_major": 2,
       "version_minor": 0
      },
      "text/plain": [
       "  0%|          | 0/4 [00:00<?, ?it/s]"
      ]
     },
     "metadata": {},
     "output_type": "display_data"
    },
    {
     "name": "stdout",
     "output_type": "stream",
     "text": [
      "===Training data ... KNeighborsClassifier()===\n",
      "===Training data ... LogisticRegression(random_state=1)===\n",
      "===Training data ... DecisionTreeClassifier(random_state=1)===\n",
      "===Training data ... RandomForestClassifier(random_state=1)===\n"
     ]
    },
    {
     "data": {
      "application/vnd.jupyter.widget-view+json": {
       "model_id": "3fdc778faa134fa39bb929e5b4ed7f18",
       "version_major": 2,
       "version_minor": 0
      },
      "text/plain": [
       "  0%|          | 0/4 [00:00<?, ?it/s]"
      ]
     },
     "metadata": {},
     "output_type": "display_data"
    },
    {
     "data": {
      "application/vnd.jupyter.widget-view+json": {
       "model_id": "d1c37cb328ad460db75c9a8061dfd030",
       "version_major": 2,
       "version_minor": 0
      },
      "text/plain": [
       "0it [00:00, ?it/s]"
      ]
     },
     "metadata": {},
     "output_type": "display_data"
    },
    {
     "name": "stdout",
     "output_type": "stream",
     "text": [
      "--------멤버십가입경로--------\n"
     ]
    },
    {
     "data": {
      "application/vnd.jupyter.widget-view+json": {
       "model_id": "2bba0e0df64d4c78beed454dcb17941d",
       "version_major": 2,
       "version_minor": 0
      },
      "text/plain": [
       "  0%|          | 0/4 [00:00<?, ?it/s]"
      ]
     },
     "metadata": {},
     "output_type": "display_data"
    },
    {
     "name": "stdout",
     "output_type": "stream",
     "text": [
      "===Training data ... KNeighborsClassifier()===\n",
      "===Training data ... LogisticRegression(random_state=1)===\n",
      "===Training data ... DecisionTreeClassifier(random_state=1)===\n",
      "===Training data ... RandomForestClassifier(random_state=1)===\n"
     ]
    },
    {
     "data": {
      "application/vnd.jupyter.widget-view+json": {
       "model_id": "59f264e4e12043c79918f5df8b69636f",
       "version_major": 2,
       "version_minor": 0
      },
      "text/plain": [
       "  0%|          | 0/4 [00:00<?, ?it/s]"
      ]
     },
     "metadata": {},
     "output_type": "display_data"
    },
    {
     "data": {
      "application/vnd.jupyter.widget-view+json": {
       "model_id": "d3fdb5e511ad436790da25bd2f3259f3",
       "version_major": 2,
       "version_minor": 0
      },
      "text/plain": [
       "0it [00:00, ?it/s]"
      ]
     },
     "metadata": {},
     "output_type": "display_data"
    },
    {
     "name": "stdout",
     "output_type": "stream",
     "text": [
      "--------거주광역명--------\n"
     ]
    },
    {
     "data": {
      "application/vnd.jupyter.widget-view+json": {
       "model_id": "9ad8c110441943b89ef8c005edecde8f",
       "version_major": 2,
       "version_minor": 0
      },
      "text/plain": [
       "  0%|          | 0/4 [00:00<?, ?it/s]"
      ]
     },
     "metadata": {},
     "output_type": "display_data"
    },
    {
     "name": "stdout",
     "output_type": "stream",
     "text": [
      "===Training data ... KNeighborsClassifier()===\n",
      "===Training data ... LogisticRegression(random_state=1)===\n",
      "===Training data ... DecisionTreeClassifier(random_state=1)===\n",
      "===Training data ... RandomForestClassifier(random_state=1)===\n"
     ]
    }
   ],
   "source": [
    "for orde in tqdm(order):\n",
    "    print(f'=========={orde}==========')\n",
    "    auto_fill_missingcol(orde, NA_columns)\n",
    "    df, mfc = predict_X_Test_one(df, orde, train_columns)\n",
    "    train_columns.append(mfc)\n",
    "    NA_columns.remove(mfc)\n",
    "    print('=============')\n",
    "    print(df.isnull().sum())\n",
    "    print(f'train_columns: {train_columns}')\n",
    "    print(f'NA_columns: {NA_columns}')\n",
    "    print(f'채운 컬럼 : {mfc}')"
   ]
  },
  {
   "cell_type": "code",
   "execution_count": null,
   "id": "2893c0fa",
   "metadata": {},
   "outputs": [],
   "source": [
    "df, mfc = predict_X_Test_one(df, orde, train_columns)"
   ]
  },
  {
   "cell_type": "code",
   "execution_count": null,
   "id": "2ab7fd0f",
   "metadata": {},
   "outputs": [],
   "source": [
    "# 파일 저장 (머신러닝으로 학습하고 예측한 결측치)\n",
    "# df.to_csv(../data/결측치_output/결측치완료_df_m5_v2.csv)"
   ]
  },
  {
   "cell_type": "code",
   "execution_count": null,
   "id": "51331db7",
   "metadata": {},
   "outputs": [],
   "source": [
    "train_columns.append(mfc)\n",
    "NA_columns.remove(mfc)\n",
    "\n",
    "print(df.isnull().sum())\n",
    "print(f'train_columns: {train_columns}')\n",
    "print(f'NA_columns: {NA_columns}')\n",
    "print(f'채운 컬럼 : {mfc}')"
   ]
  }
 ],
 "metadata": {
  "kernelspec": {
   "display_name": "Python 3 (ipykernel)",
   "language": "python",
   "name": "python3"
  },
  "language_info": {
   "codemirror_mode": {
    "name": "ipython",
    "version": 3
   },
   "file_extension": ".py",
   "mimetype": "text/x-python",
   "name": "python",
   "nbconvert_exporter": "python",
   "pygments_lexer": "ipython3",
   "version": "3.11.4"
  }
 },
 "nbformat": 4,
 "nbformat_minor": 5
}
