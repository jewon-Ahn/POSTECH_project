{
 "cells": [
  {
   "cell_type": "markdown",
   "id": "854ffc5a",
   "metadata": {},
   "source": [
    "# 5. 결측치 방법론 중 각 카테고리에 맞는 방법론 찾는 코드\n",
    "\n",
    "- `../data/카테고리이름/` 위치에 결측치처리한 데이터 파일 있음\n",
    "- 파일 저장위치 : 아래 코드 실행하면 각 카테고리별 결측치 방법 모델링 결과가 `../data/evaluation/` 에 저장\n",
    "- 결과 확인하고 카테고리에 맞는 결측치 방법론 선택 (최종 : missing값 대체 선택)\n",
    "\n",
    "- 연관성 뒤에 나오는 Label Encoding 부분 부터 실행\n",
    "\n",
    "- 방법론 결정 후 `6.1_LG_고객데이터_Calibration_XAI.ipynb` 파일에서 카테고리별 모델링 예측 결과 확인 가능 + calibration 결과 포함"
   ]
  },
  {
   "cell_type": "code",
   "execution_count": null,
   "id": "64cb9647",
   "metadata": {},
   "outputs": [],
   "source": [
    "import os\n",
    "import pandas as pd\n",
    "from tqdm.auto import tqdm\n",
    "from datetime import datetime\n",
    "from sklearn.model_selection import train_test_split\n",
    "\n",
    "# 분류 알고리즘\n",
    "from sklearn.linear_model import LogisticRegression\n",
    "from sklearn.svm import SVC\n",
    "from sklearn.neighbors import KNeighborsClassifier\n",
    "from sklearn.tree import DecisionTreeClassifier\n",
    "from sklearn.ensemble import RandomForestClassifier\n",
    "from sklearn.ensemble import AdaBoostClassifier\n",
    "from sklearn.ensemble import GradientBoostingClassifier\n",
    "# from lightgbm import LGBMClassifier\n",
    "# from xgboost import XGBClassifier\n",
    "from sklearn.ensemble import VotingClassifier\n",
    "\n",
    "# 분류용 평가 함수\n",
    "from sklearn.metrics import accuracy_score\n",
    "from sklearn.metrics import precision_score\n",
    "from sklearn.metrics import recall_score\n",
    "from sklearn.metrics import f1_score\n",
    "from sklearn.metrics import roc_auc_score\n",
    "\n",
    "from sklearn.preprocessing import StandardScaler\n",
    "\n",
    "# import joblib\n",
    "# import pickle\n",
    "pd.set_option('display.max_columns', None)"
   ]
  },
  {
   "cell_type": "code",
   "execution_count": null,
   "id": "ba0b8fe0",
   "metadata": {},
   "outputs": [],
   "source": [
    "# !pip install xgboost\n",
    "# !pip install libomp # didn't work\n",
    "# !conda install lightgbm --y # worked"
   ]
  },
  {
   "cell_type": "markdown",
   "id": "451e872b",
   "metadata": {},
   "source": [
    "## multicollinearity"
   ]
  },
  {
   "cell_type": "code",
   "execution_count": null,
   "id": "d7842651",
   "metadata": {},
   "outputs": [],
   "source": [
    "multi_df = air_df[['고객ID', '멤버십고객여부', '케어솔루션품목수', '케어십가입여부', '케어십품목수', '최근3년구매금액',\n",
    "       '최근구매채널', 'Only&Best품목수', '건강관리가전품목수', '연령대', '주거형태', '아파트시세', '아파트평형대',\n",
    "       '포인트사용빈도', '보유멤버십포인트', '멤버십가입경로', '제휴카드보유여부', '프리미엄카드보유여부', '제휴가입여부',\n",
    "       '멤버십앱설치여부', '거주광역명', '거주시군구명', 'label_y', '총구매빈도', '최대구매가격대',\n",
    "       '최근매출일로부터경과일', '주구매제품카테고리']]"
   ]
  },
  {
   "cell_type": "code",
   "execution_count": null,
   "id": "f623dff5",
   "metadata": {},
   "outputs": [],
   "source": [
    "import pandas as pd\n",
    "import numpy as np\n",
    "import seaborn as sns\n",
    "import matplotlib.pyplot as plt\n",
    "# from scipy.stats import chi2_contingency\n",
    "from tqdm import tqdm\n",
    "\n",
    "# Cramér's V 통계량을 계산하는 함수\n",
    "def cramers_v(x, y):\n",
    "    confusion_matrix = pd.crosstab(x, y)\n",
    "    chi2 = chi2_contingency(confusion_matrix)[0]\n",
    "    n = confusion_matrix.sum().sum()\n",
    "    phi2 = chi2 / n\n",
    "    r, k = confusion_matrix.shape\n",
    "    phi2_corr = max(0, phi2 - ((k-1)*(r-1))/(n-1))\n",
    "    r_corr = r - ((r-1)**2)/(n-1)\n",
    "    k_corr = k - ((k-1)**2)/(n-1)\n",
    "    return np.sqrt(phi2_corr / min((k_corr-1), (r_corr-1)))\n",
    "\n",
    "# 데이터프레임 로드 (여기서는 예시로 'df'라고 가정)\n",
    "# df = pd.read_csv('your_file.csv')\n",
    "\n",
    "# 범주형 변수들의 목록\n",
    "categorical_columns = multi_df.select_dtypes(include=['object', 'category']).columns\n",
    "\n",
    "# 모든 범주형 변수 쌍에 대한 Cramér's V 계산\n",
    "cramers_v_matrix = pd.DataFrame(index=categorical_columns, columns=categorical_columns, dtype=float)\n",
    "for col in tqdm(categorical_columns):\n",
    "    for row in categorical_columns:\n",
    "        cramers_v_matrix.at[col, row] = cramers_v(multi_df[col], multi_df[row])\n"
   ]
  },
  {
   "cell_type": "code",
   "execution_count": null,
   "id": "ee526a81",
   "metadata": {},
   "outputs": [],
   "source": [
    "cramers_v_matrix"
   ]
  },
  {
   "cell_type": "code",
   "execution_count": null,
   "id": "bd3e8ad7",
   "metadata": {},
   "outputs": [],
   "source": [
    "# Cramér's V 행렬 시각화\n",
    "plt.rcParams['font.family'] = 'AppleGothic'\n",
    "plt.figure(figsize=(10, 8))\n",
    "sns.heatmap(cramers_v_matrix, annot=True, fmt=\".2f\", cmap=\"coolwarm\")\n",
    "plt.title(\"Cramér's V between Categorical Variables\")\n",
    "plt.show() "
   ]
  },
  {
   "cell_type": "code",
   "execution_count": null,
   "id": "8de34aa2",
   "metadata": {},
   "outputs": [],
   "source": [
    "# # 높은 연관성을 가진 변수 쌍 식별\n",
    "# highly_correlated_pairs = set()\n",
    "# threshold = 0.9  # 임계값 설정\n",
    "# for col in cramers_v_matrix.columns:\n",
    "#     for row in cramers_v_matrix.index:\n",
    "#         if (cramers_v_matrix.at[col, row] > threshold) and (col != row):\n",
    "#             highly_correlated_pairs.add(frozenset((col, row)))\n",
    "\n",
    "# # 연관성이 높은 변수 중 하나를 제거\n",
    "# # 이 부분은 연관성이 높은 변수 쌍 중 어떤 변수를 제거할지 결정하는 로직이 필요합니다.\n",
    "# # 예를 들어, 각 쌍에서 임의로 하나를 제거할 수 있습니다.\n",
    "# for pair in highly_correlated_pairs:\n",
    "#     pair = list(pair)\n",
    "#     df_merge.drop(pair[1], axis=1, inplace=True)"
   ]
  },
  {
   "cell_type": "markdown",
   "id": "02c85722",
   "metadata": {},
   "source": [
    "## 연속형 multicollinearity"
   ]
  },
  {
   "cell_type": "code",
   "execution_count": null,
   "id": "df89b4f0",
   "metadata": {},
   "outputs": [],
   "source": [
    "import pandas as pd\n",
    "# import statsmodels.api as sm\n",
    "\n",
    "\n",
    "def multicol_continue(df):\n",
    "    # 독립 변수만 선택합니다.\n",
    "    X = df.select_dtypes(include=['number'])  # 숫자형 변수만 선택\n",
    "\n",
    "    # 각 독립 변수에 대한 VIF 계산\n",
    "    vif_data = pd.DataFrame()\n",
    "    vif_data[\"Variable\"] = X.columns\n",
    "    vif_data[\"VIF\"] = [1 / (1 - sm.OLS(X[col], X.drop(col, axis=1)).fit().rsquared) for col in X.columns]\n",
    "\n",
    "    return(vif_data)\n"
   ]
  },
  {
   "cell_type": "code",
   "execution_count": null,
   "id": "8fdbeaf9",
   "metadata": {},
   "outputs": [],
   "source": [
    "multi_df = air_df[['고객ID', '멤버십고객여부', '케어솔루션품목수', '케어십가입여부', '케어십품목수', '최근3년구매금액',\n",
    "       '최근구매채널', 'Only&Best품목수', '건강관리가전품목수', '연령대', '주거형태', '아파트시세', '아파트평형대',\n",
    "       '포인트사용빈도', '보유멤버십포인트', '멤버십가입경로', '제휴카드보유여부', '프리미엄카드보유여부', '제휴가입여부',\n",
    "       '멤버십앱설치여부', '거주광역명', '거주시군구명', 'label_y', '총구매빈도', '최대구매가격대',\n",
    "       '최근매출일로부터경과일', '주구매제품카테고리']]"
   ]
  },
  {
   "cell_type": "code",
   "execution_count": null,
   "id": "f3bc8cc6",
   "metadata": {},
   "outputs": [],
   "source": [
    "multicol_continue(multi_df)"
   ]
  },
  {
   "cell_type": "code",
   "execution_count": null,
   "id": "a968e9f5",
   "metadata": {},
   "outputs": [],
   "source": [
    "# VIF 보고 5 이상인 경우 제거 \n",
    "# 제거한 컬럼 순서 (총구매빈도 -> 최근구매채널 -> 케어십가입여부)"
   ]
  },
  {
   "cell_type": "code",
   "execution_count": null,
   "id": "9563a466",
   "metadata": {},
   "outputs": [],
   "source": [
    "# multi_df.drop('케어십가입여부', axis = 1, inplace = True)"
   ]
  },
  {
   "cell_type": "code",
   "execution_count": null,
   "id": "43c72bc6",
   "metadata": {},
   "outputs": [],
   "source": []
  },
  {
   "cell_type": "markdown",
   "id": "d31f08d3",
   "metadata": {},
   "source": [
    "## Label Encoding"
   ]
  },
  {
   "cell_type": "code",
   "execution_count": 2,
   "id": "97cb7e67",
   "metadata": {},
   "outputs": [],
   "source": [
    "# list(air_df['보유멤버십포인트'].unique())\n",
    "\n",
    "label_list1 = ['0',  '1만↓', '3만↓', '5만↓', '10만↓','20만↓', '30만↓', '30만↑']\n",
    "\n",
    "label_dict1 = {value: index for index, value in enumerate(label_list1)}"
   ]
  },
  {
   "cell_type": "code",
   "execution_count": 3,
   "id": "68663102",
   "metadata": {},
   "outputs": [],
   "source": [
    "# list(air_df['최근3년구매금액'].unique())\n",
    "label_list2 = ['0원', '1KK미만', '1KK이상3KK미만','3KK이상5KK미만',  '5KK이상10KK미만','10KK이상15KK미만',\n",
    " '15KK이상20KK미만','20KK이상25KK미만','25KK이상30KK미만', '30KK↑']\n",
    "\n",
    "label_dict2 = {value: index for index, value in enumerate(label_list2)}"
   ]
  },
  {
   "cell_type": "code",
   "execution_count": 4,
   "id": "f84c7452",
   "metadata": {},
   "outputs": [],
   "source": [
    "# list(air_df['포인트사용빈도'].unique())\n",
    "label_list3 = ['미사용','1~2회', '3~4회', '5~6회','7~8회','9~10회','11~12회','13~14회','15~16회','17~18회','19~20회', '20회↑']\n",
    "\n",
    "label_dict3 = {value: index for index, value in enumerate(label_list3)}"
   ]
  },
  {
   "cell_type": "code",
   "execution_count": 5,
   "id": "49c251b9",
   "metadata": {},
   "outputs": [],
   "source": [
    "# list(air_df['아파트평형대'].unique())\n",
    "label_list4 = ['10평대↓', '10평대', '20평대', '30평대', '40평대', '50평대', '60평대','70평대↑']\n",
    "\n",
    "label_dict4 = {value: index for index, value in enumerate(label_list4)}"
   ]
  },
  {
   "cell_type": "code",
   "execution_count": 6,
   "id": "6cd0868c",
   "metadata": {},
   "outputs": [],
   "source": [
    "# list(air_df['아파트시세'].unique())\n",
    "label_list5 = [ '1억↓', '1~2억', '3~4억', '5~6억', '7~8억', '9~10억', '11~15억', '16~29억','30억↑']\n",
    "\n",
    "label_dict5 = {value: index for index, value in enumerate(label_list5)}\n"
   ]
  },
  {
   "cell_type": "code",
   "execution_count": 7,
   "id": "e959a1f6",
   "metadata": {},
   "outputs": [],
   "source": [
    "# air_df.isnull().sum()"
   ]
  },
  {
   "cell_type": "code",
   "execution_count": 8,
   "id": "035e21c1",
   "metadata": {},
   "outputs": [],
   "source": [
    "# list(air_df['금액'].unique())\n",
    "label_list6 = ['', '0만원 이상 100만원 이하', '100만원 이상 200만원 이하', '200만원 이상 300만원 이하', \n",
    "               '300만원 이상 400만원 이하', '400만원 이상 500만원 이하', '500만원 이상 600만원 이하',\n",
    "       '600만원 이상 700만원 이하', '700만원 이상 800만원 이하', '800만원 이상 900만원 이하', '900만원 이상 1000만원 이하', '1000만원 이상']\n",
    "\n",
    "label_dict6 = {value: index for index, value in enumerate(label_list6)}"
   ]
  },
  {
   "cell_type": "code",
   "execution_count": 9,
   "id": "a3e6c26c",
   "metadata": {},
   "outputs": [],
   "source": [
    "# list(air_df['월'].unique())\n",
    "label_list7 = ['', 1, 2, 3, 4, 5, 6, 7, 8, 9, 10, 11, 12]\n",
    "\n",
    "label_dict7 = {value: index for index, value in enumerate(label_list7)}"
   ]
  },
  {
   "cell_type": "code",
   "execution_count": 10,
   "id": "d9280742",
   "metadata": {},
   "outputs": [],
   "source": [
    "# list(health_df['연령대'].unique())\n",
    "label_list8 = ['10대', '20대', '30대', '40대', '50대', '60대(60~64)', '60대(65~69)', '70대', '80대↑']\n",
    "\n",
    "label_dict8 = {value: index for index, value in enumerate(label_list8)}"
   ]
  },
  {
   "cell_type": "code",
   "execution_count": 11,
   "id": "b3033459",
   "metadata": {},
   "outputs": [],
   "source": [
    "label_list14 = ['Missing', '10평대↓', '10평대', '20평대', '30평대', '40평대', '50평대', '60평대','70평대↑']\n",
    "label_dict14 = {value: index for index, value in enumerate(label_list14)}\n",
    "\n",
    "label_list15 = [ 'Missing', '1억↓', '1~2억', '3~4억', '5~6억', '7~8억', '9~10억', '11~15억', '16~29억','30억↑']\n",
    "label_dict15 = {value: index for index, value in enumerate(label_list15)}\n",
    "\n",
    "label_list16 = ['Missing', '','0만원 이상 100만원 이하', '100만원 이상 200만원 이하', '200만원 이상 300만원 이하', \n",
    "               '300만원 이상 400만원 이하', '400만원 이상 500만원 이하', '500만원 이상 600만원 이하',\n",
    "       '600만원 이상 700만원 이하', '700만원 이상 800만원 이하', '800만원 이상 900만원 이하', '900만원 이상 1000만원 이하', '1000만원 이상']\n",
    "\n",
    "label_dict16 = {value: index for index, value in enumerate(label_list16)}\n",
    "\n",
    "\n",
    "label_list18 = ['Missing', '10대', '20대', '30대', '40대', '50대', '60대(60~64)', '60대(65~69)', '70대', '80대↑']\n",
    "label_dict18 = {value: index for index, value in enumerate(label_list18)}"
   ]
  },
  {
   "cell_type": "code",
   "execution_count": 12,
   "id": "f054ec02",
   "metadata": {},
   "outputs": [],
   "source": [
    "def mapping_missing(df):\n",
    "    for i in range(1, 9):\n",
    "        if f'금액_{i}' in df.columns:\n",
    "            df[f'금액_{i}'] = df[f'금액_{i}'].map(label_dict16)\n",
    "\n",
    "    for i in range(1, 9):\n",
    "        if f'월_{i}' in df.columns:\n",
    "            df[f'월_{i}'] = df[f'월_{i}'].map(label_dict7)\n",
    "\n",
    "    df['보유멤버십포인트'] = df['보유멤버십포인트'].map(label_dict1)\n",
    "    df['최근3년구매금액'] = df['최근3년구매금액'].map(label_dict2)\n",
    "    df['포인트사용빈도'] = df['포인트사용빈도'].map(label_dict3)\n",
    "    df['아파트평형대'] = df['아파트평형대'].map(label_dict14)\n",
    "    df['아파트시세'] = df['아파트시세'].map(label_dict15)\n",
    "    df['연령대'] = df['연령대'].map(label_dict18)\n",
    "    return df\n",
    "\n",
    "def mapping_(df):\n",
    "    for i in range(1, 9):\n",
    "        if f'금액_{i}' in df.columns:\n",
    "            df[f'금액_{i}'] = df[f'금액_{i}'].map(label_dict6)\n",
    "\n",
    "    for i in range(1, 9):\n",
    "        if f'월_{i}' in df.columns:\n",
    "            df[f'월_{i}'] = df[f'월_{i}'].map(label_dict7)\n",
    "\n",
    "    df['보유멤버십포인트'] = df['보유멤버십포인트'].map(label_dict1)\n",
    "    df['최근3년구매금액'] = df['최근3년구매금액'].map(label_dict2)\n",
    "    df['포인트사용빈도'] = df['포인트사용빈도'].map(label_dict3)\n",
    "    df['아파트평형대'] = df['아파트평형대'].map(label_dict4)\n",
    "    df['아파트시세'] = df['아파트시세'].map(label_dict5)\n",
    "    df['연령대'] = df['연령대'].map(label_dict8)\n",
    "    return df\n",
    "\n",
    "def mapping_etc(df):\n",
    "    for i in range(1, 4):\n",
    "        if f'금액_{i}' in df.columns:\n",
    "            df[f'금액_{i}'] = df[f'금액_{i}'].map(label_dict6)\n",
    "\n",
    "    for i in range(1, 4):\n",
    "        if f'월_{i}' in df.columns:\n",
    "            df[f'월_{i}'] = df[f'월_{i}'].map(label_dict7)\n",
    "\n",
    "    df['보유멤버십포인트'] = df['보유멤버십포인트'].map(label_dict1)\n",
    "    df['최근3년구매금액'] = df['최근3년구매금액'].map(label_dict2)\n",
    "    df['포인트사용빈도'] = df['포인트사용빈도'].map(label_dict3)\n",
    "    df['아파트평형대'] = df['아파트평형대'].map(label_dict4)\n",
    "    df['아파트시세'] = df['아파트시세'].map(label_dict5)\n",
    "    df['연령대'] = df['연령대'].map(label_dict8)\n",
    "    return df"
   ]
  },
  {
   "cell_type": "markdown",
   "id": "fa3adca7",
   "metadata": {},
   "source": [
    "## One-hot Encoding, Label Encoding, Scaling, Train-test Split"
   ]
  },
  {
   "cell_type": "code",
   "execution_count": 13,
   "id": "009afcc4",
   "metadata": {},
   "outputs": [],
   "source": [
    "def split_df(df):\n",
    "    onehot_col = ['멤버십고객여부', '케어십가입여부',\n",
    "           '최근구매채널', '주거형태', '멤버십가입경로', '제휴카드보유여부', '프리미엄카드보유여부', '제휴가입여부',\n",
    "           '멤버십앱설치여부', '거주광역명', '거주시군구명', '타겟제품명_1', '타겟제품명_2', '타겟제품명_3',\n",
    "                   '타겟제품명_4', '타겟제품명_5', '타겟제품명_6', '타겟제품명_7', '타겟제품명_8', '주구매제품카테고리']\n",
    "    \n",
    "    # Convert columns in onehot_col to string\n",
    "    for col in onehot_col:\n",
    "        df[col] = df[col].astype(str)\n",
    "\n",
    "    # 원핫 인코딩\n",
    "    df_encoded = pd.get_dummies(df[onehot_col])\n",
    "    \n",
    "    df_encoded = pd.concat([df_encoded, df[['보유멤버십포인트', '최근3년구매금액', '포인트사용빈도', '아파트평형대', '아파트시세',\n",
    "                                            '건강관리가전품목수', '총구매빈도', '케어솔루션품목수', '케어십품목수', \n",
    "                                            'Only&Best품목수', '최대구매가격대', '연령대',\n",
    "                                            '금액_1', '금액_2', '금액_3', '금액_4', '금액_5', '금액_6', '금액_7', '금액_8',\n",
    "                                            '년도_1', '년도_2', '년도_3', '년도_4', '년도_5', '년도_6', '년도_7', '년도_8', \n",
    "                                            '월_1', '월_2', '월_3', '월_4', '월_5', '월_6', '월_7', '월_8', \n",
    "                                            'label_y']]], axis = 1)\n",
    "    \n",
    "    X = df_encoded.drop('label_y', axis=1)\n",
    "    y = df_encoded['label_y']\n",
    "    column_names = X.columns\n",
    "    scaler = StandardScaler()\n",
    "    X_scaled = scaler.fit_transform(X)\n",
    "\n",
    "    X_scaled_df = pd.DataFrame(X_scaled, columns=column_names)\n",
    "    \n",
    "    X_train, X_val, y_train, y_val = train_test_split(X_scaled_df, y, test_size=0.25, random_state = 42)\n",
    "    \n",
    "    return X_train, X_val, y_train, y_val\n",
    "\n",
    "\n",
    "def split_df_etc(df):\n",
    "    onehot_col = ['멤버십고객여부', '케어십가입여부',\n",
    "           '최근구매채널', '주거형태', '멤버십가입경로', '제휴카드보유여부', '프리미엄카드보유여부', '제휴가입여부',\n",
    "           '멤버십앱설치여부', '거주광역명', '거주시군구명', '타겟제품명_1', '타겟제품명_2', '타겟제품명_3', '주구매제품카테고리']\n",
    "    \n",
    "    # Convert columns in onehot_col to string\n",
    "    for col in onehot_col:\n",
    "        df[col] = df[col].astype(str)\n",
    "\n",
    "    # 원핫 인코딩\n",
    "    df_encoded = pd.get_dummies(df[onehot_col])\n",
    "    \n",
    "    df_encoded = pd.concat([df_encoded, df[['보유멤버십포인트', '최근3년구매금액', '포인트사용빈도', '아파트평형대', '아파트시세',\n",
    "                                            '건강관리가전품목수', '총구매빈도', '케어솔루션품목수', '케어십품목수', \n",
    "                                            'Only&Best품목수', '최대구매가격대', '연령대',\n",
    "                                            '금액_1', '금액_2', '금액_3',\n",
    "                                            '년도_1', '년도_2', '년도_3',  \n",
    "                                            '월_1', '월_2', '월_3', \n",
    "                                            'label_y']]], axis = 1)\n",
    "    \n",
    "    \n",
    "    X = df_encoded.drop('label_y', axis=1)\n",
    "    y = df_encoded['label_y']\n",
    "    column_names = X.columns\n",
    "    \n",
    "    scaler = StandardScaler()\n",
    "    X_scaled = scaler.fit_transform(X)\n",
    "\n",
    "    X_scaled_df = pd.DataFrame(X_scaled, columns=column_names)\n",
    "    \n",
    "    X_train, X_val, y_train, y_val = train_test_split(X_scaled_df, y, test_size=0.25, random_state = 42)\n",
    "    \n",
    "    return X_train, X_val, y_train, y_val\n",
    "\n",
    "\n"
   ]
  },
  {
   "cell_type": "code",
   "execution_count": 14,
   "id": "ac7de1bd",
   "metadata": {},
   "outputs": [],
   "source": [
    "def knn_model_split(df):\n",
    "    for i in range(1, 9):\n",
    "        df[f'월_{i}'] = df[f'월_{i}'].fillna(0)\n",
    "        df[f'금액_{i}'] = df[f'금액_{i}'].fillna(0)\n",
    "        df[f'년도_{i}'] = df[f'년도_{i}'].fillna(0)\n",
    "        df[f'타겟제품명_{i}'] = df[f'타겟제품명_{i}'].fillna('')\n",
    "\n",
    "\n",
    "\n",
    "    label_list8 = ['10대', '20대', '30대', '40대', '50대', '60대(60~64)', '60대(65~69)', '70대', '80대↑']\n",
    "\n",
    "    label_dict8 = {value: index for index, value in enumerate(label_list8)}\n",
    "    df['연령대'] = df['연령대'].map(label_dict8)\n",
    "\n",
    "    onehot_col = [\n",
    "           '최근구매채널', '주거형태', '멤버십가입경로', \n",
    "            '거주광역명', '거주시군구명', '타겟제품명_1', '타겟제품명_2', '타겟제품명_3',\n",
    "                   '타겟제품명_4', '타겟제품명_5', '타겟제품명_6', '타겟제품명_7', '타겟제품명_8', '주구매제품카테고리']\n",
    "\n",
    "    # Convert columns in onehot_col to string\n",
    "    for col in onehot_col:\n",
    "        df[col] = df[col].astype(str)\n",
    "\n",
    "    # 원핫 인코딩\n",
    "    df_encoded = pd.get_dummies(df[onehot_col])\n",
    "\n",
    "    df_encoded = pd.concat([df_encoded, df[['멤버십고객여부', '케어십가입여부', '제휴카드보유여부', '프리미엄카드보유여부', '제휴가입여부', '보유멤버십포인트', '최근3년구매금액', '포인트사용빈도', '아파트평형대', '아파트시세',\n",
    "                                            '건강관리가전품목수', '총구매빈도', '케어솔루션품목수', '케어십품목수', '멤버십앱설치여부',\n",
    "                                            'Only&Best품목수', '최대구매가격대', '연령대',\n",
    "                                            '금액_1', '금액_2', '금액_3', '금액_4', '금액_5', '금액_6', '금액_7', '금액_8',\n",
    "                                            '년도_1', '년도_2', '년도_3', '년도_4', '년도_5', '년도_6', '년도_7', '년도_8', \n",
    "                                            '월_1', '월_2', '월_3', '월_4', '월_5', '월_6', '월_7', '월_8', \n",
    "                                            'label_y']]], axis = 1)\n",
    "\n",
    "    X = df_encoded.drop('label_y', axis=1)\n",
    "    y = df_encoded['label_y']\n",
    "    column_names = X.columns\n",
    "\n",
    "    scaler = StandardScaler()\n",
    "    X_scaled = scaler.fit_transform(X)\n",
    "\n",
    "    X_scaled_df = pd.DataFrame(X_scaled, columns=column_names)\n",
    "\n",
    "    X_train, X_val, y_train, y_val = train_test_split(X_scaled_df, y, test_size=0.25, random_state = 42)\n",
    "\n",
    "    return X_train, X_val, y_train, y_val\n",
    "\n",
    "def knn_model_split_etc(df):\n",
    "    for i in range(1, 4):\n",
    "        df[f'월_{i}'] = df[f'월_{i}'].fillna(0)\n",
    "        df[f'금액_{i}'] = df[f'금액_{i}'].fillna(0)\n",
    "        df[f'년도_{i}'] = df[f'년도_{i}'].fillna(0)\n",
    "        df[f'타겟제품명_{i}'] = df[f'타겟제품명_{i}'].fillna('')\n",
    "\n",
    "\n",
    "\n",
    "    label_list8 = ['10대', '20대', '30대', '40대', '50대', '60대(60~64)', '60대(65~69)', '70대', '80대↑']\n",
    "\n",
    "    label_dict8 = {value: index for index, value in enumerate(label_list8)}\n",
    "    df['연령대'] = df['연령대'].map(label_dict8)\n",
    "\n",
    "    onehot_col = [\n",
    "           '최근구매채널', '주거형태', '멤버십가입경로', \n",
    "            '거주광역명', '거주시군구명', '타겟제품명_1', '타겟제품명_2', '타겟제품명_3', '주구매제품카테고리']\n",
    "\n",
    "    # Convert columns in onehot_col to string\n",
    "    for col in onehot_col:\n",
    "        df[col] = df[col].astype(str)\n",
    "\n",
    "    # 원핫 인코딩\n",
    "    df_encoded = pd.get_dummies(df[onehot_col])\n",
    "\n",
    "    df_encoded = pd.concat([df_encoded, df[['멤버십고객여부', '케어십가입여부', '제휴카드보유여부', '프리미엄카드보유여부', '제휴가입여부', '보유멤버십포인트', '최근3년구매금액', '포인트사용빈도', '아파트평형대', '아파트시세',\n",
    "                                            '건강관리가전품목수', '총구매빈도', '케어솔루션품목수', '케어십품목수', '멤버십앱설치여부',\n",
    "                                            'Only&Best품목수', '최대구매가격대', '연령대',\n",
    "                                            '금액_1', '금액_2', '금액_3',\n",
    "                                            '년도_1', '년도_2', '년도_3',  \n",
    "                                            '월_1', '월_2', '월_3', \n",
    "                                            'label_y']]], axis = 1)\n",
    "\n",
    "    X = df_encoded.drop('label_y', axis=1)\n",
    "    y = df_encoded['label_y']\n",
    "    column_names = X.columns\n",
    "\n",
    "    scaler = StandardScaler()\n",
    "    X_scaled = scaler.fit_transform(X)\n",
    "\n",
    "    X_scaled_df = pd.DataFrame(X_scaled, columns=column_names)\n",
    "\n",
    "    X_train, X_val, y_train, y_val = train_test_split(X_scaled_df, y, test_size=0.25, random_state = 42)\n",
    "\n",
    "    return X_train, X_val, y_train, y_val"
   ]
  },
  {
   "cell_type": "code",
   "execution_count": null,
   "id": "30b33993",
   "metadata": {},
   "outputs": [],
   "source": []
  },
  {
   "cell_type": "markdown",
   "id": "4cdc84df",
   "metadata": {},
   "source": [
    "## Modeling"
   ]
  },
  {
   "cell_type": "code",
   "execution_count": 15,
   "id": "19004abd",
   "metadata": {},
   "outputs": [],
   "source": [
    "def modeling_code(category_name, file_name, X_train, y_train, X_val, y_val):\n",
    "\n",
    "    # 평가 결과를 담을 딕셔너리\n",
    "    dict1 = {\n",
    "        'accuracy' : [],\n",
    "        'precision' : [],\n",
    "        'recall' : [],\n",
    "        'f1' : [],\n",
    "        'roc_auc' : [],\n",
    "        'name' : [],\n",
    "        '결측치방법' : []\n",
    "    }\n",
    "   \n",
    "    # 검증할 모델들 생성\n",
    "\n",
    "    model1 = LogisticRegression(max_iter=1000)\n",
    "    model2 = DecisionTreeClassifier()\n",
    "    model3 = RandomForestClassifier(n_estimators=100)\n",
    "    model4 = AdaBoostClassifier(n_estimators=100)\n",
    "    model5 = GradientBoostingClassifier(n_estimators=100)\n",
    "\n",
    "    model_list = [model1, model2, model3, model4, model5]\n",
    "\n",
    "    # 모델 이름 목록\n",
    "    model_name = ['LR', 'DT', 'RF', 'Ada', 'GB'] \n",
    "\n",
    "    # 학습용 데이터를 학습.\n",
    "    for m1 in tqdm(model_list) :\n",
    "        m1.fit(X_train, y_train)\n",
    "\n",
    "    # 학습용 데이터를 통해 결과를 예측\n",
    "    pred_list = []\n",
    "\n",
    "    for m2 in tqdm(model_list) :\n",
    "        pred = m2.predict(X_val)\n",
    "\n",
    "        pred_list.append(pred)\n",
    "\n",
    "    # 각 모델별 예측 결과를 하나씩 추출하여 평가한다.\n",
    "    for idx, p1 in enumerate(pred_list) :\n",
    "\n",
    "        r1 = accuracy_score(y_val, p1)\n",
    "        r2 = precision_score(y_val, p1)\n",
    "        r3 = recall_score(y_val, p1)\n",
    "        r4 = f1_score(y_val, p1)\n",
    "        r5 = roc_auc_score(y_val, p1)\n",
    "\n",
    "        dict1['accuracy'].append(r1)\n",
    "        dict1['precision'].append(r2)\n",
    "        dict1['recall'].append(r3)\n",
    "        dict1['f1'].append(r4)\n",
    "        dict1['roc_auc'].append(r5)\n",
    "        dict1['name'].append(model_name[idx])\n",
    "        dict1['결측치방법'].append(file_name.split('_')[2])\n",
    "\n",
    "    df100 = pd.DataFrame(dict1)\n",
    "#     df100.to_csv(f'../data/evaluation/{category_name}_{file_name.split(\"_\")[2]}_evaluation_20231219.csv', encoding = 'utf-8-sig')"
   ]
  },
  {
   "cell_type": "code",
   "execution_count": 16,
   "id": "0e3a8bfa",
   "metadata": {},
   "outputs": [],
   "source": [
    "# https://mydevjourney.tistory.com/76 에러가 났을 경우\n",
    "# pip install threadpoolctl==3.1.0\n"
   ]
  },
  {
   "cell_type": "markdown",
   "id": "2d620db9",
   "metadata": {},
   "source": [
    "### Main "
   ]
  },
  {
   "cell_type": "code",
   "execution_count": 29,
   "id": "4f18ca9d",
   "metadata": {},
   "outputs": [],
   "source": [
    "def maincode(category_name):\n",
    "    # 데이터 폴더 경로 설정\n",
    "    data_folder = f'../data/{category_name}/'\n",
    "\n",
    "    # 데이터 폴더 내의 파일 목록 확인\n",
    "    file_list = os.listdir(data_folder)\n",
    "    print(file_list)\n",
    "\n",
    "    # 파일 목록을 돌면서 각 파일을 열어서 mapping 함수 실행\n",
    "    for file_name in file_list:\n",
    "        if file_name.endswith('.csv'):  # CSV 파일만 대상으로 함\n",
    "\n",
    "            method = file_name.split('_')[2]\n",
    "            if method in ['값생성']:\n",
    "\n",
    "                file_path = os.path.join(data_folder, file_name)\n",
    "                df = pd.read_csv(file_path)\n",
    "                \n",
    "                print(method)\n",
    "                if category_name == 'etc':\n",
    "                    for i in range(1, 4):\n",
    "                        df.loc[df[f'년도_{i}'].isnull(), f'년도_{i}'] = 0\n",
    "        \n",
    "                    df = df.fillna('')\n",
    "                    df_mapped = mapping_etc(df)\n",
    "                    X_train, X_val, y_train, y_val = split_df_etc(df_mapped)\n",
    "                    modeling_code(category_name, file_name, X_train, y_train, X_val, y_val)\n",
    "                else:   \n",
    "                    \n",
    "                    for i in range(1, 9):\n",
    "                        df.loc[df[f'년도_{i}'].isnull(), f'년도_{i}'] = 0\n",
    "                        \n",
    "                    df = df.fillna('')\n",
    "                    df_mapped = mapping_missing(df)\n",
    "                    X_train, X_val, y_train, y_val = split_df(df_mapped)\n",
    "                    modeling_code(category_name, file_name, X_train, y_train, X_val, y_val)\n",
    "            elif method in ['랜덤', 'f1기준', '최빈값']:\n",
    "                file_path = os.path.join(data_folder, file_name)\n",
    "                df = pd.read_csv(file_path)\n",
    "                print(method)\n",
    "                if category_name == 'etc':\n",
    "                    for i in range(1, 4):\n",
    "#                         df[f'월_{i}'] = df[f'월_{i}'].fillna(0)\n",
    "                        df.loc[df[f'년도_{i}'].isnull(), f'년도_{i}'] = 0\n",
    "        \n",
    "                    df = df.fillna('')\n",
    "                    df_mapped = mapping_etc(df)\n",
    "                    X_train, X_val, y_train, y_val = split_df_etc(df_mapped)\n",
    "                    modeling_code(category_name, file_name, X_train, y_train, X_val, y_val)\n",
    "                \n",
    "                else:   \n",
    "                    \n",
    "                    for i in range(1, 9):\n",
    "#                         df[f'월_{i}'] = df[f'월_{i}'].fillna(0)\n",
    "                        df.loc[df[f'년도_{i}'].isnull(), f'년도_{i}'] = 0\n",
    "                        \n",
    "                    df = df.fillna('')\n",
    "                    df_mapped = mapping_(df)\n",
    "                    X_train, X_val, y_train, y_val = split_df(df_mapped)\n",
    "                    modeling_code(category_name, file_name, X_train, y_train, X_val, y_val)\n",
    "                    \n",
    "            elif method in ['knndistance', 'knnuniform']:\n",
    "                file_path = os.path.join(data_folder, file_name)\n",
    "                df = pd.read_csv(file_path)\n",
    "                print(method)\n",
    "                if category_name == 'etc':\n",
    "                    X_train, X_val, y_train, y_val = knn_model_split_etc(df)\n",
    "                    modeling_code(category_name, file_name, X_train, y_train, X_val, y_val)\n",
    "                else:\n",
    "                    X_train, X_val, y_train, y_val = knn_model_split(df)\n",
    "                    modeling_code(category_name, file_name, X_train, y_train, X_val, y_val)\n",
    "        \n",
    "            else:\n",
    "                continue\n"
   ]
  },
  {
   "cell_type": "markdown",
   "id": "4435406a",
   "metadata": {},
   "source": [
    "## 실행하면 각 카테고리별 결측치 방법 모델링 결과가 `../data/evaluation/` 에 저장"
   ]
  },
  {
   "cell_type": "markdown",
   "id": "9ff92d51",
   "metadata": {},
   "source": [
    "- 가장 좋은 결측치 방법으로 선택해서 사용\n",
    "- 결론 : missing값 대체 방법 사용"
   ]
  },
  {
   "cell_type": "code",
   "execution_count": 30,
   "id": "e375bf09",
   "metadata": {},
   "outputs": [
    {
     "name": "stdout",
     "output_type": "stream",
     "text": [
      "['save_model', 'clean_df_값생성_2023제거.csv', 'clean_df_knndistance_2023제거.csv', '.DS_Store', 'clean_df_랜덤_2023제거.csv', 'clean_df_최빈값_2023제거.csv', 'clean_df_f1기준_2023제거.csv', 'image', 'clean_df_knnuniform_2023제거.csv', 'metric']\n"
     ]
    },
    {
     "name": "stderr",
     "output_type": "stream",
     "text": [
      "/var/folders/np/0qvclldj141855670r2yt4g80000gp/T/ipykernel_52009/236761990.py:17: DtypeWarning: Columns (7,54,55) have mixed types. Specify dtype option on import or set low_memory=False.\n",
      "  df = pd.read_csv(file_path)\n"
     ]
    },
    {
     "name": "stdout",
     "output_type": "stream",
     "text": [
      "값생성\n"
     ]
    },
    {
     "data": {
      "application/vnd.jupyter.widget-view+json": {
       "model_id": "a60db777226f4d45b75ba2d9529b165b",
       "version_major": 2,
       "version_minor": 0
      },
      "text/plain": [
       "  0%|          | 0/5 [00:00<?, ?it/s]"
      ]
     },
     "metadata": {},
     "output_type": "display_data"
    },
    {
     "data": {
      "application/vnd.jupyter.widget-view+json": {
       "model_id": "f6945a462ef84b1ca564f853337f344e",
       "version_major": 2,
       "version_minor": 0
      },
      "text/plain": [
       "  0%|          | 0/5 [00:00<?, ?it/s]"
      ]
     },
     "metadata": {},
     "output_type": "display_data"
    },
    {
     "name": "stderr",
     "output_type": "stream",
     "text": [
      "/var/folders/np/0qvclldj141855670r2yt4g80000gp/T/ipykernel_52009/236761990.py:64: DtypeWarning: Columns (54) have mixed types. Specify dtype option on import or set low_memory=False.\n",
      "  df = pd.read_csv(file_path)\n"
     ]
    },
    {
     "name": "stdout",
     "output_type": "stream",
     "text": [
      "knndistance\n"
     ]
    },
    {
     "data": {
      "application/vnd.jupyter.widget-view+json": {
       "model_id": "0ad735d9b55c46d2978218b691fa9de2",
       "version_major": 2,
       "version_minor": 0
      },
      "text/plain": [
       "  0%|          | 0/5 [00:00<?, ?it/s]"
      ]
     },
     "metadata": {},
     "output_type": "display_data"
    },
    {
     "data": {
      "application/vnd.jupyter.widget-view+json": {
       "model_id": "6898a629a9b04bfd8dd6eb53eebbb359",
       "version_major": 2,
       "version_minor": 0
      },
      "text/plain": [
       "  0%|          | 0/5 [00:00<?, ?it/s]"
      ]
     },
     "metadata": {},
     "output_type": "display_data"
    },
    {
     "name": "stderr",
     "output_type": "stream",
     "text": [
      "/var/folders/np/0qvclldj141855670r2yt4g80000gp/T/ipykernel_52009/236761990.py:64: DtypeWarning: Columns (54) have mixed types. Specify dtype option on import or set low_memory=False.\n",
      "  df = pd.read_csv(file_path)\n"
     ]
    },
    {
     "name": "stdout",
     "output_type": "stream",
     "text": [
      "knnuniform\n"
     ]
    },
    {
     "data": {
      "application/vnd.jupyter.widget-view+json": {
       "model_id": "656d43c0f24c439fb9fcfce79a353fd7",
       "version_major": 2,
       "version_minor": 0
      },
      "text/plain": [
       "  0%|          | 0/5 [00:00<?, ?it/s]"
      ]
     },
     "metadata": {},
     "output_type": "display_data"
    },
    {
     "data": {
      "application/vnd.jupyter.widget-view+json": {
       "model_id": "392fc52f82ab4c43aad7de6b6198db26",
       "version_major": 2,
       "version_minor": 0
      },
      "text/plain": [
       "  0%|          | 0/5 [00:00<?, ?it/s]"
      ]
     },
     "metadata": {},
     "output_type": "display_data"
    }
   ],
   "source": [
    "maincode('clean')"
   ]
  },
  {
   "cell_type": "code",
   "execution_count": null,
   "id": "e963f64f",
   "metadata": {},
   "outputs": [],
   "source": [
    "maincode('air')"
   ]
  },
  {
   "cell_type": "code",
   "execution_count": 88,
   "id": "56735223",
   "metadata": {},
   "outputs": [
    {
     "name": "stdout",
     "output_type": "stream",
     "text": [
      "../data/health/health_df_값생성_2023제거.csv\n",
      "값생성\n"
     ]
    },
    {
     "data": {
      "application/vnd.jupyter.widget-view+json": {
       "model_id": "f1466451cc9e4b19968ba5bce662b6aa",
       "version_major": 2,
       "version_minor": 0
      },
      "text/plain": [
       "  0%|          | 0/5 [00:00<?, ?it/s]"
      ]
     },
     "metadata": {},
     "output_type": "display_data"
    },
    {
     "data": {
      "application/vnd.jupyter.widget-view+json": {
       "model_id": "c13220fcadb741d6b335549ac89aeff7",
       "version_major": 2,
       "version_minor": 0
      },
      "text/plain": [
       "  0%|          | 0/5 [00:00<?, ?it/s]"
      ]
     },
     "metadata": {},
     "output_type": "display_data"
    }
   ],
   "source": [
    "maincode('health')"
   ]
  },
  {
   "cell_type": "code",
   "execution_count": 89,
   "id": "ccd92d0b",
   "metadata": {},
   "outputs": [
    {
     "name": "stdout",
     "output_type": "stream",
     "text": [
      "../data/display/display_df_값생성_2023제거.csv\n"
     ]
    },
    {
     "name": "stderr",
     "output_type": "stream",
     "text": [
      "/var/folders/gr/n8_lnq3n4bq1z2j7w3hrtg_40000gn/T/ipykernel_98762/432456705.py:1: DtypeWarning: Columns (7,54,55) have mixed types.Specify dtype option on import or set low_memory=False.\n",
      "  maincode('display')\n"
     ]
    },
    {
     "name": "stdout",
     "output_type": "stream",
     "text": [
      "값생성\n"
     ]
    },
    {
     "data": {
      "application/vnd.jupyter.widget-view+json": {
       "model_id": "eb2b7ba192254d738dcb1264ac4b901f",
       "version_major": 2,
       "version_minor": 0
      },
      "text/plain": [
       "  0%|          | 0/5 [00:00<?, ?it/s]"
      ]
     },
     "metadata": {},
     "output_type": "display_data"
    },
    {
     "data": {
      "application/vnd.jupyter.widget-view+json": {
       "model_id": "dfcb9974e72045298a5e9945a1993799",
       "version_major": 2,
       "version_minor": 0
      },
      "text/plain": [
       "  0%|          | 0/5 [00:00<?, ?it/s]"
      ]
     },
     "metadata": {},
     "output_type": "display_data"
    }
   ],
   "source": [
    "maincode('display')"
   ]
  },
  {
   "cell_type": "code",
   "execution_count": 90,
   "id": "a3187416",
   "metadata": {},
   "outputs": [
    {
     "name": "stdout",
     "output_type": "stream",
     "text": [
      "../data/Kitchen/kitchen_df_값생성_2023제거.csv\n"
     ]
    },
    {
     "name": "stderr",
     "output_type": "stream",
     "text": [
      "/var/folders/gr/n8_lnq3n4bq1z2j7w3hrtg_40000gn/T/ipykernel_98762/4221296798.py:1: DtypeWarning: Columns (7,46,47,50,51,54,55) have mixed types.Specify dtype option on import or set low_memory=False.\n",
      "  maincode('Kitchen')\n"
     ]
    },
    {
     "name": "stdout",
     "output_type": "stream",
     "text": [
      "값생성\n"
     ]
    },
    {
     "data": {
      "application/vnd.jupyter.widget-view+json": {
       "model_id": "9fcee097cf1b4b43a47851dd460b7110",
       "version_major": 2,
       "version_minor": 0
      },
      "text/plain": [
       "  0%|          | 0/5 [00:00<?, ?it/s]"
      ]
     },
     "metadata": {},
     "output_type": "display_data"
    },
    {
     "data": {
      "application/vnd.jupyter.widget-view+json": {
       "model_id": "46874fb6bdbf405891257fad59843719",
       "version_major": 2,
       "version_minor": 0
      },
      "text/plain": [
       "  0%|          | 0/5 [00:00<?, ?it/s]"
      ]
     },
     "metadata": {},
     "output_type": "display_data"
    }
   ],
   "source": [
    "maincode('Kitchen')"
   ]
  },
  {
   "cell_type": "code",
   "execution_count": 92,
   "id": "87ffcad0",
   "metadata": {},
   "outputs": [],
   "source": [
    "maincode('etc')"
   ]
  },
  {
   "cell_type": "code",
   "execution_count": 46,
   "id": "f8d7da5c",
   "metadata": {},
   "outputs": [],
   "source": [
    "# maincode('all')"
   ]
  },
  {
   "cell_type": "code",
   "execution_count": null,
   "id": "8bde2ff9",
   "metadata": {},
   "outputs": [],
   "source": []
  }
 ],
 "metadata": {
  "kernelspec": {
   "display_name": "Python 3 (ipykernel)",
   "language": "python",
   "name": "python3"
  },
  "language_info": {
   "codemirror_mode": {
    "name": "ipython",
    "version": 3
   },
   "file_extension": ".py",
   "mimetype": "text/x-python",
   "name": "python",
   "nbconvert_exporter": "python",
   "pygments_lexer": "ipython3",
   "version": "3.11.4"
  }
 },
 "nbformat": 4,
 "nbformat_minor": 5
}
