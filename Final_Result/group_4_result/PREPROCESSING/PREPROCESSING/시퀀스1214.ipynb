{
 "cells": [
  {
   "cell_type": "code",
   "execution_count": 31,
   "metadata": {},
   "outputs": [],
   "source": [
    "import pandas as pd\n",
    "import numpy as np\n",
    "import pyarrow as pa\n",
    "import pyarrow.parquet as pq\n",
    "import matplotlib.pyplot as plt\n",
    "import ast\n",
    "from scipy.stats import ttest_ind\n",
    "import seaborn as sns\n",
    "import time\n",
    "import networkx as nx\n",
    "import warnings\n",
    "\n",
    "\n",
    "# SettingWithCopyWarning 무시\n",
    "warnings.simplefilter(action='ignore', category=pd.errors.PerformanceWarning)\n",
    "\n",
    "# 모든 출력을 보여주도록 설정\n",
    "pd.set_option('display.max_rows', None)\n",
    "pd.set_option('display.max_columns', None)\n",
    "pd.set_option('display.width', None)\n"
   ]
  },
  {
   "cell_type": "code",
   "execution_count": 32,
   "metadata": {},
   "outputs": [
    {
     "name": "stdout",
     "output_type": "stream",
     "text": [
      "(13881284, 71)\n"
     ]
    }
   ],
   "source": [
    "parquet_file = 'C:/Users/jjccyy9741/OneDrive - postech.ac.kr/바탕 화면/LG/데이터/postech_company_project.parquet'\n",
    "# Parquet 파일 열기\n",
    "table = pq.read_table(parquet_file)\n",
    "\n",
    "# Table에서 데이터를 DataFrame으로 변환\n",
    "data = table.to_pandas()\n",
    "print(data.shape)"
   ]
  },
  {
   "cell_type": "code",
   "execution_count": 33,
   "metadata": {},
   "outputs": [
    {
     "name": "stdout",
     "output_type": "stream",
     "text": [
      "(13881284, 2)\n"
     ]
    }
   ],
   "source": [
    "df = data.copy()\n",
    "df = df[['PREV_RECEIPT_NUMBER','RECEIPT_NUMBER']]\n",
    "print(df.shape)"
   ]
  },
  {
   "cell_type": "code",
   "execution_count": 34,
   "metadata": {},
   "outputs": [],
   "source": [
    "df11 = df.copy()"
   ]
  },
  {
   "cell_type": "code",
   "execution_count": 35,
   "metadata": {},
   "outputs": [
    {
     "name": "stdout",
     "output_type": "stream",
     "text": [
      "데이터 크기(n): 1000\n",
      " \n",
      "실행 시간: 0.35481929779052734\n",
      " \n",
      "시퀀스 그룹 개수: 4\n",
      " \n",
      "데이터 크기: 138\n"
     ]
    },
    {
     "data": {
      "text/html": [
       "<div>\n",
       "<style scoped>\n",
       "    .dataframe tbody tr th:only-of-type {\n",
       "        vertical-align: middle;\n",
       "    }\n",
       "\n",
       "    .dataframe tbody tr th {\n",
       "        vertical-align: top;\n",
       "    }\n",
       "\n",
       "    .dataframe thead th {\n",
       "        text-align: right;\n",
       "    }\n",
       "</style>\n",
       "<table border=\"1\" class=\"dataframe\">\n",
       "  <thead>\n",
       "    <tr style=\"text-align: right;\">\n",
       "      <th></th>\n",
       "      <th>PREV_RECEIPT_NUMBER</th>\n",
       "      <th>RECEIPT_NUMBER</th>\n",
       "      <th>group</th>\n",
       "    </tr>\n",
       "  </thead>\n",
       "  <tbody>\n",
       "    <tr>\n",
       "      <th>0</th>\n",
       "      <td>LGE_REC_14193717</td>\n",
       "      <td>LGE_REC_0</td>\n",
       "      <td>1</td>\n",
       "    </tr>\n",
       "    <tr>\n",
       "      <th>1</th>\n",
       "      <td>LGE_REC_14193718</td>\n",
       "      <td>LGE_REC_1</td>\n",
       "      <td>2</td>\n",
       "    </tr>\n",
       "    <tr>\n",
       "      <th>2</th>\n",
       "      <td>LGE_REC_14193719</td>\n",
       "      <td>LGE_REC_2</td>\n",
       "      <td>3</td>\n",
       "    </tr>\n",
       "    <tr>\n",
       "      <th>3</th>\n",
       "      <td>LGE_REC_14193720</td>\n",
       "      <td>LGE_REC_3</td>\n",
       "      <td>4</td>\n",
       "    </tr>\n",
       "    <tr>\n",
       "      <th>4</th>\n",
       "      <td>LGE_REC_6091</td>\n",
       "      <td>LGE_REC_4</td>\n",
       "      <td>5</td>\n",
       "    </tr>\n",
       "    <tr>\n",
       "      <th>5</th>\n",
       "      <td>LGE_REC_14193721</td>\n",
       "      <td>LGE_REC_5</td>\n",
       "      <td>6</td>\n",
       "    </tr>\n",
       "    <tr>\n",
       "      <th>6</th>\n",
       "      <td>LGE_REC_14193722</td>\n",
       "      <td>LGE_REC_6</td>\n",
       "      <td>7</td>\n",
       "    </tr>\n",
       "    <tr>\n",
       "      <th>7</th>\n",
       "      <td>LGE_REC_14193723</td>\n",
       "      <td>LGE_REC_7</td>\n",
       "      <td>8</td>\n",
       "    </tr>\n",
       "    <tr>\n",
       "      <th>8</th>\n",
       "      <td>LGE_REC_14193724</td>\n",
       "      <td>LGE_REC_8</td>\n",
       "      <td>9</td>\n",
       "    </tr>\n",
       "    <tr>\n",
       "      <th>9</th>\n",
       "      <td>LGE_REC_14193725</td>\n",
       "      <td>LGE_REC_9</td>\n",
       "      <td>10</td>\n",
       "    </tr>\n",
       "  </tbody>\n",
       "</table>\n",
       "</div>"
      ],
      "text/plain": [
       "  PREV_RECEIPT_NUMBER RECEIPT_NUMBER  group\n",
       "0    LGE_REC_14193717      LGE_REC_0      1\n",
       "1    LGE_REC_14193718      LGE_REC_1      2\n",
       "2    LGE_REC_14193719      LGE_REC_2      3\n",
       "3    LGE_REC_14193720      LGE_REC_3      4\n",
       "4        LGE_REC_6091      LGE_REC_4      5\n",
       "5    LGE_REC_14193721      LGE_REC_5      6\n",
       "6    LGE_REC_14193722      LGE_REC_6      7\n",
       "7    LGE_REC_14193723      LGE_REC_7      8\n",
       "8    LGE_REC_14193724      LGE_REC_8      9\n",
       "9    LGE_REC_14193725      LGE_REC_9     10"
      ]
     },
     "metadata": {},
     "output_type": "display_data"
    },
    {
     "name": "stdout",
     "output_type": "stream",
     "text": [
      "group\n",
      "18    2\n",
      "64    2\n",
      "93    2\n",
      "66    2\n",
      "Name: count, dtype: int64\n"
     ]
    }
   ],
   "source": [
    "n = len(data)\n",
    "\n",
    "df12 = df11.head(n)\n",
    "\n",
    "# 시작 시간 기록\n",
    "start_time = time.time()\n",
    "\n",
    "print('데이터 크기(n):', n)\n",
    "print(' ')\n",
    "\n",
    "# 네트워크 그래프 생성\n",
    "G = nx.Graph()\n",
    "for _, row in df12.iterrows():\n",
    "    if row['PREV_RECEIPT_NUMBER'] is not None:\n",
    "        G.add_edge(row['PREV_RECEIPT_NUMBER'], row['RECEIPT_NUMBER'])\n",
    "\n",
    "# 같은 그룹 찾기\n",
    "connected_components = list(nx.connected_components(G))\n",
    "\n",
    "# 결과 출력\n",
    "result_df12 = pd.DataFrame()\n",
    "if not connected_components:\n",
    "    # 시퀀스가 하나도 없는 경우\n",
    "    result_df12 = df12.copy()\n",
    "    result_df12['group'] = 0\n",
    "else:\n",
    "    for idx, component in enumerate(connected_components):\n",
    "        matching_group = df12[df12['RECEIPT_NUMBER'].isin(component)].copy()  # .copy() 추가\n",
    "        matching_group['group'] = idx + 1\n",
    "        result_df12 = pd.concat([result_df12, matching_group], ignore_index=True)\n",
    "\n",
    "    # 'group' 컬럼으로 정렬\n",
    "    result_df12 = result_df12.sort_values(by='group')\n",
    "\n",
    "# 종료 시간 기록\n",
    "end_time = time.time()\n",
    "print('실행 시간:', end_time - start_time)\n",
    "print(' ')\n",
    "\n",
    "# 빈도가 2 이상인 값을 출력\n",
    "seq_group = result_df12['group'].value_counts()[result_df12['group'].value_counts() >= 2].index.tolist()\n",
    "print('시퀀스 그룹 개수:', len(seq_group))\n",
    "# print('시퀀스 그룹:',seq_group)\n",
    "print(' ')\n",
    "print('데이터 크기:', len(result_df12))\n",
    "display(result_df12.head(10))\n",
    "# 'group' 열 값의 빈도 계산 및 정렬\n",
    "group_counts = result_df12['group'].value_counts().sort_values(ascending=False)\n",
    "\n",
    "# 빈도가 2 이상인 값들만 필터링\n",
    "result = group_counts[group_counts >= 2]\n",
    "\n",
    "# 결과 출력\n",
    "print(result)\n"
   ]
  },
  {
   "cell_type": "code",
   "execution_count": 36,
   "metadata": {},
   "outputs": [
    {
     "data": {
      "text/html": [
       "<div>\n",
       "<style scoped>\n",
       "    .dataframe tbody tr th:only-of-type {\n",
       "        vertical-align: middle;\n",
       "    }\n",
       "\n",
       "    .dataframe tbody tr th {\n",
       "        vertical-align: top;\n",
       "    }\n",
       "\n",
       "    .dataframe thead th {\n",
       "        text-align: right;\n",
       "    }\n",
       "</style>\n",
       "<table border=\"1\" class=\"dataframe\">\n",
       "  <thead>\n",
       "    <tr style=\"text-align: right;\">\n",
       "      <th></th>\n",
       "      <th>PREV_RECEIPT_NUMBER</th>\n",
       "      <th>RECEIPT_NUMBER</th>\n",
       "      <th>group</th>\n",
       "    </tr>\n",
       "  </thead>\n",
       "  <tbody>\n",
       "  </tbody>\n",
       "</table>\n",
       "</div>"
      ],
      "text/plain": [
       "Empty DataFrame\n",
       "Columns: [PREV_RECEIPT_NUMBER, RECEIPT_NUMBER, group]\n",
       "Index: []"
      ]
     },
     "execution_count": 36,
     "metadata": {},
     "output_type": "execute_result"
    }
   ],
   "source": [
    "result_df12[result_df12['group']==8741]"
   ]
  },
  {
   "cell_type": "code",
   "execution_count": 37,
   "metadata": {},
   "outputs": [
    {
     "name": "stdout",
     "output_type": "stream",
     "text": [
      "(134, 3)\n",
      "134\n"
     ]
    },
    {
     "data": {
      "text/html": [
       "<div>\n",
       "<style scoped>\n",
       "    .dataframe tbody tr th:only-of-type {\n",
       "        vertical-align: middle;\n",
       "    }\n",
       "\n",
       "    .dataframe tbody tr th {\n",
       "        vertical-align: top;\n",
       "    }\n",
       "\n",
       "    .dataframe thead th {\n",
       "        text-align: right;\n",
       "    }\n",
       "</style>\n",
       "<table border=\"1\" class=\"dataframe\">\n",
       "  <thead>\n",
       "    <tr style=\"text-align: right;\">\n",
       "      <th></th>\n",
       "      <th>group</th>\n",
       "      <th>PREV_RECEIPT_NUMBER</th>\n",
       "      <th>RECEIPT_NUMBER</th>\n",
       "    </tr>\n",
       "  </thead>\n",
       "  <tbody>\n",
       "    <tr>\n",
       "      <th>0</th>\n",
       "      <td>1</td>\n",
       "      <td>LGE_REC_14193717</td>\n",
       "      <td>LGE_REC_0</td>\n",
       "    </tr>\n",
       "    <tr>\n",
       "      <th>1</th>\n",
       "      <td>2</td>\n",
       "      <td>LGE_REC_14193718</td>\n",
       "      <td>LGE_REC_1</td>\n",
       "    </tr>\n",
       "    <tr>\n",
       "      <th>2</th>\n",
       "      <td>3</td>\n",
       "      <td>LGE_REC_14193719</td>\n",
       "      <td>LGE_REC_2</td>\n",
       "    </tr>\n",
       "    <tr>\n",
       "      <th>3</th>\n",
       "      <td>4</td>\n",
       "      <td>LGE_REC_14193720</td>\n",
       "      <td>LGE_REC_3</td>\n",
       "    </tr>\n",
       "    <tr>\n",
       "      <th>4</th>\n",
       "      <td>5</td>\n",
       "      <td>LGE_REC_6091</td>\n",
       "      <td>LGE_REC_4</td>\n",
       "    </tr>\n",
       "    <tr>\n",
       "      <th>5</th>\n",
       "      <td>6</td>\n",
       "      <td>LGE_REC_14193721</td>\n",
       "      <td>LGE_REC_5</td>\n",
       "    </tr>\n",
       "    <tr>\n",
       "      <th>6</th>\n",
       "      <td>7</td>\n",
       "      <td>LGE_REC_14193722</td>\n",
       "      <td>LGE_REC_6</td>\n",
       "    </tr>\n",
       "    <tr>\n",
       "      <th>7</th>\n",
       "      <td>8</td>\n",
       "      <td>LGE_REC_14193723</td>\n",
       "      <td>LGE_REC_7</td>\n",
       "    </tr>\n",
       "    <tr>\n",
       "      <th>8</th>\n",
       "      <td>9</td>\n",
       "      <td>LGE_REC_14193724</td>\n",
       "      <td>LGE_REC_8</td>\n",
       "    </tr>\n",
       "    <tr>\n",
       "      <th>9</th>\n",
       "      <td>10</td>\n",
       "      <td>LGE_REC_14193725</td>\n",
       "      <td>LGE_REC_9</td>\n",
       "    </tr>\n",
       "  </tbody>\n",
       "</table>\n",
       "</div>"
      ],
      "text/plain": [
       "   group PREV_RECEIPT_NUMBER RECEIPT_NUMBER\n",
       "0      1    LGE_REC_14193717      LGE_REC_0\n",
       "1      2    LGE_REC_14193718      LGE_REC_1\n",
       "2      3    LGE_REC_14193719      LGE_REC_2\n",
       "3      4    LGE_REC_14193720      LGE_REC_3\n",
       "4      5        LGE_REC_6091      LGE_REC_4\n",
       "5      6    LGE_REC_14193721      LGE_REC_5\n",
       "6      7    LGE_REC_14193722      LGE_REC_6\n",
       "7      8    LGE_REC_14193723      LGE_REC_7\n",
       "8      9    LGE_REC_14193724      LGE_REC_8\n",
       "9     10    LGE_REC_14193725      LGE_REC_9"
      ]
     },
     "execution_count": 37,
     "metadata": {},
     "output_type": "execute_result"
    }
   ],
   "source": [
    "result_df2 = result_df12.groupby('group').last().reset_index()\n",
    "print(result_df2.shape)\n",
    "print(result_df2['group'].nunique())\n",
    "result_df2.head(10)"
   ]
  },
  {
   "cell_type": "code",
   "execution_count": 38,
   "metadata": {},
   "outputs": [
    {
     "data": {
      "text/plain": [
       "(134, 71)"
      ]
     },
     "execution_count": 38,
     "metadata": {},
     "output_type": "execute_result"
    }
   ],
   "source": [
    "# result_df2에 있는 RECEIPT_NUMBER 값만 갖는 데이터프레임 생성\n",
    "data2 = data[data['RECEIPT_NUMBER'].isin(result_df2['RECEIPT_NUMBER'])]\n",
    "data2.shape"
   ]
  },
  {
   "cell_type": "code",
   "execution_count": 39,
   "metadata": {},
   "outputs": [],
   "source": [
    "data2.to_csv('C:/Users/jjccyy9741/OneDrive - postech.ac.kr/바탕 화면/1214_result.csv')"
   ]
  }
 ],
 "metadata": {
  "kernelspec": {
   "display_name": "Python 3",
   "language": "python",
   "name": "python3"
  },
  "language_info": {
   "codemirror_mode": {
    "name": "ipython",
    "version": 3
   },
   "file_extension": ".py",
   "mimetype": "text/x-python",
   "name": "python",
   "nbconvert_exporter": "python",
   "pygments_lexer": "ipython3",
   "version": "3.12.0"
  }
 },
 "nbformat": 4,
 "nbformat_minor": 2
}
